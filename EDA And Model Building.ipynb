{
 "cells": [
  {
   "cell_type": "markdown",
   "id": "7296fe9d",
   "metadata": {
    "papermill": {
     "duration": 0.02416,
     "end_time": "2024-05-23T11:22:43.155171",
     "exception": false,
     "start_time": "2024-05-23T11:22:43.131011",
     "status": "completed"
    },
    "tags": []
   },
   "source": [
    "# Importing Libraries"
   ]
  },
  {
   "cell_type": "code",
   "execution_count": 1,
   "id": "6cf3c7de",
   "metadata": {
    "execution": {
     "iopub.execute_input": "2024-05-23T11:22:43.206844Z",
     "iopub.status.busy": "2024-05-23T11:22:43.206140Z",
     "iopub.status.idle": "2024-05-23T11:22:46.078068Z",
     "shell.execute_reply": "2024-05-23T11:22:46.077097Z"
    },
    "papermill": {
     "duration": 2.900645,
     "end_time": "2024-05-23T11:22:46.080834",
     "exception": false,
     "start_time": "2024-05-23T11:22:43.180189",
     "status": "completed"
    },
    "tags": []
   },
   "outputs": [],
   "source": [
    "import pandas as pd\n",
    "import numpy as np\n",
    "import matplotlib.pyplot as plt\n",
    "import seaborn as sns\n",
    "import plotly.express as px"
   ]
  },
  {
   "cell_type": "code",
   "execution_count": 2,
   "id": "e2b03c58",
   "metadata": {
    "execution": {
     "iopub.execute_input": "2024-05-23T11:22:46.133151Z",
     "iopub.status.busy": "2024-05-23T11:22:46.131889Z",
     "iopub.status.idle": "2024-05-23T11:22:46.137132Z",
     "shell.execute_reply": "2024-05-23T11:22:46.136306Z"
    },
    "papermill": {
     "duration": 0.032994,
     "end_time": "2024-05-23T11:22:46.139123",
     "exception": false,
     "start_time": "2024-05-23T11:22:46.106129",
     "status": "completed"
    },
    "tags": []
   },
   "outputs": [],
   "source": [
    "# Ignore Warnings\n",
    "import warnings\n",
    "warnings.filterwarnings(\"ignore\")"
   ]
  },
  {
   "cell_type": "markdown",
   "id": "415a9a26",
   "metadata": {
    "papermill": {
     "duration": 0.024205,
     "end_time": "2024-05-23T11:22:46.188082",
     "exception": false,
     "start_time": "2024-05-23T11:22:46.163877",
     "status": "completed"
    },
    "tags": []
   },
   "source": [
    "# Data Loading"
   ]
  },
  {
   "cell_type": "code",
   "execution_count": 3,
   "id": "2e40a54b",
   "metadata": {
    "execution": {
     "iopub.execute_input": "2024-05-23T11:22:46.288647Z",
     "iopub.status.busy": "2024-05-23T11:22:46.287933Z",
     "iopub.status.idle": "2024-05-23T11:22:46.333991Z",
     "shell.execute_reply": "2024-05-23T11:22:46.333103Z"
    },
    "papermill": {
     "duration": 0.074563,
     "end_time": "2024-05-23T11:22:46.336456",
     "exception": false,
     "start_time": "2024-05-23T11:22:46.261893",
     "status": "completed"
    },
    "tags": []
   },
   "outputs": [],
   "source": [
    "train_df = pd.read_csv(r\"C:\\Users\\Kiran\\OneDrive\\Desktop\\aiml lab\\train.csv\", on_bad_lines='skip')\n",
    "test_df = pd.read_csv(r\"C:\\Users\\Kiran\\OneDrive\\Desktop\\aiml lab\\test.csv\", on_bad_lines='skip')"
   ]
  },
  {
   "cell_type": "code",
   "execution_count": 4,
   "id": "74b3d1dc",
   "metadata": {
    "execution": {
     "iopub.execute_input": "2024-05-23T11:22:46.498655Z",
     "iopub.status.busy": "2024-05-23T11:22:46.497924Z",
     "iopub.status.idle": "2024-05-23T11:22:46.554519Z",
     "shell.execute_reply": "2024-05-23T11:22:46.553407Z"
    },
    "papermill": {
     "duration": 0.146873,
     "end_time": "2024-05-23T11:22:46.557309",
     "exception": false,
     "start_time": "2024-05-23T11:22:46.410436",
     "status": "completed"
    },
    "tags": []
   },
   "outputs": [
    {
     "name": "stdout",
     "output_type": "stream",
     "text": [
      "Training Data:\n"
     ]
    },
    {
     "data": {
      "text/html": [
       "<div>\n",
       "<style scoped>\n",
       "    .dataframe tbody tr th:only-of-type {\n",
       "        vertical-align: middle;\n",
       "    }\n",
       "\n",
       "    .dataframe tbody tr th {\n",
       "        vertical-align: top;\n",
       "    }\n",
       "\n",
       "    .dataframe thead th {\n",
       "        text-align: right;\n",
       "    }\n",
       "</style>\n",
       "<table border=\"1\" class=\"dataframe\">\n",
       "  <thead>\n",
       "    <tr style=\"text-align: right;\">\n",
       "      <th></th>\n",
       "      <th>User_ID</th>\n",
       "      <th>Age</th>\n",
       "      <th>Gender</th>\n",
       "      <th>Platform</th>\n",
       "      <th>Daily_Usage_Time (minutes)</th>\n",
       "      <th>Posts_Per_Day</th>\n",
       "      <th>Likes_Received_Per_Day</th>\n",
       "      <th>Comments_Received_Per_Day</th>\n",
       "      <th>Messages_Sent_Per_Day</th>\n",
       "      <th>Dominant_Emotion</th>\n",
       "    </tr>\n",
       "  </thead>\n",
       "  <tbody>\n",
       "    <tr>\n",
       "      <th>0</th>\n",
       "      <td>1</td>\n",
       "      <td>25</td>\n",
       "      <td>Female</td>\n",
       "      <td>Instagram</td>\n",
       "      <td>120.0</td>\n",
       "      <td>3.0</td>\n",
       "      <td>45.0</td>\n",
       "      <td>10.0</td>\n",
       "      <td>12.0</td>\n",
       "      <td>Happiness</td>\n",
       "    </tr>\n",
       "    <tr>\n",
       "      <th>1</th>\n",
       "      <td>2</td>\n",
       "      <td>30</td>\n",
       "      <td>Male</td>\n",
       "      <td>Twitter</td>\n",
       "      <td>90.0</td>\n",
       "      <td>5.0</td>\n",
       "      <td>20.0</td>\n",
       "      <td>25.0</td>\n",
       "      <td>30.0</td>\n",
       "      <td>Anger</td>\n",
       "    </tr>\n",
       "    <tr>\n",
       "      <th>2</th>\n",
       "      <td>3</td>\n",
       "      <td>22</td>\n",
       "      <td>Non-binary</td>\n",
       "      <td>Facebook</td>\n",
       "      <td>60.0</td>\n",
       "      <td>2.0</td>\n",
       "      <td>15.0</td>\n",
       "      <td>5.0</td>\n",
       "      <td>20.0</td>\n",
       "      <td>Neutral</td>\n",
       "    </tr>\n",
       "    <tr>\n",
       "      <th>3</th>\n",
       "      <td>4</td>\n",
       "      <td>28</td>\n",
       "      <td>Female</td>\n",
       "      <td>Instagram</td>\n",
       "      <td>200.0</td>\n",
       "      <td>8.0</td>\n",
       "      <td>100.0</td>\n",
       "      <td>30.0</td>\n",
       "      <td>50.0</td>\n",
       "      <td>Anxiety</td>\n",
       "    </tr>\n",
       "    <tr>\n",
       "      <th>4</th>\n",
       "      <td>5</td>\n",
       "      <td>33</td>\n",
       "      <td>Male</td>\n",
       "      <td>LinkedIn</td>\n",
       "      <td>45.0</td>\n",
       "      <td>1.0</td>\n",
       "      <td>5.0</td>\n",
       "      <td>2.0</td>\n",
       "      <td>10.0</td>\n",
       "      <td>Boredom</td>\n",
       "    </tr>\n",
       "  </tbody>\n",
       "</table>\n",
       "</div>"
      ],
      "text/plain": [
       "  User_ID Age      Gender   Platform  Daily_Usage_Time (minutes)  \\\n",
       "0       1  25      Female  Instagram                       120.0   \n",
       "1       2  30        Male    Twitter                        90.0   \n",
       "2       3  22  Non-binary   Facebook                        60.0   \n",
       "3       4  28      Female  Instagram                       200.0   \n",
       "4       5  33        Male   LinkedIn                        45.0   \n",
       "\n",
       "   Posts_Per_Day  Likes_Received_Per_Day  Comments_Received_Per_Day  \\\n",
       "0            3.0                    45.0                       10.0   \n",
       "1            5.0                    20.0                       25.0   \n",
       "2            2.0                    15.0                        5.0   \n",
       "3            8.0                   100.0                       30.0   \n",
       "4            1.0                     5.0                        2.0   \n",
       "\n",
       "   Messages_Sent_Per_Day Dominant_Emotion  \n",
       "0                   12.0        Happiness  \n",
       "1                   30.0            Anger  \n",
       "2                   20.0          Neutral  \n",
       "3                   50.0          Anxiety  \n",
       "4                   10.0          Boredom  "
      ]
     },
     "metadata": {},
     "output_type": "display_data"
    },
    {
     "name": "stdout",
     "output_type": "stream",
     "text": [
      "----------------------------------------------------------------------\n",
      "Testing Data:\n"
     ]
    },
    {
     "data": {
      "text/html": [
       "<div>\n",
       "<style scoped>\n",
       "    .dataframe tbody tr th:only-of-type {\n",
       "        vertical-align: middle;\n",
       "    }\n",
       "\n",
       "    .dataframe tbody tr th {\n",
       "        vertical-align: top;\n",
       "    }\n",
       "\n",
       "    .dataframe thead th {\n",
       "        text-align: right;\n",
       "    }\n",
       "</style>\n",
       "<table border=\"1\" class=\"dataframe\">\n",
       "  <thead>\n",
       "    <tr style=\"text-align: right;\">\n",
       "      <th></th>\n",
       "      <th>User_ID</th>\n",
       "      <th>Age</th>\n",
       "      <th>Gender</th>\n",
       "      <th>Platform</th>\n",
       "      <th>Daily_Usage_Time (minutes)</th>\n",
       "      <th>Posts_Per_Day</th>\n",
       "      <th>Likes_Received_Per_Day</th>\n",
       "      <th>Comments_Received_Per_Day</th>\n",
       "      <th>Messages_Sent_Per_Day</th>\n",
       "      <th>Dominant_Emotion</th>\n",
       "    </tr>\n",
       "  </thead>\n",
       "  <tbody>\n",
       "    <tr>\n",
       "      <th>0</th>\n",
       "      <td>NaN</td>\n",
       "      <td>NaN</td>\n",
       "      <td>NaN</td>\n",
       "      <td>NaN</td>\n",
       "      <td>NaN</td>\n",
       "      <td>NaN</td>\n",
       "      <td>NaN</td>\n",
       "      <td>NaN</td>\n",
       "      <td>NaN</td>\n",
       "      <td>NaN</td>\n",
       "    </tr>\n",
       "    <tr>\n",
       "      <th>1</th>\n",
       "      <td>500.0</td>\n",
       "      <td>27</td>\n",
       "      <td>Female</td>\n",
       "      <td>Snapchat</td>\n",
       "      <td>120.0</td>\n",
       "      <td>4.0</td>\n",
       "      <td>40.0</td>\n",
       "      <td>18.0</td>\n",
       "      <td>22.0</td>\n",
       "      <td>Neutral</td>\n",
       "    </tr>\n",
       "    <tr>\n",
       "      <th>2</th>\n",
       "      <td>NaN</td>\n",
       "      <td>NaN</td>\n",
       "      <td>NaN</td>\n",
       "      <td>NaN</td>\n",
       "      <td>NaN</td>\n",
       "      <td>NaN</td>\n",
       "      <td>NaN</td>\n",
       "      <td>NaN</td>\n",
       "      <td>NaN</td>\n",
       "      <td>NaN</td>\n",
       "    </tr>\n",
       "    <tr>\n",
       "      <th>3</th>\n",
       "      <td>488.0</td>\n",
       "      <td>21</td>\n",
       "      <td>Non-binary</td>\n",
       "      <td>Snapchat</td>\n",
       "      <td>60.0</td>\n",
       "      <td>1.0</td>\n",
       "      <td>18.0</td>\n",
       "      <td>7.0</td>\n",
       "      <td>12.0</td>\n",
       "      <td>Neutral</td>\n",
       "    </tr>\n",
       "    <tr>\n",
       "      <th>4</th>\n",
       "      <td>NaN</td>\n",
       "      <td>NaN</td>\n",
       "      <td>NaN</td>\n",
       "      <td>NaN</td>\n",
       "      <td>NaN</td>\n",
       "      <td>NaN</td>\n",
       "      <td>NaN</td>\n",
       "      <td>NaN</td>\n",
       "      <td>NaN</td>\n",
       "      <td>NaN</td>\n",
       "    </tr>\n",
       "  </tbody>\n",
       "</table>\n",
       "</div>"
      ],
      "text/plain": [
       "   User_ID  Age      Gender  Platform  Daily_Usage_Time (minutes)  \\\n",
       "0      NaN  NaN         NaN       NaN                         NaN   \n",
       "1    500.0   27      Female  Snapchat                       120.0   \n",
       "2      NaN  NaN         NaN       NaN                         NaN   \n",
       "3    488.0   21  Non-binary  Snapchat                        60.0   \n",
       "4      NaN  NaN         NaN       NaN                         NaN   \n",
       "\n",
       "   Posts_Per_Day  Likes_Received_Per_Day  Comments_Received_Per_Day  \\\n",
       "0            NaN                     NaN                        NaN   \n",
       "1            4.0                    40.0                       18.0   \n",
       "2            NaN                     NaN                        NaN   \n",
       "3            1.0                    18.0                        7.0   \n",
       "4            NaN                     NaN                        NaN   \n",
       "\n",
       "   Messages_Sent_Per_Day Dominant_Emotion  \n",
       "0                    NaN              NaN  \n",
       "1                   22.0          Neutral  \n",
       "2                    NaN              NaN  \n",
       "3                   12.0          Neutral  \n",
       "4                    NaN              NaN  "
      ]
     },
     "metadata": {},
     "output_type": "display_data"
    }
   ],
   "source": [
    "# viwing the traing data, test data and validation data\n",
    "print(\"Training Data:\")\n",
    "display(train_df.head())\n",
    "print(\"----------------------------------------------------------------------\")\n",
    "print(\"Testing Data:\")\n",
    "display(test_df.head())"
   ]
  },
  {
   "cell_type": "code",
   "execution_count": 5,
   "id": "72c48e44",
   "metadata": {
    "execution": {
     "iopub.execute_input": "2024-05-23T11:22:46.612032Z",
     "iopub.status.busy": "2024-05-23T11:22:46.611242Z",
     "iopub.status.idle": "2024-05-23T11:22:46.640297Z",
     "shell.execute_reply": "2024-05-23T11:22:46.639200Z"
    },
    "papermill": {
     "duration": 0.05973,
     "end_time": "2024-05-23T11:22:46.643220",
     "exception": false,
     "start_time": "2024-05-23T11:22:46.583490",
     "status": "completed"
    },
    "tags": []
   },
   "outputs": [
    {
     "name": "stdout",
     "output_type": "stream",
     "text": [
      "Traing Data Info:\n",
      "<class 'pandas.core.frame.DataFrame'>\n",
      "RangeIndex: 1001 entries, 0 to 1000\n",
      "Data columns (total 10 columns):\n",
      " #   Column                      Non-Null Count  Dtype  \n",
      "---  ------                      --------------  -----  \n",
      " 0   User_ID                     1001 non-null   object \n",
      " 1   Age                         1001 non-null   object \n",
      " 2   Gender                      1000 non-null   object \n",
      " 3   Platform                    1000 non-null   object \n",
      " 4   Daily_Usage_Time (minutes)  1000 non-null   float64\n",
      " 5   Posts_Per_Day               1000 non-null   float64\n",
      " 6   Likes_Received_Per_Day      1000 non-null   float64\n",
      " 7   Comments_Received_Per_Day   1000 non-null   float64\n",
      " 8   Messages_Sent_Per_Day       1000 non-null   float64\n",
      " 9   Dominant_Emotion            1000 non-null   object \n",
      "dtypes: float64(5), object(5)\n",
      "memory usage: 78.3+ KB\n"
     ]
    }
   ],
   "source": [
    "# training data info\n",
    "print(\"Traing Data Info:\")\n",
    "train_df.info()"
   ]
  },
  {
   "cell_type": "code",
   "execution_count": 6,
   "id": "9db789f0",
   "metadata": {
    "execution": {
     "iopub.execute_input": "2024-05-23T11:22:46.698527Z",
     "iopub.status.busy": "2024-05-23T11:22:46.698084Z",
     "iopub.status.idle": "2024-05-23T11:22:46.709426Z",
     "shell.execute_reply": "2024-05-23T11:22:46.708528Z"
    },
    "papermill": {
     "duration": 0.042609,
     "end_time": "2024-05-23T11:22:46.712367",
     "exception": false,
     "start_time": "2024-05-23T11:22:46.669758",
     "status": "completed"
    },
    "tags": []
   },
   "outputs": [
    {
     "name": "stdout",
     "output_type": "stream",
     "text": [
      "Testing Data Info:\n",
      "<class 'pandas.core.frame.DataFrame'>\n",
      "RangeIndex: 206 entries, 0 to 205\n",
      "Data columns (total 10 columns):\n",
      " #   Column                      Non-Null Count  Dtype  \n",
      "---  ------                      --------------  -----  \n",
      " 0   User_ID                     103 non-null    float64\n",
      " 1   Age                         103 non-null    object \n",
      " 2   Gender                      103 non-null    object \n",
      " 3   Platform                    103 non-null    object \n",
      " 4   Daily_Usage_Time (minutes)  103 non-null    float64\n",
      " 5   Posts_Per_Day               103 non-null    float64\n",
      " 6   Likes_Received_Per_Day      103 non-null    float64\n",
      " 7   Comments_Received_Per_Day   103 non-null    float64\n",
      " 8   Messages_Sent_Per_Day       103 non-null    float64\n",
      " 9   Dominant_Emotion            103 non-null    object \n",
      "dtypes: float64(6), object(4)\n",
      "memory usage: 16.2+ KB\n"
     ]
    }
   ],
   "source": [
    "# testing data info\n",
    "print(\"Testing Data Info:\")\n",
    "test_df.info()"
   ]
  },
  {
   "cell_type": "markdown",
   "id": "9658cc76",
   "metadata": {
    "papermill": {
     "duration": 0.026628,
     "end_time": "2024-05-23T11:22:46.837075",
     "exception": false,
     "start_time": "2024-05-23T11:22:46.810447",
     "status": "completed"
    },
    "tags": []
   },
   "source": [
    "* Shape of the training, testing, and validation data."
   ]
  },
  {
   "cell_type": "code",
   "execution_count": 7,
   "id": "2374abdc",
   "metadata": {
    "execution": {
     "iopub.execute_input": "2024-05-23T11:22:46.893302Z",
     "iopub.status.busy": "2024-05-23T11:22:46.892873Z",
     "iopub.status.idle": "2024-05-23T11:22:46.898765Z",
     "shell.execute_reply": "2024-05-23T11:22:46.897727Z"
    },
    "papermill": {
     "duration": 0.037151,
     "end_time": "2024-05-23T11:22:46.901675",
     "exception": false,
     "start_time": "2024-05-23T11:22:46.864524",
     "status": "completed"
    },
    "tags": []
   },
   "outputs": [
    {
     "name": "stdout",
     "output_type": "stream",
     "text": [
      "There are 1001 rows and 10 columns in the training data.\n",
      "There are 206 rows and 10 columns in the testing data.\n"
     ]
    }
   ],
   "source": [
    "print(f\"There are {train_df.shape[0]} rows and {train_df.shape[1]} columns in the training data.\")\n",
    "print(f\"There are {test_df.shape[0]} rows and {test_df.shape[1]} columns in the testing data.\")"
   ]
  },
  {
   "cell_type": "code",
   "execution_count": 8,
   "id": "68e65113",
   "metadata": {
    "execution": {
     "iopub.execute_input": "2024-05-23T11:22:46.958303Z",
     "iopub.status.busy": "2024-05-23T11:22:46.957870Z",
     "iopub.status.idle": "2024-05-23T11:22:46.978129Z",
     "shell.execute_reply": "2024-05-23T11:22:46.976940Z"
    },
    "papermill": {
     "duration": 0.051434,
     "end_time": "2024-05-23T11:22:46.980838",
     "exception": false,
     "start_time": "2024-05-23T11:22:46.929404",
     "status": "completed"
    },
    "tags": []
   },
   "outputs": [
    {
     "name": "stdout",
     "output_type": "stream",
     "text": [
      "Training Data:\n"
     ]
    },
    {
     "data": {
      "text/plain": [
       "User_ID                       0\n",
       "Age                           0\n",
       "Gender                        1\n",
       "Platform                      1\n",
       "Daily_Usage_Time (minutes)    1\n",
       "Posts_Per_Day                 1\n",
       "Likes_Received_Per_Day        1\n",
       "Comments_Received_Per_Day     1\n",
       "Messages_Sent_Per_Day         1\n",
       "Dominant_Emotion              1\n",
       "dtype: int64"
      ]
     },
     "metadata": {},
     "output_type": "display_data"
    },
    {
     "name": "stdout",
     "output_type": "stream",
     "text": [
      "----------------------------------------------------------------------\n",
      "Testing Data:\n"
     ]
    },
    {
     "data": {
      "text/plain": [
       "User_ID                       103\n",
       "Age                           103\n",
       "Gender                        103\n",
       "Platform                      103\n",
       "Daily_Usage_Time (minutes)    103\n",
       "Posts_Per_Day                 103\n",
       "Likes_Received_Per_Day        103\n",
       "Comments_Received_Per_Day     103\n",
       "Messages_Sent_Per_Day         103\n",
       "Dominant_Emotion              103\n",
       "dtype: int64"
      ]
     },
     "metadata": {},
     "output_type": "display_data"
    }
   ],
   "source": [
    "# checking for null values\n",
    "print(\"Training Data:\")\n",
    "display(train_df.isnull().sum())\n",
    "print(\"----------------------------------------------------------------------\")\n",
    "print(\"Testing Data:\")\n",
    "display(test_df.isnull().sum())"
   ]
  },
  {
   "cell_type": "code",
   "execution_count": 9,
   "id": "4373ef1b",
   "metadata": {},
   "outputs": [
    {
     "name": "stdout",
     "output_type": "stream",
     "text": [
      "The number of duplicates rows in the train dataset are:  0\n"
     ]
    }
   ],
   "source": [
    "train_df.duplicated().sum()\n",
    "print(f'The number of duplicates rows in the train dataset are: ', train_df.duplicated().sum())"
   ]
  },
  {
   "cell_type": "code",
   "execution_count": 10,
   "id": "791e40c7",
   "metadata": {},
   "outputs": [
    {
     "name": "stdout",
     "output_type": "stream",
     "text": [
      "The number of duplicates rows in the test dataset are:  106\n",
      "The number of duplicates rows in the test dataset after deleting duplicates are:  0\n"
     ]
    }
   ],
   "source": [
    "test_df.duplicated().sum()\n",
    "print(f'The number of duplicates rows in the test dataset are: ', test_df.duplicated().sum())\n",
    "# Drop these duplicates \n",
    "test_df.drop_duplicates(inplace=True)\n",
    "# Lets check again\n",
    "test_df.duplicated().sum()\n",
    "print(f'The number of duplicates rows in the test dataset after deleting duplicates are: ', test_df.duplicated().sum())"
   ]
  },
  {
   "cell_type": "markdown",
   "id": "09f11865",
   "metadata": {
    "papermill": {
     "duration": 0.028442,
     "end_time": "2024-05-23T11:22:47.095002",
     "exception": false,
     "start_time": "2024-05-23T11:22:47.066560",
     "status": "completed"
    },
    "tags": []
   },
   "source": [
    "# Exploratory Data Analysis (EDA)"
   ]
  },
  {
   "cell_type": "code",
   "execution_count": 11,
   "id": "f7eac399",
   "metadata": {
    "execution": {
     "iopub.execute_input": "2024-05-23T11:22:47.207867Z",
     "iopub.status.busy": "2024-05-23T11:22:47.207486Z",
     "iopub.status.idle": "2024-05-23T11:22:47.225443Z",
     "shell.execute_reply": "2024-05-23T11:22:47.224608Z"
    },
    "papermill": {
     "duration": 0.049568,
     "end_time": "2024-05-23T11:22:47.227728",
     "exception": false,
     "start_time": "2024-05-23T11:22:47.178160",
     "status": "completed"
    },
    "tags": []
   },
   "outputs": [
    {
     "data": {
      "text/html": [
       "<div>\n",
       "<style scoped>\n",
       "    .dataframe tbody tr th:only-of-type {\n",
       "        vertical-align: middle;\n",
       "    }\n",
       "\n",
       "    .dataframe tbody tr th {\n",
       "        vertical-align: top;\n",
       "    }\n",
       "\n",
       "    .dataframe thead th {\n",
       "        text-align: right;\n",
       "    }\n",
       "</style>\n",
       "<table border=\"1\" class=\"dataframe\">\n",
       "  <thead>\n",
       "    <tr style=\"text-align: right;\">\n",
       "      <th></th>\n",
       "      <th>User_ID</th>\n",
       "      <th>Age</th>\n",
       "      <th>Gender</th>\n",
       "      <th>Platform</th>\n",
       "      <th>Daily_Usage_Time (minutes)</th>\n",
       "      <th>Posts_Per_Day</th>\n",
       "      <th>Likes_Received_Per_Day</th>\n",
       "      <th>Comments_Received_Per_Day</th>\n",
       "      <th>Messages_Sent_Per_Day</th>\n",
       "      <th>Dominant_Emotion</th>\n",
       "    </tr>\n",
       "  </thead>\n",
       "  <tbody>\n",
       "    <tr>\n",
       "      <th>0</th>\n",
       "      <td>1</td>\n",
       "      <td>25</td>\n",
       "      <td>Female</td>\n",
       "      <td>Instagram</td>\n",
       "      <td>120.0</td>\n",
       "      <td>3.0</td>\n",
       "      <td>45.0</td>\n",
       "      <td>10.0</td>\n",
       "      <td>12.0</td>\n",
       "      <td>Happiness</td>\n",
       "    </tr>\n",
       "    <tr>\n",
       "      <th>1</th>\n",
       "      <td>2</td>\n",
       "      <td>30</td>\n",
       "      <td>Male</td>\n",
       "      <td>Twitter</td>\n",
       "      <td>90.0</td>\n",
       "      <td>5.0</td>\n",
       "      <td>20.0</td>\n",
       "      <td>25.0</td>\n",
       "      <td>30.0</td>\n",
       "      <td>Anger</td>\n",
       "    </tr>\n",
       "    <tr>\n",
       "      <th>2</th>\n",
       "      <td>3</td>\n",
       "      <td>22</td>\n",
       "      <td>Non-binary</td>\n",
       "      <td>Facebook</td>\n",
       "      <td>60.0</td>\n",
       "      <td>2.0</td>\n",
       "      <td>15.0</td>\n",
       "      <td>5.0</td>\n",
       "      <td>20.0</td>\n",
       "      <td>Neutral</td>\n",
       "    </tr>\n",
       "    <tr>\n",
       "      <th>3</th>\n",
       "      <td>4</td>\n",
       "      <td>28</td>\n",
       "      <td>Female</td>\n",
       "      <td>Instagram</td>\n",
       "      <td>200.0</td>\n",
       "      <td>8.0</td>\n",
       "      <td>100.0</td>\n",
       "      <td>30.0</td>\n",
       "      <td>50.0</td>\n",
       "      <td>Anxiety</td>\n",
       "    </tr>\n",
       "    <tr>\n",
       "      <th>4</th>\n",
       "      <td>5</td>\n",
       "      <td>33</td>\n",
       "      <td>Male</td>\n",
       "      <td>LinkedIn</td>\n",
       "      <td>45.0</td>\n",
       "      <td>1.0</td>\n",
       "      <td>5.0</td>\n",
       "      <td>2.0</td>\n",
       "      <td>10.0</td>\n",
       "      <td>Boredom</td>\n",
       "    </tr>\n",
       "  </tbody>\n",
       "</table>\n",
       "</div>"
      ],
      "text/plain": [
       "  User_ID Age      Gender   Platform  Daily_Usage_Time (minutes)  \\\n",
       "0       1  25      Female  Instagram                       120.0   \n",
       "1       2  30        Male    Twitter                        90.0   \n",
       "2       3  22  Non-binary   Facebook                        60.0   \n",
       "3       4  28      Female  Instagram                       200.0   \n",
       "4       5  33        Male   LinkedIn                        45.0   \n",
       "\n",
       "   Posts_Per_Day  Likes_Received_Per_Day  Comments_Received_Per_Day  \\\n",
       "0            3.0                    45.0                       10.0   \n",
       "1            5.0                    20.0                       25.0   \n",
       "2            2.0                    15.0                        5.0   \n",
       "3            8.0                   100.0                       30.0   \n",
       "4            1.0                     5.0                        2.0   \n",
       "\n",
       "   Messages_Sent_Per_Day Dominant_Emotion  \n",
       "0                   12.0        Happiness  \n",
       "1                   30.0            Anger  \n",
       "2                   20.0          Neutral  \n",
       "3                   50.0          Anxiety  \n",
       "4                   10.0          Boredom  "
      ]
     },
     "execution_count": 11,
     "metadata": {},
     "output_type": "execute_result"
    }
   ],
   "source": [
    "train_df.head()"
   ]
  },
  {
   "cell_type": "markdown",
   "id": "1ea4274b",
   "metadata": {
    "papermill": {
     "duration": 0.02814,
     "end_time": "2024-05-23T11:22:47.407047",
     "exception": false,
     "start_time": "2024-05-23T11:22:47.378907",
     "status": "completed"
    },
    "tags": []
   },
   "source": [
    "### Describe the training data"
   ]
  },
  {
   "cell_type": "code",
   "execution_count": 12,
   "id": "1a9255e0",
   "metadata": {
    "execution": {
     "iopub.execute_input": "2024-05-23T11:22:47.465915Z",
     "iopub.status.busy": "2024-05-23T11:22:47.465151Z",
     "iopub.status.idle": "2024-05-23T11:22:47.491020Z",
     "shell.execute_reply": "2024-05-23T11:22:47.489914Z"
    },
    "papermill": {
     "duration": 0.057879,
     "end_time": "2024-05-23T11:22:47.493214",
     "exception": false,
     "start_time": "2024-05-23T11:22:47.435335",
     "status": "completed"
    },
    "tags": []
   },
   "outputs": [
    {
     "data": {
      "text/html": [
       "<div>\n",
       "<style scoped>\n",
       "    .dataframe tbody tr th:only-of-type {\n",
       "        vertical-align: middle;\n",
       "    }\n",
       "\n",
       "    .dataframe tbody tr th {\n",
       "        vertical-align: top;\n",
       "    }\n",
       "\n",
       "    .dataframe thead th {\n",
       "        text-align: right;\n",
       "    }\n",
       "</style>\n",
       "<table border=\"1\" class=\"dataframe\">\n",
       "  <thead>\n",
       "    <tr style=\"text-align: right;\">\n",
       "      <th></th>\n",
       "      <th>Daily_Usage_Time (minutes)</th>\n",
       "      <th>Posts_Per_Day</th>\n",
       "      <th>Likes_Received_Per_Day</th>\n",
       "      <th>Comments_Received_Per_Day</th>\n",
       "      <th>Messages_Sent_Per_Day</th>\n",
       "    </tr>\n",
       "  </thead>\n",
       "  <tbody>\n",
       "    <tr>\n",
       "      <th>count</th>\n",
       "      <td>1000.000000</td>\n",
       "      <td>1000.000000</td>\n",
       "      <td>1000.000000</td>\n",
       "      <td>1000.000000</td>\n",
       "      <td>1000.000000</td>\n",
       "    </tr>\n",
       "    <tr>\n",
       "      <th>mean</th>\n",
       "      <td>95.950000</td>\n",
       "      <td>3.321000</td>\n",
       "      <td>39.898000</td>\n",
       "      <td>15.611000</td>\n",
       "      <td>22.560000</td>\n",
       "    </tr>\n",
       "    <tr>\n",
       "      <th>std</th>\n",
       "      <td>38.850442</td>\n",
       "      <td>1.914582</td>\n",
       "      <td>26.393867</td>\n",
       "      <td>8.819493</td>\n",
       "      <td>8.516274</td>\n",
       "    </tr>\n",
       "    <tr>\n",
       "      <th>min</th>\n",
       "      <td>40.000000</td>\n",
       "      <td>1.000000</td>\n",
       "      <td>5.000000</td>\n",
       "      <td>2.000000</td>\n",
       "      <td>8.000000</td>\n",
       "    </tr>\n",
       "    <tr>\n",
       "      <th>25%</th>\n",
       "      <td>65.000000</td>\n",
       "      <td>2.000000</td>\n",
       "      <td>20.000000</td>\n",
       "      <td>8.000000</td>\n",
       "      <td>17.750000</td>\n",
       "    </tr>\n",
       "    <tr>\n",
       "      <th>50%</th>\n",
       "      <td>85.000000</td>\n",
       "      <td>3.000000</td>\n",
       "      <td>33.000000</td>\n",
       "      <td>14.000000</td>\n",
       "      <td>22.000000</td>\n",
       "    </tr>\n",
       "    <tr>\n",
       "      <th>75%</th>\n",
       "      <td>120.000000</td>\n",
       "      <td>4.000000</td>\n",
       "      <td>55.000000</td>\n",
       "      <td>22.000000</td>\n",
       "      <td>28.000000</td>\n",
       "    </tr>\n",
       "    <tr>\n",
       "      <th>max</th>\n",
       "      <td>200.000000</td>\n",
       "      <td>8.000000</td>\n",
       "      <td>110.000000</td>\n",
       "      <td>40.000000</td>\n",
       "      <td>50.000000</td>\n",
       "    </tr>\n",
       "  </tbody>\n",
       "</table>\n",
       "</div>"
      ],
      "text/plain": [
       "       Daily_Usage_Time (minutes)  Posts_Per_Day  Likes_Received_Per_Day  \\\n",
       "count                 1000.000000    1000.000000             1000.000000   \n",
       "mean                    95.950000       3.321000               39.898000   \n",
       "std                     38.850442       1.914582               26.393867   \n",
       "min                     40.000000       1.000000                5.000000   \n",
       "25%                     65.000000       2.000000               20.000000   \n",
       "50%                     85.000000       3.000000               33.000000   \n",
       "75%                    120.000000       4.000000               55.000000   \n",
       "max                    200.000000       8.000000              110.000000   \n",
       "\n",
       "       Comments_Received_Per_Day  Messages_Sent_Per_Day  \n",
       "count                1000.000000            1000.000000  \n",
       "mean                   15.611000              22.560000  \n",
       "std                     8.819493               8.516274  \n",
       "min                     2.000000               8.000000  \n",
       "25%                     8.000000              17.750000  \n",
       "50%                    14.000000              22.000000  \n",
       "75%                    22.000000              28.000000  \n",
       "max                    40.000000              50.000000  "
      ]
     },
     "execution_count": 12,
     "metadata": {},
     "output_type": "execute_result"
    }
   ],
   "source": [
    "train_df.describe()"
   ]
  },
  {
   "cell_type": "markdown",
   "id": "59460a8e",
   "metadata": {
    "papermill": {
     "duration": 0.028531,
     "end_time": "2024-05-23T11:22:47.551255",
     "exception": false,
     "start_time": "2024-05-23T11:22:47.522724",
     "status": "completed"
    },
    "tags": []
   },
   "source": [
    "### Age Distribution"
   ]
  },
  {
   "cell_type": "code",
   "execution_count": 13,
   "id": "88329dc4",
   "metadata": {
    "execution": {
     "iopub.execute_input": "2024-05-23T11:22:47.610135Z",
     "iopub.status.busy": "2024-05-23T11:22:47.609683Z",
     "iopub.status.idle": "2024-05-23T11:22:47.617348Z",
     "shell.execute_reply": "2024-05-23T11:22:47.616287Z"
    },
    "papermill": {
     "duration": 0.039602,
     "end_time": "2024-05-23T11:22:47.619441",
     "exception": false,
     "start_time": "2024-05-23T11:22:47.579839",
     "status": "completed"
    },
    "tags": []
   },
   "outputs": [
    {
     "data": {
      "text/plain": [
       "0"
      ]
     },
     "execution_count": 13,
     "metadata": {},
     "output_type": "execute_result"
    }
   ],
   "source": [
    "train_df['Age'].isnull().sum()"
   ]
  },
  {
   "cell_type": "code",
   "execution_count": 14,
   "id": "cc645506",
   "metadata": {
    "execution": {
     "iopub.execute_input": "2024-05-23T11:22:47.678915Z",
     "iopub.status.busy": "2024-05-23T11:22:47.678473Z",
     "iopub.status.idle": "2024-05-23T11:22:47.686389Z",
     "shell.execute_reply": "2024-05-23T11:22:47.685309Z"
    },
    "papermill": {
     "duration": 0.040257,
     "end_time": "2024-05-23T11:22:47.688606",
     "exception": false,
     "start_time": "2024-05-23T11:22:47.648349",
     "status": "completed"
    },
    "tags": []
   },
   "outputs": [
    {
     "data": {
      "text/plain": [
       "array(['25', '30', '22', '28', '33', '21', '27', '24', '29', '31', '23',\n",
       "       '26', '34', '35', '32', 'Male', 'Female', 'Non-binary',\n",
       "       ' işte mevcut veri kümesini 1000 satıra tamamlıyorum:'],\n",
       "      dtype=object)"
      ]
     },
     "execution_count": 14,
     "metadata": {},
     "output_type": "execute_result"
    }
   ],
   "source": [
    "train_df['Age'].unique()"
   ]
  },
  {
   "cell_type": "markdown",
   "id": "b89b87a2",
   "metadata": {
    "papermill": {
     "duration": 0.028834,
     "end_time": "2024-05-23T11:22:47.746568",
     "exception": false,
     "start_time": "2024-05-23T11:22:47.717734",
     "status": "completed"
    },
    "tags": []
   },
   "source": [
    "* In the age coloum we have 4 irrigular values.\n",
    "  * Male, Female, Non-binary, and other.\n"
   ]
  },
  {
   "cell_type": "code",
   "execution_count": 15,
   "id": "b793a808",
   "metadata": {
    "execution": {
     "iopub.execute_input": "2024-05-23T11:22:47.806720Z",
     "iopub.status.busy": "2024-05-23T11:22:47.806305Z",
     "iopub.status.idle": "2024-05-23T11:22:47.815254Z",
     "shell.execute_reply": "2024-05-23T11:22:47.814115Z"
    },
    "papermill": {
     "duration": 0.042036,
     "end_time": "2024-05-23T11:22:47.817668",
     "exception": false,
     "start_time": "2024-05-23T11:22:47.775632",
     "status": "completed"
    },
    "tags": []
   },
   "outputs": [],
   "source": [
    "# removing the Male, Female, Non-binary, and işte mevcut veri kümesini 1000 satıra tamamlıyorum:\n",
    "\n",
    "# Replace non-numeric values with NaN\n",
    "train_df['Age'] = pd.to_numeric(train_df['Age'], errors='coerce')\n",
    "train_df['Age'].fillna(train_df['Age'].median(), inplace=True)\n",
    "train_df['Age'] = train_df['Age'].astype('int64')\n",
    "\n",
    "test_df['Age'] = pd.to_numeric(test_df['Age'], errors='coerce')\n",
    "test_df['Age'].fillna(test_df['Age'].median(), inplace=True)\n",
    "test_df['Age'] = test_df['Age'].astype('int64')"
   ]
  },
  {
   "cell_type": "code",
   "execution_count": 16,
   "id": "785c1bdb",
   "metadata": {
    "execution": {
     "iopub.execute_input": "2024-05-23T11:22:47.877847Z",
     "iopub.status.busy": "2024-05-23T11:22:47.877454Z",
     "iopub.status.idle": "2024-05-23T11:22:47.887216Z",
     "shell.execute_reply": "2024-05-23T11:22:47.885860Z"
    },
    "papermill": {
     "duration": 0.04273,
     "end_time": "2024-05-23T11:22:47.889584",
     "exception": false,
     "start_time": "2024-05-23T11:22:47.846854",
     "status": "completed"
    },
    "tags": []
   },
   "outputs": [
    {
     "data": {
      "text/plain": [
       "array([25, 30, 22, 28, 33, 21, 27, 24, 29, 31, 23, 26, 34, 35, 32],\n",
       "      dtype=int64)"
      ]
     },
     "execution_count": 16,
     "metadata": {},
     "output_type": "execute_result"
    }
   ],
   "source": [
    "train_df['Age'].unique()"
   ]
  },
  {
   "cell_type": "code",
   "execution_count": 17,
   "id": "8623ce2c",
   "metadata": {
    "execution": {
     "iopub.execute_input": "2024-05-23T11:22:47.950508Z",
     "iopub.status.busy": "2024-05-23T11:22:47.950076Z",
     "iopub.status.idle": "2024-05-23T11:22:49.842286Z",
     "shell.execute_reply": "2024-05-23T11:22:49.841165Z"
    },
    "papermill": {
     "duration": 1.925682,
     "end_time": "2024-05-23T11:22:49.844771",
     "exception": false,
     "start_time": "2024-05-23T11:22:47.919089",
     "status": "completed"
    },
    "tags": []
   },
   "outputs": [
    {
     "data": {
      "application/vnd.plotly.v1+json": {
       "config": {
        "plotlyServerURL": "https://plot.ly"
       },
       "data": [
        {
         "hovertemplate": "Age=%{x}<br>Count=%{y}<extra></extra>",
         "legendgroup": "",
         "line": {
          "color": "blue",
          "dash": "solid"
         },
         "marker": {
          "symbol": "circle"
         },
         "mode": "markers+lines",
         "name": "",
         "orientation": "v",
         "showlegend": false,
         "type": "scatter",
         "x": [
          21,
          22,
          23,
          24,
          25,
          26,
          27,
          28,
          29,
          30,
          31,
          32,
          33,
          34,
          35
         ],
         "xaxis": "x",
         "y": [
          56,
          74,
          48,
          64,
          64,
          66,
          169,
          92,
          90,
          48,
          62,
          38,
          56,
          36,
          38
         ],
         "yaxis": "y"
        }
       ],
       "layout": {
        "legend": {
         "tracegroupgap": 0
        },
        "template": {
         "data": {
          "bar": [
           {
            "error_x": {
             "color": "#2a3f5f"
            },
            "error_y": {
             "color": "#2a3f5f"
            },
            "marker": {
             "line": {
              "color": "#E5ECF6",
              "width": 0.5
             },
             "pattern": {
              "fillmode": "overlay",
              "size": 10,
              "solidity": 0.2
             }
            },
            "type": "bar"
           }
          ],
          "barpolar": [
           {
            "marker": {
             "line": {
              "color": "#E5ECF6",
              "width": 0.5
             },
             "pattern": {
              "fillmode": "overlay",
              "size": 10,
              "solidity": 0.2
             }
            },
            "type": "barpolar"
           }
          ],
          "carpet": [
           {
            "aaxis": {
             "endlinecolor": "#2a3f5f",
             "gridcolor": "white",
             "linecolor": "white",
             "minorgridcolor": "white",
             "startlinecolor": "#2a3f5f"
            },
            "baxis": {
             "endlinecolor": "#2a3f5f",
             "gridcolor": "white",
             "linecolor": "white",
             "minorgridcolor": "white",
             "startlinecolor": "#2a3f5f"
            },
            "type": "carpet"
           }
          ],
          "choropleth": [
           {
            "colorbar": {
             "outlinewidth": 0,
             "ticks": ""
            },
            "type": "choropleth"
           }
          ],
          "contour": [
           {
            "colorbar": {
             "outlinewidth": 0,
             "ticks": ""
            },
            "colorscale": [
             [
              0,
              "#0d0887"
             ],
             [
              0.1111111111111111,
              "#46039f"
             ],
             [
              0.2222222222222222,
              "#7201a8"
             ],
             [
              0.3333333333333333,
              "#9c179e"
             ],
             [
              0.4444444444444444,
              "#bd3786"
             ],
             [
              0.5555555555555556,
              "#d8576b"
             ],
             [
              0.6666666666666666,
              "#ed7953"
             ],
             [
              0.7777777777777778,
              "#fb9f3a"
             ],
             [
              0.8888888888888888,
              "#fdca26"
             ],
             [
              1,
              "#f0f921"
             ]
            ],
            "type": "contour"
           }
          ],
          "contourcarpet": [
           {
            "colorbar": {
             "outlinewidth": 0,
             "ticks": ""
            },
            "type": "contourcarpet"
           }
          ],
          "heatmap": [
           {
            "colorbar": {
             "outlinewidth": 0,
             "ticks": ""
            },
            "colorscale": [
             [
              0,
              "#0d0887"
             ],
             [
              0.1111111111111111,
              "#46039f"
             ],
             [
              0.2222222222222222,
              "#7201a8"
             ],
             [
              0.3333333333333333,
              "#9c179e"
             ],
             [
              0.4444444444444444,
              "#bd3786"
             ],
             [
              0.5555555555555556,
              "#d8576b"
             ],
             [
              0.6666666666666666,
              "#ed7953"
             ],
             [
              0.7777777777777778,
              "#fb9f3a"
             ],
             [
              0.8888888888888888,
              "#fdca26"
             ],
             [
              1,
              "#f0f921"
             ]
            ],
            "type": "heatmap"
           }
          ],
          "heatmapgl": [
           {
            "colorbar": {
             "outlinewidth": 0,
             "ticks": ""
            },
            "colorscale": [
             [
              0,
              "#0d0887"
             ],
             [
              0.1111111111111111,
              "#46039f"
             ],
             [
              0.2222222222222222,
              "#7201a8"
             ],
             [
              0.3333333333333333,
              "#9c179e"
             ],
             [
              0.4444444444444444,
              "#bd3786"
             ],
             [
              0.5555555555555556,
              "#d8576b"
             ],
             [
              0.6666666666666666,
              "#ed7953"
             ],
             [
              0.7777777777777778,
              "#fb9f3a"
             ],
             [
              0.8888888888888888,
              "#fdca26"
             ],
             [
              1,
              "#f0f921"
             ]
            ],
            "type": "heatmapgl"
           }
          ],
          "histogram": [
           {
            "marker": {
             "pattern": {
              "fillmode": "overlay",
              "size": 10,
              "solidity": 0.2
             }
            },
            "type": "histogram"
           }
          ],
          "histogram2d": [
           {
            "colorbar": {
             "outlinewidth": 0,
             "ticks": ""
            },
            "colorscale": [
             [
              0,
              "#0d0887"
             ],
             [
              0.1111111111111111,
              "#46039f"
             ],
             [
              0.2222222222222222,
              "#7201a8"
             ],
             [
              0.3333333333333333,
              "#9c179e"
             ],
             [
              0.4444444444444444,
              "#bd3786"
             ],
             [
              0.5555555555555556,
              "#d8576b"
             ],
             [
              0.6666666666666666,
              "#ed7953"
             ],
             [
              0.7777777777777778,
              "#fb9f3a"
             ],
             [
              0.8888888888888888,
              "#fdca26"
             ],
             [
              1,
              "#f0f921"
             ]
            ],
            "type": "histogram2d"
           }
          ],
          "histogram2dcontour": [
           {
            "colorbar": {
             "outlinewidth": 0,
             "ticks": ""
            },
            "colorscale": [
             [
              0,
              "#0d0887"
             ],
             [
              0.1111111111111111,
              "#46039f"
             ],
             [
              0.2222222222222222,
              "#7201a8"
             ],
             [
              0.3333333333333333,
              "#9c179e"
             ],
             [
              0.4444444444444444,
              "#bd3786"
             ],
             [
              0.5555555555555556,
              "#d8576b"
             ],
             [
              0.6666666666666666,
              "#ed7953"
             ],
             [
              0.7777777777777778,
              "#fb9f3a"
             ],
             [
              0.8888888888888888,
              "#fdca26"
             ],
             [
              1,
              "#f0f921"
             ]
            ],
            "type": "histogram2dcontour"
           }
          ],
          "mesh3d": [
           {
            "colorbar": {
             "outlinewidth": 0,
             "ticks": ""
            },
            "type": "mesh3d"
           }
          ],
          "parcoords": [
           {
            "line": {
             "colorbar": {
              "outlinewidth": 0,
              "ticks": ""
             }
            },
            "type": "parcoords"
           }
          ],
          "pie": [
           {
            "automargin": true,
            "type": "pie"
           }
          ],
          "scatter": [
           {
            "fillpattern": {
             "fillmode": "overlay",
             "size": 10,
             "solidity": 0.2
            },
            "type": "scatter"
           }
          ],
          "scatter3d": [
           {
            "line": {
             "colorbar": {
              "outlinewidth": 0,
              "ticks": ""
             }
            },
            "marker": {
             "colorbar": {
              "outlinewidth": 0,
              "ticks": ""
             }
            },
            "type": "scatter3d"
           }
          ],
          "scattercarpet": [
           {
            "marker": {
             "colorbar": {
              "outlinewidth": 0,
              "ticks": ""
             }
            },
            "type": "scattercarpet"
           }
          ],
          "scattergeo": [
           {
            "marker": {
             "colorbar": {
              "outlinewidth": 0,
              "ticks": ""
             }
            },
            "type": "scattergeo"
           }
          ],
          "scattergl": [
           {
            "marker": {
             "colorbar": {
              "outlinewidth": 0,
              "ticks": ""
             }
            },
            "type": "scattergl"
           }
          ],
          "scattermapbox": [
           {
            "marker": {
             "colorbar": {
              "outlinewidth": 0,
              "ticks": ""
             }
            },
            "type": "scattermapbox"
           }
          ],
          "scatterpolar": [
           {
            "marker": {
             "colorbar": {
              "outlinewidth": 0,
              "ticks": ""
             }
            },
            "type": "scatterpolar"
           }
          ],
          "scatterpolargl": [
           {
            "marker": {
             "colorbar": {
              "outlinewidth": 0,
              "ticks": ""
             }
            },
            "type": "scatterpolargl"
           }
          ],
          "scatterternary": [
           {
            "marker": {
             "colorbar": {
              "outlinewidth": 0,
              "ticks": ""
             }
            },
            "type": "scatterternary"
           }
          ],
          "surface": [
           {
            "colorbar": {
             "outlinewidth": 0,
             "ticks": ""
            },
            "colorscale": [
             [
              0,
              "#0d0887"
             ],
             [
              0.1111111111111111,
              "#46039f"
             ],
             [
              0.2222222222222222,
              "#7201a8"
             ],
             [
              0.3333333333333333,
              "#9c179e"
             ],
             [
              0.4444444444444444,
              "#bd3786"
             ],
             [
              0.5555555555555556,
              "#d8576b"
             ],
             [
              0.6666666666666666,
              "#ed7953"
             ],
             [
              0.7777777777777778,
              "#fb9f3a"
             ],
             [
              0.8888888888888888,
              "#fdca26"
             ],
             [
              1,
              "#f0f921"
             ]
            ],
            "type": "surface"
           }
          ],
          "table": [
           {
            "cells": {
             "fill": {
              "color": "#EBF0F8"
             },
             "line": {
              "color": "white"
             }
            },
            "header": {
             "fill": {
              "color": "#C8D4E3"
             },
             "line": {
              "color": "white"
             }
            },
            "type": "table"
           }
          ]
         },
         "layout": {
          "annotationdefaults": {
           "arrowcolor": "#2a3f5f",
           "arrowhead": 0,
           "arrowwidth": 1
          },
          "autotypenumbers": "strict",
          "coloraxis": {
           "colorbar": {
            "outlinewidth": 0,
            "ticks": ""
           }
          },
          "colorscale": {
           "diverging": [
            [
             0,
             "#8e0152"
            ],
            [
             0.1,
             "#c51b7d"
            ],
            [
             0.2,
             "#de77ae"
            ],
            [
             0.3,
             "#f1b6da"
            ],
            [
             0.4,
             "#fde0ef"
            ],
            [
             0.5,
             "#f7f7f7"
            ],
            [
             0.6,
             "#e6f5d0"
            ],
            [
             0.7,
             "#b8e186"
            ],
            [
             0.8,
             "#7fbc41"
            ],
            [
             0.9,
             "#4d9221"
            ],
            [
             1,
             "#276419"
            ]
           ],
           "sequential": [
            [
             0,
             "#0d0887"
            ],
            [
             0.1111111111111111,
             "#46039f"
            ],
            [
             0.2222222222222222,
             "#7201a8"
            ],
            [
             0.3333333333333333,
             "#9c179e"
            ],
            [
             0.4444444444444444,
             "#bd3786"
            ],
            [
             0.5555555555555556,
             "#d8576b"
            ],
            [
             0.6666666666666666,
             "#ed7953"
            ],
            [
             0.7777777777777778,
             "#fb9f3a"
            ],
            [
             0.8888888888888888,
             "#fdca26"
            ],
            [
             1,
             "#f0f921"
            ]
           ],
           "sequentialminus": [
            [
             0,
             "#0d0887"
            ],
            [
             0.1111111111111111,
             "#46039f"
            ],
            [
             0.2222222222222222,
             "#7201a8"
            ],
            [
             0.3333333333333333,
             "#9c179e"
            ],
            [
             0.4444444444444444,
             "#bd3786"
            ],
            [
             0.5555555555555556,
             "#d8576b"
            ],
            [
             0.6666666666666666,
             "#ed7953"
            ],
            [
             0.7777777777777778,
             "#fb9f3a"
            ],
            [
             0.8888888888888888,
             "#fdca26"
            ],
            [
             1,
             "#f0f921"
            ]
           ]
          },
          "colorway": [
           "#636efa",
           "#EF553B",
           "#00cc96",
           "#ab63fa",
           "#FFA15A",
           "#19d3f3",
           "#FF6692",
           "#B6E880",
           "#FF97FF",
           "#FECB52"
          ],
          "font": {
           "color": "#2a3f5f"
          },
          "geo": {
           "bgcolor": "white",
           "lakecolor": "white",
           "landcolor": "#E5ECF6",
           "showlakes": true,
           "showland": true,
           "subunitcolor": "white"
          },
          "hoverlabel": {
           "align": "left"
          },
          "hovermode": "closest",
          "mapbox": {
           "style": "light"
          },
          "paper_bgcolor": "white",
          "plot_bgcolor": "#E5ECF6",
          "polar": {
           "angularaxis": {
            "gridcolor": "white",
            "linecolor": "white",
            "ticks": ""
           },
           "bgcolor": "#E5ECF6",
           "radialaxis": {
            "gridcolor": "white",
            "linecolor": "white",
            "ticks": ""
           }
          },
          "scene": {
           "xaxis": {
            "backgroundcolor": "#E5ECF6",
            "gridcolor": "white",
            "gridwidth": 2,
            "linecolor": "white",
            "showbackground": true,
            "ticks": "",
            "zerolinecolor": "white"
           },
           "yaxis": {
            "backgroundcolor": "#E5ECF6",
            "gridcolor": "white",
            "gridwidth": 2,
            "linecolor": "white",
            "showbackground": true,
            "ticks": "",
            "zerolinecolor": "white"
           },
           "zaxis": {
            "backgroundcolor": "#E5ECF6",
            "gridcolor": "white",
            "gridwidth": 2,
            "linecolor": "white",
            "showbackground": true,
            "ticks": "",
            "zerolinecolor": "white"
           }
          },
          "shapedefaults": {
           "line": {
            "color": "#2a3f5f"
           }
          },
          "ternary": {
           "aaxis": {
            "gridcolor": "white",
            "linecolor": "white",
            "ticks": ""
           },
           "baxis": {
            "gridcolor": "white",
            "linecolor": "white",
            "ticks": ""
           },
           "bgcolor": "#E5ECF6",
           "caxis": {
            "gridcolor": "white",
            "linecolor": "white",
            "ticks": ""
           }
          },
          "title": {
           "x": 0.05
          },
          "xaxis": {
           "automargin": true,
           "gridcolor": "white",
           "linecolor": "white",
           "ticks": "",
           "title": {
            "standoff": 15
           },
           "zerolinecolor": "white",
           "zerolinewidth": 2
          },
          "yaxis": {
           "automargin": true,
           "gridcolor": "white",
           "linecolor": "white",
           "ticks": "",
           "title": {
            "standoff": 15
           },
           "zerolinecolor": "white",
           "zerolinewidth": 2
          }
         }
        },
        "title": {
         "text": "Age Distribution (Line Plot)"
        },
        "xaxis": {
         "anchor": "y",
         "domain": [
          0,
          1
         ],
         "title": {
          "text": "Age"
         }
        },
        "yaxis": {
         "anchor": "x",
         "domain": [
          0,
          1
         ],
         "title": {
          "text": "Count"
         }
        }
       }
      }
     },
     "metadata": {},
     "output_type": "display_data"
    }
   ],
   "source": [
    "age_counts = train_df['Age'].value_counts().reset_index()\n",
    "age_counts.columns = ['Age', 'Count']  \n",
    "age_counts = age_counts.sort_values('Age')\n",
    "plt = px.line(\n",
    "    age_counts,\n",
    "    x='Age',\n",
    "    y='Count',\n",
    "    title='Age Distribution (Line Plot)',\n",
    "    markers=True, \n",
    "    color_discrete_sequence=['blue']\n",
    ")\n",
    "plt.show()\n"
   ]
  },
  {
   "cell_type": "markdown",
   "id": "4dd3daab",
   "metadata": {},
   "source": [
    "\n",
    "1. **Age Distribution**: The majority of the users are between the ages of 21 and 35. The highest count is in the age group of 27.\n",
    "    - Age 27: 169 users\n",
    "    - Age 28: 92 users\n",
    "    - Age 29: 90 users"
   ]
  },
  {
   "cell_type": "markdown",
   "id": "a1ef8342",
   "metadata": {
    "papermill": {
     "duration": 0.030131,
     "end_time": "2024-05-23T11:22:49.905226",
     "exception": false,
     "start_time": "2024-05-23T11:22:49.875095",
     "status": "completed"
    },
    "tags": []
   },
   "source": [
    "### Gender Distribution"
   ]
  },
  {
   "cell_type": "code",
   "execution_count": 18,
   "id": "93b1687b",
   "metadata": {
    "execution": {
     "iopub.execute_input": "2024-05-23T11:22:49.968759Z",
     "iopub.status.busy": "2024-05-23T11:22:49.967928Z",
     "iopub.status.idle": "2024-05-23T11:22:49.975687Z",
     "shell.execute_reply": "2024-05-23T11:22:49.974532Z"
    },
    "papermill": {
     "duration": 0.041824,
     "end_time": "2024-05-23T11:22:49.977875",
     "exception": false,
     "start_time": "2024-05-23T11:22:49.936051",
     "status": "completed"
    },
    "tags": []
   },
   "outputs": [
    {
     "data": {
      "text/plain": [
       "array(['Female', 'Male', 'Non-binary', '27', '24', '29', '33', '31', '22',\n",
       "       '25', '28', '30', '23', '34', '26', '35', '21', '32', nan],\n",
       "      dtype=object)"
      ]
     },
     "execution_count": 18,
     "metadata": {},
     "output_type": "execute_result"
    }
   ],
   "source": [
    "train_df['Gender'].unique()"
   ]
  },
  {
   "cell_type": "code",
   "execution_count": 19,
   "id": "0bda605d",
   "metadata": {
    "execution": {
     "iopub.execute_input": "2024-05-23T11:22:50.104875Z",
     "iopub.status.busy": "2024-05-23T11:22:50.104216Z",
     "iopub.status.idle": "2024-05-23T11:22:50.114609Z",
     "shell.execute_reply": "2024-05-23T11:22:50.113284Z"
    },
    "papermill": {
     "duration": 0.045442,
     "end_time": "2024-05-23T11:22:50.116844",
     "exception": false,
     "start_time": "2024-05-23T11:22:50.071402",
     "status": "completed"
    },
    "tags": []
   },
   "outputs": [
    {
     "name": "stdout",
     "output_type": "stream",
     "text": [
      "['Female' 'Male' 'Non-binary' 'Unknown']\n",
      "['Unknown' 'Female' 'Non-binary' 'Male']\n"
     ]
    }
   ],
   "source": [
    "# Function to replace numeric values with NaN\n",
    "def clean_gender_column(gender_value):\n",
    "    try:\n",
    "        # Try converting the value to float, if it succeeds it's a numeric value\n",
    "        float(gender_value)\n",
    "        return np.nan\n",
    "    except ValueError:\n",
    "        # If conversion fails, it's a valid gender entry\n",
    "        return gender_value\n",
    "\n",
    "# Apply the function to the Gender column\n",
    "train_df['Gender'] = train_df['Gender'].apply(clean_gender_column)\n",
    "train_df['Gender'].fillna('Unknown', inplace=True)\n",
    "print(train_df['Gender'].unique())\n",
    "\n",
    "test_df['Gender'] = test_df['Gender'].apply(clean_gender_column)\n",
    "test_df['Gender'].fillna('Unknown', inplace=True)\n",
    "print(test_df['Gender'].unique())\n"
   ]
  },
  {
   "cell_type": "code",
   "execution_count": 20,
   "id": "478f7545",
   "metadata": {
    "execution": {
     "iopub.execute_input": "2024-05-23T11:22:50.180655Z",
     "iopub.status.busy": "2024-05-23T11:22:50.180027Z",
     "iopub.status.idle": "2024-05-23T11:22:50.186365Z",
     "shell.execute_reply": "2024-05-23T11:22:50.185212Z"
    },
    "papermill": {
     "duration": 0.04099,
     "end_time": "2024-05-23T11:22:50.188692",
     "exception": false,
     "start_time": "2024-05-23T11:22:50.147702",
     "status": "completed"
    },
    "tags": []
   },
   "outputs": [
    {
     "data": {
      "text/plain": [
       "array(['Female', 'Male', 'Non-binary', 'Unknown'], dtype=object)"
      ]
     },
     "execution_count": 20,
     "metadata": {},
     "output_type": "execute_result"
    }
   ],
   "source": [
    "train_df['Gender'].unique()"
   ]
  },
  {
   "cell_type": "code",
   "execution_count": 21,
   "id": "e827b0ea",
   "metadata": {
    "execution": {
     "iopub.execute_input": "2024-05-23T11:22:50.252430Z",
     "iopub.status.busy": "2024-05-23T11:22:50.251988Z",
     "iopub.status.idle": "2024-05-23T11:22:50.260985Z",
     "shell.execute_reply": "2024-05-23T11:22:50.260165Z"
    },
    "papermill": {
     "duration": 0.043545,
     "end_time": "2024-05-23T11:22:50.263167",
     "exception": false,
     "start_time": "2024-05-23T11:22:50.219622",
     "status": "completed"
    },
    "tags": []
   },
   "outputs": [
    {
     "data": {
      "text/plain": [
       "Female        344\n",
       "Male          332\n",
       "Non-binary    248\n",
       "Unknown        77\n",
       "Name: Gender, dtype: int64"
      ]
     },
     "execution_count": 21,
     "metadata": {},
     "output_type": "execute_result"
    }
   ],
   "source": [
    "train_df['Gender'].value_counts()"
   ]
  },
  {
   "cell_type": "code",
   "execution_count": 22,
   "id": "de6104ec",
   "metadata": {
    "execution": {
     "iopub.execute_input": "2024-05-23T11:22:50.327651Z",
     "iopub.status.busy": "2024-05-23T11:22:50.326561Z",
     "iopub.status.idle": "2024-05-23T11:22:50.401638Z",
     "shell.execute_reply": "2024-05-23T11:22:50.400517Z"
    },
    "papermill": {
     "duration": 0.109974,
     "end_time": "2024-05-23T11:22:50.404089",
     "exception": false,
     "start_time": "2024-05-23T11:22:50.294115",
     "status": "completed"
    },
    "tags": []
   },
   "outputs": [
    {
     "data": {
      "application/vnd.plotly.v1+json": {
       "config": {
        "plotlyServerURL": "https://plot.ly"
       },
       "data": [
        {
         "alignmentgroup": "True",
         "bingroup": "x",
         "hovertemplate": "Gender=%{x}<br>count=%{y}<extra></extra>",
         "legendgroup": "",
         "marker": {
          "color": "#636efa",
          "pattern": {
           "shape": ""
          }
         },
         "name": "",
         "offsetgroup": "",
         "orientation": "v",
         "showlegend": false,
         "type": "histogram",
         "x": [
          "Female",
          "Male",
          "Non-binary",
          "Female",
          "Male",
          "Male",
          "Female",
          "Non-binary",
          "Female",
          "Male",
          "Female",
          "Non-binary",
          "Male",
          "Female",
          "Male",
          "Non-binary",
          "Female",
          "Male",
          "Non-binary",
          "Female",
          "Male",
          "Female",
          "Male",
          "Non-binary",
          "Female",
          "Male",
          "Non-binary",
          "Female",
          "Male",
          "Non-binary",
          "Female",
          "Male",
          "Non-binary",
          "Female",
          "Male",
          "Non-binary",
          "Female",
          "Male",
          "Female",
          "Non-binary",
          "Male",
          "Female",
          "Male",
          "Non-binary",
          "Female",
          "Male",
          "Female",
          "Non-binary",
          "Male",
          "Female",
          "Male",
          "Female",
          "Non-binary",
          "Female",
          "Male",
          "Female",
          "Male",
          "Non-binary",
          "Female",
          "Male",
          "Female",
          "Male",
          "Non-binary",
          "Female",
          "Male",
          "Non-binary",
          "Male",
          "Female",
          "Male",
          "Non-binary",
          "Female",
          "Male",
          "Non-binary",
          "Female",
          "Male",
          "Non-binary",
          "Female",
          "Male",
          "Non-binary",
          "Female",
          "Male",
          "Non-binary",
          "Female",
          "Male",
          "Non-binary",
          "Female",
          "Male",
          "Non-binary",
          "Female",
          "Male",
          "Non-binary",
          "Female",
          "Male",
          "Female",
          "Male",
          "Non-binary",
          "Female",
          "Male",
          "Non-binary",
          "Female",
          "Female",
          "Male",
          "Non-binary",
          "Female",
          "Male",
          "Male",
          "Female",
          "Non-binary",
          "Female",
          "Male",
          "Female",
          "Non-binary",
          "Male",
          "Female",
          "Male",
          "Non-binary",
          "Female",
          "Male",
          "Non-binary",
          "Female",
          "Male",
          "Female",
          "Male",
          "Non-binary",
          "Female",
          "Male",
          "Non-binary",
          "Female",
          "Male",
          "Non-binary",
          "Female",
          "Male",
          "Non-binary",
          "Female",
          "Male",
          "Non-binary",
          "Female",
          "Male",
          "Female",
          "Non-binary",
          "Male",
          "Female",
          "Male",
          "Non-binary",
          "Female",
          "Male",
          "Female",
          "Non-binary",
          "Male",
          "Female",
          "Male",
          "Female",
          "Non-binary",
          "Female",
          "Male",
          "Female",
          "Male",
          "Non-binary",
          "Female",
          "Male",
          "Female",
          "Male",
          "Non-binary",
          "Female",
          "Male",
          "Non-binary",
          "Male",
          "Female",
          "Male",
          "Non-binary",
          "Female",
          "Male",
          "Non-binary",
          "Female",
          "Male",
          "Non-binary",
          "Female",
          "Male",
          "Non-binary",
          "Female",
          "Male",
          "Non-binary",
          "Female",
          "Male",
          "Non-binary",
          "Female",
          "Male",
          "Non-binary",
          "Female",
          "Male",
          "Non-binary",
          "Female",
          "Male",
          "Female",
          "Male",
          "Non-binary",
          "Female",
          "Male",
          "Non-binary",
          "Female",
          "Female",
          "Male",
          "Non-binary",
          "Female",
          "Male",
          "Male",
          "Female",
          "Non-binary",
          "Female",
          "Male",
          "Female",
          "Non-binary",
          "Male",
          "Female",
          "Male",
          "Non-binary",
          "Female",
          "Male",
          "Non-binary",
          "Female",
          "Male",
          "Female",
          "Male",
          "Non-binary",
          "Female",
          "Male",
          "Non-binary",
          "Female",
          "Male",
          "Non-binary",
          "Female",
          "Male",
          "Non-binary",
          "Female",
          "Male",
          "Non-binary",
          "Female",
          "Male",
          "Female",
          "Non-binary",
          "Male",
          "Female",
          "Male",
          "Non-binary",
          "Female",
          "Male",
          "Female",
          "Non-binary",
          "Male",
          "Female",
          "Unknown",
          "Unknown",
          "Unknown",
          "Unknown",
          "Unknown",
          "Unknown",
          "Unknown",
          "Unknown",
          "Unknown",
          "Unknown",
          "Unknown",
          "Unknown",
          "Unknown",
          "Unknown",
          "Unknown",
          "Unknown",
          "Unknown",
          "Unknown",
          "Unknown",
          "Unknown",
          "Unknown",
          "Unknown",
          "Unknown",
          "Unknown",
          "Unknown",
          "Unknown",
          "Unknown",
          "Unknown",
          "Unknown",
          "Unknown",
          "Unknown",
          "Unknown",
          "Unknown",
          "Unknown",
          "Unknown",
          "Unknown",
          "Unknown",
          "Unknown",
          "Female",
          "Male",
          "Non-binary",
          "Female",
          "Male",
          "Female",
          "Male",
          "Non-binary",
          "Female",
          "Male",
          "Non-binary",
          "Female",
          "Female",
          "Male",
          "Non-binary",
          "Female",
          "Male",
          "Male",
          "Female",
          "Non-binary",
          "Female",
          "Male",
          "Female",
          "Non-binary",
          "Male",
          "Female",
          "Male",
          "Non-binary",
          "Female",
          "Male",
          "Non-binary",
          "Female",
          "Male",
          "Female",
          "Male",
          "Non-binary",
          "Female",
          "Male",
          "Non-binary",
          "Female",
          "Male",
          "Non-binary",
          "Female",
          "Male",
          "Non-binary",
          "Female",
          "Male",
          "Non-binary",
          "Female",
          "Male",
          "Female",
          "Non-binary",
          "Male",
          "Female",
          "Male",
          "Non-binary",
          "Female",
          "Male",
          "Female",
          "Non-binary",
          "Male",
          "Female",
          "Male",
          "Female",
          "Non-binary",
          "Female",
          "Male",
          "Female",
          "Male",
          "Non-binary",
          "Female",
          "Male",
          "Female",
          "Male",
          "Non-binary",
          "Female",
          "Male",
          "Non-binary",
          "Male",
          "Female",
          "Male",
          "Non-binary",
          "Female",
          "Male",
          "Non-binary",
          "Female",
          "Male",
          "Non-binary",
          "Female",
          "Male",
          "Non-binary",
          "Female",
          "Male",
          "Non-binary",
          "Female",
          "Male",
          "Non-binary",
          "Female",
          "Male",
          "Non-binary",
          "Female",
          "Male",
          "Non-binary",
          "Female",
          "Male",
          "Female",
          "Male",
          "Non-binary",
          "Female",
          "Male",
          "Non-binary",
          "Female",
          "Female",
          "Male",
          "Non-binary",
          "Female",
          "Male",
          "Male",
          "Female",
          "Non-binary",
          "Female",
          "Male",
          "Female",
          "Non-binary",
          "Male",
          "Female",
          "Male",
          "Non-binary",
          "Female",
          "Male",
          "Non-binary",
          "Female",
          "Male",
          "Female",
          "Male",
          "Non-binary",
          "Female",
          "Male",
          "Non-binary",
          "Female",
          "Male",
          "Non-binary",
          "Female",
          "Male",
          "Non-binary",
          "Female",
          "Male",
          "Non-binary",
          "Female",
          "Male",
          "Female",
          "Non-binary",
          "Male",
          "Female",
          "Male",
          "Non-binary",
          "Female",
          "Male",
          "Female",
          "Non-binary",
          "Male",
          "Female",
          "Male",
          "Female",
          "Non-binary",
          "Female",
          "Male",
          "Female",
          "Male",
          "Non-binary",
          "Female",
          "Male",
          "Female",
          "Male",
          "Non-binary",
          "Female",
          "Male",
          "Non-binary",
          "Male",
          "Female",
          "Male",
          "Non-binary",
          "Female",
          "Male",
          "Non-binary",
          "Female",
          "Male",
          "Non-binary",
          "Female",
          "Male",
          "Non-binary",
          "Female",
          "Male",
          "Non-binary",
          "Female",
          "Male",
          "Non-binary",
          "Female",
          "Male",
          "Non-binary",
          "Female",
          "Male",
          "Non-binary",
          "Female",
          "Male",
          "Female",
          "Male",
          "Non-binary",
          "Female",
          "Male",
          "Non-binary",
          "Female",
          "Female",
          "Male",
          "Non-binary",
          "Female",
          "Male",
          "Male",
          "Female",
          "Non-binary",
          "Female",
          "Male",
          "Female",
          "Non-binary",
          "Male",
          "Female",
          "Male",
          "Non-binary",
          "Female",
          "Male",
          "Non-binary",
          "Female",
          "Male",
          "Female",
          "Male",
          "Non-binary",
          "Female",
          "Male",
          "Non-binary",
          "Female",
          "Male",
          "Non-binary",
          "Female",
          "Male",
          "Non-binary",
          "Female",
          "Male",
          "Non-binary",
          "Female",
          "Male",
          "Female",
          "Non-binary",
          "Male",
          "Female",
          "Male",
          "Non-binary",
          "Female",
          "Male",
          "Female",
          "Non-binary",
          "Male",
          "Female",
          "Male",
          "Female",
          "Non-binary",
          "Female",
          "Male",
          "Female",
          "Male",
          "Non-binary",
          "Female",
          "Male",
          "Female",
          "Male",
          "Non-binary",
          "Female",
          "Male",
          "Non-binary",
          "Male",
          "Female",
          "Male",
          "Non-binary",
          "Female",
          "Male",
          "Non-binary",
          "Female",
          "Male",
          "Non-binary",
          "Female",
          "Male",
          "Non-binary",
          "Female",
          "Male",
          "Non-binary",
          "Female",
          "Male",
          "Non-binary",
          "Female",
          "Male",
          "Non-binary",
          "Female",
          "Male",
          "Non-binary",
          "Female",
          "Male",
          "Female",
          "Male",
          "Non-binary",
          "Female",
          "Male",
          "Non-binary",
          "Female",
          "Female",
          "Male",
          "Non-binary",
          "Female",
          "Male",
          "Male",
          "Female",
          "Non-binary",
          "Female",
          "Male",
          "Female",
          "Non-binary",
          "Male",
          "Female",
          "Male",
          "Non-binary",
          "Female",
          "Male",
          "Non-binary",
          "Female",
          "Male",
          "Female",
          "Male",
          "Non-binary",
          "Female",
          "Male",
          "Non-binary",
          "Female",
          "Male",
          "Non-binary",
          "Female",
          "Male",
          "Non-binary",
          "Female",
          "Male",
          "Non-binary",
          "Female",
          "Male",
          "Female",
          "Non-binary",
          "Male",
          "Unknown",
          "Female",
          "Male",
          "Non-binary",
          "Female",
          "Male",
          "Female",
          "Non-binary",
          "Male",
          "Female",
          "Male",
          "Female",
          "Non-binary",
          "Female",
          "Male",
          "Female",
          "Male",
          "Non-binary",
          "Female",
          "Male",
          "Female",
          "Male",
          "Non-binary",
          "Female",
          "Male",
          "Non-binary",
          "Male",
          "Female",
          "Male",
          "Non-binary",
          "Female",
          "Male",
          "Non-binary",
          "Female",
          "Male",
          "Non-binary",
          "Female",
          "Male",
          "Non-binary",
          "Female",
          "Male",
          "Non-binary",
          "Female",
          "Male",
          "Non-binary",
          "Female",
          "Male",
          "Non-binary",
          "Female",
          "Male",
          "Non-binary",
          "Female",
          "Male",
          "Female",
          "Male",
          "Non-binary",
          "Female",
          "Male",
          "Non-binary",
          "Female",
          "Female",
          "Male",
          "Non-binary",
          "Female",
          "Male",
          "Male",
          "Female",
          "Non-binary",
          "Female",
          "Male",
          "Female",
          "Non-binary",
          "Male",
          "Female",
          "Male",
          "Non-binary",
          "Female",
          "Male",
          "Non-binary",
          "Female",
          "Male",
          "Female",
          "Male",
          "Non-binary",
          "Female",
          "Male",
          "Non-binary",
          "Female",
          "Male",
          "Non-binary",
          "Female",
          "Male",
          "Non-binary",
          "Female",
          "Male",
          "Non-binary",
          "Female",
          "Male",
          "Female",
          "Non-binary",
          "Male",
          "Female",
          "Male",
          "Non-binary",
          "Female",
          "Male",
          "Female",
          "Non-binary",
          "Male",
          "Female",
          "Unknown",
          "Unknown",
          "Unknown",
          "Unknown",
          "Unknown",
          "Unknown",
          "Unknown",
          "Unknown",
          "Unknown",
          "Unknown",
          "Unknown",
          "Unknown",
          "Unknown",
          "Unknown",
          "Unknown",
          "Unknown",
          "Unknown",
          "Unknown",
          "Unknown",
          "Unknown",
          "Unknown",
          "Unknown",
          "Unknown",
          "Unknown",
          "Unknown",
          "Unknown",
          "Unknown",
          "Unknown",
          "Unknown",
          "Unknown",
          "Unknown",
          "Unknown",
          "Unknown",
          "Unknown",
          "Unknown",
          "Unknown",
          "Unknown",
          "Unknown",
          "Female",
          "Male",
          "Non-binary",
          "Female",
          "Male",
          "Female",
          "Male",
          "Non-binary",
          "Female",
          "Male",
          "Non-binary",
          "Female",
          "Female",
          "Male",
          "Non-binary",
          "Female",
          "Male",
          "Male",
          "Female",
          "Non-binary",
          "Female",
          "Male",
          "Female",
          "Non-binary",
          "Male",
          "Female",
          "Male",
          "Non-binary",
          "Female",
          "Male",
          "Non-binary",
          "Female",
          "Male",
          "Female",
          "Male",
          "Non-binary",
          "Female",
          "Male",
          "Non-binary",
          "Female",
          "Male",
          "Non-binary",
          "Female",
          "Male",
          "Non-binary",
          "Female",
          "Male",
          "Non-binary",
          "Female",
          "Male",
          "Female",
          "Non-binary",
          "Male",
          "Female",
          "Male",
          "Non-binary",
          "Female",
          "Male",
          "Female",
          "Non-binary",
          "Male",
          "Female",
          "Male",
          "Female",
          "Non-binary",
          "Female",
          "Male",
          "Female",
          "Male",
          "Non-binary",
          "Female",
          "Male",
          "Female",
          "Male",
          "Non-binary",
          "Female",
          "Male",
          "Non-binary",
          "Male",
          "Female",
          "Male",
          "Non-binary",
          "Female",
          "Male",
          "Non-binary",
          "Female",
          "Male",
          "Non-binary",
          "Female",
          "Male",
          "Non-binary",
          "Female",
          "Male",
          "Non-binary",
          "Female",
          "Male",
          "Non-binary",
          "Female",
          "Male",
          "Non-binary",
          "Female",
          "Male",
          "Non-binary",
          "Female",
          "Male",
          "Female",
          "Male",
          "Non-binary",
          "Female",
          "Male",
          "Non-binary",
          "Female",
          "Female",
          "Male",
          "Non-binary",
          "Female",
          "Male",
          "Male",
          "Female",
          "Non-binary",
          "Female",
          "Male",
          "Female",
          "Non-binary",
          "Male",
          "Female",
          "Male",
          "Non-binary",
          "Female",
          "Male",
          "Non-binary",
          "Female",
          "Male",
          "Female",
          "Male",
          "Non-binary",
          "Female",
          "Male",
          "Non-binary",
          "Female",
          "Male",
          "Non-binary",
          "Female",
          "Male",
          "Non-binary",
          "Female",
          "Male",
          "Non-binary",
          "Female",
          "Male",
          "Female",
          "Non-binary",
          "Male",
          "Female",
          "Male",
          "Non-binary",
          "Female",
          "Male",
          "Female",
          "Non-binary",
          "Male",
          "Female",
          "Male",
          "Female",
          "Non-binary",
          "Female",
          "Male",
          "Female",
          "Male",
          "Non-binary",
          "Female",
          "Male",
          "Female",
          "Male",
          "Non-binary",
          "Female",
          "Male",
          "Non-binary",
          "Male",
          "Female",
          "Male",
          "Non-binary",
          "Female",
          "Male",
          "Non-binary",
          "Female",
          "Male",
          "Non-binary",
          "Female",
          "Male",
          "Non-binary",
          "Female",
          "Male",
          "Non-binary",
          "Female",
          "Male",
          "Non-binary",
          "Female",
          "Male",
          "Non-binary",
          "Female",
          "Male",
          "Non-binary",
          "Female",
          "Male",
          "Female",
          "Male",
          "Non-binary",
          "Female",
          "Male",
          "Non-binary",
          "Female"
         ],
         "xaxis": "x",
         "yaxis": "y"
        }
       ],
       "layout": {
        "barmode": "relative",
        "legend": {
         "tracegroupgap": 0
        },
        "template": {
         "data": {
          "bar": [
           {
            "error_x": {
             "color": "#2a3f5f"
            },
            "error_y": {
             "color": "#2a3f5f"
            },
            "marker": {
             "line": {
              "color": "#E5ECF6",
              "width": 0.5
             },
             "pattern": {
              "fillmode": "overlay",
              "size": 10,
              "solidity": 0.2
             }
            },
            "type": "bar"
           }
          ],
          "barpolar": [
           {
            "marker": {
             "line": {
              "color": "#E5ECF6",
              "width": 0.5
             },
             "pattern": {
              "fillmode": "overlay",
              "size": 10,
              "solidity": 0.2
             }
            },
            "type": "barpolar"
           }
          ],
          "carpet": [
           {
            "aaxis": {
             "endlinecolor": "#2a3f5f",
             "gridcolor": "white",
             "linecolor": "white",
             "minorgridcolor": "white",
             "startlinecolor": "#2a3f5f"
            },
            "baxis": {
             "endlinecolor": "#2a3f5f",
             "gridcolor": "white",
             "linecolor": "white",
             "minorgridcolor": "white",
             "startlinecolor": "#2a3f5f"
            },
            "type": "carpet"
           }
          ],
          "choropleth": [
           {
            "colorbar": {
             "outlinewidth": 0,
             "ticks": ""
            },
            "type": "choropleth"
           }
          ],
          "contour": [
           {
            "colorbar": {
             "outlinewidth": 0,
             "ticks": ""
            },
            "colorscale": [
             [
              0,
              "#0d0887"
             ],
             [
              0.1111111111111111,
              "#46039f"
             ],
             [
              0.2222222222222222,
              "#7201a8"
             ],
             [
              0.3333333333333333,
              "#9c179e"
             ],
             [
              0.4444444444444444,
              "#bd3786"
             ],
             [
              0.5555555555555556,
              "#d8576b"
             ],
             [
              0.6666666666666666,
              "#ed7953"
             ],
             [
              0.7777777777777778,
              "#fb9f3a"
             ],
             [
              0.8888888888888888,
              "#fdca26"
             ],
             [
              1,
              "#f0f921"
             ]
            ],
            "type": "contour"
           }
          ],
          "contourcarpet": [
           {
            "colorbar": {
             "outlinewidth": 0,
             "ticks": ""
            },
            "type": "contourcarpet"
           }
          ],
          "heatmap": [
           {
            "colorbar": {
             "outlinewidth": 0,
             "ticks": ""
            },
            "colorscale": [
             [
              0,
              "#0d0887"
             ],
             [
              0.1111111111111111,
              "#46039f"
             ],
             [
              0.2222222222222222,
              "#7201a8"
             ],
             [
              0.3333333333333333,
              "#9c179e"
             ],
             [
              0.4444444444444444,
              "#bd3786"
             ],
             [
              0.5555555555555556,
              "#d8576b"
             ],
             [
              0.6666666666666666,
              "#ed7953"
             ],
             [
              0.7777777777777778,
              "#fb9f3a"
             ],
             [
              0.8888888888888888,
              "#fdca26"
             ],
             [
              1,
              "#f0f921"
             ]
            ],
            "type": "heatmap"
           }
          ],
          "heatmapgl": [
           {
            "colorbar": {
             "outlinewidth": 0,
             "ticks": ""
            },
            "colorscale": [
             [
              0,
              "#0d0887"
             ],
             [
              0.1111111111111111,
              "#46039f"
             ],
             [
              0.2222222222222222,
              "#7201a8"
             ],
             [
              0.3333333333333333,
              "#9c179e"
             ],
             [
              0.4444444444444444,
              "#bd3786"
             ],
             [
              0.5555555555555556,
              "#d8576b"
             ],
             [
              0.6666666666666666,
              "#ed7953"
             ],
             [
              0.7777777777777778,
              "#fb9f3a"
             ],
             [
              0.8888888888888888,
              "#fdca26"
             ],
             [
              1,
              "#f0f921"
             ]
            ],
            "type": "heatmapgl"
           }
          ],
          "histogram": [
           {
            "marker": {
             "pattern": {
              "fillmode": "overlay",
              "size": 10,
              "solidity": 0.2
             }
            },
            "type": "histogram"
           }
          ],
          "histogram2d": [
           {
            "colorbar": {
             "outlinewidth": 0,
             "ticks": ""
            },
            "colorscale": [
             [
              0,
              "#0d0887"
             ],
             [
              0.1111111111111111,
              "#46039f"
             ],
             [
              0.2222222222222222,
              "#7201a8"
             ],
             [
              0.3333333333333333,
              "#9c179e"
             ],
             [
              0.4444444444444444,
              "#bd3786"
             ],
             [
              0.5555555555555556,
              "#d8576b"
             ],
             [
              0.6666666666666666,
              "#ed7953"
             ],
             [
              0.7777777777777778,
              "#fb9f3a"
             ],
             [
              0.8888888888888888,
              "#fdca26"
             ],
             [
              1,
              "#f0f921"
             ]
            ],
            "type": "histogram2d"
           }
          ],
          "histogram2dcontour": [
           {
            "colorbar": {
             "outlinewidth": 0,
             "ticks": ""
            },
            "colorscale": [
             [
              0,
              "#0d0887"
             ],
             [
              0.1111111111111111,
              "#46039f"
             ],
             [
              0.2222222222222222,
              "#7201a8"
             ],
             [
              0.3333333333333333,
              "#9c179e"
             ],
             [
              0.4444444444444444,
              "#bd3786"
             ],
             [
              0.5555555555555556,
              "#d8576b"
             ],
             [
              0.6666666666666666,
              "#ed7953"
             ],
             [
              0.7777777777777778,
              "#fb9f3a"
             ],
             [
              0.8888888888888888,
              "#fdca26"
             ],
             [
              1,
              "#f0f921"
             ]
            ],
            "type": "histogram2dcontour"
           }
          ],
          "mesh3d": [
           {
            "colorbar": {
             "outlinewidth": 0,
             "ticks": ""
            },
            "type": "mesh3d"
           }
          ],
          "parcoords": [
           {
            "line": {
             "colorbar": {
              "outlinewidth": 0,
              "ticks": ""
             }
            },
            "type": "parcoords"
           }
          ],
          "pie": [
           {
            "automargin": true,
            "type": "pie"
           }
          ],
          "scatter": [
           {
            "fillpattern": {
             "fillmode": "overlay",
             "size": 10,
             "solidity": 0.2
            },
            "type": "scatter"
           }
          ],
          "scatter3d": [
           {
            "line": {
             "colorbar": {
              "outlinewidth": 0,
              "ticks": ""
             }
            },
            "marker": {
             "colorbar": {
              "outlinewidth": 0,
              "ticks": ""
             }
            },
            "type": "scatter3d"
           }
          ],
          "scattercarpet": [
           {
            "marker": {
             "colorbar": {
              "outlinewidth": 0,
              "ticks": ""
             }
            },
            "type": "scattercarpet"
           }
          ],
          "scattergeo": [
           {
            "marker": {
             "colorbar": {
              "outlinewidth": 0,
              "ticks": ""
             }
            },
            "type": "scattergeo"
           }
          ],
          "scattergl": [
           {
            "marker": {
             "colorbar": {
              "outlinewidth": 0,
              "ticks": ""
             }
            },
            "type": "scattergl"
           }
          ],
          "scattermapbox": [
           {
            "marker": {
             "colorbar": {
              "outlinewidth": 0,
              "ticks": ""
             }
            },
            "type": "scattermapbox"
           }
          ],
          "scatterpolar": [
           {
            "marker": {
             "colorbar": {
              "outlinewidth": 0,
              "ticks": ""
             }
            },
            "type": "scatterpolar"
           }
          ],
          "scatterpolargl": [
           {
            "marker": {
             "colorbar": {
              "outlinewidth": 0,
              "ticks": ""
             }
            },
            "type": "scatterpolargl"
           }
          ],
          "scatterternary": [
           {
            "marker": {
             "colorbar": {
              "outlinewidth": 0,
              "ticks": ""
             }
            },
            "type": "scatterternary"
           }
          ],
          "surface": [
           {
            "colorbar": {
             "outlinewidth": 0,
             "ticks": ""
            },
            "colorscale": [
             [
              0,
              "#0d0887"
             ],
             [
              0.1111111111111111,
              "#46039f"
             ],
             [
              0.2222222222222222,
              "#7201a8"
             ],
             [
              0.3333333333333333,
              "#9c179e"
             ],
             [
              0.4444444444444444,
              "#bd3786"
             ],
             [
              0.5555555555555556,
              "#d8576b"
             ],
             [
              0.6666666666666666,
              "#ed7953"
             ],
             [
              0.7777777777777778,
              "#fb9f3a"
             ],
             [
              0.8888888888888888,
              "#fdca26"
             ],
             [
              1,
              "#f0f921"
             ]
            ],
            "type": "surface"
           }
          ],
          "table": [
           {
            "cells": {
             "fill": {
              "color": "#EBF0F8"
             },
             "line": {
              "color": "white"
             }
            },
            "header": {
             "fill": {
              "color": "#C8D4E3"
             },
             "line": {
              "color": "white"
             }
            },
            "type": "table"
           }
          ]
         },
         "layout": {
          "annotationdefaults": {
           "arrowcolor": "#2a3f5f",
           "arrowhead": 0,
           "arrowwidth": 1
          },
          "autotypenumbers": "strict",
          "coloraxis": {
           "colorbar": {
            "outlinewidth": 0,
            "ticks": ""
           }
          },
          "colorscale": {
           "diverging": [
            [
             0,
             "#8e0152"
            ],
            [
             0.1,
             "#c51b7d"
            ],
            [
             0.2,
             "#de77ae"
            ],
            [
             0.3,
             "#f1b6da"
            ],
            [
             0.4,
             "#fde0ef"
            ],
            [
             0.5,
             "#f7f7f7"
            ],
            [
             0.6,
             "#e6f5d0"
            ],
            [
             0.7,
             "#b8e186"
            ],
            [
             0.8,
             "#7fbc41"
            ],
            [
             0.9,
             "#4d9221"
            ],
            [
             1,
             "#276419"
            ]
           ],
           "sequential": [
            [
             0,
             "#0d0887"
            ],
            [
             0.1111111111111111,
             "#46039f"
            ],
            [
             0.2222222222222222,
             "#7201a8"
            ],
            [
             0.3333333333333333,
             "#9c179e"
            ],
            [
             0.4444444444444444,
             "#bd3786"
            ],
            [
             0.5555555555555556,
             "#d8576b"
            ],
            [
             0.6666666666666666,
             "#ed7953"
            ],
            [
             0.7777777777777778,
             "#fb9f3a"
            ],
            [
             0.8888888888888888,
             "#fdca26"
            ],
            [
             1,
             "#f0f921"
            ]
           ],
           "sequentialminus": [
            [
             0,
             "#0d0887"
            ],
            [
             0.1111111111111111,
             "#46039f"
            ],
            [
             0.2222222222222222,
             "#7201a8"
            ],
            [
             0.3333333333333333,
             "#9c179e"
            ],
            [
             0.4444444444444444,
             "#bd3786"
            ],
            [
             0.5555555555555556,
             "#d8576b"
            ],
            [
             0.6666666666666666,
             "#ed7953"
            ],
            [
             0.7777777777777778,
             "#fb9f3a"
            ],
            [
             0.8888888888888888,
             "#fdca26"
            ],
            [
             1,
             "#f0f921"
            ]
           ]
          },
          "colorway": [
           "#636efa",
           "#EF553B",
           "#00cc96",
           "#ab63fa",
           "#FFA15A",
           "#19d3f3",
           "#FF6692",
           "#B6E880",
           "#FF97FF",
           "#FECB52"
          ],
          "font": {
           "color": "#2a3f5f"
          },
          "geo": {
           "bgcolor": "white",
           "lakecolor": "white",
           "landcolor": "#E5ECF6",
           "showlakes": true,
           "showland": true,
           "subunitcolor": "white"
          },
          "hoverlabel": {
           "align": "left"
          },
          "hovermode": "closest",
          "mapbox": {
           "style": "light"
          },
          "paper_bgcolor": "white",
          "plot_bgcolor": "#E5ECF6",
          "polar": {
           "angularaxis": {
            "gridcolor": "white",
            "linecolor": "white",
            "ticks": ""
           },
           "bgcolor": "#E5ECF6",
           "radialaxis": {
            "gridcolor": "white",
            "linecolor": "white",
            "ticks": ""
           }
          },
          "scene": {
           "xaxis": {
            "backgroundcolor": "#E5ECF6",
            "gridcolor": "white",
            "gridwidth": 2,
            "linecolor": "white",
            "showbackground": true,
            "ticks": "",
            "zerolinecolor": "white"
           },
           "yaxis": {
            "backgroundcolor": "#E5ECF6",
            "gridcolor": "white",
            "gridwidth": 2,
            "linecolor": "white",
            "showbackground": true,
            "ticks": "",
            "zerolinecolor": "white"
           },
           "zaxis": {
            "backgroundcolor": "#E5ECF6",
            "gridcolor": "white",
            "gridwidth": 2,
            "linecolor": "white",
            "showbackground": true,
            "ticks": "",
            "zerolinecolor": "white"
           }
          },
          "shapedefaults": {
           "line": {
            "color": "#2a3f5f"
           }
          },
          "ternary": {
           "aaxis": {
            "gridcolor": "white",
            "linecolor": "white",
            "ticks": ""
           },
           "baxis": {
            "gridcolor": "white",
            "linecolor": "white",
            "ticks": ""
           },
           "bgcolor": "#E5ECF6",
           "caxis": {
            "gridcolor": "white",
            "linecolor": "white",
            "ticks": ""
           }
          },
          "title": {
           "x": 0.05
          },
          "xaxis": {
           "automargin": true,
           "gridcolor": "white",
           "linecolor": "white",
           "ticks": "",
           "title": {
            "standoff": 15
           },
           "zerolinecolor": "white",
           "zerolinewidth": 2
          },
          "yaxis": {
           "automargin": true,
           "gridcolor": "white",
           "linecolor": "white",
           "ticks": "",
           "title": {
            "standoff": 15
           },
           "zerolinecolor": "white",
           "zerolinewidth": 2
          }
         }
        },
        "title": {
         "text": "Gender Distribution"
        },
        "xaxis": {
         "anchor": "y",
         "domain": [
          0,
          1
         ],
         "title": {
          "text": "Gender"
         }
        },
        "yaxis": {
         "anchor": "x",
         "domain": [
          0,
          1
         ],
         "title": {
          "text": "count"
         }
        }
       }
      }
     },
     "metadata": {},
     "output_type": "display_data"
    }
   ],
   "source": [
    "plt = px.histogram(train_df, x='Gender', title='Gender Distribution')\n",
    "plt.show()"
   ]
  },
  {
   "cell_type": "markdown",
   "id": "7845d9f5",
   "metadata": {},
   "source": [
    "1. **Gender Distribution**: The majority of the users are Female, followed by Male and Non-Binary.\n",
    "    - Female: The highest count of users.\n",
    "    - Male: The second highest count of users.\n",
    "    - Non-Binary: The least count of users.\n",
    "\n",
    "2. **Unknown Gender**: There is a small portion of users with an unknown gender, which might indicate missing or unrecorded data.\n",
    "\n",
    "3. **Balanced Distribution**: The distribution between Male and Female users is relatively balanced, which can be useful for gender-based analysis.\n",
    "\n",
    "4. **Non-Binary Representation**: The presence of Non-Binary users highlights the inclusivity of the dataset, allowing for more comprehensive gender-based insights.\n",
    "\n",
    "These insights can help in understanding the demographic distribution of the users and can be used for further gender-based analysis in the dataset.\n",
    "```"
   ]
  },
  {
   "cell_type": "markdown",
   "id": "3da93e6c",
   "metadata": {
    "papermill": {
     "duration": 0.031344,
     "end_time": "2024-05-23T11:22:50.466926",
     "exception": false,
     "start_time": "2024-05-23T11:22:50.435582",
     "status": "completed"
    },
    "tags": []
   },
   "source": [
    "### Platform Distribution"
   ]
  },
  {
   "cell_type": "code",
   "execution_count": 23,
   "id": "7edee270",
   "metadata": {
    "execution": {
     "iopub.execute_input": "2024-05-23T11:22:50.532942Z",
     "iopub.status.busy": "2024-05-23T11:22:50.532459Z",
     "iopub.status.idle": "2024-05-23T11:22:50.539835Z",
     "shell.execute_reply": "2024-05-23T11:22:50.539033Z"
    },
    "papermill": {
     "duration": 0.043525,
     "end_time": "2024-05-23T11:22:50.541964",
     "exception": false,
     "start_time": "2024-05-23T11:22:50.498439",
     "status": "completed"
    },
    "tags": []
   },
   "outputs": [
    {
     "data": {
      "text/plain": [
       "array(['Instagram', 'Twitter', 'Facebook', 'LinkedIn', 'Whatsapp',\n",
       "       'Telegram', 'Snapchat', nan], dtype=object)"
      ]
     },
     "execution_count": 23,
     "metadata": {},
     "output_type": "execute_result"
    }
   ],
   "source": [
    "train_df['Platform'].unique()"
   ]
  },
  {
   "cell_type": "code",
   "execution_count": 24,
   "id": "467e99d6",
   "metadata": {
    "execution": {
     "iopub.execute_input": "2024-05-23T11:22:50.608032Z",
     "iopub.status.busy": "2024-05-23T11:22:50.606819Z",
     "iopub.status.idle": "2024-05-23T11:22:50.615316Z",
     "shell.execute_reply": "2024-05-23T11:22:50.614271Z"
    },
    "papermill": {
     "duration": 0.043802,
     "end_time": "2024-05-23T11:22:50.617468",
     "exception": false,
     "start_time": "2024-05-23T11:22:50.573666",
     "status": "completed"
    },
    "tags": []
   },
   "outputs": [
    {
     "data": {
      "text/plain": [
       "Instagram    250\n",
       "Twitter      200\n",
       "Facebook     190\n",
       "LinkedIn     120\n",
       "Whatsapp      80\n",
       "Telegram      80\n",
       "Snapchat      80\n",
       "Name: Platform, dtype: int64"
      ]
     },
     "execution_count": 24,
     "metadata": {},
     "output_type": "execute_result"
    }
   ],
   "source": [
    "train_df['Platform'].value_counts()"
   ]
  },
  {
   "cell_type": "code",
   "execution_count": 25,
   "id": "b3f8afbc",
   "metadata": {
    "execution": {
     "iopub.execute_input": "2024-05-23T11:22:50.747463Z",
     "iopub.status.busy": "2024-05-23T11:22:50.747033Z",
     "iopub.status.idle": "2024-05-23T11:22:50.753736Z",
     "shell.execute_reply": "2024-05-23T11:22:50.752488Z"
    },
    "papermill": {
     "duration": 0.042541,
     "end_time": "2024-05-23T11:22:50.756067",
     "exception": false,
     "start_time": "2024-05-23T11:22:50.713526",
     "status": "completed"
    },
    "tags": []
   },
   "outputs": [],
   "source": [
    "# filling with mode\n",
    "train_df['Platform'].fillna(train_df['Platform'].mode()[0], inplace=True)"
   ]
  },
  {
   "cell_type": "code",
   "execution_count": 26,
   "id": "afe629d7",
   "metadata": {},
   "outputs": [
    {
     "data": {
      "text/html": [
       "<div>\n",
       "<style scoped>\n",
       "    .dataframe tbody tr th:only-of-type {\n",
       "        vertical-align: middle;\n",
       "    }\n",
       "\n",
       "    .dataframe tbody tr th {\n",
       "        vertical-align: top;\n",
       "    }\n",
       "\n",
       "    .dataframe thead th {\n",
       "        text-align: right;\n",
       "    }\n",
       "</style>\n",
       "<table border=\"1\" class=\"dataframe\">\n",
       "  <thead>\n",
       "    <tr style=\"text-align: right;\">\n",
       "      <th></th>\n",
       "      <th>User_ID</th>\n",
       "      <th>Age</th>\n",
       "      <th>Gender</th>\n",
       "      <th>Platform</th>\n",
       "      <th>Daily_Usage_Time (minutes)</th>\n",
       "      <th>Posts_Per_Day</th>\n",
       "      <th>Likes_Received_Per_Day</th>\n",
       "      <th>Comments_Received_Per_Day</th>\n",
       "      <th>Messages_Sent_Per_Day</th>\n",
       "      <th>Dominant_Emotion</th>\n",
       "    </tr>\n",
       "  </thead>\n",
       "  <tbody>\n",
       "    <tr>\n",
       "      <th>0</th>\n",
       "      <td>NaN</td>\n",
       "      <td>27</td>\n",
       "      <td>Unknown</td>\n",
       "      <td>NaN</td>\n",
       "      <td>NaN</td>\n",
       "      <td>NaN</td>\n",
       "      <td>NaN</td>\n",
       "      <td>NaN</td>\n",
       "      <td>NaN</td>\n",
       "      <td>NaN</td>\n",
       "    </tr>\n",
       "    <tr>\n",
       "      <th>1</th>\n",
       "      <td>500.0</td>\n",
       "      <td>27</td>\n",
       "      <td>Female</td>\n",
       "      <td>Snapchat</td>\n",
       "      <td>120.0</td>\n",
       "      <td>4.0</td>\n",
       "      <td>40.0</td>\n",
       "      <td>18.0</td>\n",
       "      <td>22.0</td>\n",
       "      <td>Neutral</td>\n",
       "    </tr>\n",
       "    <tr>\n",
       "      <th>3</th>\n",
       "      <td>488.0</td>\n",
       "      <td>21</td>\n",
       "      <td>Non-binary</td>\n",
       "      <td>Snapchat</td>\n",
       "      <td>60.0</td>\n",
       "      <td>1.0</td>\n",
       "      <td>18.0</td>\n",
       "      <td>7.0</td>\n",
       "      <td>12.0</td>\n",
       "      <td>Neutral</td>\n",
       "    </tr>\n",
       "    <tr>\n",
       "      <th>5</th>\n",
       "      <td>776.0</td>\n",
       "      <td>28</td>\n",
       "      <td>Non-binary</td>\n",
       "      <td>Snapchat</td>\n",
       "      <td>115.0</td>\n",
       "      <td>3.0</td>\n",
       "      <td>38.0</td>\n",
       "      <td>18.0</td>\n",
       "      <td>27.0</td>\n",
       "      <td>Anxiety</td>\n",
       "    </tr>\n",
       "    <tr>\n",
       "      <th>7</th>\n",
       "      <td>869.0</td>\n",
       "      <td>27</td>\n",
       "      <td>Male</td>\n",
       "      <td>Telegram</td>\n",
       "      <td>105.0</td>\n",
       "      <td>3.0</td>\n",
       "      <td>48.0</td>\n",
       "      <td>20.0</td>\n",
       "      <td>28.0</td>\n",
       "      <td>Anxiety</td>\n",
       "    </tr>\n",
       "    <tr>\n",
       "      <th>...</th>\n",
       "      <td>...</td>\n",
       "      <td>...</td>\n",
       "      <td>...</td>\n",
       "      <td>...</td>\n",
       "      <td>...</td>\n",
       "      <td>...</td>\n",
       "      <td>...</td>\n",
       "      <td>...</td>\n",
       "      <td>...</td>\n",
       "      <td>...</td>\n",
       "    </tr>\n",
       "    <tr>\n",
       "      <th>195</th>\n",
       "      <td>418.0</td>\n",
       "      <td>27</td>\n",
       "      <td>Male</td>\n",
       "      <td>Twitter</td>\n",
       "      <td>90.0</td>\n",
       "      <td>3.0</td>\n",
       "      <td>40.0</td>\n",
       "      <td>16.0</td>\n",
       "      <td>24.0</td>\n",
       "      <td>Sadness</td>\n",
       "    </tr>\n",
       "    <tr>\n",
       "      <th>197</th>\n",
       "      <td>184.0</td>\n",
       "      <td>22</td>\n",
       "      <td>Male</td>\n",
       "      <td>Twitter</td>\n",
       "      <td>70.0</td>\n",
       "      <td>1.0</td>\n",
       "      <td>20.0</td>\n",
       "      <td>5.0</td>\n",
       "      <td>22.0</td>\n",
       "      <td>Neutral</td>\n",
       "    </tr>\n",
       "    <tr>\n",
       "      <th>199</th>\n",
       "      <td>896.0</td>\n",
       "      <td>33</td>\n",
       "      <td>Male</td>\n",
       "      <td>LinkedIn</td>\n",
       "      <td>85.0</td>\n",
       "      <td>4.0</td>\n",
       "      <td>35.0</td>\n",
       "      <td>18.0</td>\n",
       "      <td>18.0</td>\n",
       "      <td>Boredom</td>\n",
       "    </tr>\n",
       "    <tr>\n",
       "      <th>201</th>\n",
       "      <td>708.0</td>\n",
       "      <td>24</td>\n",
       "      <td>Non-binary</td>\n",
       "      <td>Facebook</td>\n",
       "      <td>110.0</td>\n",
       "      <td>6.0</td>\n",
       "      <td>35.0</td>\n",
       "      <td>23.0</td>\n",
       "      <td>25.0</td>\n",
       "      <td>Sadness</td>\n",
       "    </tr>\n",
       "    <tr>\n",
       "      <th>203</th>\n",
       "      <td>993.0</td>\n",
       "      <td>24</td>\n",
       "      <td>Male</td>\n",
       "      <td>Telegram</td>\n",
       "      <td>75.0</td>\n",
       "      <td>3.0</td>\n",
       "      <td>37.0</td>\n",
       "      <td>16.0</td>\n",
       "      <td>22.0</td>\n",
       "      <td>Neutral</td>\n",
       "    </tr>\n",
       "  </tbody>\n",
       "</table>\n",
       "<p>100 rows × 10 columns</p>\n",
       "</div>"
      ],
      "text/plain": [
       "     User_ID  Age      Gender  Platform  Daily_Usage_Time (minutes)  \\\n",
       "0        NaN   27     Unknown       NaN                         NaN   \n",
       "1      500.0   27      Female  Snapchat                       120.0   \n",
       "3      488.0   21  Non-binary  Snapchat                        60.0   \n",
       "5      776.0   28  Non-binary  Snapchat                       115.0   \n",
       "7      869.0   27        Male  Telegram                       105.0   \n",
       "..       ...  ...         ...       ...                         ...   \n",
       "195    418.0   27        Male   Twitter                        90.0   \n",
       "197    184.0   22        Male   Twitter                        70.0   \n",
       "199    896.0   33        Male  LinkedIn                        85.0   \n",
       "201    708.0   24  Non-binary  Facebook                       110.0   \n",
       "203    993.0   24        Male  Telegram                        75.0   \n",
       "\n",
       "     Posts_Per_Day  Likes_Received_Per_Day  Comments_Received_Per_Day  \\\n",
       "0              NaN                     NaN                        NaN   \n",
       "1              4.0                    40.0                       18.0   \n",
       "3              1.0                    18.0                        7.0   \n",
       "5              3.0                    38.0                       18.0   \n",
       "7              3.0                    48.0                       20.0   \n",
       "..             ...                     ...                        ...   \n",
       "195            3.0                    40.0                       16.0   \n",
       "197            1.0                    20.0                        5.0   \n",
       "199            4.0                    35.0                       18.0   \n",
       "201            6.0                    35.0                       23.0   \n",
       "203            3.0                    37.0                       16.0   \n",
       "\n",
       "     Messages_Sent_Per_Day Dominant_Emotion  \n",
       "0                      NaN              NaN  \n",
       "1                     22.0          Neutral  \n",
       "3                     12.0          Neutral  \n",
       "5                     27.0          Anxiety  \n",
       "7                     28.0          Anxiety  \n",
       "..                     ...              ...  \n",
       "195                   24.0          Sadness  \n",
       "197                   22.0          Neutral  \n",
       "199                   18.0          Boredom  \n",
       "201                   25.0          Sadness  \n",
       "203                   22.0          Neutral  \n",
       "\n",
       "[100 rows x 10 columns]"
      ]
     },
     "execution_count": 26,
     "metadata": {},
     "output_type": "execute_result"
    }
   ],
   "source": [
    "test_df"
   ]
  },
  {
   "cell_type": "code",
   "execution_count": 27,
   "id": "35afb407",
   "metadata": {
    "execution": {
     "iopub.execute_input": "2024-05-23T11:22:50.822668Z",
     "iopub.status.busy": "2024-05-23T11:22:50.821859Z",
     "iopub.status.idle": "2024-05-23T11:22:50.829470Z",
     "shell.execute_reply": "2024-05-23T11:22:50.827805Z"
    },
    "papermill": {
     "duration": 0.043886,
     "end_time": "2024-05-23T11:22:50.832105",
     "exception": false,
     "start_time": "2024-05-23T11:22:50.788219",
     "status": "completed"
    },
    "tags": []
   },
   "outputs": [
    {
     "data": {
      "text/plain": [
       "array(['Instagram', 'Twitter', 'Facebook', 'LinkedIn', 'Whatsapp',\n",
       "       'Telegram', 'Snapchat'], dtype=object)"
      ]
     },
     "execution_count": 27,
     "metadata": {},
     "output_type": "execute_result"
    }
   ],
   "source": [
    "train_df['Platform'].unique()"
   ]
  },
  {
   "cell_type": "code",
   "execution_count": 28,
   "id": "92b6e993",
   "metadata": {
    "execution": {
     "iopub.execute_input": "2024-05-23T11:22:50.898233Z",
     "iopub.status.busy": "2024-05-23T11:22:50.897803Z",
     "iopub.status.idle": "2024-05-23T11:22:50.905910Z",
     "shell.execute_reply": "2024-05-23T11:22:50.905025Z"
    },
    "papermill": {
     "duration": 0.043967,
     "end_time": "2024-05-23T11:22:50.908174",
     "exception": false,
     "start_time": "2024-05-23T11:22:50.864207",
     "status": "completed"
    },
    "tags": []
   },
   "outputs": [
    {
     "data": {
      "text/plain": [
       "Instagram    251\n",
       "Twitter      200\n",
       "Facebook     190\n",
       "LinkedIn     120\n",
       "Whatsapp      80\n",
       "Telegram      80\n",
       "Snapchat      80\n",
       "Name: Platform, dtype: int64"
      ]
     },
     "execution_count": 28,
     "metadata": {},
     "output_type": "execute_result"
    }
   ],
   "source": [
    "train_df['Platform'].value_counts()"
   ]
  },
  {
   "cell_type": "code",
   "execution_count": 29,
   "id": "4a002423",
   "metadata": {
    "execution": {
     "iopub.execute_input": "2024-05-23T11:22:50.976392Z",
     "iopub.status.busy": "2024-05-23T11:22:50.975099Z",
     "iopub.status.idle": "2024-05-23T11:22:51.153855Z",
     "shell.execute_reply": "2024-05-23T11:22:51.152824Z"
    },
    "papermill": {
     "duration": 0.21616,
     "end_time": "2024-05-23T11:22:51.157263",
     "exception": false,
     "start_time": "2024-05-23T11:22:50.941103",
     "status": "completed"
    },
    "tags": []
   },
   "outputs": [
    {
     "data": {
      "application/vnd.plotly.v1+json": {
       "config": {
        "plotlyServerURL": "https://plot.ly"
       },
       "data": [
        {
         "alignmentgroup": "True",
         "bingroup": "x",
         "hovertemplate": "Platform=%{x}<br>count=%{y}<extra></extra>",
         "legendgroup": "",
         "marker": {
          "color": "#636efa",
          "pattern": {
           "shape": ""
          }
         },
         "name": "",
         "offsetgroup": "",
         "orientation": "v",
         "showlegend": false,
         "type": "histogram",
         "x": [
          "Instagram",
          "Twitter",
          "Facebook",
          "Instagram",
          "LinkedIn",
          "Instagram",
          "Twitter",
          "Facebook",
          "LinkedIn",
          "Instagram",
          "Twitter",
          "Facebook",
          "LinkedIn",
          "Instagram",
          "Twitter",
          "Facebook",
          "Instagram",
          "Twitter",
          "LinkedIn",
          "Instagram",
          "Facebook",
          "Twitter",
          "LinkedIn",
          "Instagram",
          "Twitter",
          "Facebook",
          "LinkedIn",
          "Instagram",
          "Twitter",
          "Facebook",
          "LinkedIn",
          "Instagram",
          "Twitter",
          "Instagram",
          "Facebook",
          "LinkedIn",
          "Instagram",
          "Twitter",
          "Instagram",
          "Facebook",
          "LinkedIn",
          "Instagram",
          "Twitter",
          "Facebook",
          "LinkedIn",
          "Instagram",
          "Twitter",
          "Facebook",
          "Instagram",
          "LinkedIn",
          "Instagram",
          "Twitter",
          "Facebook",
          "Instagram",
          "LinkedIn",
          "Whatsapp",
          "Telegram",
          "Snapchat",
          "Twitter",
          "Facebook",
          "Instagram",
          "Whatsapp",
          "Telegram",
          "Snapchat",
          "Twitter",
          "Facebook",
          "Instagram",
          "Whatsapp",
          "Telegram",
          "Snapchat",
          "Instagram",
          "Twitter",
          "Facebook",
          "Whatsapp",
          "Telegram",
          "Snapchat",
          "Instagram",
          "Twitter",
          "Facebook",
          "Whatsapp",
          "Telegram",
          "Snapchat",
          "Instagram",
          "Twitter",
          "Facebook",
          "Whatsapp",
          "Telegram",
          "Snapchat",
          "Instagram",
          "Twitter",
          "Facebook",
          "Whatsapp",
          "Telegram",
          "Snapchat",
          "Instagram",
          "Twitter",
          "Facebook",
          "Whatsapp",
          "Telegram",
          "Snapchat",
          "Instagram",
          "Twitter",
          "Facebook",
          "Instagram",
          "LinkedIn",
          "Instagram",
          "Twitter",
          "Facebook",
          "LinkedIn",
          "Instagram",
          "Twitter",
          "Facebook",
          "LinkedIn",
          "Instagram",
          "Twitter",
          "Facebook",
          "Instagram",
          "Twitter",
          "LinkedIn",
          "Instagram",
          "Facebook",
          "Twitter",
          "LinkedIn",
          "Instagram",
          "Twitter",
          "Facebook",
          "LinkedIn",
          "Instagram",
          "Twitter",
          "Facebook",
          "LinkedIn",
          "Instagram",
          "Twitter",
          "Instagram",
          "Facebook",
          "LinkedIn",
          "Instagram",
          "Twitter",
          "Instagram",
          "Facebook",
          "LinkedIn",
          "Instagram",
          "Twitter",
          "Facebook",
          "LinkedIn",
          "Instagram",
          "Twitter",
          "Facebook",
          "Instagram",
          "LinkedIn",
          "Instagram",
          "Twitter",
          "Facebook",
          "Instagram",
          "LinkedIn",
          "Whatsapp",
          "Telegram",
          "Snapchat",
          "Twitter",
          "Facebook",
          "Instagram",
          "Whatsapp",
          "Telegram",
          "Snapchat",
          "Twitter",
          "Facebook",
          "Instagram",
          "Whatsapp",
          "Telegram",
          "Snapchat",
          "Instagram",
          "Twitter",
          "Facebook",
          "Whatsapp",
          "Telegram",
          "Snapchat",
          "Instagram",
          "Twitter",
          "Facebook",
          "Whatsapp",
          "Telegram",
          "Snapchat",
          "Instagram",
          "Twitter",
          "Facebook",
          "Whatsapp",
          "Telegram",
          "Snapchat",
          "Instagram",
          "Twitter",
          "Facebook",
          "Whatsapp",
          "Telegram",
          "Snapchat",
          "Instagram",
          "Twitter",
          "Facebook",
          "Whatsapp",
          "Telegram",
          "Snapchat",
          "Instagram",
          "Twitter",
          "Facebook",
          "Instagram",
          "LinkedIn",
          "Instagram",
          "Twitter",
          "Facebook",
          "LinkedIn",
          "Instagram",
          "Twitter",
          "Facebook",
          "LinkedIn",
          "Instagram",
          "Twitter",
          "Facebook",
          "Instagram",
          "Twitter",
          "LinkedIn",
          "Instagram",
          "Facebook",
          "Twitter",
          "LinkedIn",
          "Instagram",
          "Twitter",
          "Facebook",
          "LinkedIn",
          "Instagram",
          "Twitter",
          "Facebook",
          "LinkedIn",
          "Instagram",
          "Twitter",
          "Instagram",
          "Facebook",
          "LinkedIn",
          "Instagram",
          "Twitter",
          "Instagram",
          "Facebook",
          "LinkedIn",
          "Instagram",
          "Twitter",
          "Facebook",
          "LinkedIn",
          "Instagram",
          "Twitter",
          "Facebook",
          "Instagram",
          "LinkedIn",
          "Instagram",
          "Twitter",
          "Facebook",
          "Instagram",
          "LinkedIn",
          "Whatsapp",
          "Telegram",
          "Snapchat",
          "Twitter",
          "Facebook",
          "Instagram",
          "Whatsapp",
          "Telegram",
          "Snapchat",
          "Twitter",
          "Facebook",
          "Instagram",
          "Whatsapp",
          "Telegram",
          "Snapchat",
          "Instagram",
          "Twitter",
          "Facebook",
          "Whatsapp",
          "Telegram",
          "Snapchat",
          "Instagram",
          "Twitter",
          "Facebook",
          "Whatsapp",
          "Telegram",
          "Snapchat",
          "Instagram",
          "Twitter",
          "Facebook",
          "Whatsapp",
          "Telegram",
          "Snapchat",
          "Instagram",
          "Twitter",
          "Facebook",
          "Whatsapp",
          "Telegram",
          "Snapchat",
          "Instagram",
          "Twitter",
          "Facebook",
          "Whatsapp",
          "Telegram",
          "Snapchat",
          "Instagram",
          "Twitter",
          "Facebook",
          "Instagram",
          "LinkedIn",
          "Instagram",
          "Twitter",
          "Facebook",
          "LinkedIn",
          "Instagram",
          "Twitter",
          "Facebook",
          "LinkedIn",
          "Instagram",
          "Twitter",
          "Facebook",
          "Instagram",
          "Twitter",
          "LinkedIn",
          "Instagram",
          "Facebook",
          "Twitter",
          "LinkedIn",
          "Instagram",
          "Twitter",
          "Facebook",
          "LinkedIn",
          "Instagram",
          "Twitter",
          "Facebook",
          "LinkedIn",
          "Instagram",
          "Twitter",
          "Instagram",
          "Facebook",
          "LinkedIn",
          "Instagram",
          "Twitter",
          "Instagram",
          "Facebook",
          "LinkedIn",
          "Instagram",
          "Twitter",
          "Facebook",
          "LinkedIn",
          "Instagram",
          "Twitter",
          "Facebook",
          "Instagram",
          "LinkedIn",
          "Instagram",
          "Twitter",
          "Facebook",
          "Instagram",
          "LinkedIn",
          "Whatsapp",
          "Telegram",
          "Snapchat",
          "Twitter",
          "Facebook",
          "Instagram",
          "Whatsapp",
          "Telegram",
          "Snapchat",
          "Twitter",
          "Facebook",
          "Instagram",
          "Whatsapp",
          "Telegram",
          "Snapchat",
          "Instagram",
          "Twitter",
          "Facebook",
          "Whatsapp",
          "Telegram",
          "Snapchat",
          "Instagram",
          "Twitter",
          "Facebook",
          "Whatsapp",
          "Telegram",
          "Snapchat",
          "Instagram",
          "Twitter",
          "Facebook",
          "Whatsapp",
          "Telegram",
          "Snapchat",
          "Instagram",
          "Twitter",
          "Facebook",
          "Whatsapp",
          "Telegram",
          "Snapchat",
          "Instagram",
          "Twitter",
          "Facebook",
          "Whatsapp",
          "Telegram",
          "Snapchat",
          "Instagram",
          "Twitter",
          "Facebook",
          "Instagram",
          "LinkedIn",
          "Instagram",
          "Twitter",
          "Facebook",
          "LinkedIn",
          "Instagram",
          "Twitter",
          "Facebook",
          "LinkedIn",
          "Instagram",
          "Twitter",
          "Facebook",
          "Instagram",
          "Twitter",
          "LinkedIn",
          "Instagram",
          "Facebook",
          "Twitter",
          "LinkedIn",
          "Instagram",
          "Twitter",
          "Facebook",
          "LinkedIn",
          "Instagram",
          "Twitter",
          "Facebook",
          "LinkedIn",
          "Instagram",
          "Twitter",
          "Instagram",
          "Facebook",
          "LinkedIn",
          "Instagram",
          "Twitter",
          "Instagram",
          "Facebook",
          "LinkedIn",
          "Instagram",
          "Twitter",
          "Facebook",
          "LinkedIn",
          "Instagram",
          "Twitter",
          "Facebook",
          "Instagram",
          "LinkedIn",
          "Instagram",
          "Twitter",
          "Facebook",
          "Instagram",
          "LinkedIn",
          "Whatsapp",
          "Telegram",
          "Snapchat",
          "Twitter",
          "Facebook",
          "Instagram",
          "Whatsapp",
          "Telegram",
          "Snapchat",
          "Twitter",
          "Facebook",
          "Instagram",
          "Whatsapp",
          "Telegram",
          "Snapchat",
          "Instagram",
          "Twitter",
          "Facebook",
          "Whatsapp",
          "Telegram",
          "Snapchat",
          "Instagram",
          "Twitter",
          "Facebook",
          "Whatsapp",
          "Telegram",
          "Snapchat",
          "Instagram",
          "Twitter",
          "Facebook",
          "Whatsapp",
          "Telegram",
          "Snapchat",
          "Instagram",
          "Twitter",
          "Facebook",
          "Whatsapp",
          "Telegram",
          "Snapchat",
          "Instagram",
          "Twitter",
          "Facebook",
          "Whatsapp",
          "Telegram",
          "Snapchat",
          "Instagram",
          "Twitter",
          "Facebook",
          "Instagram",
          "LinkedIn",
          "Instagram",
          "Twitter",
          "Facebook",
          "LinkedIn",
          "Instagram",
          "Twitter",
          "Facebook",
          "LinkedIn",
          "Instagram",
          "Twitter",
          "Facebook",
          "Instagram",
          "Twitter",
          "LinkedIn",
          "Instagram",
          "Facebook",
          "Twitter",
          "LinkedIn",
          "Instagram",
          "Twitter",
          "Facebook",
          "LinkedIn",
          "Instagram",
          "Twitter",
          "Facebook",
          "LinkedIn",
          "Instagram",
          "Twitter",
          "Instagram",
          "Facebook",
          "LinkedIn",
          "Instagram",
          "Twitter",
          "Instagram",
          "Facebook",
          "LinkedIn",
          "Instagram",
          "Twitter",
          "Facebook",
          "LinkedIn",
          "Instagram",
          "Twitter",
          "Facebook",
          "Instagram",
          "LinkedIn",
          "Instagram",
          "Twitter",
          "Facebook",
          "Instagram",
          "LinkedIn",
          "Whatsapp",
          "Telegram",
          "Snapchat",
          "Twitter",
          "Facebook",
          "Instagram",
          "Whatsapp",
          "Telegram",
          "Snapchat",
          "Twitter",
          "Facebook",
          "Instagram",
          "Whatsapp",
          "Telegram",
          "Snapchat",
          "Instagram",
          "Twitter",
          "Facebook",
          "Whatsapp",
          "Telegram",
          "Snapchat",
          "Instagram",
          "Twitter",
          "Facebook",
          "Whatsapp",
          "Telegram",
          "Snapchat",
          "Instagram",
          "Twitter",
          "Facebook",
          "Whatsapp",
          "Telegram",
          "Snapchat",
          "Instagram",
          "Twitter",
          "Facebook",
          "Whatsapp",
          "Telegram",
          "Snapchat",
          "Instagram",
          "Twitter",
          "Facebook",
          "Whatsapp",
          "Telegram",
          "Snapchat",
          "Instagram",
          "Twitter",
          "Facebook",
          "Instagram",
          "LinkedIn",
          "Instagram",
          "Twitter",
          "Facebook",
          "LinkedIn",
          "Instagram",
          "Twitter",
          "Facebook",
          "LinkedIn",
          "Instagram",
          "Twitter",
          "Facebook",
          "Instagram",
          "Twitter",
          "LinkedIn",
          "Instagram",
          "Facebook",
          "Twitter",
          "LinkedIn",
          "Instagram",
          "Twitter",
          "Facebook",
          "LinkedIn",
          "Instagram",
          "Twitter",
          "Facebook",
          "LinkedIn",
          "Instagram",
          "Twitter",
          "Instagram",
          "Facebook",
          "LinkedIn",
          "Instagram",
          "Twitter",
          "Instagram",
          "Facebook",
          "LinkedIn",
          "Instagram",
          "Instagram",
          "Twitter",
          "Facebook",
          "LinkedIn",
          "Instagram",
          "Twitter",
          "Facebook",
          "Instagram",
          "LinkedIn",
          "Instagram",
          "Twitter",
          "Facebook",
          "Instagram",
          "LinkedIn",
          "Whatsapp",
          "Telegram",
          "Snapchat",
          "Twitter",
          "Facebook",
          "Instagram",
          "Whatsapp",
          "Telegram",
          "Snapchat",
          "Twitter",
          "Facebook",
          "Instagram",
          "Whatsapp",
          "Telegram",
          "Snapchat",
          "Instagram",
          "Twitter",
          "Facebook",
          "Whatsapp",
          "Telegram",
          "Snapchat",
          "Instagram",
          "Twitter",
          "Facebook",
          "Whatsapp",
          "Telegram",
          "Snapchat",
          "Instagram",
          "Twitter",
          "Facebook",
          "Whatsapp",
          "Telegram",
          "Snapchat",
          "Instagram",
          "Twitter",
          "Facebook",
          "Whatsapp",
          "Telegram",
          "Snapchat",
          "Instagram",
          "Twitter",
          "Facebook",
          "Whatsapp",
          "Telegram",
          "Snapchat",
          "Instagram",
          "Twitter",
          "Facebook",
          "Instagram",
          "LinkedIn",
          "Instagram",
          "Twitter",
          "Facebook",
          "LinkedIn",
          "Instagram",
          "Twitter",
          "Facebook",
          "LinkedIn",
          "Instagram",
          "Twitter",
          "Facebook",
          "Instagram",
          "Twitter",
          "LinkedIn",
          "Instagram",
          "Facebook",
          "Twitter",
          "LinkedIn",
          "Instagram",
          "Twitter",
          "Facebook",
          "LinkedIn",
          "Instagram",
          "Twitter",
          "Facebook",
          "LinkedIn",
          "Instagram",
          "Twitter",
          "Instagram",
          "Facebook",
          "LinkedIn",
          "Instagram",
          "Twitter",
          "Instagram",
          "Facebook",
          "LinkedIn",
          "Instagram",
          "Twitter",
          "Facebook",
          "LinkedIn",
          "Instagram",
          "Twitter",
          "Facebook",
          "Instagram",
          "LinkedIn",
          "Instagram",
          "Twitter",
          "Facebook",
          "Instagram",
          "LinkedIn",
          "Whatsapp",
          "Telegram",
          "Snapchat",
          "Twitter",
          "Facebook",
          "Instagram",
          "Whatsapp",
          "Telegram",
          "Snapchat",
          "Twitter",
          "Facebook",
          "Instagram",
          "Whatsapp",
          "Telegram",
          "Snapchat",
          "Instagram",
          "Twitter",
          "Facebook",
          "Whatsapp",
          "Telegram",
          "Snapchat",
          "Instagram",
          "Twitter",
          "Facebook",
          "Whatsapp",
          "Telegram",
          "Snapchat",
          "Instagram",
          "Twitter",
          "Facebook",
          "Whatsapp",
          "Telegram",
          "Snapchat",
          "Instagram",
          "Twitter",
          "Facebook",
          "Whatsapp",
          "Telegram",
          "Snapchat",
          "Instagram",
          "Twitter",
          "Facebook",
          "Whatsapp",
          "Telegram",
          "Snapchat",
          "Instagram",
          "Twitter",
          "Facebook",
          "Instagram",
          "LinkedIn",
          "Instagram",
          "Twitter",
          "Facebook",
          "LinkedIn",
          "Instagram",
          "Twitter",
          "Facebook",
          "LinkedIn",
          "Instagram",
          "Twitter",
          "Facebook",
          "Instagram",
          "Twitter",
          "LinkedIn",
          "Instagram",
          "Facebook",
          "Twitter",
          "LinkedIn",
          "Instagram",
          "Twitter",
          "Facebook",
          "LinkedIn",
          "Instagram",
          "Twitter",
          "Facebook",
          "LinkedIn",
          "Instagram",
          "Twitter",
          "Instagram",
          "Facebook",
          "LinkedIn",
          "Instagram",
          "Twitter",
          "Instagram",
          "Facebook",
          "LinkedIn",
          "Instagram",
          "Twitter",
          "Facebook",
          "LinkedIn",
          "Instagram",
          "Twitter",
          "Facebook",
          "Instagram",
          "LinkedIn",
          "Instagram",
          "Twitter",
          "Facebook",
          "Instagram",
          "LinkedIn",
          "Whatsapp",
          "Telegram",
          "Snapchat",
          "Twitter",
          "Facebook",
          "Instagram",
          "Whatsapp",
          "Telegram",
          "Snapchat",
          "Twitter",
          "Facebook",
          "Instagram",
          "Whatsapp",
          "Telegram",
          "Snapchat",
          "Instagram",
          "Twitter",
          "Facebook",
          "Whatsapp",
          "Telegram",
          "Snapchat",
          "Instagram",
          "Twitter",
          "Facebook",
          "Whatsapp",
          "Telegram",
          "Snapchat",
          "Instagram",
          "Twitter",
          "Facebook",
          "Whatsapp",
          "Telegram",
          "Snapchat",
          "Instagram",
          "Twitter",
          "Facebook",
          "Whatsapp",
          "Telegram",
          "Snapchat",
          "Instagram",
          "Twitter",
          "Facebook",
          "Whatsapp",
          "Telegram",
          "Snapchat",
          "Instagram",
          "Twitter",
          "Facebook",
          "Instagram",
          "LinkedIn",
          "Instagram",
          "Twitter",
          "Facebook",
          "LinkedIn",
          "Instagram",
          "Twitter",
          "Facebook",
          "LinkedIn",
          "Instagram",
          "Twitter",
          "Facebook",
          "Instagram",
          "Twitter",
          "LinkedIn",
          "Instagram",
          "Facebook",
          "Twitter",
          "LinkedIn",
          "Instagram",
          "Twitter",
          "Facebook",
          "LinkedIn",
          "Instagram",
          "Twitter",
          "Facebook",
          "LinkedIn",
          "Instagram",
          "Twitter",
          "Instagram",
          "Facebook",
          "LinkedIn",
          "Instagram",
          "Twitter",
          "Instagram",
          "Facebook",
          "LinkedIn",
          "Instagram",
          "Twitter",
          "Facebook",
          "LinkedIn",
          "Instagram",
          "Twitter",
          "Facebook",
          "Instagram",
          "LinkedIn",
          "Instagram",
          "Twitter",
          "Facebook",
          "Instagram",
          "LinkedIn",
          "Whatsapp",
          "Telegram",
          "Snapchat",
          "Twitter",
          "Facebook",
          "Instagram",
          "Whatsapp",
          "Telegram",
          "Snapchat",
          "Twitter",
          "Facebook",
          "Instagram",
          "Whatsapp",
          "Telegram",
          "Snapchat",
          "Instagram",
          "Twitter",
          "Facebook",
          "Whatsapp",
          "Telegram",
          "Snapchat",
          "Instagram",
          "Twitter",
          "Facebook",
          "Whatsapp",
          "Telegram",
          "Snapchat",
          "Instagram",
          "Twitter",
          "Facebook",
          "Whatsapp",
          "Telegram",
          "Snapchat",
          "Instagram",
          "Twitter",
          "Facebook",
          "Whatsapp",
          "Telegram",
          "Snapchat",
          "Instagram",
          "Twitter",
          "Facebook",
          "Whatsapp",
          "Telegram",
          "Snapchat"
         ],
         "xaxis": "x",
         "yaxis": "y"
        }
       ],
       "layout": {
        "barmode": "relative",
        "legend": {
         "tracegroupgap": 0
        },
        "template": {
         "data": {
          "bar": [
           {
            "error_x": {
             "color": "#2a3f5f"
            },
            "error_y": {
             "color": "#2a3f5f"
            },
            "marker": {
             "line": {
              "color": "#E5ECF6",
              "width": 0.5
             },
             "pattern": {
              "fillmode": "overlay",
              "size": 10,
              "solidity": 0.2
             }
            },
            "type": "bar"
           }
          ],
          "barpolar": [
           {
            "marker": {
             "line": {
              "color": "#E5ECF6",
              "width": 0.5
             },
             "pattern": {
              "fillmode": "overlay",
              "size": 10,
              "solidity": 0.2
             }
            },
            "type": "barpolar"
           }
          ],
          "carpet": [
           {
            "aaxis": {
             "endlinecolor": "#2a3f5f",
             "gridcolor": "white",
             "linecolor": "white",
             "minorgridcolor": "white",
             "startlinecolor": "#2a3f5f"
            },
            "baxis": {
             "endlinecolor": "#2a3f5f",
             "gridcolor": "white",
             "linecolor": "white",
             "minorgridcolor": "white",
             "startlinecolor": "#2a3f5f"
            },
            "type": "carpet"
           }
          ],
          "choropleth": [
           {
            "colorbar": {
             "outlinewidth": 0,
             "ticks": ""
            },
            "type": "choropleth"
           }
          ],
          "contour": [
           {
            "colorbar": {
             "outlinewidth": 0,
             "ticks": ""
            },
            "colorscale": [
             [
              0,
              "#0d0887"
             ],
             [
              0.1111111111111111,
              "#46039f"
             ],
             [
              0.2222222222222222,
              "#7201a8"
             ],
             [
              0.3333333333333333,
              "#9c179e"
             ],
             [
              0.4444444444444444,
              "#bd3786"
             ],
             [
              0.5555555555555556,
              "#d8576b"
             ],
             [
              0.6666666666666666,
              "#ed7953"
             ],
             [
              0.7777777777777778,
              "#fb9f3a"
             ],
             [
              0.8888888888888888,
              "#fdca26"
             ],
             [
              1,
              "#f0f921"
             ]
            ],
            "type": "contour"
           }
          ],
          "contourcarpet": [
           {
            "colorbar": {
             "outlinewidth": 0,
             "ticks": ""
            },
            "type": "contourcarpet"
           }
          ],
          "heatmap": [
           {
            "colorbar": {
             "outlinewidth": 0,
             "ticks": ""
            },
            "colorscale": [
             [
              0,
              "#0d0887"
             ],
             [
              0.1111111111111111,
              "#46039f"
             ],
             [
              0.2222222222222222,
              "#7201a8"
             ],
             [
              0.3333333333333333,
              "#9c179e"
             ],
             [
              0.4444444444444444,
              "#bd3786"
             ],
             [
              0.5555555555555556,
              "#d8576b"
             ],
             [
              0.6666666666666666,
              "#ed7953"
             ],
             [
              0.7777777777777778,
              "#fb9f3a"
             ],
             [
              0.8888888888888888,
              "#fdca26"
             ],
             [
              1,
              "#f0f921"
             ]
            ],
            "type": "heatmap"
           }
          ],
          "heatmapgl": [
           {
            "colorbar": {
             "outlinewidth": 0,
             "ticks": ""
            },
            "colorscale": [
             [
              0,
              "#0d0887"
             ],
             [
              0.1111111111111111,
              "#46039f"
             ],
             [
              0.2222222222222222,
              "#7201a8"
             ],
             [
              0.3333333333333333,
              "#9c179e"
             ],
             [
              0.4444444444444444,
              "#bd3786"
             ],
             [
              0.5555555555555556,
              "#d8576b"
             ],
             [
              0.6666666666666666,
              "#ed7953"
             ],
             [
              0.7777777777777778,
              "#fb9f3a"
             ],
             [
              0.8888888888888888,
              "#fdca26"
             ],
             [
              1,
              "#f0f921"
             ]
            ],
            "type": "heatmapgl"
           }
          ],
          "histogram": [
           {
            "marker": {
             "pattern": {
              "fillmode": "overlay",
              "size": 10,
              "solidity": 0.2
             }
            },
            "type": "histogram"
           }
          ],
          "histogram2d": [
           {
            "colorbar": {
             "outlinewidth": 0,
             "ticks": ""
            },
            "colorscale": [
             [
              0,
              "#0d0887"
             ],
             [
              0.1111111111111111,
              "#46039f"
             ],
             [
              0.2222222222222222,
              "#7201a8"
             ],
             [
              0.3333333333333333,
              "#9c179e"
             ],
             [
              0.4444444444444444,
              "#bd3786"
             ],
             [
              0.5555555555555556,
              "#d8576b"
             ],
             [
              0.6666666666666666,
              "#ed7953"
             ],
             [
              0.7777777777777778,
              "#fb9f3a"
             ],
             [
              0.8888888888888888,
              "#fdca26"
             ],
             [
              1,
              "#f0f921"
             ]
            ],
            "type": "histogram2d"
           }
          ],
          "histogram2dcontour": [
           {
            "colorbar": {
             "outlinewidth": 0,
             "ticks": ""
            },
            "colorscale": [
             [
              0,
              "#0d0887"
             ],
             [
              0.1111111111111111,
              "#46039f"
             ],
             [
              0.2222222222222222,
              "#7201a8"
             ],
             [
              0.3333333333333333,
              "#9c179e"
             ],
             [
              0.4444444444444444,
              "#bd3786"
             ],
             [
              0.5555555555555556,
              "#d8576b"
             ],
             [
              0.6666666666666666,
              "#ed7953"
             ],
             [
              0.7777777777777778,
              "#fb9f3a"
             ],
             [
              0.8888888888888888,
              "#fdca26"
             ],
             [
              1,
              "#f0f921"
             ]
            ],
            "type": "histogram2dcontour"
           }
          ],
          "mesh3d": [
           {
            "colorbar": {
             "outlinewidth": 0,
             "ticks": ""
            },
            "type": "mesh3d"
           }
          ],
          "parcoords": [
           {
            "line": {
             "colorbar": {
              "outlinewidth": 0,
              "ticks": ""
             }
            },
            "type": "parcoords"
           }
          ],
          "pie": [
           {
            "automargin": true,
            "type": "pie"
           }
          ],
          "scatter": [
           {
            "fillpattern": {
             "fillmode": "overlay",
             "size": 10,
             "solidity": 0.2
            },
            "type": "scatter"
           }
          ],
          "scatter3d": [
           {
            "line": {
             "colorbar": {
              "outlinewidth": 0,
              "ticks": ""
             }
            },
            "marker": {
             "colorbar": {
              "outlinewidth": 0,
              "ticks": ""
             }
            },
            "type": "scatter3d"
           }
          ],
          "scattercarpet": [
           {
            "marker": {
             "colorbar": {
              "outlinewidth": 0,
              "ticks": ""
             }
            },
            "type": "scattercarpet"
           }
          ],
          "scattergeo": [
           {
            "marker": {
             "colorbar": {
              "outlinewidth": 0,
              "ticks": ""
             }
            },
            "type": "scattergeo"
           }
          ],
          "scattergl": [
           {
            "marker": {
             "colorbar": {
              "outlinewidth": 0,
              "ticks": ""
             }
            },
            "type": "scattergl"
           }
          ],
          "scattermapbox": [
           {
            "marker": {
             "colorbar": {
              "outlinewidth": 0,
              "ticks": ""
             }
            },
            "type": "scattermapbox"
           }
          ],
          "scatterpolar": [
           {
            "marker": {
             "colorbar": {
              "outlinewidth": 0,
              "ticks": ""
             }
            },
            "type": "scatterpolar"
           }
          ],
          "scatterpolargl": [
           {
            "marker": {
             "colorbar": {
              "outlinewidth": 0,
              "ticks": ""
             }
            },
            "type": "scatterpolargl"
           }
          ],
          "scatterternary": [
           {
            "marker": {
             "colorbar": {
              "outlinewidth": 0,
              "ticks": ""
             }
            },
            "type": "scatterternary"
           }
          ],
          "surface": [
           {
            "colorbar": {
             "outlinewidth": 0,
             "ticks": ""
            },
            "colorscale": [
             [
              0,
              "#0d0887"
             ],
             [
              0.1111111111111111,
              "#46039f"
             ],
             [
              0.2222222222222222,
              "#7201a8"
             ],
             [
              0.3333333333333333,
              "#9c179e"
             ],
             [
              0.4444444444444444,
              "#bd3786"
             ],
             [
              0.5555555555555556,
              "#d8576b"
             ],
             [
              0.6666666666666666,
              "#ed7953"
             ],
             [
              0.7777777777777778,
              "#fb9f3a"
             ],
             [
              0.8888888888888888,
              "#fdca26"
             ],
             [
              1,
              "#f0f921"
             ]
            ],
            "type": "surface"
           }
          ],
          "table": [
           {
            "cells": {
             "fill": {
              "color": "#EBF0F8"
             },
             "line": {
              "color": "white"
             }
            },
            "header": {
             "fill": {
              "color": "#C8D4E3"
             },
             "line": {
              "color": "white"
             }
            },
            "type": "table"
           }
          ]
         },
         "layout": {
          "annotationdefaults": {
           "arrowcolor": "#2a3f5f",
           "arrowhead": 0,
           "arrowwidth": 1
          },
          "autotypenumbers": "strict",
          "coloraxis": {
           "colorbar": {
            "outlinewidth": 0,
            "ticks": ""
           }
          },
          "colorscale": {
           "diverging": [
            [
             0,
             "#8e0152"
            ],
            [
             0.1,
             "#c51b7d"
            ],
            [
             0.2,
             "#de77ae"
            ],
            [
             0.3,
             "#f1b6da"
            ],
            [
             0.4,
             "#fde0ef"
            ],
            [
             0.5,
             "#f7f7f7"
            ],
            [
             0.6,
             "#e6f5d0"
            ],
            [
             0.7,
             "#b8e186"
            ],
            [
             0.8,
             "#7fbc41"
            ],
            [
             0.9,
             "#4d9221"
            ],
            [
             1,
             "#276419"
            ]
           ],
           "sequential": [
            [
             0,
             "#0d0887"
            ],
            [
             0.1111111111111111,
             "#46039f"
            ],
            [
             0.2222222222222222,
             "#7201a8"
            ],
            [
             0.3333333333333333,
             "#9c179e"
            ],
            [
             0.4444444444444444,
             "#bd3786"
            ],
            [
             0.5555555555555556,
             "#d8576b"
            ],
            [
             0.6666666666666666,
             "#ed7953"
            ],
            [
             0.7777777777777778,
             "#fb9f3a"
            ],
            [
             0.8888888888888888,
             "#fdca26"
            ],
            [
             1,
             "#f0f921"
            ]
           ],
           "sequentialminus": [
            [
             0,
             "#0d0887"
            ],
            [
             0.1111111111111111,
             "#46039f"
            ],
            [
             0.2222222222222222,
             "#7201a8"
            ],
            [
             0.3333333333333333,
             "#9c179e"
            ],
            [
             0.4444444444444444,
             "#bd3786"
            ],
            [
             0.5555555555555556,
             "#d8576b"
            ],
            [
             0.6666666666666666,
             "#ed7953"
            ],
            [
             0.7777777777777778,
             "#fb9f3a"
            ],
            [
             0.8888888888888888,
             "#fdca26"
            ],
            [
             1,
             "#f0f921"
            ]
           ]
          },
          "colorway": [
           "#636efa",
           "#EF553B",
           "#00cc96",
           "#ab63fa",
           "#FFA15A",
           "#19d3f3",
           "#FF6692",
           "#B6E880",
           "#FF97FF",
           "#FECB52"
          ],
          "font": {
           "color": "#2a3f5f"
          },
          "geo": {
           "bgcolor": "white",
           "lakecolor": "white",
           "landcolor": "#E5ECF6",
           "showlakes": true,
           "showland": true,
           "subunitcolor": "white"
          },
          "hoverlabel": {
           "align": "left"
          },
          "hovermode": "closest",
          "mapbox": {
           "style": "light"
          },
          "paper_bgcolor": "white",
          "plot_bgcolor": "#E5ECF6",
          "polar": {
           "angularaxis": {
            "gridcolor": "white",
            "linecolor": "white",
            "ticks": ""
           },
           "bgcolor": "#E5ECF6",
           "radialaxis": {
            "gridcolor": "white",
            "linecolor": "white",
            "ticks": ""
           }
          },
          "scene": {
           "xaxis": {
            "backgroundcolor": "#E5ECF6",
            "gridcolor": "white",
            "gridwidth": 2,
            "linecolor": "white",
            "showbackground": true,
            "ticks": "",
            "zerolinecolor": "white"
           },
           "yaxis": {
            "backgroundcolor": "#E5ECF6",
            "gridcolor": "white",
            "gridwidth": 2,
            "linecolor": "white",
            "showbackground": true,
            "ticks": "",
            "zerolinecolor": "white"
           },
           "zaxis": {
            "backgroundcolor": "#E5ECF6",
            "gridcolor": "white",
            "gridwidth": 2,
            "linecolor": "white",
            "showbackground": true,
            "ticks": "",
            "zerolinecolor": "white"
           }
          },
          "shapedefaults": {
           "line": {
            "color": "#2a3f5f"
           }
          },
          "ternary": {
           "aaxis": {
            "gridcolor": "white",
            "linecolor": "white",
            "ticks": ""
           },
           "baxis": {
            "gridcolor": "white",
            "linecolor": "white",
            "ticks": ""
           },
           "bgcolor": "#E5ECF6",
           "caxis": {
            "gridcolor": "white",
            "linecolor": "white",
            "ticks": ""
           }
          },
          "title": {
           "x": 0.05
          },
          "xaxis": {
           "automargin": true,
           "gridcolor": "white",
           "linecolor": "white",
           "ticks": "",
           "title": {
            "standoff": 15
           },
           "zerolinecolor": "white",
           "zerolinewidth": 2
          },
          "yaxis": {
           "automargin": true,
           "gridcolor": "white",
           "linecolor": "white",
           "ticks": "",
           "title": {
            "standoff": 15
           },
           "zerolinecolor": "white",
           "zerolinewidth": 2
          }
         }
        },
        "title": {
         "text": "Platform Distribution"
        },
        "xaxis": {
         "anchor": "y",
         "domain": [
          0,
          1
         ],
         "title": {
          "text": "Platform"
         }
        },
        "yaxis": {
         "anchor": "x",
         "domain": [
          0,
          1
         ],
         "title": {
          "text": "count"
         }
        }
       }
      }
     },
     "metadata": {},
     "output_type": "display_data"
    }
   ],
   "source": [
    "plt = px.histogram(train_df, x='Platform', title='Platform Distribution')\n",
    "plt.show()"
   ]
  },
  {
   "cell_type": "markdown",
   "id": "4a3bb0b1",
   "metadata": {},
   "source": [
    "**Instagram** has the highest user count, demonstrating strong popularity.\n",
    "\n",
    "**Twitter** and **Facebook** follow with substantial user engagement.\n",
    "\n",
    "**LinkedIn**, **WhatsApp**, **Telegram**, and **Snapchat** have lower but notable user bases."
   ]
  },
  {
   "cell_type": "markdown",
   "id": "2c522e0f",
   "metadata": {
    "papermill": {
     "duration": 0.032751,
     "end_time": "2024-05-23T11:22:51.223055",
     "exception": false,
     "start_time": "2024-05-23T11:22:51.190304",
     "status": "completed"
    },
    "tags": []
   },
   "source": [
    "### Daily Usage Time (minutes) Distribution"
   ]
  },
  {
   "cell_type": "code",
   "execution_count": 30,
   "id": "0bf0e557",
   "metadata": {},
   "outputs": [
    {
     "data": {
      "image/png": "[encoded data removed]",
      "text/plain": [
       "<Figure size 1600x600 with 1 Axes>"
      ]
     },
     "metadata": {},
     "output_type": "display_data"
    }
   ],
   "source": [
    "import matplotlib.pyplot as plt\n",
    "# Create the bar plot for average daily usage time by age\n",
    "plt.figure(figsize=(16, 6))  # Set the figure size\n",
    "sns.barplot(x='Age', y='Daily_Usage_Time (minutes)', data=train_df)\n",
    "\n",
    "# Add title and show the plot\n",
    "plt.title('Average Daily Usage Time by Age')\n",
    "plt.show()\n"
   ]
  },
  {
   "cell_type": "code",
   "execution_count": 31,
   "id": "1b0be5fa",
   "metadata": {
    "execution": {
     "iopub.execute_input": "2024-05-23T11:22:51.291537Z",
     "iopub.status.busy": "2024-05-23T11:22:51.290703Z",
     "iopub.status.idle": "2024-05-23T11:22:51.360868Z",
     "shell.execute_reply": "2024-05-23T11:22:51.359398Z"
    },
    "papermill": {
     "duration": 0.107787,
     "end_time": "2024-05-23T11:22:51.363727",
     "exception": false,
     "start_time": "2024-05-23T11:22:51.255940",
     "status": "completed"
    },
    "tags": []
   },
   "outputs": [
    {
     "data": {
      "image/png": "[encoded data removed]",
      "text/plain": [
       "<Figure size 1600x600 with 1 Axes>"
      ]
     },
     "metadata": {},
     "output_type": "display_data"
    }
   ],
   "source": [
    "plt.figure(figsize=(16, 6)) \n",
    "sns.barplot(x='Gender', y='Daily_Usage_Time (minutes)', data=train_df)\n",
    "\n",
    "plt.title('Average Daily Usage Time by Gender')\n",
    "plt.show()\n"
   ]
  },
  {
   "cell_type": "markdown",
   "id": "11a4377a",
   "metadata": {
    "papermill": {
     "duration": 0.033917,
     "end_time": "2024-05-23T11:22:51.431267",
     "exception": false,
     "start_time": "2024-05-23T11:22:51.397350",
     "status": "completed"
    },
    "tags": []
   },
   "source": [
    "### Post Per Day Distribution"
   ]
  },
  {
   "cell_type": "code",
   "execution_count": 32,
   "id": "2ecd85a6",
   "metadata": {
    "execution": {
     "iopub.execute_input": "2024-05-23T11:22:51.501176Z",
     "iopub.status.busy": "2024-05-23T11:22:51.500367Z",
     "iopub.status.idle": "2024-05-23T11:22:51.508321Z",
     "shell.execute_reply": "2024-05-23T11:22:51.507276Z"
    },
    "papermill": {
     "duration": 0.045621,
     "end_time": "2024-05-23T11:22:51.510631",
     "exception": false,
     "start_time": "2024-05-23T11:22:51.465010",
     "status": "completed"
    },
    "tags": []
   },
   "outputs": [
    {
     "data": {
      "text/plain": [
       "array([ 3.,  5.,  2.,  8.,  1.,  4.,  6.,  7., nan])"
      ]
     },
     "execution_count": 32,
     "metadata": {},
     "output_type": "execute_result"
    }
   ],
   "source": [
    "train_df['Posts_Per_Day'].unique()"
   ]
  },
  {
   "cell_type": "code",
   "execution_count": 33,
   "id": "b4b53a16",
   "metadata": {
    "execution": {
     "iopub.execute_input": "2024-05-23T11:22:51.583965Z",
     "iopub.status.busy": "2024-05-23T11:22:51.583155Z",
     "iopub.status.idle": "2024-05-23T11:22:51.591892Z",
     "shell.execute_reply": "2024-05-23T11:22:51.590754Z"
    },
    "papermill": {
     "duration": 0.047471,
     "end_time": "2024-05-23T11:22:51.594549",
     "exception": false,
     "start_time": "2024-05-23T11:22:51.547078",
     "status": "completed"
    },
    "tags": []
   },
   "outputs": [],
   "source": [
    "# fill with mode\n",
    "train_df['Posts_Per_Day'].fillna(train_df['Posts_Per_Day'].mode()[0], inplace=True)"
   ]
  },
  {
   "cell_type": "code",
   "execution_count": 34,
   "id": "4c0faf68",
   "metadata": {
    "execution": {
     "iopub.execute_input": "2024-05-23T11:22:51.664912Z",
     "iopub.status.busy": "2024-05-23T11:22:51.663724Z",
     "iopub.status.idle": "2024-05-23T11:22:51.734260Z",
     "shell.execute_reply": "2024-05-23T11:22:51.733010Z"
    },
    "papermill": {
     "duration": 0.10817,
     "end_time": "2024-05-23T11:22:51.736713",
     "exception": false,
     "start_time": "2024-05-23T11:22:51.628543",
     "status": "completed"
    },
    "tags": []
   },
   "outputs": [
    {
     "data": {
      "image/png": "[encoded data removed]",
      "text/plain": [
       "<Figure size 1600x600 with 1 Axes>"
      ]
     },
     "metadata": {},
     "output_type": "display_data"
    }
   ],
   "source": [
    "plt.figure(figsize=(16, 6))\n",
    "sns.barplot(x='Age', y='Posts_Per_Day', data=train_df)\n",
    "\n",
    "plt.title('Average Posts Per Day by Age')\n",
    "plt.xlabel('Age')\n",
    "plt.ylabel('Average Posts Per Day')\n",
    "plt.show()\n"
   ]
  },
  {
   "cell_type": "markdown",
   "id": "feed4dbb",
   "metadata": {
    "papermill": {
     "duration": 0.03425,
     "end_time": "2024-05-23T11:22:51.805091",
     "exception": false,
     "start_time": "2024-05-23T11:22:51.770841",
     "status": "completed"
    },
    "tags": []
   },
   "source": [
    "### Likes Per Day Distribution"
   ]
  },
  {
   "cell_type": "code",
   "execution_count": 35,
   "id": "eca4c3dc",
   "metadata": {
    "execution": {
     "iopub.execute_input": "2024-05-23T11:22:51.876419Z",
     "iopub.status.busy": "2024-05-23T11:22:51.875758Z",
     "iopub.status.idle": "2024-05-23T11:22:51.883260Z",
     "shell.execute_reply": "2024-05-23T11:22:51.882178Z"
    },
    "papermill": {
     "duration": 0.046167,
     "end_time": "2024-05-23T11:22:51.885478",
     "exception": false,
     "start_time": "2024-05-23T11:22:51.839311",
     "status": "completed"
    },
    "tags": []
   },
   "outputs": [
    {
     "data": {
      "text/plain": [
       "array([ 45.,  20.,  15., 100.,   5.,  60.,  30.,  25.,  10.,  80.,  35.,\n",
       "        12.,  90.,  40.,  55.,  33.,   8.,  70.,  28.,  11.,  95.,  18.,\n",
       "         9.,  85.,  38.,   6.,  13.,  75.,  27.,  88.,  22.,  78.,  29.,\n",
       "        50.,  36.,  72.,  65., 110.,  14.,  17., 105.,  43.,  37.,  42.,\n",
       "        48.,  21.,  24.,  23.,  83.,  nan])"
      ]
     },
     "execution_count": 35,
     "metadata": {},
     "output_type": "execute_result"
    }
   ],
   "source": [
    "train_df['Likes_Received_Per_Day'].unique()"
   ]
  },
  {
   "cell_type": "code",
   "execution_count": 36,
   "id": "24179941",
   "metadata": {
    "execution": {
     "iopub.execute_input": "2024-05-23T11:22:51.957200Z",
     "iopub.status.busy": "2024-05-23T11:22:51.956146Z",
     "iopub.status.idle": "2024-05-23T11:22:51.962115Z",
     "shell.execute_reply": "2024-05-23T11:22:51.961196Z"
    },
    "papermill": {
     "duration": 0.044334,
     "end_time": "2024-05-23T11:22:51.964854",
     "exception": false,
     "start_time": "2024-05-23T11:22:51.920520",
     "status": "completed"
    },
    "tags": []
   },
   "outputs": [],
   "source": [
    "# filling wih mode\n",
    "train_df['Likes_Received_Per_Day'].fillna(train_df['Likes_Received_Per_Day'].mode()[0], inplace=True)"
   ]
  },
  {
   "cell_type": "code",
   "execution_count": 37,
   "id": "4dc4b1b9",
   "metadata": {
    "execution": {
     "iopub.execute_input": "2024-05-23T11:22:52.037054Z",
     "iopub.status.busy": "2024-05-23T11:22:52.036579Z",
     "iopub.status.idle": "2024-05-23T11:22:52.106487Z",
     "shell.execute_reply": "2024-05-23T11:22:52.105231Z"
    },
    "papermill": {
     "duration": 0.109054,
     "end_time": "2024-05-23T11:22:52.109169",
     "exception": false,
     "start_time": "2024-05-23T11:22:52.000115",
     "status": "completed"
    },
    "tags": []
   },
   "outputs": [
    {
     "data": {
      "image/png": "[encoded data removed]",
      "text/plain": [
       "<Figure size 1000x600 with 1 Axes>"
      ]
     },
     "metadata": {},
     "output_type": "display_data"
    }
   ],
   "source": [
    "bins = [0, 5, 10, 20, 50, 100, 200]\n",
    "labels = ['0-5', '6-10', '11-20', '21-50', '51-100', '101-200']  # Completed the labels list\n",
    "\n",
    "train_df['Likes_Range'] = pd.cut(train_df['Likes_Received_Per_Day'], bins=bins, labels=labels, right=False)\n",
    "likes_range_counts = train_df['Likes_Range'].value_counts().sort_index()\n",
    "plt.figure(figsize=(10, 6))\n",
    "sns.barplot(x=likes_range_counts.values, y=likes_range_counts.index, palette='viridis')\n",
    "\n",
    "plt.title('Likes Per Day Distribution (Horizontal Bar Plot with Ranges)', fontsize=16)\n",
    "plt.xlabel('Number of People', fontsize=12)\n",
    "plt.ylabel('Likes Received Per Day (Range)', fontsize=12)\n",
    "plt.show()\n"
   ]
  },
  {
   "cell_type": "markdown",
   "id": "b83c397c",
   "metadata": {},
   "source": [
    "Common Range: 21-50 likes daily, about 450 people.\n",
    "\n",
    "Moderate Range: 11-20 likes daily, roughly 250 people.\n",
    "\n",
    "Least Common: 6-10 and 101-200 likes daily, around 50 people each."
   ]
  },
  {
   "cell_type": "markdown",
   "id": "551229e6",
   "metadata": {
    "papermill": {
     "duration": 0.034823,
     "end_time": "2024-05-23T11:22:52.179525",
     "exception": false,
     "start_time": "2024-05-23T11:22:52.144702",
     "status": "completed"
    },
    "tags": []
   },
   "source": [
    "### Comments Per Day Distribution"
   ]
  },
  {
   "cell_type": "code",
   "execution_count": 38,
   "id": "e5ac7464",
   "metadata": {
    "execution": {
     "iopub.execute_input": "2024-05-23T11:22:52.253312Z",
     "iopub.status.busy": "2024-05-23T11:22:52.252853Z",
     "iopub.status.idle": "2024-05-23T11:22:52.261056Z",
     "shell.execute_reply": "2024-05-23T11:22:52.259891Z"
    },
    "papermill": {
     "duration": 0.048919,
     "end_time": "2024-05-23T11:22:52.263578",
     "exception": false,
     "start_time": "2024-05-23T11:22:52.214659",
     "status": "completed"
    },
    "tags": []
   },
   "outputs": [
    {
     "data": {
      "text/plain": [
       "array([10., 25.,  5., 30.,  2., 15., 12.,  3., 20.,  7.,  4., 23., 18.,\n",
       "       22., 14., 26.,  8., 19., 17., 11.,  6.,  9., 13., 40., 16., 35.,\n",
       "       38., 28., 36., 33., nan])"
      ]
     },
     "execution_count": 38,
     "metadata": {},
     "output_type": "execute_result"
    }
   ],
   "source": [
    "train_df['Comments_Received_Per_Day'].unique()"
   ]
  },
  {
   "cell_type": "code",
   "execution_count": 39,
   "id": "1ef19dbd",
   "metadata": {
    "execution": {
     "iopub.execute_input": "2024-05-23T11:22:52.336844Z",
     "iopub.status.busy": "2024-05-23T11:22:52.336204Z",
     "iopub.status.idle": "2024-05-23T11:22:52.343246Z",
     "shell.execute_reply": "2024-05-23T11:22:52.342048Z"
    },
    "papermill": {
     "duration": 0.046275,
     "end_time": "2024-05-23T11:22:52.345761",
     "exception": false,
     "start_time": "2024-05-23T11:22:52.299486",
     "status": "completed"
    },
    "tags": []
   },
   "outputs": [],
   "source": [
    "# filling with mode\n",
    "train_df['Comments_Received_Per_Day'].fillna(train_df['Comments_Received_Per_Day'].mode()[0], inplace=True)"
   ]
  },
  {
   "cell_type": "code",
   "execution_count": 40,
   "id": "aacce8e2",
   "metadata": {
    "execution": {
     "iopub.execute_input": "2024-05-23T11:22:52.417837Z",
     "iopub.status.busy": "2024-05-23T11:22:52.417444Z",
     "iopub.status.idle": "2024-05-23T11:22:52.424928Z",
     "shell.execute_reply": "2024-05-23T11:22:52.424041Z"
    },
    "papermill": {
     "duration": 0.046076,
     "end_time": "2024-05-23T11:22:52.427017",
     "exception": false,
     "start_time": "2024-05-23T11:22:52.380941",
     "status": "completed"
    },
    "tags": []
   },
   "outputs": [
    {
     "data": {
      "text/plain": [
       "array([10., 25.,  5., 30.,  2., 15., 12.,  3., 20.,  7.,  4., 23., 18.,\n",
       "       22., 14., 26.,  8., 19., 17., 11.,  6.,  9., 13., 40., 16., 35.,\n",
       "       38., 28., 36., 33.])"
      ]
     },
     "execution_count": 40,
     "metadata": {},
     "output_type": "execute_result"
    }
   ],
   "source": [
    "train_df['Comments_Received_Per_Day'].unique()"
   ]
  },
  {
   "cell_type": "code",
   "execution_count": 41,
   "id": "04297370",
   "metadata": {
    "execution": {
     "iopub.execute_input": "2024-05-23T11:22:52.499849Z",
     "iopub.status.busy": "2024-05-23T11:22:52.499457Z",
     "iopub.status.idle": "2024-05-23T11:22:52.570319Z",
     "shell.execute_reply": "2024-05-23T11:22:52.569166Z"
    },
    "papermill": {
     "duration": 0.110266,
     "end_time": "2024-05-23T11:22:52.572980",
     "exception": false,
     "start_time": "2024-05-23T11:22:52.462714",
     "status": "completed"
    },
    "tags": []
   },
   "outputs": [
    {
     "data": {
      "application/vnd.plotly.v1+json": {
       "config": {
        "plotlyServerURL": "https://plot.ly"
       },
       "data": [
        {
         "alignmentgroup": "True",
         "hovertemplate": "Comments Received Per Day=%{x}<br>Count=%{y}<extra></extra>",
         "legendgroup": "",
         "marker": {
          "color": "#636efa",
          "pattern": {
           "shape": ""
          }
         },
         "name": "",
         "offsetgroup": "",
         "orientation": "v",
         "showlegend": false,
         "textposition": "auto",
         "type": "bar",
         "x": [
          2,
          3,
          4,
          5,
          6,
          7,
          8,
          9,
          10,
          11,
          12,
          13,
          14,
          15,
          16,
          17,
          18,
          19,
          20,
          22,
          23,
          25,
          26,
          28,
          30,
          33,
          35,
          36,
          38,
          40
         ],
         "xaxis": "x",
         "y": [
          6,
          4,
          49,
          55,
          48,
          68,
          61,
          10,
          71,
          21,
          61,
          13,
          56,
          8,
          36,
          10,
          79,
          12,
          70,
          48,
          21,
          57,
          19,
          18,
          55,
          9,
          9,
          9,
          9,
          9
         ],
         "yaxis": "y"
        }
       ],
       "layout": {
        "barmode": "relative",
        "legend": {
         "tracegroupgap": 0
        },
        "template": {
         "data": {
          "bar": [
           {
            "error_x": {
             "color": "#2a3f5f"
            },
            "error_y": {
             "color": "#2a3f5f"
            },
            "marker": {
             "line": {
              "color": "#E5ECF6",
              "width": 0.5
             },
             "pattern": {
              "fillmode": "overlay",
              "size": 10,
              "solidity": 0.2
             }
            },
            "type": "bar"
           }
          ],
          "barpolar": [
           {
            "marker": {
             "line": {
              "color": "#E5ECF6",
              "width": 0.5
             },
             "pattern": {
              "fillmode": "overlay",
              "size": 10,
              "solidity": 0.2
             }
            },
            "type": "barpolar"
           }
          ],
          "carpet": [
           {
            "aaxis": {
             "endlinecolor": "#2a3f5f",
             "gridcolor": "white",
             "linecolor": "white",
             "minorgridcolor": "white",
             "startlinecolor": "#2a3f5f"
            },
            "baxis": {
             "endlinecolor": "#2a3f5f",
             "gridcolor": "white",
             "linecolor": "white",
             "minorgridcolor": "white",
             "startlinecolor": "#2a3f5f"
            },
            "type": "carpet"
           }
          ],
          "choropleth": [
           {
            "colorbar": {
             "outlinewidth": 0,
             "ticks": ""
            },
            "type": "choropleth"
           }
          ],
          "contour": [
           {
            "colorbar": {
             "outlinewidth": 0,
             "ticks": ""
            },
            "colorscale": [
             [
              0,
              "#0d0887"
             ],
             [
              0.1111111111111111,
              "#46039f"
             ],
             [
              0.2222222222222222,
              "#7201a8"
             ],
             [
              0.3333333333333333,
              "#9c179e"
             ],
             [
              0.4444444444444444,
              "#bd3786"
             ],
             [
              0.5555555555555556,
              "#d8576b"
             ],
             [
              0.6666666666666666,
              "#ed7953"
             ],
             [
              0.7777777777777778,
              "#fb9f3a"
             ],
             [
              0.8888888888888888,
              "#fdca26"
             ],
             [
              1,
              "#f0f921"
             ]
            ],
            "type": "contour"
           }
          ],
          "contourcarpet": [
           {
            "colorbar": {
             "outlinewidth": 0,
             "ticks": ""
            },
            "type": "contourcarpet"
           }
          ],
          "heatmap": [
           {
            "colorbar": {
             "outlinewidth": 0,
             "ticks": ""
            },
            "colorscale": [
             [
              0,
              "#0d0887"
             ],
             [
              0.1111111111111111,
              "#46039f"
             ],
             [
              0.2222222222222222,
              "#7201a8"
             ],
             [
              0.3333333333333333,
              "#9c179e"
             ],
             [
              0.4444444444444444,
              "#bd3786"
             ],
             [
              0.5555555555555556,
              "#d8576b"
             ],
             [
              0.6666666666666666,
              "#ed7953"
             ],
             [
              0.7777777777777778,
              "#fb9f3a"
             ],
             [
              0.8888888888888888,
              "#fdca26"
             ],
             [
              1,
              "#f0f921"
             ]
            ],
            "type": "heatmap"
           }
          ],
          "heatmapgl": [
           {
            "colorbar": {
             "outlinewidth": 0,
             "ticks": ""
            },
            "colorscale": [
             [
              0,
              "#0d0887"
             ],
             [
              0.1111111111111111,
              "#46039f"
             ],
             [
              0.2222222222222222,
              "#7201a8"
             ],
             [
              0.3333333333333333,
              "#9c179e"
             ],
             [
              0.4444444444444444,
              "#bd3786"
             ],
             [
              0.5555555555555556,
              "#d8576b"
             ],
             [
              0.6666666666666666,
              "#ed7953"
             ],
             [
              0.7777777777777778,
              "#fb9f3a"
             ],
             [
              0.8888888888888888,
              "#fdca26"
             ],
             [
              1,
              "#f0f921"
             ]
            ],
            "type": "heatmapgl"
           }
          ],
          "histogram": [
           {
            "marker": {
             "pattern": {
              "fillmode": "overlay",
              "size": 10,
              "solidity": 0.2
             }
            },
            "type": "histogram"
           }
          ],
          "histogram2d": [
           {
            "colorbar": {
             "outlinewidth": 0,
             "ticks": ""
            },
            "colorscale": [
             [
              0,
              "#0d0887"
             ],
             [
              0.1111111111111111,
              "#46039f"
             ],
             [
              0.2222222222222222,
              "#7201a8"
             ],
             [
              0.3333333333333333,
              "#9c179e"
             ],
             [
              0.4444444444444444,
              "#bd3786"
             ],
             [
              0.5555555555555556,
              "#d8576b"
             ],
             [
              0.6666666666666666,
              "#ed7953"
             ],
             [
              0.7777777777777778,
              "#fb9f3a"
             ],
             [
              0.8888888888888888,
              "#fdca26"
             ],
             [
              1,
              "#f0f921"
             ]
            ],
            "type": "histogram2d"
           }
          ],
          "histogram2dcontour": [
           {
            "colorbar": {
             "outlinewidth": 0,
             "ticks": ""
            },
            "colorscale": [
             [
              0,
              "#0d0887"
             ],
             [
              0.1111111111111111,
              "#46039f"
             ],
             [
              0.2222222222222222,
              "#7201a8"
             ],
             [
              0.3333333333333333,
              "#9c179e"
             ],
             [
              0.4444444444444444,
              "#bd3786"
             ],
             [
              0.5555555555555556,
              "#d8576b"
             ],
             [
              0.6666666666666666,
              "#ed7953"
             ],
             [
              0.7777777777777778,
              "#fb9f3a"
             ],
             [
              0.8888888888888888,
              "#fdca26"
             ],
             [
              1,
              "#f0f921"
             ]
            ],
            "type": "histogram2dcontour"
           }
          ],
          "mesh3d": [
           {
            "colorbar": {
             "outlinewidth": 0,
             "ticks": ""
            },
            "type": "mesh3d"
           }
          ],
          "parcoords": [
           {
            "line": {
             "colorbar": {
              "outlinewidth": 0,
              "ticks": ""
             }
            },
            "type": "parcoords"
           }
          ],
          "pie": [
           {
            "automargin": true,
            "type": "pie"
           }
          ],
          "scatter": [
           {
            "fillpattern": {
             "fillmode": "overlay",
             "size": 10,
             "solidity": 0.2
            },
            "type": "scatter"
           }
          ],
          "scatter3d": [
           {
            "line": {
             "colorbar": {
              "outlinewidth": 0,
              "ticks": ""
             }
            },
            "marker": {
             "colorbar": {
              "outlinewidth": 0,
              "ticks": ""
             }
            },
            "type": "scatter3d"
           }
          ],
          "scattercarpet": [
           {
            "marker": {
             "colorbar": {
              "outlinewidth": 0,
              "ticks": ""
             }
            },
            "type": "scattercarpet"
           }
          ],
          "scattergeo": [
           {
            "marker": {
             "colorbar": {
              "outlinewidth": 0,
              "ticks": ""
             }
            },
            "type": "scattergeo"
           }
          ],
          "scattergl": [
           {
            "marker": {
             "colorbar": {
              "outlinewidth": 0,
              "ticks": ""
             }
            },
            "type": "scattergl"
           }
          ],
          "scattermapbox": [
           {
            "marker": {
             "colorbar": {
              "outlinewidth": 0,
              "ticks": ""
             }
            },
            "type": "scattermapbox"
           }
          ],
          "scatterpolar": [
           {
            "marker": {
             "colorbar": {
              "outlinewidth": 0,
              "ticks": ""
             }
            },
            "type": "scatterpolar"
           }
          ],
          "scatterpolargl": [
           {
            "marker": {
             "colorbar": {
              "outlinewidth": 0,
              "ticks": ""
             }
            },
            "type": "scatterpolargl"
           }
          ],
          "scatterternary": [
           {
            "marker": {
             "colorbar": {
              "outlinewidth": 0,
              "ticks": ""
             }
            },
            "type": "scatterternary"
           }
          ],
          "surface": [
           {
            "colorbar": {
             "outlinewidth": 0,
             "ticks": ""
            },
            "colorscale": [
             [
              0,
              "#0d0887"
             ],
             [
              0.1111111111111111,
              "#46039f"
             ],
             [
              0.2222222222222222,
              "#7201a8"
             ],
             [
              0.3333333333333333,
              "#9c179e"
             ],
             [
              0.4444444444444444,
              "#bd3786"
             ],
             [
              0.5555555555555556,
              "#d8576b"
             ],
             [
              0.6666666666666666,
              "#ed7953"
             ],
             [
              0.7777777777777778,
              "#fb9f3a"
             ],
             [
              0.8888888888888888,
              "#fdca26"
             ],
             [
              1,
              "#f0f921"
             ]
            ],
            "type": "surface"
           }
          ],
          "table": [
           {
            "cells": {
             "fill": {
              "color": "#EBF0F8"
             },
             "line": {
              "color": "white"
             }
            },
            "header": {
             "fill": {
              "color": "#C8D4E3"
             },
             "line": {
              "color": "white"
             }
            },
            "type": "table"
           }
          ]
         },
         "layout": {
          "annotationdefaults": {
           "arrowcolor": "#2a3f5f",
           "arrowhead": 0,
           "arrowwidth": 1
          },
          "autotypenumbers": "strict",
          "coloraxis": {
           "colorbar": {
            "outlinewidth": 0,
            "ticks": ""
           }
          },
          "colorscale": {
           "diverging": [
            [
             0,
             "#8e0152"
            ],
            [
             0.1,
             "#c51b7d"
            ],
            [
             0.2,
             "#de77ae"
            ],
            [
             0.3,
             "#f1b6da"
            ],
            [
             0.4,
             "#fde0ef"
            ],
            [
             0.5,
             "#f7f7f7"
            ],
            [
             0.6,
             "#e6f5d0"
            ],
            [
             0.7,
             "#b8e186"
            ],
            [
             0.8,
             "#7fbc41"
            ],
            [
             0.9,
             "#4d9221"
            ],
            [
             1,
             "#276419"
            ]
           ],
           "sequential": [
            [
             0,
             "#0d0887"
            ],
            [
             0.1111111111111111,
             "#46039f"
            ],
            [
             0.2222222222222222,
             "#7201a8"
            ],
            [
             0.3333333333333333,
             "#9c179e"
            ],
            [
             0.4444444444444444,
             "#bd3786"
            ],
            [
             0.5555555555555556,
             "#d8576b"
            ],
            [
             0.6666666666666666,
             "#ed7953"
            ],
            [
             0.7777777777777778,
             "#fb9f3a"
            ],
            [
             0.8888888888888888,
             "#fdca26"
            ],
            [
             1,
             "#f0f921"
            ]
           ],
           "sequentialminus": [
            [
             0,
             "#0d0887"
            ],
            [
             0.1111111111111111,
             "#46039f"
            ],
            [
             0.2222222222222222,
             "#7201a8"
            ],
            [
             0.3333333333333333,
             "#9c179e"
            ],
            [
             0.4444444444444444,
             "#bd3786"
            ],
            [
             0.5555555555555556,
             "#d8576b"
            ],
            [
             0.6666666666666666,
             "#ed7953"
            ],
            [
             0.7777777777777778,
             "#fb9f3a"
            ],
            [
             0.8888888888888888,
             "#fdca26"
            ],
            [
             1,
             "#f0f921"
            ]
           ]
          },
          "colorway": [
           "#636efa",
           "#EF553B",
           "#00cc96",
           "#ab63fa",
           "#FFA15A",
           "#19d3f3",
           "#FF6692",
           "#B6E880",
           "#FF97FF",
           "#FECB52"
          ],
          "font": {
           "color": "#2a3f5f"
          },
          "geo": {
           "bgcolor": "white",
           "lakecolor": "white",
           "landcolor": "#E5ECF6",
           "showlakes": true,
           "showland": true,
           "subunitcolor": "white"
          },
          "hoverlabel": {
           "align": "left"
          },
          "hovermode": "closest",
          "mapbox": {
           "style": "light"
          },
          "paper_bgcolor": "white",
          "plot_bgcolor": "#E5ECF6",
          "polar": {
           "angularaxis": {
            "gridcolor": "white",
            "linecolor": "white",
            "ticks": ""
           },
           "bgcolor": "#E5ECF6",
           "radialaxis": {
            "gridcolor": "white",
            "linecolor": "white",
            "ticks": ""
           }
          },
          "scene": {
           "xaxis": {
            "backgroundcolor": "#E5ECF6",
            "gridcolor": "white",
            "gridwidth": 2,
            "linecolor": "white",
            "showbackground": true,
            "ticks": "",
            "zerolinecolor": "white"
           },
           "yaxis": {
            "backgroundcolor": "#E5ECF6",
            "gridcolor": "white",
            "gridwidth": 2,
            "linecolor": "white",
            "showbackground": true,
            "ticks": "",
            "zerolinecolor": "white"
           },
           "zaxis": {
            "backgroundcolor": "#E5ECF6",
            "gridcolor": "white",
            "gridwidth": 2,
            "linecolor": "white",
            "showbackground": true,
            "ticks": "",
            "zerolinecolor": "white"
           }
          },
          "shapedefaults": {
           "line": {
            "color": "#2a3f5f"
           }
          },
          "ternary": {
           "aaxis": {
            "gridcolor": "white",
            "linecolor": "white",
            "ticks": ""
           },
           "baxis": {
            "gridcolor": "white",
            "linecolor": "white",
            "ticks": ""
           },
           "bgcolor": "#E5ECF6",
           "caxis": {
            "gridcolor": "white",
            "linecolor": "white",
            "ticks": ""
           }
          },
          "title": {
           "x": 0.05
          },
          "xaxis": {
           "automargin": true,
           "gridcolor": "white",
           "linecolor": "white",
           "ticks": "",
           "title": {
            "standoff": 15
           },
           "zerolinecolor": "white",
           "zerolinewidth": 2
          },
          "yaxis": {
           "automargin": true,
           "gridcolor": "white",
           "linecolor": "white",
           "ticks": "",
           "title": {
            "standoff": 15
           },
           "zerolinecolor": "white",
           "zerolinewidth": 2
          }
         }
        },
        "title": {
         "text": "Comments Per Day Distribution"
        },
        "xaxis": {
         "anchor": "y",
         "domain": [
          0,
          1
         ],
         "title": {
          "text": "Comments Received Per Day"
         }
        },
        "yaxis": {
         "anchor": "x",
         "domain": [
          0,
          1
         ],
         "title": {
          "text": "Count"
         }
        }
       }
      }
     },
     "metadata": {},
     "output_type": "display_data"
    }
   ],
   "source": [
    "comments_received_counts = train_df['Comments_Received_Per_Day'].value_counts().sort_index()\n",
    "plt = px.bar(\n",
    "    x=comments_received_counts.index, \n",
    "    y=comments_received_counts.values, \n",
    "    title='Comments Per Day Distribution',\n",
    "    labels={'x': 'Comments Received Per Day', 'y': 'Count'}\n",
    ")\n",
    "plt.show()"
   ]
  },
  {
   "cell_type": "markdown",
   "id": "e1016b15",
   "metadata": {},
   "source": [
    "Frequent Range: 20 comments daily, seen on approximately 75 days.\n",
    "\n",
    "Consistent Engagement: 15-20 comments daily, indicating regular interaction.\n",
    "\n",
    "Activity Spread: Varies from few to about 40 comments, showing engagement fluctuations"
   ]
  },
  {
   "cell_type": "markdown",
   "id": "a9b2d8ac",
   "metadata": {
    "papermill": {
     "duration": 0.035507,
     "end_time": "2024-05-23T11:22:52.644433",
     "exception": false,
     "start_time": "2024-05-23T11:22:52.608926",
     "status": "completed"
    },
    "tags": []
   },
   "source": [
    "### Messages Per Day Distribution"
   ]
  },
  {
   "cell_type": "code",
   "execution_count": 42,
   "id": "fec800b6",
   "metadata": {
    "execution": {
     "iopub.execute_input": "2024-05-23T11:22:52.718510Z",
     "iopub.status.busy": "2024-05-23T11:22:52.718131Z",
     "iopub.status.idle": "2024-05-23T11:22:52.787853Z",
     "shell.execute_reply": "2024-05-23T11:22:52.786890Z"
    },
    "papermill": {
     "duration": 0.109511,
     "end_time": "2024-05-23T11:22:52.790071",
     "exception": false,
     "start_time": "2024-05-23T11:22:52.680560",
     "status": "completed"
    },
    "tags": []
   },
   "outputs": [
    {
     "data": {
      "application/vnd.plotly.v1+json": {
       "config": {
        "plotlyServerURL": "https://plot.ly"
       },
       "data": [
        {
         "alignmentgroup": "True",
         "hovertemplate": "Messages Received Per Day=%{x}<br>Count=%{y}<extra></extra>",
         "legendgroup": "",
         "marker": {
          "color": "#636efa",
          "pattern": {
           "shape": ""
          }
         },
         "name": "",
         "offsetgroup": "",
         "orientation": "v",
         "showlegend": false,
         "textposition": "auto",
         "type": "bar",
         "x": [
          8,
          9,
          10,
          11,
          12,
          14,
          15,
          17,
          18,
          19,
          20,
          21,
          22,
          23,
          24,
          25,
          26,
          27,
          28,
          29,
          30,
          31,
          32,
          33,
          35,
          38,
          40,
          45,
          50
         ],
         "xaxis": "x",
         "y": [
          1,
          1,
          61,
          20,
          78,
          30,
          48,
          11,
          102,
          10,
          112,
          11,
          80,
          9,
          28,
          89,
          20,
          11,
          58,
          9,
          79,
          10,
          1,
          21,
          31,
          29,
          11,
          19,
          10
         ],
         "yaxis": "y"
        }
       ],
       "layout": {
        "barmode": "relative",
        "legend": {
         "tracegroupgap": 0
        },
        "template": {
         "data": {
          "bar": [
           {
            "error_x": {
             "color": "#2a3f5f"
            },
            "error_y": {
             "color": "#2a3f5f"
            },
            "marker": {
             "line": {
              "color": "#E5ECF6",
              "width": 0.5
             },
             "pattern": {
              "fillmode": "overlay",
              "size": 10,
              "solidity": 0.2
             }
            },
            "type": "bar"
           }
          ],
          "barpolar": [
           {
            "marker": {
             "line": {
              "color": "#E5ECF6",
              "width": 0.5
             },
             "pattern": {
              "fillmode": "overlay",
              "size": 10,
              "solidity": 0.2
             }
            },
            "type": "barpolar"
           }
          ],
          "carpet": [
           {
            "aaxis": {
             "endlinecolor": "#2a3f5f",
             "gridcolor": "white",
             "linecolor": "white",
             "minorgridcolor": "white",
             "startlinecolor": "#2a3f5f"
            },
            "baxis": {
             "endlinecolor": "#2a3f5f",
             "gridcolor": "white",
             "linecolor": "white",
             "minorgridcolor": "white",
             "startlinecolor": "#2a3f5f"
            },
            "type": "carpet"
           }
          ],
          "choropleth": [
           {
            "colorbar": {
             "outlinewidth": 0,
             "ticks": ""
            },
            "type": "choropleth"
           }
          ],
          "contour": [
           {
            "colorbar": {
             "outlinewidth": 0,
             "ticks": ""
            },
            "colorscale": [
             [
              0,
              "#0d0887"
             ],
             [
              0.1111111111111111,
              "#46039f"
             ],
             [
              0.2222222222222222,
              "#7201a8"
             ],
             [
              0.3333333333333333,
              "#9c179e"
             ],
             [
              0.4444444444444444,
              "#bd3786"
             ],
             [
              0.5555555555555556,
              "#d8576b"
             ],
             [
              0.6666666666666666,
              "#ed7953"
             ],
             [
              0.7777777777777778,
              "#fb9f3a"
             ],
             [
              0.8888888888888888,
              "#fdca26"
             ],
             [
              1,
              "#f0f921"
             ]
            ],
            "type": "contour"
           }
          ],
          "contourcarpet": [
           {
            "colorbar": {
             "outlinewidth": 0,
             "ticks": ""
            },
            "type": "contourcarpet"
           }
          ],
          "heatmap": [
           {
            "colorbar": {
             "outlinewidth": 0,
             "ticks": ""
            },
            "colorscale": [
             [
              0,
              "#0d0887"
             ],
             [
              0.1111111111111111,
              "#46039f"
             ],
             [
              0.2222222222222222,
              "#7201a8"
             ],
             [
              0.3333333333333333,
              "#9c179e"
             ],
             [
              0.4444444444444444,
              "#bd3786"
             ],
             [
              0.5555555555555556,
              "#d8576b"
             ],
             [
              0.6666666666666666,
              "#ed7953"
             ],
             [
              0.7777777777777778,
              "#fb9f3a"
             ],
             [
              0.8888888888888888,
              "#fdca26"
             ],
             [
              1,
              "#f0f921"
             ]
            ],
            "type": "heatmap"
           }
          ],
          "heatmapgl": [
           {
            "colorbar": {
             "outlinewidth": 0,
             "ticks": ""
            },
            "colorscale": [
             [
              0,
              "#0d0887"
             ],
             [
              0.1111111111111111,
              "#46039f"
             ],
             [
              0.2222222222222222,
              "#7201a8"
             ],
             [
              0.3333333333333333,
              "#9c179e"
             ],
             [
              0.4444444444444444,
              "#bd3786"
             ],
             [
              0.5555555555555556,
              "#d8576b"
             ],
             [
              0.6666666666666666,
              "#ed7953"
             ],
             [
              0.7777777777777778,
              "#fb9f3a"
             ],
             [
              0.8888888888888888,
              "#fdca26"
             ],
             [
              1,
              "#f0f921"
             ]
            ],
            "type": "heatmapgl"
           }
          ],
          "histogram": [
           {
            "marker": {
             "pattern": {
              "fillmode": "overlay",
              "size": 10,
              "solidity": 0.2
             }
            },
            "type": "histogram"
           }
          ],
          "histogram2d": [
           {
            "colorbar": {
             "outlinewidth": 0,
             "ticks": ""
            },
            "colorscale": [
             [
              0,
              "#0d0887"
             ],
             [
              0.1111111111111111,
              "#46039f"
             ],
             [
              0.2222222222222222,
              "#7201a8"
             ],
             [
              0.3333333333333333,
              "#9c179e"
             ],
             [
              0.4444444444444444,
              "#bd3786"
             ],
             [
              0.5555555555555556,
              "#d8576b"
             ],
             [
              0.6666666666666666,
              "#ed7953"
             ],
             [
              0.7777777777777778,
              "#fb9f3a"
             ],
             [
              0.8888888888888888,
              "#fdca26"
             ],
             [
              1,
              "#f0f921"
             ]
            ],
            "type": "histogram2d"
           }
          ],
          "histogram2dcontour": [
           {
            "colorbar": {
             "outlinewidth": 0,
             "ticks": ""
            },
            "colorscale": [
             [
              0,
              "#0d0887"
             ],
             [
              0.1111111111111111,
              "#46039f"
             ],
             [
              0.2222222222222222,
              "#7201a8"
             ],
             [
              0.3333333333333333,
              "#9c179e"
             ],
             [
              0.4444444444444444,
              "#bd3786"
             ],
             [
              0.5555555555555556,
              "#d8576b"
             ],
             [
              0.6666666666666666,
              "#ed7953"
             ],
             [
              0.7777777777777778,
              "#fb9f3a"
             ],
             [
              0.8888888888888888,
              "#fdca26"
             ],
             [
              1,
              "#f0f921"
             ]
            ],
            "type": "histogram2dcontour"
           }
          ],
          "mesh3d": [
           {
            "colorbar": {
             "outlinewidth": 0,
             "ticks": ""
            },
            "type": "mesh3d"
           }
          ],
          "parcoords": [
           {
            "line": {
             "colorbar": {
              "outlinewidth": 0,
              "ticks": ""
             }
            },
            "type": "parcoords"
           }
          ],
          "pie": [
           {
            "automargin": true,
            "type": "pie"
           }
          ],
          "scatter": [
           {
            "fillpattern": {
             "fillmode": "overlay",
             "size": 10,
             "solidity": 0.2
            },
            "type": "scatter"
           }
          ],
          "scatter3d": [
           {
            "line": {
             "colorbar": {
              "outlinewidth": 0,
              "ticks": ""
             }
            },
            "marker": {
             "colorbar": {
              "outlinewidth": 0,
              "ticks": ""
             }
            },
            "type": "scatter3d"
           }
          ],
          "scattercarpet": [
           {
            "marker": {
             "colorbar": {
              "outlinewidth": 0,
              "ticks": ""
             }
            },
            "type": "scattercarpet"
           }
          ],
          "scattergeo": [
           {
            "marker": {
             "colorbar": {
              "outlinewidth": 0,
              "ticks": ""
             }
            },
            "type": "scattergeo"
           }
          ],
          "scattergl": [
           {
            "marker": {
             "colorbar": {
              "outlinewidth": 0,
              "ticks": ""
             }
            },
            "type": "scattergl"
           }
          ],
          "scattermapbox": [
           {
            "marker": {
             "colorbar": {
              "outlinewidth": 0,
              "ticks": ""
             }
            },
            "type": "scattermapbox"
           }
          ],
          "scatterpolar": [
           {
            "marker": {
             "colorbar": {
              "outlinewidth": 0,
              "ticks": ""
             }
            },
            "type": "scatterpolar"
           }
          ],
          "scatterpolargl": [
           {
            "marker": {
             "colorbar": {
              "outlinewidth": 0,
              "ticks": ""
             }
            },
            "type": "scatterpolargl"
           }
          ],
          "scatterternary": [
           {
            "marker": {
             "colorbar": {
              "outlinewidth": 0,
              "ticks": ""
             }
            },
            "type": "scatterternary"
           }
          ],
          "surface": [
           {
            "colorbar": {
             "outlinewidth": 0,
             "ticks": ""
            },
            "colorscale": [
             [
              0,
              "#0d0887"
             ],
             [
              0.1111111111111111,
              "#46039f"
             ],
             [
              0.2222222222222222,
              "#7201a8"
             ],
             [
              0.3333333333333333,
              "#9c179e"
             ],
             [
              0.4444444444444444,
              "#bd3786"
             ],
             [
              0.5555555555555556,
              "#d8576b"
             ],
             [
              0.6666666666666666,
              "#ed7953"
             ],
             [
              0.7777777777777778,
              "#fb9f3a"
             ],
             [
              0.8888888888888888,
              "#fdca26"
             ],
             [
              1,
              "#f0f921"
             ]
            ],
            "type": "surface"
           }
          ],
          "table": [
           {
            "cells": {
             "fill": {
              "color": "#EBF0F8"
             },
             "line": {
              "color": "white"
             }
            },
            "header": {
             "fill": {
              "color": "#C8D4E3"
             },
             "line": {
              "color": "white"
             }
            },
            "type": "table"
           }
          ]
         },
         "layout": {
          "annotationdefaults": {
           "arrowcolor": "#2a3f5f",
           "arrowhead": 0,
           "arrowwidth": 1
          },
          "autotypenumbers": "strict",
          "coloraxis": {
           "colorbar": {
            "outlinewidth": 0,
            "ticks": ""
           }
          },
          "colorscale": {
           "diverging": [
            [
             0,
             "#8e0152"
            ],
            [
             0.1,
             "#c51b7d"
            ],
            [
             0.2,
             "#de77ae"
            ],
            [
             0.3,
             "#f1b6da"
            ],
            [
             0.4,
             "#fde0ef"
            ],
            [
             0.5,
             "#f7f7f7"
            ],
            [
             0.6,
             "#e6f5d0"
            ],
            [
             0.7,
             "#b8e186"
            ],
            [
             0.8,
             "#7fbc41"
            ],
            [
             0.9,
             "#4d9221"
            ],
            [
             1,
             "#276419"
            ]
           ],
           "sequential": [
            [
             0,
             "#0d0887"
            ],
            [
             0.1111111111111111,
             "#46039f"
            ],
            [
             0.2222222222222222,
             "#7201a8"
            ],
            [
             0.3333333333333333,
             "#9c179e"
            ],
            [
             0.4444444444444444,
             "#bd3786"
            ],
            [
             0.5555555555555556,
             "#d8576b"
            ],
            [
             0.6666666666666666,
             "#ed7953"
            ],
            [
             0.7777777777777778,
             "#fb9f3a"
            ],
            [
             0.8888888888888888,
             "#fdca26"
            ],
            [
             1,
             "#f0f921"
            ]
           ],
           "sequentialminus": [
            [
             0,
             "#0d0887"
            ],
            [
             0.1111111111111111,
             "#46039f"
            ],
            [
             0.2222222222222222,
             "#7201a8"
            ],
            [
             0.3333333333333333,
             "#9c179e"
            ],
            [
             0.4444444444444444,
             "#bd3786"
            ],
            [
             0.5555555555555556,
             "#d8576b"
            ],
            [
             0.6666666666666666,
             "#ed7953"
            ],
            [
             0.7777777777777778,
             "#fb9f3a"
            ],
            [
             0.8888888888888888,
             "#fdca26"
            ],
            [
             1,
             "#f0f921"
            ]
           ]
          },
          "colorway": [
           "#636efa",
           "#EF553B",
           "#00cc96",
           "#ab63fa",
           "#FFA15A",
           "#19d3f3",
           "#FF6692",
           "#B6E880",
           "#FF97FF",
           "#FECB52"
          ],
          "font": {
           "color": "#2a3f5f"
          },
          "geo": {
           "bgcolor": "white",
           "lakecolor": "white",
           "landcolor": "#E5ECF6",
           "showlakes": true,
           "showland": true,
           "subunitcolor": "white"
          },
          "hoverlabel": {
           "align": "left"
          },
          "hovermode": "closest",
          "mapbox": {
           "style": "light"
          },
          "paper_bgcolor": "white",
          "plot_bgcolor": "#E5ECF6",
          "polar": {
           "angularaxis": {
            "gridcolor": "white",
            "linecolor": "white",
            "ticks": ""
           },
           "bgcolor": "#E5ECF6",
           "radialaxis": {
            "gridcolor": "white",
            "linecolor": "white",
            "ticks": ""
           }
          },
          "scene": {
           "xaxis": {
            "backgroundcolor": "#E5ECF6",
            "gridcolor": "white",
            "gridwidth": 2,
            "linecolor": "white",
            "showbackground": true,
            "ticks": "",
            "zerolinecolor": "white"
           },
           "yaxis": {
            "backgroundcolor": "#E5ECF6",
            "gridcolor": "white",
            "gridwidth": 2,
            "linecolor": "white",
            "showbackground": true,
            "ticks": "",
            "zerolinecolor": "white"
           },
           "zaxis": {
            "backgroundcolor": "#E5ECF6",
            "gridcolor": "white",
            "gridwidth": 2,
            "linecolor": "white",
            "showbackground": true,
            "ticks": "",
            "zerolinecolor": "white"
           }
          },
          "shapedefaults": {
           "line": {
            "color": "#2a3f5f"
           }
          },
          "ternary": {
           "aaxis": {
            "gridcolor": "white",
            "linecolor": "white",
            "ticks": ""
           },
           "baxis": {
            "gridcolor": "white",
            "linecolor": "white",
            "ticks": ""
           },
           "bgcolor": "#E5ECF6",
           "caxis": {
            "gridcolor": "white",
            "linecolor": "white",
            "ticks": ""
           }
          },
          "title": {
           "x": 0.05
          },
          "xaxis": {
           "automargin": true,
           "gridcolor": "white",
           "linecolor": "white",
           "ticks": "",
           "title": {
            "standoff": 15
           },
           "zerolinecolor": "white",
           "zerolinewidth": 2
          },
          "yaxis": {
           "automargin": true,
           "gridcolor": "white",
           "linecolor": "white",
           "ticks": "",
           "title": {
            "standoff": 15
           },
           "zerolinecolor": "white",
           "zerolinewidth": 2
          }
         }
        },
        "title": {
         "text": "Messages Per Day Distribution"
        },
        "xaxis": {
         "anchor": "y",
         "domain": [
          0,
          1
         ],
         "title": {
          "text": "Messages Received Per Day"
         }
        },
        "yaxis": {
         "anchor": "x",
         "domain": [
          0,
          1
         ],
         "title": {
          "text": "Count"
         }
        }
       }
      }
     },
     "metadata": {},
     "output_type": "display_data"
    }
   ],
   "source": [
    "comments_received_counts = train_df['Messages_Sent_Per_Day'].value_counts().sort_index()\n",
    "plt = px.bar(\n",
    "    x=comments_received_counts.index, \n",
    "    y=comments_received_counts.values, \n",
    "    title='Messages Per Day Distribution',\n",
    "    labels={'x': 'Messages Received Per Day', 'y': 'Count'}\n",
    ")\n",
    "plt.show()"
   ]
  },
  {
   "cell_type": "markdown",
   "id": "d68a67b2",
   "metadata": {
    "papermill": {
     "duration": 0.035606,
     "end_time": "2024-05-23T11:22:52.861805",
     "exception": false,
     "start_time": "2024-05-23T11:22:52.826199",
     "status": "completed"
    },
    "tags": []
   },
   "source": [
    "### Emotion Distribution"
   ]
  },
  {
   "cell_type": "code",
   "execution_count": 43,
   "id": "1c123f7a",
   "metadata": {
    "execution": {
     "iopub.execute_input": "2024-05-23T11:22:52.936403Z",
     "iopub.status.busy": "2024-05-23T11:22:52.935733Z",
     "iopub.status.idle": "2024-05-23T11:22:52.943573Z",
     "shell.execute_reply": "2024-05-23T11:22:52.942473Z"
    },
    "papermill": {
     "duration": 0.047822,
     "end_time": "2024-05-23T11:22:52.945998",
     "exception": false,
     "start_time": "2024-05-23T11:22:52.898176",
     "status": "completed"
    },
    "tags": []
   },
   "outputs": [
    {
     "data": {
      "text/plain": [
       "array(['Happiness', 'Anger', 'Neutral', 'Anxiety', 'Boredom', 'Sadness',\n",
       "       nan], dtype=object)"
      ]
     },
     "execution_count": 43,
     "metadata": {},
     "output_type": "execute_result"
    }
   ],
   "source": [
    "train_df['Dominant_Emotion'].unique()"
   ]
  },
  {
   "cell_type": "code",
   "execution_count": 44,
   "id": "2c0a91fa",
   "metadata": {
    "execution": {
     "iopub.execute_input": "2024-05-23T11:22:53.023049Z",
     "iopub.status.busy": "2024-05-23T11:22:53.022562Z",
     "iopub.status.idle": "2024-05-23T11:22:53.029525Z",
     "shell.execute_reply": "2024-05-23T11:22:53.028095Z"
    },
    "papermill": {
     "duration": 0.048297,
     "end_time": "2024-05-23T11:22:53.031823",
     "exception": false,
     "start_time": "2024-05-23T11:22:52.983526",
     "status": "completed"
    },
    "tags": []
   },
   "outputs": [],
   "source": [
    "# fill with mode\n",
    "train_df['Dominant_Emotion'].fillna(train_df['Dominant_Emotion'].mode()[0], inplace=True)"
   ]
  },
  {
   "cell_type": "code",
   "execution_count": 45,
   "id": "aa6525e6",
   "metadata": {
    "execution": {
     "iopub.execute_input": "2024-05-23T11:22:53.108131Z",
     "iopub.status.busy": "2024-05-23T11:22:53.107691Z",
     "iopub.status.idle": "2024-05-23T11:22:53.193032Z",
     "shell.execute_reply": "2024-05-23T11:22:53.191976Z"
    },
    "papermill": {
     "duration": 0.126617,
     "end_time": "2024-05-23T11:22:53.195647",
     "exception": false,
     "start_time": "2024-05-23T11:22:53.069030",
     "status": "completed"
    },
    "tags": []
   },
   "outputs": [
    {
     "data": {
      "application/vnd.plotly.v1+json": {
       "config": {
        "plotlyServerURL": "https://plot.ly"
       },
       "data": [
        {
         "domain": {
          "x": [
           0,
           1
          ],
          "y": [
           0,
           1
          ]
         },
         "hovertemplate": "Dominant_Emotion=%{label}<extra></extra>",
         "labels": [
          "Happiness",
          "Anger",
          "Neutral",
          "Anxiety",
          "Boredom",
          "Happiness",
          "Anger",
          "Sadness",
          "Neutral",
          "Happiness",
          "Anxiety",
          "Sadness",
          "Boredom",
          "Happiness",
          "Anger",
          "Neutral",
          "Anxiety",
          "Sadness",
          "Neutral",
          "Happiness",
          "Anxiety",
          "Anger",
          "Boredom",
          "Happiness",
          "Sadness",
          "Neutral",
          "Anxiety",
          "Happiness",
          "Anger",
          "Sadness",
          "Boredom",
          "Happiness",
          "Neutral",
          "Sadness",
          "Anxiety",
          "Boredom",
          "Happiness",
          "Anger",
          "Neutral",
          "Anxiety",
          "Sadness",
          "Happiness",
          "Anger",
          "Neutral",
          "Boredom",
          "Happiness",
          "Sadness",
          "Anxiety",
          "Neutral",
          "Boredom",
          "Happiness",
          "Anger",
          "Neutral",
          "Sadness",
          "Anxiety",
          "Anxiety",
          "Boredom",
          "Sadness",
          "Happiness",
          "Boredom",
          "Happiness",
          "Anger",
          "Neutral",
          "Anxiety",
          "Sadness",
          "Boredom",
          "Happiness",
          "Neutral",
          "Anxiety",
          "Sadness",
          "Happiness",
          "Boredom",
          "Neutral",
          "Anger",
          "Neutral",
          "Anxiety",
          "Happiness",
          "Sadness",
          "Anxiety",
          "Neutral",
          "Sadness",
          "Happiness",
          "Anger",
          "Neutral",
          "Boredom",
          "Anxiety",
          "Sadness",
          "Neutral",
          "Happiness",
          "Anxiety",
          "Boredom",
          "Anger",
          "Neutral",
          "Sadness",
          "Anxiety",
          "Boredom",
          "Neutral",
          "Happiness",
          "Anger",
          "Neutral",
          "Happiness",
          "Anger",
          "Neutral",
          "Anxiety",
          "Boredom",
          "Happiness",
          "Anger",
          "Sadness",
          "Neutral",
          "Happiness",
          "Anxiety",
          "Sadness",
          "Boredom",
          "Happiness",
          "Anger",
          "Neutral",
          "Anxiety",
          "Sadness",
          "Neutral",
          "Happiness",
          "Anxiety",
          "Anger",
          "Boredom",
          "Happiness",
          "Sadness",
          "Neutral",
          "Anxiety",
          "Happiness",
          "Anger",
          "Sadness",
          "Boredom",
          "Happiness",
          "Neutral",
          "Sadness",
          "Anxiety",
          "Boredom",
          "Happiness",
          "Anger",
          "Neutral",
          "Anxiety",
          "Sadness",
          "Happiness",
          "Anger",
          "Neutral",
          "Boredom",
          "Happiness",
          "Sadness",
          "Anxiety",
          "Neutral",
          "Boredom",
          "Happiness",
          "Anger",
          "Neutral",
          "Sadness",
          "Anxiety",
          "Anxiety",
          "Boredom",
          "Sadness",
          "Happiness",
          "Boredom",
          "Happiness",
          "Anger",
          "Neutral",
          "Anxiety",
          "Sadness",
          "Boredom",
          "Happiness",
          "Neutral",
          "Anxiety",
          "Sadness",
          "Happiness",
          "Boredom",
          "Neutral",
          "Anger",
          "Neutral",
          "Anxiety",
          "Happiness",
          "Sadness",
          "Anxiety",
          "Neutral",
          "Sadness",
          "Happiness",
          "Anger",
          "Neutral",
          "Boredom",
          "Anxiety",
          "Sadness",
          "Neutral",
          "Happiness",
          "Anxiety",
          "Boredom",
          "Anger",
          "Neutral",
          "Sadness",
          "Anxiety",
          "Boredom",
          "Neutral",
          "Happiness",
          "Anger",
          "Neutral",
          "Happiness",
          "Anger",
          "Neutral",
          "Anxiety",
          "Boredom",
          "Happiness",
          "Anger",
          "Sadness",
          "Neutral",
          "Happiness",
          "Anxiety",
          "Sadness",
          "Boredom",
          "Happiness",
          "Anger",
          "Neutral",
          "Anxiety",
          "Sadness",
          "Neutral",
          "Happiness",
          "Anxiety",
          "Anger",
          "Boredom",
          "Happiness",
          "Sadness",
          "Neutral",
          "Anxiety",
          "Happiness",
          "Anger",
          "Sadness",
          "Boredom",
          "Happiness",
          "Neutral",
          "Sadness",
          "Anxiety",
          "Boredom",
          "Happiness",
          "Anger",
          "Neutral",
          "Anxiety",
          "Sadness",
          "Happiness",
          "Anger",
          "Neutral",
          "Boredom",
          "Happiness",
          "Sadness",
          "Anxiety",
          "Neutral",
          "Boredom",
          "Happiness",
          "Anger",
          "Neutral",
          "Sadness",
          "Anxiety",
          "Anxiety",
          "Boredom",
          "Sadness",
          "Happiness",
          "Boredom",
          "Happiness",
          "Anger",
          "Neutral",
          "Anxiety",
          "Sadness",
          "Boredom",
          "Happiness",
          "Neutral",
          "Anxiety",
          "Sadness",
          "Happiness",
          "Boredom",
          "Neutral",
          "Anger",
          "Neutral",
          "Anxiety",
          "Happiness",
          "Sadness",
          "Anxiety",
          "Neutral",
          "Sadness",
          "Happiness",
          "Anger",
          "Neutral",
          "Boredom",
          "Anxiety",
          "Sadness",
          "Neutral",
          "Happiness",
          "Anxiety",
          "Boredom",
          "Anger",
          "Neutral",
          "Sadness",
          "Anxiety",
          "Boredom",
          "Neutral",
          "Happiness",
          "Anger",
          "Neutral",
          "Happiness",
          "Anger",
          "Neutral",
          "Anxiety",
          "Boredom",
          "Happiness",
          "Anger",
          "Sadness",
          "Neutral",
          "Happiness",
          "Anxiety",
          "Sadness",
          "Boredom",
          "Happiness",
          "Anger",
          "Neutral",
          "Anxiety",
          "Sadness",
          "Neutral",
          "Happiness",
          "Anxiety",
          "Anger",
          "Boredom",
          "Happiness",
          "Sadness",
          "Neutral",
          "Anxiety",
          "Happiness",
          "Anger",
          "Sadness",
          "Boredom",
          "Happiness",
          "Neutral",
          "Sadness",
          "Anxiety",
          "Boredom",
          "Happiness",
          "Anger",
          "Neutral",
          "Anxiety",
          "Sadness",
          "Happiness",
          "Anger",
          "Neutral",
          "Boredom",
          "Happiness",
          "Sadness",
          "Anxiety",
          "Neutral",
          "Boredom",
          "Happiness",
          "Anger",
          "Neutral",
          "Sadness",
          "Anxiety",
          "Anxiety",
          "Boredom",
          "Sadness",
          "Happiness",
          "Boredom",
          "Happiness",
          "Anger",
          "Neutral",
          "Anxiety",
          "Sadness",
          "Boredom",
          "Happiness",
          "Neutral",
          "Anxiety",
          "Sadness",
          "Happiness",
          "Boredom",
          "Neutral",
          "Anger",
          "Neutral",
          "Anxiety",
          "Happiness",
          "Sadness",
          "Anxiety",
          "Neutral",
          "Sadness",
          "Happiness",
          "Anger",
          "Neutral",
          "Boredom",
          "Anxiety",
          "Sadness",
          "Neutral",
          "Happiness",
          "Anxiety",
          "Boredom",
          "Anger",
          "Neutral",
          "Sadness",
          "Anxiety",
          "Boredom",
          "Neutral",
          "Happiness",
          "Anger",
          "Neutral",
          "Happiness",
          "Anger",
          "Neutral",
          "Anxiety",
          "Boredom",
          "Happiness",
          "Anger",
          "Sadness",
          "Neutral",
          "Happiness",
          "Anxiety",
          "Sadness",
          "Boredom",
          "Happiness",
          "Anger",
          "Neutral",
          "Anxiety",
          "Sadness",
          "Neutral",
          "Happiness",
          "Anxiety",
          "Anger",
          "Boredom",
          "Happiness",
          "Sadness",
          "Neutral",
          "Anxiety",
          "Happiness",
          "Anger",
          "Sadness",
          "Boredom",
          "Happiness",
          "Neutral",
          "Sadness",
          "Anxiety",
          "Boredom",
          "Happiness",
          "Anger",
          "Neutral",
          "Anxiety",
          "Sadness",
          "Happiness",
          "Anger",
          "Neutral",
          "Boredom",
          "Happiness",
          "Sadness",
          "Anxiety",
          "Neutral",
          "Boredom",
          "Happiness",
          "Anger",
          "Neutral",
          "Sadness",
          "Anxiety",
          "Anxiety",
          "Boredom",
          "Sadness",
          "Happiness",
          "Boredom",
          "Happiness",
          "Anger",
          "Neutral",
          "Anxiety",
          "Sadness",
          "Boredom",
          "Happiness",
          "Neutral",
          "Anxiety",
          "Sadness",
          "Happiness",
          "Boredom",
          "Neutral",
          "Anger",
          "Neutral",
          "Anxiety",
          "Happiness",
          "Sadness",
          "Anxiety",
          "Neutral",
          "Sadness",
          "Happiness",
          "Anger",
          "Neutral",
          "Boredom",
          "Anxiety",
          "Sadness",
          "Neutral",
          "Happiness",
          "Anxiety",
          "Boredom",
          "Anger",
          "Neutral",
          "Sadness",
          "Anxiety",
          "Boredom",
          "Neutral",
          "Happiness",
          "Anger",
          "Neutral",
          "Happiness",
          "Anger",
          "Neutral",
          "Anxiety",
          "Boredom",
          "Happiness",
          "Anger",
          "Sadness",
          "Neutral",
          "Happiness",
          "Anxiety",
          "Sadness",
          "Boredom",
          "Happiness",
          "Anger",
          "Neutral",
          "Anxiety",
          "Sadness",
          "Neutral",
          "Happiness",
          "Anxiety",
          "Anger",
          "Boredom",
          "Happiness",
          "Sadness",
          "Neutral",
          "Anxiety",
          "Happiness",
          "Anger",
          "Sadness",
          "Boredom",
          "Happiness",
          "Neutral",
          "Sadness",
          "Anxiety",
          "Boredom",
          "Happiness",
          "Anger",
          "Neutral",
          "Anxiety",
          "Sadness",
          "Happiness",
          "Anger",
          "Neutral",
          "Boredom",
          "Happiness",
          "Sadness",
          "Anxiety",
          "Neutral",
          "Boredom",
          "Happiness",
          "Anger",
          "Neutral",
          "Sadness",
          "Anxiety",
          "Anxiety",
          "Boredom",
          "Sadness",
          "Happiness",
          "Boredom",
          "Happiness",
          "Anger",
          "Neutral",
          "Anxiety",
          "Sadness",
          "Boredom",
          "Happiness",
          "Neutral",
          "Anxiety",
          "Sadness",
          "Happiness",
          "Boredom",
          "Neutral",
          "Anger",
          "Neutral",
          "Anxiety",
          "Happiness",
          "Sadness",
          "Anxiety",
          "Neutral",
          "Sadness",
          "Happiness",
          "Anger",
          "Neutral",
          "Boredom",
          "Anxiety",
          "Sadness",
          "Neutral",
          "Happiness",
          "Anxiety",
          "Boredom",
          "Anger",
          "Neutral",
          "Sadness",
          "Anxiety",
          "Boredom",
          "Neutral",
          "Happiness",
          "Anger",
          "Neutral",
          "Happiness",
          "Anger",
          "Neutral",
          "Anxiety",
          "Boredom",
          "Happiness",
          "Anger",
          "Sadness",
          "Neutral",
          "Happiness",
          "Anxiety",
          "Sadness",
          "Boredom",
          "Happiness",
          "Anger",
          "Neutral",
          "Anxiety",
          "Sadness",
          "Neutral",
          "Happiness",
          "Anxiety",
          "Anger",
          "Boredom",
          "Happiness",
          "Sadness",
          "Neutral",
          "Anxiety",
          "Happiness",
          "Anger",
          "Sadness",
          "Boredom",
          "Happiness",
          "Neutral",
          "Sadness",
          "Anxiety",
          "Boredom",
          "Happiness",
          "Anger",
          "Neutral",
          "Anxiety",
          "Sadness",
          "Happiness",
          "Happiness",
          "Anger",
          "Neutral",
          "Boredom",
          "Happiness",
          "Sadness",
          "Anxiety",
          "Neutral",
          "Boredom",
          "Happiness",
          "Anger",
          "Neutral",
          "Sadness",
          "Anxiety",
          "Anxiety",
          "Boredom",
          "Sadness",
          "Happiness",
          "Boredom",
          "Happiness",
          "Anger",
          "Neutral",
          "Anxiety",
          "Sadness",
          "Boredom",
          "Happiness",
          "Neutral",
          "Anxiety",
          "Sadness",
          "Happiness",
          "Boredom",
          "Neutral",
          "Anger",
          "Neutral",
          "Anxiety",
          "Happiness",
          "Sadness",
          "Anxiety",
          "Neutral",
          "Sadness",
          "Happiness",
          "Anger",
          "Neutral",
          "Boredom",
          "Anxiety",
          "Sadness",
          "Neutral",
          "Happiness",
          "Anxiety",
          "Boredom",
          "Anger",
          "Neutral",
          "Sadness",
          "Anxiety",
          "Boredom",
          "Neutral",
          "Happiness",
          "Anger",
          "Neutral",
          "Happiness",
          "Anger",
          "Neutral",
          "Anxiety",
          "Boredom",
          "Happiness",
          "Anger",
          "Sadness",
          "Neutral",
          "Happiness",
          "Anxiety",
          "Sadness",
          "Boredom",
          "Happiness",
          "Anger",
          "Neutral",
          "Anxiety",
          "Sadness",
          "Neutral",
          "Happiness",
          "Anxiety",
          "Anger",
          "Boredom",
          "Happiness",
          "Sadness",
          "Neutral",
          "Anxiety",
          "Happiness",
          "Anger",
          "Sadness",
          "Boredom",
          "Happiness",
          "Neutral",
          "Sadness",
          "Anxiety",
          "Boredom",
          "Happiness",
          "Anger",
          "Neutral",
          "Anxiety",
          "Sadness",
          "Happiness",
          "Anger",
          "Neutral",
          "Boredom",
          "Happiness",
          "Sadness",
          "Anxiety",
          "Neutral",
          "Boredom",
          "Happiness",
          "Anger",
          "Neutral",
          "Sadness",
          "Anxiety",
          "Anxiety",
          "Boredom",
          "Sadness",
          "Happiness",
          "Boredom",
          "Happiness",
          "Anger",
          "Neutral",
          "Anxiety",
          "Sadness",
          "Boredom",
          "Happiness",
          "Neutral",
          "Anxiety",
          "Sadness",
          "Happiness",
          "Boredom",
          "Neutral",
          "Anger",
          "Neutral",
          "Anxiety",
          "Happiness",
          "Sadness",
          "Anxiety",
          "Neutral",
          "Sadness",
          "Happiness",
          "Anger",
          "Neutral",
          "Boredom",
          "Anxiety",
          "Sadness",
          "Neutral",
          "Happiness",
          "Anxiety",
          "Boredom",
          "Anger",
          "Neutral",
          "Sadness",
          "Anxiety",
          "Boredom",
          "Neutral",
          "Happiness",
          "Anger",
          "Neutral",
          "Happiness",
          "Anger",
          "Neutral",
          "Anxiety",
          "Boredom",
          "Happiness",
          "Anger",
          "Sadness",
          "Neutral",
          "Happiness",
          "Anxiety",
          "Sadness",
          "Boredom",
          "Happiness",
          "Anger",
          "Neutral",
          "Anxiety",
          "Sadness",
          "Neutral",
          "Happiness",
          "Anxiety",
          "Anger",
          "Boredom",
          "Happiness",
          "Sadness",
          "Neutral",
          "Anxiety",
          "Happiness",
          "Anger",
          "Sadness",
          "Boredom",
          "Happiness",
          "Neutral",
          "Sadness",
          "Anxiety",
          "Boredom",
          "Happiness",
          "Anger",
          "Neutral",
          "Anxiety",
          "Sadness",
          "Happiness",
          "Anger",
          "Neutral",
          "Boredom",
          "Happiness",
          "Sadness",
          "Anxiety",
          "Neutral",
          "Boredom",
          "Happiness",
          "Anger",
          "Neutral",
          "Sadness",
          "Anxiety",
          "Anxiety",
          "Boredom",
          "Sadness",
          "Happiness",
          "Boredom",
          "Happiness",
          "Anger",
          "Neutral",
          "Anxiety",
          "Sadness",
          "Boredom",
          "Happiness",
          "Neutral",
          "Anxiety",
          "Sadness",
          "Happiness",
          "Boredom",
          "Neutral",
          "Anger",
          "Neutral",
          "Anxiety",
          "Happiness",
          "Sadness",
          "Anxiety",
          "Neutral",
          "Sadness",
          "Happiness",
          "Anger",
          "Neutral",
          "Boredom",
          "Anxiety",
          "Sadness",
          "Neutral",
          "Happiness",
          "Anxiety",
          "Boredom",
          "Anger",
          "Neutral",
          "Sadness",
          "Anxiety",
          "Boredom",
          "Neutral",
          "Happiness",
          "Anger",
          "Neutral",
          "Happiness",
          "Anger",
          "Neutral",
          "Anxiety",
          "Boredom",
          "Happiness",
          "Anger",
          "Sadness",
          "Neutral",
          "Happiness",
          "Anxiety",
          "Sadness",
          "Boredom",
          "Happiness",
          "Anger",
          "Neutral",
          "Anxiety",
          "Sadness",
          "Neutral",
          "Happiness",
          "Anxiety",
          "Anger",
          "Boredom",
          "Happiness",
          "Sadness",
          "Neutral",
          "Anxiety",
          "Happiness",
          "Anger",
          "Sadness",
          "Boredom",
          "Happiness",
          "Neutral",
          "Sadness",
          "Anxiety",
          "Boredom",
          "Happiness",
          "Anger",
          "Neutral",
          "Anxiety",
          "Sadness",
          "Happiness",
          "Anger",
          "Neutral",
          "Boredom",
          "Happiness",
          "Sadness",
          "Anxiety",
          "Neutral",
          "Boredom",
          "Happiness",
          "Anger",
          "Neutral",
          "Sadness",
          "Anxiety",
          "Anxiety",
          "Boredom",
          "Sadness",
          "Happiness",
          "Boredom",
          "Happiness",
          "Anger",
          "Neutral",
          "Anxiety",
          "Sadness",
          "Boredom",
          "Happiness",
          "Neutral",
          "Anxiety",
          "Sadness",
          "Happiness",
          "Boredom",
          "Neutral",
          "Anger",
          "Neutral",
          "Anxiety",
          "Happiness",
          "Sadness",
          "Anxiety",
          "Neutral",
          "Sadness",
          "Happiness",
          "Anger",
          "Neutral",
          "Boredom",
          "Anxiety",
          "Sadness",
          "Neutral",
          "Happiness",
          "Anxiety",
          "Boredom",
          "Anger",
          "Neutral",
          "Sadness",
          "Anxiety",
          "Boredom",
          "Neutral",
          "Happiness",
          "Anger",
          "Neutral"
         ],
         "legendgroup": "",
         "name": "",
         "showlegend": true,
         "textinfo": "percent+label",
         "textposition": "inside",
         "type": "pie"
        }
       ],
       "layout": {
        "legend": {
         "tracegroupgap": 0
        },
        "template": {
         "data": {
          "bar": [
           {
            "error_x": {
             "color": "#2a3f5f"
            },
            "error_y": {
             "color": "#2a3f5f"
            },
            "marker": {
             "line": {
              "color": "#E5ECF6",
              "width": 0.5
             },
             "pattern": {
              "fillmode": "overlay",
              "size": 10,
              "solidity": 0.2
             }
            },
            "type": "bar"
           }
          ],
          "barpolar": [
           {
            "marker": {
             "line": {
              "color": "#E5ECF6",
              "width": 0.5
             },
             "pattern": {
              "fillmode": "overlay",
              "size": 10,
              "solidity": 0.2
             }
            },
            "type": "barpolar"
           }
          ],
          "carpet": [
           {
            "aaxis": {
             "endlinecolor": "#2a3f5f",
             "gridcolor": "white",
             "linecolor": "white",
             "minorgridcolor": "white",
             "startlinecolor": "#2a3f5f"
            },
            "baxis": {
             "endlinecolor": "#2a3f5f",
             "gridcolor": "white",
             "linecolor": "white",
             "minorgridcolor": "white",
             "startlinecolor": "#2a3f5f"
            },
            "type": "carpet"
           }
          ],
          "choropleth": [
           {
            "colorbar": {
             "outlinewidth": 0,
             "ticks": ""
            },
            "type": "choropleth"
           }
          ],
          "contour": [
           {
            "colorbar": {
             "outlinewidth": 0,
             "ticks": ""
            },
            "colorscale": [
             [
              0,
              "#0d0887"
             ],
             [
              0.1111111111111111,
              "#46039f"
             ],
             [
              0.2222222222222222,
              "#7201a8"
             ],
             [
              0.3333333333333333,
              "#9c179e"
             ],
             [
              0.4444444444444444,
              "#bd3786"
             ],
             [
              0.5555555555555556,
              "#d8576b"
             ],
             [
              0.6666666666666666,
              "#ed7953"
             ],
             [
              0.7777777777777778,
              "#fb9f3a"
             ],
             [
              0.8888888888888888,
              "#fdca26"
             ],
             [
              1,
              "#f0f921"
             ]
            ],
            "type": "contour"
           }
          ],
          "contourcarpet": [
           {
            "colorbar": {
             "outlinewidth": 0,
             "ticks": ""
            },
            "type": "contourcarpet"
           }
          ],
          "heatmap": [
           {
            "colorbar": {
             "outlinewidth": 0,
             "ticks": ""
            },
            "colorscale": [
             [
              0,
              "#0d0887"
             ],
             [
              0.1111111111111111,
              "#46039f"
             ],
             [
              0.2222222222222222,
              "#7201a8"
             ],
             [
              0.3333333333333333,
              "#9c179e"
             ],
             [
              0.4444444444444444,
              "#bd3786"
             ],
             [
              0.5555555555555556,
              "#d8576b"
             ],
             [
              0.6666666666666666,
              "#ed7953"
             ],
             [
              0.7777777777777778,
              "#fb9f3a"
             ],
             [
              0.8888888888888888,
              "#fdca26"
             ],
             [
              1,
              "#f0f921"
             ]
            ],
            "type": "heatmap"
           }
          ],
          "heatmapgl": [
           {
            "colorbar": {
             "outlinewidth": 0,
             "ticks": ""
            },
            "colorscale": [
             [
              0,
              "#0d0887"
             ],
             [
              0.1111111111111111,
              "#46039f"
             ],
             [
              0.2222222222222222,
              "#7201a8"
             ],
             [
              0.3333333333333333,
              "#9c179e"
             ],
             [
              0.4444444444444444,
              "#bd3786"
             ],
             [
              0.5555555555555556,
              "#d8576b"
             ],
             [
              0.6666666666666666,
              "#ed7953"
             ],
             [
              0.7777777777777778,
              "#fb9f3a"
             ],
             [
              0.8888888888888888,
              "#fdca26"
             ],
             [
              1,
              "#f0f921"
             ]
            ],
            "type": "heatmapgl"
           }
          ],
          "histogram": [
           {
            "marker": {
             "pattern": {
              "fillmode": "overlay",
              "size": 10,
              "solidity": 0.2
             }
            },
            "type": "histogram"
           }
          ],
          "histogram2d": [
           {
            "colorbar": {
             "outlinewidth": 0,
             "ticks": ""
            },
            "colorscale": [
             [
              0,
              "#0d0887"
             ],
             [
              0.1111111111111111,
              "#46039f"
             ],
             [
              0.2222222222222222,
              "#7201a8"
             ],
             [
              0.3333333333333333,
              "#9c179e"
             ],
             [
              0.4444444444444444,
              "#bd3786"
             ],
             [
              0.5555555555555556,
              "#d8576b"
             ],
             [
              0.6666666666666666,
              "#ed7953"
             ],
             [
              0.7777777777777778,
              "#fb9f3a"
             ],
             [
              0.8888888888888888,
              "#fdca26"
             ],
             [
              1,
              "#f0f921"
             ]
            ],
            "type": "histogram2d"
           }
          ],
          "histogram2dcontour": [
           {
            "colorbar": {
             "outlinewidth": 0,
             "ticks": ""
            },
            "colorscale": [
             [
              0,
              "#0d0887"
             ],
             [
              0.1111111111111111,
              "#46039f"
             ],
             [
              0.2222222222222222,
              "#7201a8"
             ],
             [
              0.3333333333333333,
              "#9c179e"
             ],
             [
              0.4444444444444444,
              "#bd3786"
             ],
             [
              0.5555555555555556,
              "#d8576b"
             ],
             [
              0.6666666666666666,
              "#ed7953"
             ],
             [
              0.7777777777777778,
              "#fb9f3a"
             ],
             [
              0.8888888888888888,
              "#fdca26"
             ],
             [
              1,
              "#f0f921"
             ]
            ],
            "type": "histogram2dcontour"
           }
          ],
          "mesh3d": [
           {
            "colorbar": {
             "outlinewidth": 0,
             "ticks": ""
            },
            "type": "mesh3d"
           }
          ],
          "parcoords": [
           {
            "line": {
             "colorbar": {
              "outlinewidth": 0,
              "ticks": ""
             }
            },
            "type": "parcoords"
           }
          ],
          "pie": [
           {
            "automargin": true,
            "type": "pie"
           }
          ],
          "scatter": [
           {
            "fillpattern": {
             "fillmode": "overlay",
             "size": 10,
             "solidity": 0.2
            },
            "type": "scatter"
           }
          ],
          "scatter3d": [
           {
            "line": {
             "colorbar": {
              "outlinewidth": 0,
              "ticks": ""
             }
            },
            "marker": {
             "colorbar": {
              "outlinewidth": 0,
              "ticks": ""
             }
            },
            "type": "scatter3d"
           }
          ],
          "scattercarpet": [
           {
            "marker": {
             "colorbar": {
              "outlinewidth": 0,
              "ticks": ""
             }
            },
            "type": "scattercarpet"
           }
          ],
          "scattergeo": [
           {
            "marker": {
             "colorbar": {
              "outlinewidth": 0,
              "ticks": ""
             }
            },
            "type": "scattergeo"
           }
          ],
          "scattergl": [
           {
            "marker": {
             "colorbar": {
              "outlinewidth": 0,
              "ticks": ""
             }
            },
            "type": "scattergl"
           }
          ],
          "scattermapbox": [
           {
            "marker": {
             "colorbar": {
              "outlinewidth": 0,
              "ticks": ""
             }
            },
            "type": "scattermapbox"
           }
          ],
          "scatterpolar": [
           {
            "marker": {
             "colorbar": {
              "outlinewidth": 0,
              "ticks": ""
             }
            },
            "type": "scatterpolar"
           }
          ],
          "scatterpolargl": [
           {
            "marker": {
             "colorbar": {
              "outlinewidth": 0,
              "ticks": ""
             }
            },
            "type": "scatterpolargl"
           }
          ],
          "scatterternary": [
           {
            "marker": {
             "colorbar": {
              "outlinewidth": 0,
              "ticks": ""
             }
            },
            "type": "scatterternary"
           }
          ],
          "surface": [
           {
            "colorbar": {
             "outlinewidth": 0,
             "ticks": ""
            },
            "colorscale": [
             [
              0,
              "#0d0887"
             ],
             [
              0.1111111111111111,
              "#46039f"
             ],
             [
              0.2222222222222222,
              "#7201a8"
             ],
             [
              0.3333333333333333,
              "#9c179e"
             ],
             [
              0.4444444444444444,
              "#bd3786"
             ],
             [
              0.5555555555555556,
              "#d8576b"
             ],
             [
              0.6666666666666666,
              "#ed7953"
             ],
             [
              0.7777777777777778,
              "#fb9f3a"
             ],
             [
              0.8888888888888888,
              "#fdca26"
             ],
             [
              1,
              "#f0f921"
             ]
            ],
            "type": "surface"
           }
          ],
          "table": [
           {
            "cells": {
             "fill": {
              "color": "#EBF0F8"
             },
             "line": {
              "color": "white"
             }
            },
            "header": {
             "fill": {
              "color": "#C8D4E3"
             },
             "line": {
              "color": "white"
             }
            },
            "type": "table"
           }
          ]
         },
         "layout": {
          "annotationdefaults": {
           "arrowcolor": "#2a3f5f",
           "arrowhead": 0,
           "arrowwidth": 1
          },
          "autotypenumbers": "strict",
          "coloraxis": {
           "colorbar": {
            "outlinewidth": 0,
            "ticks": ""
           }
          },
          "colorscale": {
           "diverging": [
            [
             0,
             "#8e0152"
            ],
            [
             0.1,
             "#c51b7d"
            ],
            [
             0.2,
             "#de77ae"
            ],
            [
             0.3,
             "#f1b6da"
            ],
            [
             0.4,
             "#fde0ef"
            ],
            [
             0.5,
             "#f7f7f7"
            ],
            [
             0.6,
             "#e6f5d0"
            ],
            [
             0.7,
             "#b8e186"
            ],
            [
             0.8,
             "#7fbc41"
            ],
            [
             0.9,
             "#4d9221"
            ],
            [
             1,
             "#276419"
            ]
           ],
           "sequential": [
            [
             0,
             "#0d0887"
            ],
            [
             0.1111111111111111,
             "#46039f"
            ],
            [
             0.2222222222222222,
             "#7201a8"
            ],
            [
             0.3333333333333333,
             "#9c179e"
            ],
            [
             0.4444444444444444,
             "#bd3786"
            ],
            [
             0.5555555555555556,
             "#d8576b"
            ],
            [
             0.6666666666666666,
             "#ed7953"
            ],
            [
             0.7777777777777778,
             "#fb9f3a"
            ],
            [
             0.8888888888888888,
             "#fdca26"
            ],
            [
             1,
             "#f0f921"
            ]
           ],
           "sequentialminus": [
            [
             0,
             "#0d0887"
            ],
            [
             0.1111111111111111,
             "#46039f"
            ],
            [
             0.2222222222222222,
             "#7201a8"
            ],
            [
             0.3333333333333333,
             "#9c179e"
            ],
            [
             0.4444444444444444,
             "#bd3786"
            ],
            [
             0.5555555555555556,
             "#d8576b"
            ],
            [
             0.6666666666666666,
             "#ed7953"
            ],
            [
             0.7777777777777778,
             "#fb9f3a"
            ],
            [
             0.8888888888888888,
             "#fdca26"
            ],
            [
             1,
             "#f0f921"
            ]
           ]
          },
          "colorway": [
           "#636efa",
           "#EF553B",
           "#00cc96",
           "#ab63fa",
           "#FFA15A",
           "#19d3f3",
           "#FF6692",
           "#B6E880",
           "#FF97FF",
           "#FECB52"
          ],
          "font": {
           "color": "#2a3f5f"
          },
          "geo": {
           "bgcolor": "white",
           "lakecolor": "white",
           "landcolor": "#E5ECF6",
           "showlakes": true,
           "showland": true,
           "subunitcolor": "white"
          },
          "hoverlabel": {
           "align": "left"
          },
          "hovermode": "closest",
          "mapbox": {
           "style": "light"
          },
          "paper_bgcolor": "white",
          "plot_bgcolor": "#E5ECF6",
          "polar": {
           "angularaxis": {
            "gridcolor": "white",
            "linecolor": "white",
            "ticks": ""
           },
           "bgcolor": "#E5ECF6",
           "radialaxis": {
            "gridcolor": "white",
            "linecolor": "white",
            "ticks": ""
           }
          },
          "scene": {
           "xaxis": {
            "backgroundcolor": "#E5ECF6",
            "gridcolor": "white",
            "gridwidth": 2,
            "linecolor": "white",
            "showbackground": true,
            "ticks": "",
            "zerolinecolor": "white"
           },
           "yaxis": {
            "backgroundcolor": "#E5ECF6",
            "gridcolor": "white",
            "gridwidth": 2,
            "linecolor": "white",
            "showbackground": true,
            "ticks": "",
            "zerolinecolor": "white"
           },
           "zaxis": {
            "backgroundcolor": "#E5ECF6",
            "gridcolor": "white",
            "gridwidth": 2,
            "linecolor": "white",
            "showbackground": true,
            "ticks": "",
            "zerolinecolor": "white"
           }
          },
          "shapedefaults": {
           "line": {
            "color": "#2a3f5f"
           }
          },
          "ternary": {
           "aaxis": {
            "gridcolor": "white",
            "linecolor": "white",
            "ticks": ""
           },
           "baxis": {
            "gridcolor": "white",
            "linecolor": "white",
            "ticks": ""
           },
           "bgcolor": "#E5ECF6",
           "caxis": {
            "gridcolor": "white",
            "linecolor": "white",
            "ticks": ""
           }
          },
          "title": {
           "x": 0.05
          },
          "xaxis": {
           "automargin": true,
           "gridcolor": "white",
           "linecolor": "white",
           "ticks": "",
           "title": {
            "standoff": 15
           },
           "zerolinecolor": "white",
           "zerolinewidth": 2
          },
          "yaxis": {
           "automargin": true,
           "gridcolor": "white",
           "linecolor": "white",
           "ticks": "",
           "title": {
            "standoff": 15
           },
           "zerolinecolor": "white",
           "zerolinewidth": 2
          }
         }
        },
        "title": {
         "text": "Dominant Emotion Distribution"
        }
       }
      }
     },
     "metadata": {},
     "output_type": "display_data"
    }
   ],
   "source": [
    "plt = px.pie(train_df, names='Dominant_Emotion', title='Dominant Emotion Distribution')\n",
    "# adding the values to the pie section\n",
    "plt.update_traces(textposition='inside', textinfo='percent+label')\n",
    "plt.show()"
   ]
  },
  {
   "cell_type": "markdown",
   "id": "f39985e6",
   "metadata": {},
   "source": [
    "Most Common Emotions: The pie chart highlights the most prevalent emotions or states, with happiness (20.1%) and neutrality (20%) being the most frequent among the depicted categories.\n",
    "\n",
    "Negative Emotions: Anxiety (17%) and sadness (16%) form a significant portion, suggesting these emotions are relatively common.\n",
    "\n",
    "Less Frequent States: Boredom (14%) and anger (13%) are the least represented, indicating that these states, while present, are less frequent than the others."
   ]
  },
  {
   "cell_type": "markdown",
   "id": "0f8e174c",
   "metadata": {
    "papermill": {
     "duration": 0.03702,
     "end_time": "2024-05-23T11:22:53.270848",
     "exception": false,
     "start_time": "2024-05-23T11:22:53.233828",
     "status": "completed"
    },
    "tags": []
   },
   "source": [
    "## Relationship Between Variables"
   ]
  },
  {
   "cell_type": "markdown",
   "id": "f07a1846",
   "metadata": {
    "papermill": {
     "duration": 0.037104,
     "end_time": "2024-05-23T11:22:53.345688",
     "exception": false,
     "start_time": "2024-05-23T11:22:53.308584",
     "status": "completed"
    },
    "tags": []
   },
   "source": [
    "### Gender and Platform"
   ]
  },
  {
   "cell_type": "code",
   "execution_count": 46,
   "id": "6a13667c",
   "metadata": {
    "execution": {
     "iopub.execute_input": "2024-05-23T11:22:53.424855Z",
     "iopub.status.busy": "2024-05-23T11:22:53.424469Z",
     "iopub.status.idle": "2024-05-23T11:22:53.434137Z",
     "shell.execute_reply": "2024-05-23T11:22:53.432823Z"
    },
    "papermill": {
     "duration": 0.052174,
     "end_time": "2024-05-23T11:22:53.436297",
     "exception": false,
     "start_time": "2024-05-23T11:22:53.384123",
     "status": "completed"
    },
    "tags": []
   },
   "outputs": [],
   "source": [
    "# Group the data by gender and platform\n",
    "grouped = train_df.groupby(['Gender', 'Platform'])\n",
    "\n",
    "# Count the number of rows in each group\n",
    "counts = grouped.size()"
   ]
  },
  {
   "cell_type": "code",
   "execution_count": 47,
   "id": "4b6fd528",
   "metadata": {
    "execution": {
     "iopub.execute_input": "2024-05-23T11:22:53.513092Z",
     "iopub.status.busy": "2024-05-23T11:22:53.512689Z",
     "iopub.status.idle": "2024-05-23T11:22:53.630387Z",
     "shell.execute_reply": "2024-05-23T11:22:53.629289Z"
    },
    "papermill": {
     "duration": 0.159276,
     "end_time": "2024-05-23T11:22:53.632967",
     "exception": false,
     "start_time": "2024-05-23T11:22:53.473691",
     "status": "completed"
    },
    "tags": []
   },
   "outputs": [
    {
     "data": {
      "application/vnd.plotly.v1+json": {
       "config": {
        "plotlyServerURL": "https://plot.ly"
       },
       "data": [
        {
         "alignmentgroup": "True",
         "bingroup": "x",
         "hovertemplate": "Platform=Instagram<br>Gender=%{x}<br>count=%{y}<extra></extra>",
         "legendgroup": "Instagram",
         "marker": {
          "color": "#636efa",
          "pattern": {
           "shape": ""
          }
         },
         "name": "Instagram",
         "offsetgroup": "Instagram",
         "orientation": "v",
         "showlegend": true,
         "type": "histogram",
         "x": [
          "Female",
          "Female",
          "Male",
          "Male",
          "Female",
          "Female",
          "Female",
          "Non-binary",
          "Female",
          "Male",
          "Female",
          "Female",
          "Female",
          "Female",
          "Male",
          "Male",
          "Male",
          "Female",
          "Female",
          "Male",
          "Female",
          "Female",
          "Female",
          "Female",
          "Male",
          "Female",
          "Female",
          "Male",
          "Male",
          "Female",
          "Female",
          "Female",
          "Non-binary",
          "Female",
          "Male",
          "Female",
          "Female",
          "Female",
          "Female",
          "Male",
          "Male",
          "Male",
          "Female",
          "Female",
          "Male",
          "Female",
          "Female",
          "Female",
          "Female",
          "Male",
          "Female",
          "Female",
          "Male",
          "Male",
          "Female",
          "Female",
          "Female",
          "Non-binary",
          "Female",
          "Male",
          "Female",
          "Female",
          "Female",
          "Female",
          "Male",
          "Male",
          "Unknown",
          "Unknown",
          "Unknown",
          "Unknown",
          "Unknown",
          "Unknown",
          "Unknown",
          "Female",
          "Male",
          "Female",
          "Female",
          "Male",
          "Male",
          "Female",
          "Female",
          "Female",
          "Non-binary",
          "Female",
          "Male",
          "Female",
          "Female",
          "Female",
          "Female",
          "Male",
          "Male",
          "Male",
          "Female",
          "Female",
          "Male",
          "Female",
          "Female",
          "Female",
          "Female",
          "Male",
          "Female",
          "Female",
          "Male",
          "Male",
          "Female",
          "Female",
          "Female",
          "Non-binary",
          "Female",
          "Male",
          "Female",
          "Female",
          "Female",
          "Female",
          "Male",
          "Male",
          "Male",
          "Female",
          "Female",
          "Male",
          "Female",
          "Female",
          "Female",
          "Female",
          "Male",
          "Female",
          "Female",
          "Male",
          "Male",
          "Female",
          "Female",
          "Female",
          "Non-binary",
          "Female",
          "Male",
          "Female",
          "Female",
          "Female",
          "Female",
          "Male",
          "Male",
          "Male",
          "Female",
          "Female",
          "Male",
          "Female",
          "Female",
          "Female",
          "Female",
          "Male",
          "Female",
          "Female",
          "Male",
          "Male",
          "Female",
          "Female",
          "Female",
          "Non-binary",
          "Female",
          "Male",
          "Female",
          "Female",
          "Female",
          "Unknown",
          "Female",
          "Male",
          "Male",
          "Male",
          "Female",
          "Female",
          "Male",
          "Female",
          "Female",
          "Female",
          "Female",
          "Male",
          "Female",
          "Female",
          "Male",
          "Male",
          "Female",
          "Female",
          "Female",
          "Non-binary",
          "Female",
          "Male",
          "Female",
          "Female",
          "Female",
          "Female",
          "Male",
          "Male",
          "Unknown",
          "Unknown",
          "Unknown",
          "Unknown",
          "Unknown",
          "Unknown",
          "Unknown",
          "Female",
          "Male",
          "Female",
          "Female",
          "Male",
          "Male",
          "Female",
          "Female",
          "Female",
          "Non-binary",
          "Female",
          "Male",
          "Female",
          "Female",
          "Female",
          "Female",
          "Male",
          "Male",
          "Male",
          "Female",
          "Female",
          "Male",
          "Female",
          "Female",
          "Female",
          "Female",
          "Male",
          "Female",
          "Female",
          "Male",
          "Male",
          "Female",
          "Female",
          "Female",
          "Non-binary",
          "Female",
          "Male",
          "Female",
          "Female",
          "Female",
          "Female",
          "Male",
          "Male",
          "Male",
          "Female",
          "Female",
          "Male",
          "Female",
          "Female",
          "Female",
          "Female",
          "Male"
         ],
         "xaxis": "x",
         "yaxis": "y"
        },
        {
         "alignmentgroup": "True",
         "bingroup": "x",
         "hovertemplate": "Platform=Twitter<br>Gender=%{x}<br>count=%{y}<extra></extra>",
         "legendgroup": "Twitter",
         "marker": {
          "color": "#EF553B",
          "pattern": {
           "shape": ""
          }
         },
         "name": "Twitter",
         "offsetgroup": "Twitter",
         "orientation": "v",
         "showlegend": true,
         "type": "histogram",
         "x": [
          "Male",
          "Female",
          "Female",
          "Male",
          "Male",
          "Female",
          "Female",
          "Male",
          "Non-binary",
          "Male",
          "Male",
          "Female",
          "Female",
          "Female",
          "Male",
          "Male",
          "Male",
          "Male",
          "Male",
          "Non-binary",
          "Male",
          "Female",
          "Female",
          "Male",
          "Male",
          "Female",
          "Female",
          "Male",
          "Non-binary",
          "Male",
          "Male",
          "Female",
          "Female",
          "Female",
          "Male",
          "Male",
          "Male",
          "Male",
          "Male",
          "Non-binary",
          "Male",
          "Female",
          "Female",
          "Male",
          "Male",
          "Female",
          "Female",
          "Male",
          "Non-binary",
          "Male",
          "Male",
          "Female",
          "Unknown",
          "Unknown",
          "Unknown",
          "Unknown",
          "Unknown",
          "Unknown",
          "Male",
          "Non-binary",
          "Male",
          "Female",
          "Female",
          "Male",
          "Male",
          "Female",
          "Female",
          "Male",
          "Non-binary",
          "Male",
          "Male",
          "Female",
          "Female",
          "Female",
          "Male",
          "Male",
          "Male",
          "Male",
          "Male",
          "Non-binary",
          "Male",
          "Female",
          "Female",
          "Male",
          "Male",
          "Female",
          "Female",
          "Male",
          "Non-binary",
          "Male",
          "Male",
          "Female",
          "Female",
          "Female",
          "Male",
          "Male",
          "Male",
          "Male",
          "Male",
          "Non-binary",
          "Male",
          "Female",
          "Female",
          "Male",
          "Male",
          "Female",
          "Female",
          "Male",
          "Non-binary",
          "Male",
          "Male",
          "Female",
          "Female",
          "Female",
          "Male",
          "Male",
          "Male",
          "Male",
          "Male",
          "Non-binary",
          "Male",
          "Female",
          "Female",
          "Male",
          "Male",
          "Female",
          "Female",
          "Male",
          "Non-binary",
          "Male",
          "Male",
          "Female",
          "Female",
          "Female",
          "Male",
          "Male",
          "Male",
          "Male",
          "Male",
          "Non-binary",
          "Male",
          "Female",
          "Female",
          "Male",
          "Male",
          "Female",
          "Female",
          "Male",
          "Non-binary",
          "Male",
          "Male",
          "Female",
          "Unknown",
          "Unknown",
          "Unknown",
          "Unknown",
          "Unknown",
          "Unknown",
          "Male",
          "Non-binary",
          "Male",
          "Female",
          "Female",
          "Male",
          "Male",
          "Female",
          "Female",
          "Male",
          "Non-binary",
          "Male",
          "Male",
          "Female",
          "Female",
          "Female",
          "Male",
          "Male",
          "Male",
          "Male",
          "Male",
          "Non-binary",
          "Male",
          "Female",
          "Female",
          "Male",
          "Male",
          "Female",
          "Female",
          "Male",
          "Non-binary",
          "Male",
          "Male",
          "Female",
          "Female",
          "Female",
          "Male",
          "Male",
          "Male",
          "Male",
          "Male",
          "Non-binary"
         ],
         "xaxis": "x",
         "yaxis": "y"
        },
        {
         "alignmentgroup": "True",
         "bingroup": "x",
         "hovertemplate": "Platform=Facebook<br>Gender=%{x}<br>count=%{y}<extra></extra>",
         "legendgroup": "Facebook",
         "marker": {
          "color": "#00cc96",
          "pattern": {
           "shape": ""
          }
         },
         "name": "Facebook",
         "offsetgroup": "Facebook",
         "orientation": "v",
         "showlegend": true,
         "type": "histogram",
         "x": [
          "Non-binary",
          "Non-binary",
          "Non-binary",
          "Non-binary",
          "Male",
          "Male",
          "Non-binary",
          "Male",
          "Non-binary",
          "Non-binary",
          "Non-binary",
          "Non-binary",
          "Male",
          "Non-binary",
          "Non-binary",
          "Non-binary",
          "Non-binary",
          "Non-binary",
          "Female",
          "Non-binary",
          "Non-binary",
          "Non-binary",
          "Non-binary",
          "Male",
          "Male",
          "Non-binary",
          "Male",
          "Non-binary",
          "Non-binary",
          "Non-binary",
          "Non-binary",
          "Male",
          "Non-binary",
          "Non-binary",
          "Non-binary",
          "Non-binary",
          "Non-binary",
          "Female",
          "Non-binary",
          "Non-binary",
          "Non-binary",
          "Non-binary",
          "Male",
          "Male",
          "Non-binary",
          "Male",
          "Non-binary",
          "Non-binary",
          "Non-binary",
          "Unknown",
          "Unknown",
          "Unknown",
          "Unknown",
          "Unknown",
          "Unknown",
          "Non-binary",
          "Female",
          "Non-binary",
          "Non-binary",
          "Non-binary",
          "Non-binary",
          "Male",
          "Male",
          "Non-binary",
          "Male",
          "Non-binary",
          "Non-binary",
          "Non-binary",
          "Non-binary",
          "Male",
          "Non-binary",
          "Non-binary",
          "Non-binary",
          "Non-binary",
          "Non-binary",
          "Female",
          "Non-binary",
          "Non-binary",
          "Non-binary",
          "Non-binary",
          "Male",
          "Male",
          "Non-binary",
          "Male",
          "Non-binary",
          "Non-binary",
          "Non-binary",
          "Non-binary",
          "Male",
          "Non-binary",
          "Non-binary",
          "Non-binary",
          "Non-binary",
          "Non-binary",
          "Female",
          "Non-binary",
          "Non-binary",
          "Non-binary",
          "Non-binary",
          "Male",
          "Male",
          "Non-binary",
          "Male",
          "Non-binary",
          "Non-binary",
          "Non-binary",
          "Non-binary",
          "Male",
          "Non-binary",
          "Non-binary",
          "Non-binary",
          "Non-binary",
          "Non-binary",
          "Female",
          "Non-binary",
          "Non-binary",
          "Non-binary",
          "Non-binary",
          "Male",
          "Male",
          "Non-binary",
          "Male",
          "Non-binary",
          "Non-binary",
          "Non-binary",
          "Non-binary",
          "Male",
          "Non-binary",
          "Non-binary",
          "Non-binary",
          "Non-binary",
          "Non-binary",
          "Female",
          "Non-binary",
          "Non-binary",
          "Non-binary",
          "Non-binary",
          "Male",
          "Male",
          "Non-binary",
          "Male",
          "Non-binary",
          "Non-binary",
          "Non-binary",
          "Unknown",
          "Unknown",
          "Unknown",
          "Unknown",
          "Unknown",
          "Unknown",
          "Non-binary",
          "Female",
          "Non-binary",
          "Non-binary",
          "Non-binary",
          "Non-binary",
          "Male",
          "Male",
          "Non-binary",
          "Male",
          "Non-binary",
          "Non-binary",
          "Non-binary",
          "Non-binary",
          "Male",
          "Non-binary",
          "Non-binary",
          "Non-binary",
          "Non-binary",
          "Non-binary",
          "Female",
          "Non-binary",
          "Non-binary",
          "Non-binary",
          "Non-binary",
          "Male",
          "Male",
          "Non-binary",
          "Male",
          "Non-binary",
          "Non-binary",
          "Non-binary",
          "Non-binary",
          "Male",
          "Non-binary",
          "Non-binary",
          "Non-binary",
          "Non-binary",
          "Non-binary",
          "Female"
         ],
         "xaxis": "x",
         "yaxis": "y"
        },
        {
         "alignmentgroup": "True",
         "bingroup": "x",
         "hovertemplate": "Platform=LinkedIn<br>Gender=%{x}<br>count=%{y}<extra></extra>",
         "legendgroup": "LinkedIn",
         "marker": {
          "color": "#ab63fa",
          "pattern": {
           "shape": ""
          }
         },
         "name": "LinkedIn",
         "offsetgroup": "LinkedIn",
         "orientation": "v",
         "showlegend": true,
         "type": "histogram",
         "x": [
          "Male",
          "Female",
          "Male",
          "Non-binary",
          "Male",
          "Non-binary",
          "Female",
          "Non-binary",
          "Male",
          "Female",
          "Female",
          "Male",
          "Male",
          "Female",
          "Male",
          "Non-binary",
          "Male",
          "Non-binary",
          "Female",
          "Non-binary",
          "Male",
          "Female",
          "Female",
          "Male",
          "Male",
          "Female",
          "Male",
          "Non-binary",
          "Male",
          "Non-binary",
          "Female",
          "Non-binary",
          "Male",
          "Female",
          "Female",
          "Unknown",
          "Male",
          "Female",
          "Male",
          "Non-binary",
          "Male",
          "Non-binary",
          "Female",
          "Non-binary",
          "Male",
          "Female",
          "Female",
          "Male",
          "Male",
          "Female",
          "Male",
          "Non-binary",
          "Male",
          "Non-binary",
          "Female",
          "Non-binary",
          "Male",
          "Female",
          "Female",
          "Male",
          "Male",
          "Female",
          "Male",
          "Non-binary",
          "Male",
          "Non-binary",
          "Female",
          "Non-binary",
          "Male",
          "Female",
          "Female",
          "Male",
          "Male",
          "Female",
          "Male",
          "Non-binary",
          "Male",
          "Non-binary",
          "Female",
          "Non-binary",
          "Male",
          "Female",
          "Female",
          "Male",
          "Male",
          "Female",
          "Male",
          "Non-binary",
          "Male",
          "Non-binary",
          "Female",
          "Non-binary",
          "Male",
          "Female",
          "Female",
          "Unknown",
          "Male",
          "Female",
          "Male",
          "Non-binary",
          "Male",
          "Non-binary",
          "Female",
          "Non-binary",
          "Male",
          "Female",
          "Female",
          "Male",
          "Male",
          "Female",
          "Male",
          "Non-binary",
          "Male",
          "Non-binary",
          "Female",
          "Non-binary",
          "Male",
          "Female",
          "Female",
          "Male"
         ],
         "xaxis": "x",
         "yaxis": "y"
        },
        {
         "alignmentgroup": "True",
         "bingroup": "x",
         "hovertemplate": "Platform=Whatsapp<br>Gender=%{x}<br>count=%{y}<extra></extra>",
         "legendgroup": "Whatsapp",
         "marker": {
          "color": "#FFA15A",
          "pattern": {
           "shape": ""
          }
         },
         "name": "Whatsapp",
         "offsetgroup": "Whatsapp",
         "orientation": "v",
         "showlegend": true,
         "type": "histogram",
         "x": [
          "Female",
          "Male",
          "Female",
          "Female",
          "Female",
          "Female",
          "Female",
          "Male",
          "Female",
          "Male",
          "Female",
          "Female",
          "Female",
          "Female",
          "Female",
          "Male",
          "Unknown",
          "Unknown",
          "Unknown",
          "Unknown",
          "Unknown",
          "Unknown",
          "Female",
          "Male",
          "Female",
          "Male",
          "Female",
          "Female",
          "Female",
          "Female",
          "Female",
          "Male",
          "Female",
          "Male",
          "Female",
          "Female",
          "Female",
          "Female",
          "Female",
          "Male",
          "Female",
          "Male",
          "Female",
          "Female",
          "Female",
          "Female",
          "Female",
          "Male",
          "Female",
          "Male",
          "Female",
          "Female",
          "Female",
          "Female",
          "Female",
          "Male",
          "Unknown",
          "Unknown",
          "Unknown",
          "Unknown",
          "Unknown",
          "Unknown",
          "Female",
          "Male",
          "Female",
          "Male",
          "Female",
          "Female",
          "Female",
          "Female",
          "Female",
          "Male",
          "Female",
          "Male",
          "Female",
          "Female",
          "Female",
          "Female",
          "Female",
          "Male"
         ],
         "xaxis": "x",
         "yaxis": "y"
        },
        {
         "alignmentgroup": "True",
         "bingroup": "x",
         "hovertemplate": "Platform=Telegram<br>Gender=%{x}<br>count=%{y}<extra></extra>",
         "legendgroup": "Telegram",
         "marker": {
          "color": "#19d3f3",
          "pattern": {
           "shape": ""
          }
         },
         "name": "Telegram",
         "offsetgroup": "Telegram",
         "orientation": "v",
         "showlegend": true,
         "type": "histogram",
         "x": [
          "Male",
          "Non-binary",
          "Male",
          "Male",
          "Male",
          "Male",
          "Male",
          "Non-binary",
          "Male",
          "Non-binary",
          "Male",
          "Male",
          "Male",
          "Male",
          "Male",
          "Non-binary",
          "Unknown",
          "Unknown",
          "Unknown",
          "Unknown",
          "Unknown",
          "Unknown",
          "Male",
          "Non-binary",
          "Male",
          "Non-binary",
          "Male",
          "Male",
          "Male",
          "Male",
          "Male",
          "Non-binary",
          "Male",
          "Non-binary",
          "Male",
          "Male",
          "Male",
          "Male",
          "Male",
          "Non-binary",
          "Male",
          "Non-binary",
          "Male",
          "Male",
          "Male",
          "Male",
          "Male",
          "Non-binary",
          "Male",
          "Non-binary",
          "Male",
          "Male",
          "Male",
          "Male",
          "Male",
          "Non-binary",
          "Unknown",
          "Unknown",
          "Unknown",
          "Unknown",
          "Unknown",
          "Unknown",
          "Male",
          "Non-binary",
          "Male",
          "Non-binary",
          "Male",
          "Male",
          "Male",
          "Male",
          "Male",
          "Non-binary",
          "Male",
          "Non-binary",
          "Male",
          "Male",
          "Male",
          "Male",
          "Male",
          "Non-binary"
         ],
         "xaxis": "x",
         "yaxis": "y"
        },
        {
         "alignmentgroup": "True",
         "bingroup": "x",
         "hovertemplate": "Platform=Snapchat<br>Gender=%{x}<br>count=%{y}<extra></extra>",
         "legendgroup": "Snapchat",
         "marker": {
          "color": "#FF6692",
          "pattern": {
           "shape": ""
          }
         },
         "name": "Snapchat",
         "offsetgroup": "Snapchat",
         "orientation": "v",
         "showlegend": true,
         "type": "histogram",
         "x": [
          "Non-binary",
          "Female",
          "Non-binary",
          "Non-binary",
          "Non-binary",
          "Non-binary",
          "Female",
          "Female",
          "Non-binary",
          "Female",
          "Non-binary",
          "Non-binary",
          "Non-binary",
          "Non-binary",
          "Female",
          "Female",
          "Unknown",
          "Unknown",
          "Unknown",
          "Unknown",
          "Unknown",
          "Unknown",
          "Female",
          "Female",
          "Non-binary",
          "Female",
          "Non-binary",
          "Non-binary",
          "Non-binary",
          "Non-binary",
          "Female",
          "Female",
          "Non-binary",
          "Female",
          "Non-binary",
          "Non-binary",
          "Non-binary",
          "Non-binary",
          "Female",
          "Female",
          "Non-binary",
          "Female",
          "Non-binary",
          "Non-binary",
          "Non-binary",
          "Non-binary",
          "Female",
          "Female",
          "Non-binary",
          "Female",
          "Non-binary",
          "Non-binary",
          "Non-binary",
          "Non-binary",
          "Female",
          "Female",
          "Unknown",
          "Unknown",
          "Unknown",
          "Unknown",
          "Unknown",
          "Unknown",
          "Female",
          "Female",
          "Non-binary",
          "Female",
          "Non-binary",
          "Non-binary",
          "Non-binary",
          "Non-binary",
          "Female",
          "Female",
          "Non-binary",
          "Female",
          "Non-binary",
          "Non-binary",
          "Non-binary",
          "Non-binary",
          "Female",
          "Female"
         ],
         "xaxis": "x",
         "yaxis": "y"
        }
       ],
       "layout": {
        "barmode": "relative",
        "legend": {
         "title": {
          "text": "Platform"
         },
         "tracegroupgap": 0
        },
        "template": {
         "data": {
          "bar": [
           {
            "error_x": {
             "color": "#2a3f5f"
            },
            "error_y": {
             "color": "#2a3f5f"
            },
            "marker": {
             "line": {
              "color": "#E5ECF6",
              "width": 0.5
             },
             "pattern": {
              "fillmode": "overlay",
              "size": 10,
              "solidity": 0.2
             }
            },
            "type": "bar"
           }
          ],
          "barpolar": [
           {
            "marker": {
             "line": {
              "color": "#E5ECF6",
              "width": 0.5
             },
             "pattern": {
              "fillmode": "overlay",
              "size": 10,
              "solidity": 0.2
             }
            },
            "type": "barpolar"
           }
          ],
          "carpet": [
           {
            "aaxis": {
             "endlinecolor": "#2a3f5f",
             "gridcolor": "white",
             "linecolor": "white",
             "minorgridcolor": "white",
             "startlinecolor": "#2a3f5f"
            },
            "baxis": {
             "endlinecolor": "#2a3f5f",
             "gridcolor": "white",
             "linecolor": "white",
             "minorgridcolor": "white",
             "startlinecolor": "#2a3f5f"
            },
            "type": "carpet"
           }
          ],
          "choropleth": [
           {
            "colorbar": {
             "outlinewidth": 0,
             "ticks": ""
            },
            "type": "choropleth"
           }
          ],
          "contour": [
           {
            "colorbar": {
             "outlinewidth": 0,
             "ticks": ""
            },
            "colorscale": [
             [
              0,
              "#0d0887"
             ],
             [
              0.1111111111111111,
              "#46039f"
             ],
             [
              0.2222222222222222,
              "#7201a8"
             ],
             [
              0.3333333333333333,
              "#9c179e"
             ],
             [
              0.4444444444444444,
              "#bd3786"
             ],
             [
              0.5555555555555556,
              "#d8576b"
             ],
             [
              0.6666666666666666,
              "#ed7953"
             ],
             [
              0.7777777777777778,
              "#fb9f3a"
             ],
             [
              0.8888888888888888,
              "#fdca26"
             ],
             [
              1,
              "#f0f921"
             ]
            ],
            "type": "contour"
           }
          ],
          "contourcarpet": [
           {
            "colorbar": {
             "outlinewidth": 0,
             "ticks": ""
            },
            "type": "contourcarpet"
           }
          ],
          "heatmap": [
           {
            "colorbar": {
             "outlinewidth": 0,
             "ticks": ""
            },
            "colorscale": [
             [
              0,
              "#0d0887"
             ],
             [
              0.1111111111111111,
              "#46039f"
             ],
             [
              0.2222222222222222,
              "#7201a8"
             ],
             [
              0.3333333333333333,
              "#9c179e"
             ],
             [
              0.4444444444444444,
              "#bd3786"
             ],
             [
              0.5555555555555556,
              "#d8576b"
             ],
             [
              0.6666666666666666,
              "#ed7953"
             ],
             [
              0.7777777777777778,
              "#fb9f3a"
             ],
             [
              0.8888888888888888,
              "#fdca26"
             ],
             [
              1,
              "#f0f921"
             ]
            ],
            "type": "heatmap"
           }
          ],
          "heatmapgl": [
           {
            "colorbar": {
             "outlinewidth": 0,
             "ticks": ""
            },
            "colorscale": [
             [
              0,
              "#0d0887"
             ],
             [
              0.1111111111111111,
              "#46039f"
             ],
             [
              0.2222222222222222,
              "#7201a8"
             ],
             [
              0.3333333333333333,
              "#9c179e"
             ],
             [
              0.4444444444444444,
              "#bd3786"
             ],
             [
              0.5555555555555556,
              "#d8576b"
             ],
             [
              0.6666666666666666,
              "#ed7953"
             ],
             [
              0.7777777777777778,
              "#fb9f3a"
             ],
             [
              0.8888888888888888,
              "#fdca26"
             ],
             [
              1,
              "#f0f921"
             ]
            ],
            "type": "heatmapgl"
           }
          ],
          "histogram": [
           {
            "marker": {
             "pattern": {
              "fillmode": "overlay",
              "size": 10,
              "solidity": 0.2
             }
            },
            "type": "histogram"
           }
          ],
          "histogram2d": [
           {
            "colorbar": {
             "outlinewidth": 0,
             "ticks": ""
            },
            "colorscale": [
             [
              0,
              "#0d0887"
             ],
             [
              0.1111111111111111,
              "#46039f"
             ],
             [
              0.2222222222222222,
              "#7201a8"
             ],
             [
              0.3333333333333333,
              "#9c179e"
             ],
             [
              0.4444444444444444,
              "#bd3786"
             ],
             [
              0.5555555555555556,
              "#d8576b"
             ],
             [
              0.6666666666666666,
              "#ed7953"
             ],
             [
              0.7777777777777778,
              "#fb9f3a"
             ],
             [
              0.8888888888888888,
              "#fdca26"
             ],
             [
              1,
              "#f0f921"
             ]
            ],
            "type": "histogram2d"
           }
          ],
          "histogram2dcontour": [
           {
            "colorbar": {
             "outlinewidth": 0,
             "ticks": ""
            },
            "colorscale": [
             [
              0,
              "#0d0887"
             ],
             [
              0.1111111111111111,
              "#46039f"
             ],
             [
              0.2222222222222222,
              "#7201a8"
             ],
             [
              0.3333333333333333,
              "#9c179e"
             ],
             [
              0.4444444444444444,
              "#bd3786"
             ],
             [
              0.5555555555555556,
              "#d8576b"
             ],
             [
              0.6666666666666666,
              "#ed7953"
             ],
             [
              0.7777777777777778,
              "#fb9f3a"
             ],
             [
              0.8888888888888888,
              "#fdca26"
             ],
             [
              1,
              "#f0f921"
             ]
            ],
            "type": "histogram2dcontour"
           }
          ],
          "mesh3d": [
           {
            "colorbar": {
             "outlinewidth": 0,
             "ticks": ""
            },
            "type": "mesh3d"
           }
          ],
          "parcoords": [
           {
            "line": {
             "colorbar": {
              "outlinewidth": 0,
              "ticks": ""
             }
            },
            "type": "parcoords"
           }
          ],
          "pie": [
           {
            "automargin": true,
            "type": "pie"
           }
          ],
          "scatter": [
           {
            "fillpattern": {
             "fillmode": "overlay",
             "size": 10,
             "solidity": 0.2
            },
            "type": "scatter"
           }
          ],
          "scatter3d": [
           {
            "line": {
             "colorbar": {
              "outlinewidth": 0,
              "ticks": ""
             }
            },
            "marker": {
             "colorbar": {
              "outlinewidth": 0,
              "ticks": ""
             }
            },
            "type": "scatter3d"
           }
          ],
          "scattercarpet": [
           {
            "marker": {
             "colorbar": {
              "outlinewidth": 0,
              "ticks": ""
             }
            },
            "type": "scattercarpet"
           }
          ],
          "scattergeo": [
           {
            "marker": {
             "colorbar": {
              "outlinewidth": 0,
              "ticks": ""
             }
            },
            "type": "scattergeo"
           }
          ],
          "scattergl": [
           {
            "marker": {
             "colorbar": {
              "outlinewidth": 0,
              "ticks": ""
             }
            },
            "type": "scattergl"
           }
          ],
          "scattermapbox": [
           {
            "marker": {
             "colorbar": {
              "outlinewidth": 0,
              "ticks": ""
             }
            },
            "type": "scattermapbox"
           }
          ],
          "scatterpolar": [
           {
            "marker": {
             "colorbar": {
              "outlinewidth": 0,
              "ticks": ""
             }
            },
            "type": "scatterpolar"
           }
          ],
          "scatterpolargl": [
           {
            "marker": {
             "colorbar": {
              "outlinewidth": 0,
              "ticks": ""
             }
            },
            "type": "scatterpolargl"
           }
          ],
          "scatterternary": [
           {
            "marker": {
             "colorbar": {
              "outlinewidth": 0,
              "ticks": ""
             }
            },
            "type": "scatterternary"
           }
          ],
          "surface": [
           {
            "colorbar": {
             "outlinewidth": 0,
             "ticks": ""
            },
            "colorscale": [
             [
              0,
              "#0d0887"
             ],
             [
              0.1111111111111111,
              "#46039f"
             ],
             [
              0.2222222222222222,
              "#7201a8"
             ],
             [
              0.3333333333333333,
              "#9c179e"
             ],
             [
              0.4444444444444444,
              "#bd3786"
             ],
             [
              0.5555555555555556,
              "#d8576b"
             ],
             [
              0.6666666666666666,
              "#ed7953"
             ],
             [
              0.7777777777777778,
              "#fb9f3a"
             ],
             [
              0.8888888888888888,
              "#fdca26"
             ],
             [
              1,
              "#f0f921"
             ]
            ],
            "type": "surface"
           }
          ],
          "table": [
           {
            "cells": {
             "fill": {
              "color": "#EBF0F8"
             },
             "line": {
              "color": "white"
             }
            },
            "header": {
             "fill": {
              "color": "#C8D4E3"
             },
             "line": {
              "color": "white"
             }
            },
            "type": "table"
           }
          ]
         },
         "layout": {
          "annotationdefaults": {
           "arrowcolor": "#2a3f5f",
           "arrowhead": 0,
           "arrowwidth": 1
          },
          "autotypenumbers": "strict",
          "coloraxis": {
           "colorbar": {
            "outlinewidth": 0,
            "ticks": ""
           }
          },
          "colorscale": {
           "diverging": [
            [
             0,
             "#8e0152"
            ],
            [
             0.1,
             "#c51b7d"
            ],
            [
             0.2,
             "#de77ae"
            ],
            [
             0.3,
             "#f1b6da"
            ],
            [
             0.4,
             "#fde0ef"
            ],
            [
             0.5,
             "#f7f7f7"
            ],
            [
             0.6,
             "#e6f5d0"
            ],
            [
             0.7,
             "#b8e186"
            ],
            [
             0.8,
             "#7fbc41"
            ],
            [
             0.9,
             "#4d9221"
            ],
            [
             1,
             "#276419"
            ]
           ],
           "sequential": [
            [
             0,
             "#0d0887"
            ],
            [
             0.1111111111111111,
             "#46039f"
            ],
            [
             0.2222222222222222,
             "#7201a8"
            ],
            [
             0.3333333333333333,
             "#9c179e"
            ],
            [
             0.4444444444444444,
             "#bd3786"
            ],
            [
             0.5555555555555556,
             "#d8576b"
            ],
            [
             0.6666666666666666,
             "#ed7953"
            ],
            [
             0.7777777777777778,
             "#fb9f3a"
            ],
            [
             0.8888888888888888,
             "#fdca26"
            ],
            [
             1,
             "#f0f921"
            ]
           ],
           "sequentialminus": [
            [
             0,
             "#0d0887"
            ],
            [
             0.1111111111111111,
             "#46039f"
            ],
            [
             0.2222222222222222,
             "#7201a8"
            ],
            [
             0.3333333333333333,
             "#9c179e"
            ],
            [
             0.4444444444444444,
             "#bd3786"
            ],
            [
             0.5555555555555556,
             "#d8576b"
            ],
            [
             0.6666666666666666,
             "#ed7953"
            ],
            [
             0.7777777777777778,
             "#fb9f3a"
            ],
            [
             0.8888888888888888,
             "#fdca26"
            ],
            [
             1,
             "#f0f921"
            ]
           ]
          },
          "colorway": [
           "#636efa",
           "#EF553B",
           "#00cc96",
           "#ab63fa",
           "#FFA15A",
           "#19d3f3",
           "#FF6692",
           "#B6E880",
           "#FF97FF",
           "#FECB52"
          ],
          "font": {
           "color": "#2a3f5f"
          },
          "geo": {
           "bgcolor": "white",
           "lakecolor": "white",
           "landcolor": "#E5ECF6",
           "showlakes": true,
           "showland": true,
           "subunitcolor": "white"
          },
          "hoverlabel": {
           "align": "left"
          },
          "hovermode": "closest",
          "mapbox": {
           "style": "light"
          },
          "paper_bgcolor": "white",
          "plot_bgcolor": "#E5ECF6",
          "polar": {
           "angularaxis": {
            "gridcolor": "white",
            "linecolor": "white",
            "ticks": ""
           },
           "bgcolor": "#E5ECF6",
           "radialaxis": {
            "gridcolor": "white",
            "linecolor": "white",
            "ticks": ""
           }
          },
          "scene": {
           "xaxis": {
            "backgroundcolor": "#E5ECF6",
            "gridcolor": "white",
            "gridwidth": 2,
            "linecolor": "white",
            "showbackground": true,
            "ticks": "",
            "zerolinecolor": "white"
           },
           "yaxis": {
            "backgroundcolor": "#E5ECF6",
            "gridcolor": "white",
            "gridwidth": 2,
            "linecolor": "white",
            "showbackground": true,
            "ticks": "",
            "zerolinecolor": "white"
           },
           "zaxis": {
            "backgroundcolor": "#E5ECF6",
            "gridcolor": "white",
            "gridwidth": 2,
            "linecolor": "white",
            "showbackground": true,
            "ticks": "",
            "zerolinecolor": "white"
           }
          },
          "shapedefaults": {
           "line": {
            "color": "#2a3f5f"
           }
          },
          "ternary": {
           "aaxis": {
            "gridcolor": "white",
            "linecolor": "white",
            "ticks": ""
           },
           "baxis": {
            "gridcolor": "white",
            "linecolor": "white",
            "ticks": ""
           },
           "bgcolor": "#E5ECF6",
           "caxis": {
            "gridcolor": "white",
            "linecolor": "white",
            "ticks": ""
           }
          },
          "title": {
           "x": 0.05
          },
          "xaxis": {
           "automargin": true,
           "gridcolor": "white",
           "linecolor": "white",
           "ticks": "",
           "title": {
            "standoff": 15
           },
           "zerolinecolor": "white",
           "zerolinewidth": 2
          },
          "yaxis": {
           "automargin": true,
           "gridcolor": "white",
           "linecolor": "white",
           "ticks": "",
           "title": {
            "standoff": 15
           },
           "zerolinecolor": "white",
           "zerolinewidth": 2
          }
         }
        },
        "title": {
         "text": "Platform by Gender Usage"
        },
        "xaxis": {
         "anchor": "y",
         "domain": [
          0,
          1
         ],
         "title": {
          "text": "Gender"
         }
        },
        "yaxis": {
         "anchor": "x",
         "domain": [
          0,
          1
         ],
         "title": {
          "text": "count"
         }
        }
       }
      }
     },
     "metadata": {},
     "output_type": "display_data"
    }
   ],
   "source": [
    "plt = px.histogram(train_df, x='Gender', color='Platform', title='Platform by Gender Usage')\n",
    "plt.show()"
   ]
  },
  {
   "cell_type": "markdown",
   "id": "5b606a0f",
   "metadata": {
    "papermill": {
     "duration": 0.041721,
     "end_time": "2024-05-23T11:22:54.071345",
     "exception": false,
     "start_time": "2024-05-23T11:22:54.029624",
     "status": "completed"
    },
    "tags": []
   },
   "source": [
    "### Gender and Platform VS Daily Usage Time (minutes)"
   ]
  },
  {
   "cell_type": "code",
   "execution_count": 48,
   "id": "effaf728",
   "metadata": {
    "execution": {
     "iopub.execute_input": "2024-05-23T11:22:54.151731Z",
     "iopub.status.busy": "2024-05-23T11:22:54.151316Z",
     "iopub.status.idle": "2024-05-23T11:22:54.252753Z",
     "shell.execute_reply": "2024-05-23T11:22:54.250774Z"
    },
    "papermill": {
     "duration": 0.145463,
     "end_time": "2024-05-23T11:22:54.256436",
     "exception": false,
     "start_time": "2024-05-23T11:22:54.110973",
     "status": "completed"
    },
    "tags": []
   },
   "outputs": [
    {
     "data": {
      "application/vnd.plotly.v1+json": {
       "config": {
        "plotlyServerURL": "https://plot.ly"
       },
       "data": [
        {
         "alignmentgroup": "True",
         "bingroup": "y",
         "histfunc": "sum",
         "hovertemplate": "Gender=Female<br>sum of Posts_Per_Day=%{x}<br>Platform=%{y}<extra></extra>",
         "legendgroup": "Female",
         "marker": {
          "color": "#636efa",
          "pattern": {
           "shape": ""
          }
         },
         "name": "Female",
         "offsetgroup": "Female",
         "orientation": "h",
         "showlegend": true,
         "type": "histogram",
         "x": [
          3,
          8,
          3,
          2,
          4,
          7,
          4,
          5,
          4,
          3,
          6,
          2,
          6,
          7,
          3,
          6,
          1,
          3,
          1,
          3,
          4,
          2,
          4,
          6,
          4,
          2,
          4,
          2,
          6,
          4,
          5,
          4,
          6,
          4,
          2,
          1,
          4,
          5,
          8,
          3,
          2,
          4,
          8,
          5,
          6,
          4,
          3,
          6,
          2,
          6,
          7,
          3,
          6,
          1,
          3,
          1,
          3,
          4,
          2,
          4,
          6,
          4,
          2,
          4,
          2,
          6,
          4,
          5,
          4,
          6,
          4,
          2,
          1,
          4,
          5,
          8,
          3,
          2,
          4,
          8,
          5,
          6,
          4,
          3,
          6,
          2,
          6,
          7,
          3,
          6,
          1,
          3,
          1,
          6,
          4,
          2,
          1,
          4,
          5,
          8,
          3,
          2,
          4,
          8,
          5,
          6,
          4,
          3,
          6,
          2,
          6,
          7,
          3,
          6,
          1,
          3,
          1,
          3,
          4,
          2,
          4,
          6,
          4,
          2,
          4,
          2,
          6,
          4,
          5,
          4,
          6,
          4,
          2,
          1,
          4,
          5,
          8,
          3,
          2,
          4,
          8,
          5,
          6,
          4,
          3,
          6,
          2,
          6,
          7,
          3,
          6,
          1,
          3,
          1,
          3,
          4,
          2,
          4,
          6,
          4,
          2,
          4,
          2,
          6,
          4,
          5,
          4,
          6,
          4,
          2,
          1,
          4,
          5,
          8,
          3,
          2,
          4,
          8,
          5,
          6,
          4,
          3,
          6,
          2,
          6,
          7,
          3,
          6,
          1,
          3,
          1,
          3,
          4,
          2,
          4,
          6,
          4,
          2,
          4,
          2,
          6,
          4,
          5,
          4,
          6,
          4,
          2,
          1,
          4,
          5,
          8,
          3,
          2,
          4,
          8,
          5,
          6,
          4,
          3,
          6,
          2,
          6,
          7,
          3,
          6,
          1,
          3,
          1,
          3,
          4,
          2,
          4,
          6,
          4,
          2,
          4,
          2,
          6,
          4,
          5,
          4,
          6,
          4,
          2,
          1,
          4,
          5,
          8,
          3,
          2,
          4,
          8,
          5,
          6,
          4,
          3,
          6,
          2,
          6,
          7,
          3,
          6,
          1,
          3,
          1,
          6,
          4,
          2,
          1,
          4,
          5,
          8,
          3,
          2,
          4,
          8,
          5,
          6,
          4,
          3,
          6,
          2,
          6,
          7,
          3,
          6,
          1,
          3,
          1,
          3,
          4,
          2,
          4,
          6,
          4,
          2,
          4,
          2,
          6,
          4,
          5,
          4,
          6,
          4,
          2,
          1,
          4,
          5,
          8,
          3,
          2,
          4,
          8,
          5,
          6,
          4,
          3,
          6,
          2,
          6,
          7,
          3,
          6,
          1,
          3,
          1,
          3,
          4,
          2,
          4,
          6,
          4,
          2,
          4,
          2,
          6,
          4,
          5,
          4,
          6,
          4,
          2,
          1,
          4
         ],
         "xaxis": "x",
         "y": [
          "Instagram",
          "Instagram",
          "Twitter",
          "LinkedIn",
          "Twitter",
          "Instagram",
          "Instagram",
          "Instagram",
          "Twitter",
          "Twitter",
          "Instagram",
          "LinkedIn",
          "Instagram",
          "Instagram",
          "Instagram",
          "Instagram",
          "LinkedIn",
          "Twitter",
          "LinkedIn",
          "Twitter",
          "Instagram",
          "Whatsapp",
          "Twitter",
          "Instagram",
          "Snapchat",
          "Whatsapp",
          "Instagram",
          "Whatsapp",
          "Instagram",
          "Whatsapp",
          "Instagram",
          "Whatsapp",
          "Instagram",
          "Whatsapp",
          "Snapchat",
          "Facebook",
          "Snapchat",
          "Instagram",
          "Instagram",
          "Twitter",
          "LinkedIn",
          "Twitter",
          "Instagram",
          "Instagram",
          "Instagram",
          "Twitter",
          "Twitter",
          "Instagram",
          "LinkedIn",
          "Instagram",
          "Instagram",
          "Instagram",
          "Instagram",
          "LinkedIn",
          "Twitter",
          "LinkedIn",
          "Twitter",
          "Instagram",
          "Whatsapp",
          "Twitter",
          "Instagram",
          "Snapchat",
          "Whatsapp",
          "Instagram",
          "Whatsapp",
          "Instagram",
          "Whatsapp",
          "Instagram",
          "Whatsapp",
          "Instagram",
          "Whatsapp",
          "Snapchat",
          "Facebook",
          "Snapchat",
          "Instagram",
          "Instagram",
          "Twitter",
          "LinkedIn",
          "Twitter",
          "Instagram",
          "Instagram",
          "Instagram",
          "Twitter",
          "Twitter",
          "Instagram",
          "LinkedIn",
          "Instagram",
          "Instagram",
          "Instagram",
          "Instagram",
          "LinkedIn",
          "Twitter",
          "LinkedIn",
          "Instagram",
          "Whatsapp",
          "Snapchat",
          "Facebook",
          "Snapchat",
          "Instagram",
          "Instagram",
          "Twitter",
          "LinkedIn",
          "Twitter",
          "Instagram",
          "Instagram",
          "Instagram",
          "Twitter",
          "Twitter",
          "Instagram",
          "LinkedIn",
          "Instagram",
          "Instagram",
          "Instagram",
          "Instagram",
          "LinkedIn",
          "Twitter",
          "LinkedIn",
          "Twitter",
          "Instagram",
          "Whatsapp",
          "Twitter",
          "Instagram",
          "Snapchat",
          "Whatsapp",
          "Instagram",
          "Whatsapp",
          "Instagram",
          "Whatsapp",
          "Instagram",
          "Whatsapp",
          "Instagram",
          "Whatsapp",
          "Snapchat",
          "Facebook",
          "Snapchat",
          "Instagram",
          "Instagram",
          "Twitter",
          "LinkedIn",
          "Twitter",
          "Instagram",
          "Instagram",
          "Instagram",
          "Twitter",
          "Twitter",
          "Instagram",
          "LinkedIn",
          "Instagram",
          "Instagram",
          "Instagram",
          "Instagram",
          "LinkedIn",
          "Twitter",
          "LinkedIn",
          "Twitter",
          "Instagram",
          "Whatsapp",
          "Twitter",
          "Instagram",
          "Snapchat",
          "Whatsapp",
          "Instagram",
          "Whatsapp",
          "Instagram",
          "Whatsapp",
          "Instagram",
          "Whatsapp",
          "Instagram",
          "Whatsapp",
          "Snapchat",
          "Facebook",
          "Snapchat",
          "Instagram",
          "Instagram",
          "Twitter",
          "LinkedIn",
          "Twitter",
          "Instagram",
          "Instagram",
          "Instagram",
          "Twitter",
          "Twitter",
          "Instagram",
          "LinkedIn",
          "Instagram",
          "Instagram",
          "Instagram",
          "Instagram",
          "LinkedIn",
          "Twitter",
          "LinkedIn",
          "Twitter",
          "Instagram",
          "Whatsapp",
          "Twitter",
          "Instagram",
          "Snapchat",
          "Whatsapp",
          "Instagram",
          "Whatsapp",
          "Instagram",
          "Whatsapp",
          "Instagram",
          "Whatsapp",
          "Instagram",
          "Whatsapp",
          "Snapchat",
          "Facebook",
          "Snapchat",
          "Instagram",
          "Instagram",
          "Twitter",
          "LinkedIn",
          "Twitter",
          "Instagram",
          "Instagram",
          "Instagram",
          "Twitter",
          "Twitter",
          "Instagram",
          "LinkedIn",
          "Instagram",
          "Instagram",
          "Instagram",
          "Instagram",
          "LinkedIn",
          "Twitter",
          "LinkedIn",
          "Twitter",
          "Instagram",
          "Whatsapp",
          "Twitter",
          "Instagram",
          "Snapchat",
          "Whatsapp",
          "Instagram",
          "Whatsapp",
          "Instagram",
          "Whatsapp",
          "Instagram",
          "Whatsapp",
          "Instagram",
          "Whatsapp",
          "Snapchat",
          "Facebook",
          "Snapchat",
          "Instagram",
          "Instagram",
          "Twitter",
          "LinkedIn",
          "Twitter",
          "Instagram",
          "Instagram",
          "Instagram",
          "Twitter",
          "Twitter",
          "Instagram",
          "LinkedIn",
          "Instagram",
          "Instagram",
          "Instagram",
          "Instagram",
          "LinkedIn",
          "Twitter",
          "LinkedIn",
          "Instagram",
          "Whatsapp",
          "Snapchat",
          "Facebook",
          "Snapchat",
          "Instagram",
          "Instagram",
          "Twitter",
          "LinkedIn",
          "Twitter",
          "Instagram",
          "Instagram",
          "Instagram",
          "Twitter",
          "Twitter",
          "Instagram",
          "LinkedIn",
          "Instagram",
          "Instagram",
          "Instagram",
          "Instagram",
          "LinkedIn",
          "Twitter",
          "LinkedIn",
          "Twitter",
          "Instagram",
          "Whatsapp",
          "Twitter",
          "Instagram",
          "Snapchat",
          "Whatsapp",
          "Instagram",
          "Whatsapp",
          "Instagram",
          "Whatsapp",
          "Instagram",
          "Whatsapp",
          "Instagram",
          "Whatsapp",
          "Snapchat",
          "Facebook",
          "Snapchat",
          "Instagram",
          "Instagram",
          "Twitter",
          "LinkedIn",
          "Twitter",
          "Instagram",
          "Instagram",
          "Instagram",
          "Twitter",
          "Twitter",
          "Instagram",
          "LinkedIn",
          "Instagram",
          "Instagram",
          "Instagram",
          "Instagram",
          "LinkedIn",
          "Twitter",
          "LinkedIn",
          "Twitter",
          "Instagram",
          "Whatsapp",
          "Twitter",
          "Instagram",
          "Snapchat",
          "Whatsapp",
          "Instagram",
          "Whatsapp",
          "Instagram",
          "Whatsapp",
          "Instagram",
          "Whatsapp",
          "Instagram",
          "Whatsapp",
          "Snapchat",
          "Facebook",
          "Snapchat"
         ],
         "yaxis": "y"
        },
        {
         "alignmentgroup": "True",
         "bingroup": "y",
         "histfunc": "sum",
         "hovertemplate": "Gender=Male<br>sum of Posts_Per_Day=%{x}<br>Platform=%{y}<extra></extra>",
         "legendgroup": "Male",
         "marker": {
          "color": "#EF553B",
          "pattern": {
           "shape": ""
          }
         },
         "name": "Male",
         "offsetgroup": "Male",
         "orientation": "h",
         "showlegend": true,
         "type": "histogram",
         "x": [
          5,
          1,
          4,
          5,
          1,
          6,
          3,
          2,
          2,
          2,
          4,
          5,
          2,
          4,
          1,
          4,
          7,
          5,
          6,
          1,
          3,
          1,
          3,
          6,
          5,
          3,
          1,
          4,
          2,
          2,
          1,
          3,
          2,
          3,
          5,
          3,
          4,
          1,
          5,
          7,
          1,
          6,
          3,
          2,
          2,
          2,
          4,
          7,
          2,
          4,
          1,
          4,
          7,
          5,
          6,
          1,
          3,
          1,
          3,
          6,
          5,
          3,
          1,
          4,
          2,
          2,
          1,
          3,
          2,
          3,
          5,
          3,
          4,
          1,
          5,
          7,
          1,
          6,
          3,
          2,
          2,
          2,
          4,
          7,
          2,
          4,
          1,
          4,
          7,
          5,
          2,
          3,
          5,
          3,
          4,
          1,
          5,
          7,
          1,
          6,
          3,
          2,
          2,
          2,
          4,
          7,
          2,
          4,
          1,
          4,
          7,
          5,
          6,
          1,
          3,
          1,
          3,
          6,
          5,
          3,
          1,
          4,
          2,
          2,
          1,
          3,
          2,
          3,
          5,
          3,
          4,
          1,
          5,
          7,
          1,
          6,
          3,
          2,
          2,
          2,
          4,
          7,
          2,
          4,
          1,
          4,
          7,
          5,
          6,
          1,
          3,
          1,
          3,
          6,
          5,
          3,
          1,
          4,
          2,
          2,
          1,
          3,
          2,
          3,
          5,
          3,
          4,
          1,
          5,
          7,
          1,
          6,
          3,
          2,
          2,
          2,
          4,
          7,
          2,
          4,
          1,
          4,
          7,
          5,
          6,
          1,
          3,
          1,
          3,
          6,
          5,
          3,
          1,
          4,
          2,
          2,
          1,
          3,
          2,
          3,
          5,
          3,
          4,
          1,
          5,
          7,
          1,
          6,
          3,
          2,
          2,
          2,
          4,
          7,
          2,
          4,
          1,
          4,
          7,
          5,
          6,
          1,
          3,
          1,
          3,
          6,
          5,
          3,
          1,
          4,
          2,
          2,
          1,
          3,
          2,
          3,
          5,
          3,
          4,
          1,
          5,
          7,
          1,
          6,
          3,
          2,
          2,
          2,
          4,
          7,
          2,
          4,
          1,
          4,
          7,
          5,
          2,
          3,
          5,
          3,
          4,
          1,
          5,
          7,
          1,
          6,
          3,
          2,
          2,
          2,
          4,
          7,
          2,
          4,
          1,
          4,
          7,
          5,
          6,
          1,
          3,
          1,
          3,
          6,
          5,
          3,
          1,
          4,
          2,
          2,
          1,
          3,
          2,
          3,
          5,
          3,
          4,
          1,
          5,
          7,
          1,
          6,
          3,
          2,
          2,
          2,
          4,
          7,
          2,
          4,
          1,
          4,
          7,
          5,
          6,
          1,
          3,
          1,
          3,
          6,
          5,
          3,
          1,
          4,
          2,
          2,
          1,
          3,
          2,
          3,
          5,
          3
         ],
         "xaxis": "x",
         "y": [
          "Twitter",
          "LinkedIn",
          "Instagram",
          "Instagram",
          "LinkedIn",
          "Twitter",
          "Twitter",
          "Facebook",
          "LinkedIn",
          "Facebook",
          "Twitter",
          "Instagram",
          "Facebook",
          "Twitter",
          "LinkedIn",
          "Twitter",
          "Instagram",
          "Instagram",
          "Instagram",
          "LinkedIn",
          "Telegram",
          "Facebook",
          "Whatsapp",
          "Twitter",
          "Instagram",
          "Telegram",
          "Twitter",
          "Telegram",
          "Twitter",
          "Telegram",
          "Twitter",
          "Telegram",
          "Twitter",
          "Telegram",
          "Instagram",
          "Whatsapp",
          "Twitter",
          "LinkedIn",
          "Instagram",
          "Instagram",
          "LinkedIn",
          "Twitter",
          "Twitter",
          "Facebook",
          "LinkedIn",
          "Facebook",
          "Twitter",
          "Instagram",
          "Facebook",
          "Twitter",
          "LinkedIn",
          "Twitter",
          "Instagram",
          "Instagram",
          "Instagram",
          "LinkedIn",
          "Telegram",
          "Facebook",
          "Whatsapp",
          "Twitter",
          "Instagram",
          "Telegram",
          "Twitter",
          "Telegram",
          "Twitter",
          "Telegram",
          "Twitter",
          "Telegram",
          "Twitter",
          "Telegram",
          "Instagram",
          "Whatsapp",
          "Twitter",
          "LinkedIn",
          "Instagram",
          "Instagram",
          "LinkedIn",
          "Twitter",
          "Twitter",
          "Facebook",
          "LinkedIn",
          "Facebook",
          "Twitter",
          "Instagram",
          "Facebook",
          "Twitter",
          "LinkedIn",
          "Twitter",
          "Instagram",
          "Instagram",
          "Twitter",
          "Telegram",
          "Instagram",
          "Whatsapp",
          "Twitter",
          "LinkedIn",
          "Instagram",
          "Instagram",
          "LinkedIn",
          "Twitter",
          "Twitter",
          "Facebook",
          "LinkedIn",
          "Facebook",
          "Twitter",
          "Instagram",
          "Facebook",
          "Twitter",
          "LinkedIn",
          "Twitter",
          "Instagram",
          "Instagram",
          "Instagram",
          "LinkedIn",
          "Telegram",
          "Facebook",
          "Whatsapp",
          "Twitter",
          "Instagram",
          "Telegram",
          "Twitter",
          "Telegram",
          "Twitter",
          "Telegram",
          "Twitter",
          "Telegram",
          "Twitter",
          "Telegram",
          "Instagram",
          "Whatsapp",
          "Twitter",
          "LinkedIn",
          "Instagram",
          "Instagram",
          "LinkedIn",
          "Twitter",
          "Twitter",
          "Facebook",
          "LinkedIn",
          "Facebook",
          "Twitter",
          "Instagram",
          "Facebook",
          "Twitter",
          "LinkedIn",
          "Twitter",
          "Instagram",
          "Instagram",
          "Instagram",
          "LinkedIn",
          "Telegram",
          "Facebook",
          "Whatsapp",
          "Twitter",
          "Instagram",
          "Telegram",
          "Twitter",
          "Telegram",
          "Twitter",
          "Telegram",
          "Twitter",
          "Telegram",
          "Twitter",
          "Telegram",
          "Instagram",
          "Whatsapp",
          "Twitter",
          "LinkedIn",
          "Instagram",
          "Instagram",
          "LinkedIn",
          "Twitter",
          "Twitter",
          "Facebook",
          "LinkedIn",
          "Facebook",
          "Twitter",
          "Instagram",
          "Facebook",
          "Twitter",
          "LinkedIn",
          "Twitter",
          "Instagram",
          "Instagram",
          "Instagram",
          "LinkedIn",
          "Telegram",
          "Facebook",
          "Whatsapp",
          "Twitter",
          "Instagram",
          "Telegram",
          "Twitter",
          "Telegram",
          "Twitter",
          "Telegram",
          "Twitter",
          "Telegram",
          "Twitter",
          "Telegram",
          "Instagram",
          "Whatsapp",
          "Twitter",
          "LinkedIn",
          "Instagram",
          "Instagram",
          "LinkedIn",
          "Twitter",
          "Twitter",
          "Facebook",
          "LinkedIn",
          "Facebook",
          "Twitter",
          "Instagram",
          "Facebook",
          "Twitter",
          "LinkedIn",
          "Twitter",
          "Instagram",
          "Instagram",
          "Instagram",
          "LinkedIn",
          "Telegram",
          "Facebook",
          "Whatsapp",
          "Twitter",
          "Instagram",
          "Telegram",
          "Twitter",
          "Telegram",
          "Twitter",
          "Telegram",
          "Twitter",
          "Telegram",
          "Twitter",
          "Telegram",
          "Instagram",
          "Whatsapp",
          "Twitter",
          "LinkedIn",
          "Instagram",
          "Instagram",
          "LinkedIn",
          "Twitter",
          "Twitter",
          "Facebook",
          "LinkedIn",
          "Facebook",
          "Twitter",
          "Instagram",
          "Facebook",
          "Twitter",
          "LinkedIn",
          "Twitter",
          "Instagram",
          "Instagram",
          "Twitter",
          "Telegram",
          "Instagram",
          "Whatsapp",
          "Twitter",
          "LinkedIn",
          "Instagram",
          "Instagram",
          "LinkedIn",
          "Twitter",
          "Twitter",
          "Facebook",
          "LinkedIn",
          "Facebook",
          "Twitter",
          "Instagram",
          "Facebook",
          "Twitter",
          "LinkedIn",
          "Twitter",
          "Instagram",
          "Instagram",
          "Instagram",
          "LinkedIn",
          "Telegram",
          "Facebook",
          "Whatsapp",
          "Twitter",
          "Instagram",
          "Telegram",
          "Twitter",
          "Telegram",
          "Twitter",
          "Telegram",
          "Twitter",
          "Telegram",
          "Twitter",
          "Telegram",
          "Instagram",
          "Whatsapp",
          "Twitter",
          "LinkedIn",
          "Instagram",
          "Instagram",
          "LinkedIn",
          "Twitter",
          "Twitter",
          "Facebook",
          "LinkedIn",
          "Facebook",
          "Twitter",
          "Instagram",
          "Facebook",
          "Twitter",
          "LinkedIn",
          "Twitter",
          "Instagram",
          "Instagram",
          "Instagram",
          "LinkedIn",
          "Telegram",
          "Facebook",
          "Whatsapp",
          "Twitter",
          "Instagram",
          "Telegram",
          "Twitter",
          "Telegram",
          "Twitter",
          "Telegram",
          "Twitter",
          "Telegram",
          "Twitter",
          "Telegram",
          "Instagram",
          "Whatsapp"
         ],
         "yaxis": "y"
        },
        {
         "alignmentgroup": "True",
         "bingroup": "y",
         "histfunc": "sum",
         "hovertemplate": "Gender=Non-binary<br>sum of Posts_Per_Day=%{x}<br>Platform=%{y}<extra></extra>",
         "legendgroup": "Non-binary",
         "marker": {
          "color": "#00cc96",
          "pattern": {
           "shape": ""
          }
         },
         "name": "Non-binary",
         "offsetgroup": "Non-binary",
         "orientation": "h",
         "showlegend": true,
         "type": "histogram",
         "x": [
          2,
          6,
          3,
          1,
          1,
          8,
          1,
          1,
          3,
          1,
          2,
          2,
          2,
          2,
          2,
          2,
          1,
          2,
          3,
          3,
          1,
          3,
          2,
          1,
          1,
          4,
          2,
          2,
          6,
          3,
          1,
          1,
          8,
          1,
          1,
          3,
          1,
          2,
          2,
          2,
          2,
          2,
          2,
          1,
          2,
          3,
          3,
          1,
          3,
          2,
          1,
          1,
          4,
          2,
          2,
          6,
          3,
          1,
          1,
          8,
          1,
          1,
          3,
          1,
          2,
          2,
          2,
          1,
          4,
          2,
          2,
          6,
          3,
          1,
          1,
          8,
          1,
          1,
          3,
          1,
          2,
          2,
          2,
          2,
          2,
          2,
          1,
          2,
          3,
          3,
          1,
          3,
          2,
          1,
          1,
          4,
          2,
          2,
          6,
          3,
          1,
          1,
          8,
          1,
          1,
          3,
          1,
          2,
          2,
          2,
          2,
          2,
          2,
          1,
          2,
          3,
          3,
          1,
          3,
          2,
          1,
          1,
          4,
          2,
          2,
          6,
          3,
          1,
          1,
          8,
          1,
          1,
          3,
          1,
          2,
          2,
          2,
          2,
          2,
          2,
          1,
          2,
          3,
          3,
          1,
          3,
          2,
          1,
          1,
          4,
          2,
          2,
          6,
          3,
          1,
          1,
          8,
          1,
          1,
          3,
          1,
          2,
          2,
          2,
          2,
          2,
          2,
          1,
          2,
          3,
          3,
          1,
          3,
          2,
          1,
          1,
          4,
          2,
          2,
          6,
          3,
          1,
          1,
          8,
          1,
          1,
          3,
          1,
          2,
          2,
          2,
          1,
          4,
          2,
          2,
          6,
          3,
          1,
          1,
          8,
          1,
          1,
          3,
          1,
          2,
          2,
          2,
          2,
          2,
          2,
          1,
          2,
          3,
          3,
          1,
          3,
          2,
          1,
          1,
          4,
          2,
          2,
          6,
          3,
          1,
          1,
          8,
          1,
          1,
          3,
          1,
          2,
          2,
          2,
          2,
          2,
          2,
          1,
          2,
          3,
          3,
          1,
          3,
          2,
          1,
          1,
          4,
          2
         ],
         "xaxis": "x",
         "y": [
          "Facebook",
          "Facebook",
          "Facebook",
          "Facebook",
          "LinkedIn",
          "Instagram",
          "LinkedIn",
          "Facebook",
          "Twitter",
          "LinkedIn",
          "Facebook",
          "Facebook",
          "Facebook",
          "Facebook",
          "Snapchat",
          "Telegram",
          "Facebook",
          "Snapchat",
          "Facebook",
          "Snapchat",
          "Facebook",
          "Snapchat",
          "Facebook",
          "Snapchat",
          "Facebook",
          "Twitter",
          "Telegram",
          "Facebook",
          "Facebook",
          "Facebook",
          "Facebook",
          "LinkedIn",
          "Instagram",
          "LinkedIn",
          "Facebook",
          "Twitter",
          "LinkedIn",
          "Facebook",
          "Facebook",
          "Facebook",
          "Facebook",
          "Snapchat",
          "Telegram",
          "Facebook",
          "Snapchat",
          "Facebook",
          "Snapchat",
          "Facebook",
          "Snapchat",
          "Facebook",
          "Snapchat",
          "Facebook",
          "Twitter",
          "Telegram",
          "Facebook",
          "Facebook",
          "Facebook",
          "Facebook",
          "LinkedIn",
          "Instagram",
          "LinkedIn",
          "Facebook",
          "Twitter",
          "LinkedIn",
          "Facebook",
          "Facebook",
          "Facebook",
          "Facebook",
          "Twitter",
          "Telegram",
          "Facebook",
          "Facebook",
          "Facebook",
          "Facebook",
          "LinkedIn",
          "Instagram",
          "LinkedIn",
          "Facebook",
          "Twitter",
          "LinkedIn",
          "Facebook",
          "Facebook",
          "Facebook",
          "Facebook",
          "Snapchat",
          "Telegram",
          "Facebook",
          "Snapchat",
          "Facebook",
          "Snapchat",
          "Facebook",
          "Snapchat",
          "Facebook",
          "Snapchat",
          "Facebook",
          "Twitter",
          "Telegram",
          "Facebook",
          "Facebook",
          "Facebook",
          "Facebook",
          "LinkedIn",
          "Instagram",
          "LinkedIn",
          "Facebook",
          "Twitter",
          "LinkedIn",
          "Facebook",
          "Facebook",
          "Facebook",
          "Facebook",
          "Snapchat",
          "Telegram",
          "Facebook",
          "Snapchat",
          "Facebook",
          "Snapchat",
          "Facebook",
          "Snapchat",
          "Facebook",
          "Snapchat",
          "Facebook",
          "Twitter",
          "Telegram",
          "Facebook",
          "Facebook",
          "Facebook",
          "Facebook",
          "LinkedIn",
          "Instagram",
          "LinkedIn",
          "Facebook",
          "Twitter",
          "LinkedIn",
          "Facebook",
          "Facebook",
          "Facebook",
          "Facebook",
          "Snapchat",
          "Telegram",
          "Facebook",
          "Snapchat",
          "Facebook",
          "Snapchat",
          "Facebook",
          "Snapchat",
          "Facebook",
          "Snapchat",
          "Facebook",
          "Twitter",
          "Telegram",
          "Facebook",
          "Facebook",
          "Facebook",
          "Facebook",
          "LinkedIn",
          "Instagram",
          "LinkedIn",
          "Facebook",
          "Twitter",
          "LinkedIn",
          "Facebook",
          "Facebook",
          "Facebook",
          "Facebook",
          "Snapchat",
          "Telegram",
          "Facebook",
          "Snapchat",
          "Facebook",
          "Snapchat",
          "Facebook",
          "Snapchat",
          "Facebook",
          "Snapchat",
          "Facebook",
          "Twitter",
          "Telegram",
          "Facebook",
          "Facebook",
          "Facebook",
          "Facebook",
          "LinkedIn",
          "Instagram",
          "LinkedIn",
          "Facebook",
          "Twitter",
          "LinkedIn",
          "Facebook",
          "Facebook",
          "Facebook",
          "Facebook",
          "Twitter",
          "Telegram",
          "Facebook",
          "Facebook",
          "Facebook",
          "Facebook",
          "LinkedIn",
          "Instagram",
          "LinkedIn",
          "Facebook",
          "Twitter",
          "LinkedIn",
          "Facebook",
          "Facebook",
          "Facebook",
          "Facebook",
          "Snapchat",
          "Telegram",
          "Facebook",
          "Snapchat",
          "Facebook",
          "Snapchat",
          "Facebook",
          "Snapchat",
          "Facebook",
          "Snapchat",
          "Facebook",
          "Twitter",
          "Telegram",
          "Facebook",
          "Facebook",
          "Facebook",
          "Facebook",
          "LinkedIn",
          "Instagram",
          "LinkedIn",
          "Facebook",
          "Twitter",
          "LinkedIn",
          "Facebook",
          "Facebook",
          "Facebook",
          "Facebook",
          "Snapchat",
          "Telegram",
          "Facebook",
          "Snapchat",
          "Facebook",
          "Snapchat",
          "Facebook",
          "Snapchat",
          "Facebook",
          "Snapchat",
          "Facebook",
          "Twitter",
          "Telegram"
         ],
         "yaxis": "y"
        },
        {
         "alignmentgroup": "True",
         "bingroup": "y",
         "histfunc": "sum",
         "hovertemplate": "Gender=Unknown<br>sum of Posts_Per_Day=%{x}<br>Platform=%{y}<extra></extra>",
         "legendgroup": "Unknown",
         "marker": {
          "color": "#ab63fa",
          "pattern": {
           "shape": ""
          }
         },
         "name": "Unknown",
         "offsetgroup": "Unknown",
         "orientation": "h",
         "showlegend": true,
         "type": "histogram",
         "x": [
          6,
          3,
          2,
          4,
          1,
          2,
          3,
          2,
          4,
          1,
          6,
          3,
          2,
          4,
          6,
          1,
          5,
          2,
          3,
          2,
          4,
          1,
          3,
          2,
          4,
          3,
          6,
          2,
          1,
          4,
          2,
          3,
          5,
          1,
          2,
          4,
          3,
          1,
          2,
          6,
          3,
          2,
          4,
          1,
          2,
          3,
          2,
          4,
          1,
          6,
          3,
          2,
          4,
          6,
          1,
          5,
          2,
          3,
          2,
          4,
          1,
          3,
          2,
          4,
          3,
          6,
          2,
          1,
          4,
          2,
          3,
          5,
          1,
          2,
          4,
          3,
          1
         ],
         "xaxis": "x",
         "y": [
          "Instagram",
          "Twitter",
          "Facebook",
          "Instagram",
          "LinkedIn",
          "Whatsapp",
          "Telegram",
          "Snapchat",
          "Twitter",
          "Facebook",
          "Instagram",
          "Whatsapp",
          "Telegram",
          "Snapchat",
          "Twitter",
          "Facebook",
          "Instagram",
          "Whatsapp",
          "Telegram",
          "Snapchat",
          "Instagram",
          "Twitter",
          "Facebook",
          "Whatsapp",
          "Telegram",
          "Snapchat",
          "Instagram",
          "Twitter",
          "Facebook",
          "Whatsapp",
          "Telegram",
          "Snapchat",
          "Instagram",
          "Twitter",
          "Facebook",
          "Whatsapp",
          "Telegram",
          "Snapchat",
          "Instagram",
          "Instagram",
          "Twitter",
          "Facebook",
          "Instagram",
          "LinkedIn",
          "Whatsapp",
          "Telegram",
          "Snapchat",
          "Twitter",
          "Facebook",
          "Instagram",
          "Whatsapp",
          "Telegram",
          "Snapchat",
          "Twitter",
          "Facebook",
          "Instagram",
          "Whatsapp",
          "Telegram",
          "Snapchat",
          "Instagram",
          "Twitter",
          "Facebook",
          "Whatsapp",
          "Telegram",
          "Snapchat",
          "Instagram",
          "Twitter",
          "Facebook",
          "Whatsapp",
          "Telegram",
          "Snapchat",
          "Instagram",
          "Twitter",
          "Facebook",
          "Whatsapp",
          "Telegram",
          "Snapchat"
         ],
         "yaxis": "y"
        }
       ],
       "layout": {
        "barmode": "relative",
        "legend": {
         "title": {
          "text": "Gender"
         },
         "tracegroupgap": 0
        },
        "template": {
         "data": {
          "bar": [
           {
            "error_x": {
             "color": "#2a3f5f"
            },
            "error_y": {
             "color": "#2a3f5f"
            },
            "marker": {
             "line": {
              "color": "#E5ECF6",
              "width": 0.5
             },
             "pattern": {
              "fillmode": "overlay",
              "size": 10,
              "solidity": 0.2
             }
            },
            "type": "bar"
           }
          ],
          "barpolar": [
           {
            "marker": {
             "line": {
              "color": "#E5ECF6",
              "width": 0.5
             },
             "pattern": {
              "fillmode": "overlay",
              "size": 10,
              "solidity": 0.2
             }
            },
            "type": "barpolar"
           }
          ],
          "carpet": [
           {
            "aaxis": {
             "endlinecolor": "#2a3f5f",
             "gridcolor": "white",
             "linecolor": "white",
             "minorgridcolor": "white",
             "startlinecolor": "#2a3f5f"
            },
            "baxis": {
             "endlinecolor": "#2a3f5f",
             "gridcolor": "white",
             "linecolor": "white",
             "minorgridcolor": "white",
             "startlinecolor": "#2a3f5f"
            },
            "type": "carpet"
           }
          ],
          "choropleth": [
           {
            "colorbar": {
             "outlinewidth": 0,
             "ticks": ""
            },
            "type": "choropleth"
           }
          ],
          "contour": [
           {
            "colorbar": {
             "outlinewidth": 0,
             "ticks": ""
            },
            "colorscale": [
             [
              0,
              "#0d0887"
             ],
             [
              0.1111111111111111,
              "#46039f"
             ],
             [
              0.2222222222222222,
              "#7201a8"
             ],
             [
              0.3333333333333333,
              "#9c179e"
             ],
             [
              0.4444444444444444,
              "#bd3786"
             ],
             [
              0.5555555555555556,
              "#d8576b"
             ],
             [
              0.6666666666666666,
              "#ed7953"
             ],
             [
              0.7777777777777778,
              "#fb9f3a"
             ],
             [
              0.8888888888888888,
              "#fdca26"
             ],
             [
              1,
              "#f0f921"
             ]
            ],
            "type": "contour"
           }
          ],
          "contourcarpet": [
           {
            "colorbar": {
             "outlinewidth": 0,
             "ticks": ""
            },
            "type": "contourcarpet"
           }
          ],
          "heatmap": [
           {
            "colorbar": {
             "outlinewidth": 0,
             "ticks": ""
            },
            "colorscale": [
             [
              0,
              "#0d0887"
             ],
             [
              0.1111111111111111,
              "#46039f"
             ],
             [
              0.2222222222222222,
              "#7201a8"
             ],
             [
              0.3333333333333333,
              "#9c179e"
             ],
             [
              0.4444444444444444,
              "#bd3786"
             ],
             [
              0.5555555555555556,
              "#d8576b"
             ],
             [
              0.6666666666666666,
              "#ed7953"
             ],
             [
              0.7777777777777778,
              "#fb9f3a"
             ],
             [
              0.8888888888888888,
              "#fdca26"
             ],
             [
              1,
              "#f0f921"
             ]
            ],
            "type": "heatmap"
           }
          ],
          "heatmapgl": [
           {
            "colorbar": {
             "outlinewidth": 0,
             "ticks": ""
            },
            "colorscale": [
             [
              0,
              "#0d0887"
             ],
             [
              0.1111111111111111,
              "#46039f"
             ],
             [
              0.2222222222222222,
              "#7201a8"
             ],
             [
              0.3333333333333333,
              "#9c179e"
             ],
             [
              0.4444444444444444,
              "#bd3786"
             ],
             [
              0.5555555555555556,
              "#d8576b"
             ],
             [
              0.6666666666666666,
              "#ed7953"
             ],
             [
              0.7777777777777778,
              "#fb9f3a"
             ],
             [
              0.8888888888888888,
              "#fdca26"
             ],
             [
              1,
              "#f0f921"
             ]
            ],
            "type": "heatmapgl"
           }
          ],
          "histogram": [
           {
            "marker": {
             "pattern": {
              "fillmode": "overlay",
              "size": 10,
              "solidity": 0.2
             }
            },
            "type": "histogram"
           }
          ],
          "histogram2d": [
           {
            "colorbar": {
             "outlinewidth": 0,
             "ticks": ""
            },
            "colorscale": [
             [
              0,
              "#0d0887"
             ],
             [
              0.1111111111111111,
              "#46039f"
             ],
             [
              0.2222222222222222,
              "#7201a8"
             ],
             [
              0.3333333333333333,
              "#9c179e"
             ],
             [
              0.4444444444444444,
              "#bd3786"
             ],
             [
              0.5555555555555556,
              "#d8576b"
             ],
             [
              0.6666666666666666,
              "#ed7953"
             ],
             [
              0.7777777777777778,
              "#fb9f3a"
             ],
             [
              0.8888888888888888,
              "#fdca26"
             ],
             [
              1,
              "#f0f921"
             ]
            ],
            "type": "histogram2d"
           }
          ],
          "histogram2dcontour": [
           {
            "colorbar": {
             "outlinewidth": 0,
             "ticks": ""
            },
            "colorscale": [
             [
              0,
              "#0d0887"
             ],
             [
              0.1111111111111111,
              "#46039f"
             ],
             [
              0.2222222222222222,
              "#7201a8"
             ],
             [
              0.3333333333333333,
              "#9c179e"
             ],
             [
              0.4444444444444444,
              "#bd3786"
             ],
             [
              0.5555555555555556,
              "#d8576b"
             ],
             [
              0.6666666666666666,
              "#ed7953"
             ],
             [
              0.7777777777777778,
              "#fb9f3a"
             ],
             [
              0.8888888888888888,
              "#fdca26"
             ],
             [
              1,
              "#f0f921"
             ]
            ],
            "type": "histogram2dcontour"
           }
          ],
          "mesh3d": [
           {
            "colorbar": {
             "outlinewidth": 0,
             "ticks": ""
            },
            "type": "mesh3d"
           }
          ],
          "parcoords": [
           {
            "line": {
             "colorbar": {
              "outlinewidth": 0,
              "ticks": ""
             }
            },
            "type": "parcoords"
           }
          ],
          "pie": [
           {
            "automargin": true,
            "type": "pie"
           }
          ],
          "scatter": [
           {
            "fillpattern": {
             "fillmode": "overlay",
             "size": 10,
             "solidity": 0.2
            },
            "type": "scatter"
           }
          ],
          "scatter3d": [
           {
            "line": {
             "colorbar": {
              "outlinewidth": 0,
              "ticks": ""
             }
            },
            "marker": {
             "colorbar": {
              "outlinewidth": 0,
              "ticks": ""
             }
            },
            "type": "scatter3d"
           }
          ],
          "scattercarpet": [
           {
            "marker": {
             "colorbar": {
              "outlinewidth": 0,
              "ticks": ""
             }
            },
            "type": "scattercarpet"
           }
          ],
          "scattergeo": [
           {
            "marker": {
             "colorbar": {
              "outlinewidth": 0,
              "ticks": ""
             }
            },
            "type": "scattergeo"
           }
          ],
          "scattergl": [
           {
            "marker": {
             "colorbar": {
              "outlinewidth": 0,
              "ticks": ""
             }
            },
            "type": "scattergl"
           }
          ],
          "scattermapbox": [
           {
            "marker": {
             "colorbar": {
              "outlinewidth": 0,
              "ticks": ""
             }
            },
            "type": "scattermapbox"
           }
          ],
          "scatterpolar": [
           {
            "marker": {
             "colorbar": {
              "outlinewidth": 0,
              "ticks": ""
             }
            },
            "type": "scatterpolar"
           }
          ],
          "scatterpolargl": [
           {
            "marker": {
             "colorbar": {
              "outlinewidth": 0,
              "ticks": ""
             }
            },
            "type": "scatterpolargl"
           }
          ],
          "scatterternary": [
           {
            "marker": {
             "colorbar": {
              "outlinewidth": 0,
              "ticks": ""
             }
            },
            "type": "scatterternary"
           }
          ],
          "surface": [
           {
            "colorbar": {
             "outlinewidth": 0,
             "ticks": ""
            },
            "colorscale": [
             [
              0,
              "#0d0887"
             ],
             [
              0.1111111111111111,
              "#46039f"
             ],
             [
              0.2222222222222222,
              "#7201a8"
             ],
             [
              0.3333333333333333,
              "#9c179e"
             ],
             [
              0.4444444444444444,
              "#bd3786"
             ],
             [
              0.5555555555555556,
              "#d8576b"
             ],
             [
              0.6666666666666666,
              "#ed7953"
             ],
             [
              0.7777777777777778,
              "#fb9f3a"
             ],
             [
              0.8888888888888888,
              "#fdca26"
             ],
             [
              1,
              "#f0f921"
             ]
            ],
            "type": "surface"
           }
          ],
          "table": [
           {
            "cells": {
             "fill": {
              "color": "#EBF0F8"
             },
             "line": {
              "color": "white"
             }
            },
            "header": {
             "fill": {
              "color": "#C8D4E3"
             },
             "line": {
              "color": "white"
             }
            },
            "type": "table"
           }
          ]
         },
         "layout": {
          "annotationdefaults": {
           "arrowcolor": "#2a3f5f",
           "arrowhead": 0,
           "arrowwidth": 1
          },
          "autotypenumbers": "strict",
          "coloraxis": {
           "colorbar": {
            "outlinewidth": 0,
            "ticks": ""
           }
          },
          "colorscale": {
           "diverging": [
            [
             0,
             "#8e0152"
            ],
            [
             0.1,
             "#c51b7d"
            ],
            [
             0.2,
             "#de77ae"
            ],
            [
             0.3,
             "#f1b6da"
            ],
            [
             0.4,
             "#fde0ef"
            ],
            [
             0.5,
             "#f7f7f7"
            ],
            [
             0.6,
             "#e6f5d0"
            ],
            [
             0.7,
             "#b8e186"
            ],
            [
             0.8,
             "#7fbc41"
            ],
            [
             0.9,
             "#4d9221"
            ],
            [
             1,
             "#276419"
            ]
           ],
           "sequential": [
            [
             0,
             "#0d0887"
            ],
            [
             0.1111111111111111,
             "#46039f"
            ],
            [
             0.2222222222222222,
             "#7201a8"
            ],
            [
             0.3333333333333333,
             "#9c179e"
            ],
            [
             0.4444444444444444,
             "#bd3786"
            ],
            [
             0.5555555555555556,
             "#d8576b"
            ],
            [
             0.6666666666666666,
             "#ed7953"
            ],
            [
             0.7777777777777778,
             "#fb9f3a"
            ],
            [
             0.8888888888888888,
             "#fdca26"
            ],
            [
             1,
             "#f0f921"
            ]
           ],
           "sequentialminus": [
            [
             0,
             "#0d0887"
            ],
            [
             0.1111111111111111,
             "#46039f"
            ],
            [
             0.2222222222222222,
             "#7201a8"
            ],
            [
             0.3333333333333333,
             "#9c179e"
            ],
            [
             0.4444444444444444,
             "#bd3786"
            ],
            [
             0.5555555555555556,
             "#d8576b"
            ],
            [
             0.6666666666666666,
             "#ed7953"
            ],
            [
             0.7777777777777778,
             "#fb9f3a"
            ],
            [
             0.8888888888888888,
             "#fdca26"
            ],
            [
             1,
             "#f0f921"
            ]
           ]
          },
          "colorway": [
           "#636efa",
           "#EF553B",
           "#00cc96",
           "#ab63fa",
           "#FFA15A",
           "#19d3f3",
           "#FF6692",
           "#B6E880",
           "#FF97FF",
           "#FECB52"
          ],
          "font": {
           "color": "#2a3f5f"
          },
          "geo": {
           "bgcolor": "white",
           "lakecolor": "white",
           "landcolor": "#E5ECF6",
           "showlakes": true,
           "showland": true,
           "subunitcolor": "white"
          },
          "hoverlabel": {
           "align": "left"
          },
          "hovermode": "closest",
          "mapbox": {
           "style": "light"
          },
          "paper_bgcolor": "white",
          "plot_bgcolor": "#E5ECF6",
          "polar": {
           "angularaxis": {
            "gridcolor": "white",
            "linecolor": "white",
            "ticks": ""
           },
           "bgcolor": "#E5ECF6",
           "radialaxis": {
            "gridcolor": "white",
            "linecolor": "white",
            "ticks": ""
           }
          },
          "scene": {
           "xaxis": {
            "backgroundcolor": "#E5ECF6",
            "gridcolor": "white",
            "gridwidth": 2,
            "linecolor": "white",
            "showbackground": true,
            "ticks": "",
            "zerolinecolor": "white"
           },
           "yaxis": {
            "backgroundcolor": "#E5ECF6",
            "gridcolor": "white",
            "gridwidth": 2,
            "linecolor": "white",
            "showbackground": true,
            "ticks": "",
            "zerolinecolor": "white"
           },
           "zaxis": {
            "backgroundcolor": "#E5ECF6",
            "gridcolor": "white",
            "gridwidth": 2,
            "linecolor": "white",
            "showbackground": true,
            "ticks": "",
            "zerolinecolor": "white"
           }
          },
          "shapedefaults": {
           "line": {
            "color": "#2a3f5f"
           }
          },
          "ternary": {
           "aaxis": {
            "gridcolor": "white",
            "linecolor": "white",
            "ticks": ""
           },
           "baxis": {
            "gridcolor": "white",
            "linecolor": "white",
            "ticks": ""
           },
           "bgcolor": "#E5ECF6",
           "caxis": {
            "gridcolor": "white",
            "linecolor": "white",
            "ticks": ""
           }
          },
          "title": {
           "x": 0.05
          },
          "xaxis": {
           "automargin": true,
           "gridcolor": "white",
           "linecolor": "white",
           "ticks": "",
           "title": {
            "standoff": 15
           },
           "zerolinecolor": "white",
           "zerolinewidth": 2
          },
          "yaxis": {
           "automargin": true,
           "gridcolor": "white",
           "linecolor": "white",
           "ticks": "",
           "title": {
            "standoff": 15
           },
           "zerolinecolor": "white",
           "zerolinewidth": 2
          }
         }
        },
        "title": {
         "text": "Posts Per Day by Gender"
        },
        "xaxis": {
         "anchor": "y",
         "domain": [
          0,
          1
         ],
         "title": {
          "text": "sum of Posts_Per_Day"
         }
        },
        "yaxis": {
         "anchor": "x",
         "domain": [
          0,
          1
         ],
         "title": {
          "text": "Platform"
         }
        }
       }
      }
     },
     "metadata": {},
     "output_type": "display_data"
    }
   ],
   "source": [
    "plt = px.histogram(train_df, x='Posts_Per_Day', y='Platform' ,color='Gender', title='Posts Per Day by Gender')\n",
    "plt.show()"
   ]
  },
  {
   "cell_type": "markdown",
   "id": "b25f9439",
   "metadata": {
    "papermill": {
     "duration": 0.03876,
     "end_time": "2024-05-23T11:22:54.342004",
     "exception": false,
     "start_time": "2024-05-23T11:22:54.303244",
     "status": "completed"
    },
    "tags": []
   },
   "source": [
    "### Gender VS Emotions"
   ]
  },
  {
   "cell_type": "code",
   "execution_count": 49,
   "id": "0ee0e8cb",
   "metadata": {
    "execution": {
     "iopub.execute_input": "2024-05-23T11:22:54.422670Z",
     "iopub.status.busy": "2024-05-23T11:22:54.421820Z",
     "iopub.status.idle": "2024-05-23T11:22:54.433844Z",
     "shell.execute_reply": "2024-05-23T11:22:54.431711Z"
    },
    "papermill": {
     "duration": 0.055029,
     "end_time": "2024-05-23T11:22:54.436090",
     "exception": false,
     "start_time": "2024-05-23T11:22:54.381061",
     "status": "completed"
    },
    "tags": []
   },
   "outputs": [],
   "source": [
    "# checking the Gender againest the Dominant_Emotion\n",
    "grouped = train_df.groupby(['Gender', 'Dominant_Emotion'])\n",
    "\n",
    "# count the number of rows in each group\n",
    "counts = grouped.size()"
   ]
  },
  {
   "cell_type": "code",
   "execution_count": 50,
   "id": "52a44a68",
   "metadata": {
    "execution": {
     "iopub.execute_input": "2024-05-23T11:22:54.516513Z",
     "iopub.status.busy": "2024-05-23T11:22:54.515478Z",
     "iopub.status.idle": "2024-05-23T11:22:54.612047Z",
     "shell.execute_reply": "2024-05-23T11:22:54.610960Z"
    },
    "papermill": {
     "duration": 0.139388,
     "end_time": "2024-05-23T11:22:54.614595",
     "exception": false,
     "start_time": "2024-05-23T11:22:54.475207",
     "status": "completed"
    },
    "tags": []
   },
   "outputs": [
    {
     "data": {
      "application/vnd.plotly.v1+json": {
       "config": {
        "plotlyServerURL": "https://plot.ly"
       },
       "data": [
        {
         "alignmentgroup": "True",
         "bingroup": "x",
         "hovertemplate": "Dominant_Emotion=Happiness<br>Gender=%{x}<br>count=%{y}<extra></extra>",
         "legendgroup": "Happiness",
         "marker": {
          "color": "#636efa",
          "pattern": {
           "shape": ""
          }
         },
         "name": "Happiness",
         "offsetgroup": "Happiness",
         "orientation": "v",
         "showlegend": true,
         "type": "histogram",
         "x": [
          "Female",
          "Male",
          "Male",
          "Female",
          "Female",
          "Non-binary",
          "Female",
          "Male",
          "Female",
          "Female",
          "Male",
          "Male",
          "Female",
          "Female",
          "Male",
          "Female",
          "Female",
          "Non-binary",
          "Female",
          "Male",
          "Female",
          "Male",
          "Male",
          "Female",
          "Female",
          "Non-binary",
          "Female",
          "Male",
          "Female",
          "Female",
          "Male",
          "Male",
          "Female",
          "Female",
          "Male",
          "Female",
          "Female",
          "Non-binary",
          "Female",
          "Male",
          "Female",
          "Male",
          "Male",
          "Female",
          "Female",
          "Non-binary",
          "Female",
          "Male",
          "Female",
          "Female",
          "Male",
          "Unknown",
          "Unknown",
          "Unknown",
          "Unknown",
          "Unknown",
          "Unknown",
          "Unknown",
          "Female",
          "Male",
          "Female",
          "Male",
          "Male",
          "Female",
          "Female",
          "Non-binary",
          "Female",
          "Male",
          "Female",
          "Female",
          "Male",
          "Male",
          "Female",
          "Female",
          "Male",
          "Female",
          "Female",
          "Non-binary",
          "Female",
          "Male",
          "Female",
          "Male",
          "Male",
          "Female",
          "Female",
          "Non-binary",
          "Female",
          "Male",
          "Female",
          "Female",
          "Male",
          "Male",
          "Female",
          "Female",
          "Male",
          "Female",
          "Female",
          "Non-binary",
          "Female",
          "Male",
          "Female",
          "Male",
          "Male",
          "Female",
          "Female",
          "Non-binary",
          "Female",
          "Male",
          "Female",
          "Female",
          "Male",
          "Male",
          "Female",
          "Female",
          "Male",
          "Female",
          "Female",
          "Non-binary",
          "Female",
          "Male",
          "Female",
          "Male",
          "Male",
          "Female",
          "Female",
          "Non-binary",
          "Female",
          "Male",
          "Female",
          "Unknown",
          "Female",
          "Male",
          "Male",
          "Female",
          "Female",
          "Male",
          "Female",
          "Female",
          "Non-binary",
          "Female",
          "Male",
          "Female",
          "Male",
          "Male",
          "Female",
          "Female",
          "Non-binary",
          "Female",
          "Male",
          "Female",
          "Female",
          "Male",
          "Unknown",
          "Unknown",
          "Unknown",
          "Unknown",
          "Unknown",
          "Unknown",
          "Unknown",
          "Female",
          "Male",
          "Female",
          "Male",
          "Male",
          "Female",
          "Female",
          "Non-binary",
          "Female",
          "Male",
          "Female",
          "Female",
          "Male",
          "Male",
          "Female",
          "Female",
          "Male",
          "Female",
          "Female",
          "Non-binary",
          "Female",
          "Male",
          "Female",
          "Male",
          "Male",
          "Female",
          "Female",
          "Non-binary",
          "Female",
          "Male",
          "Female",
          "Female",
          "Male",
          "Male",
          "Female",
          "Female",
          "Male",
          "Female",
          "Female",
          "Non-binary",
          "Female",
          "Male"
         ],
         "xaxis": "x",
         "yaxis": "y"
        },
        {
         "alignmentgroup": "True",
         "bingroup": "x",
         "hovertemplate": "Dominant_Emotion=Anger<br>Gender=%{x}<br>count=%{y}<extra></extra>",
         "legendgroup": "Anger",
         "marker": {
          "color": "#EF553B",
          "pattern": {
           "shape": ""
          }
         },
         "name": "Anger",
         "offsetgroup": "Anger",
         "orientation": "v",
         "showlegend": true,
         "type": "histogram",
         "x": [
          "Male",
          "Female",
          "Male",
          "Female",
          "Male",
          "Male",
          "Male",
          "Female",
          "Male",
          "Female",
          "Female",
          "Female",
          "Non-binary",
          "Male",
          "Female",
          "Male",
          "Female",
          "Male",
          "Male",
          "Male",
          "Female",
          "Male",
          "Female",
          "Female",
          "Female",
          "Non-binary",
          "Male",
          "Female",
          "Male",
          "Female",
          "Male",
          "Male",
          "Male",
          "Unknown",
          "Unknown",
          "Unknown",
          "Unknown",
          "Female",
          "Non-binary",
          "Male",
          "Female",
          "Male",
          "Female",
          "Male",
          "Male",
          "Male",
          "Female",
          "Male",
          "Female",
          "Female",
          "Female",
          "Non-binary",
          "Male",
          "Female",
          "Male",
          "Female",
          "Male",
          "Male",
          "Male",
          "Female",
          "Male",
          "Female",
          "Female",
          "Female",
          "Non-binary",
          "Male",
          "Female",
          "Male",
          "Female",
          "Male",
          "Male",
          "Male",
          "Female",
          "Male",
          "Female",
          "Female",
          "Female",
          "Non-binary",
          "Male",
          "Female",
          "Male",
          "Female",
          "Male",
          "Male",
          "Male",
          "Female",
          "Male",
          "Female",
          "Female",
          "Female",
          "Non-binary",
          "Male",
          "Female",
          "Male",
          "Female",
          "Male",
          "Male",
          "Male",
          "Unknown",
          "Unknown",
          "Unknown",
          "Unknown",
          "Female",
          "Non-binary",
          "Male",
          "Female",
          "Male",
          "Female",
          "Male",
          "Male",
          "Male",
          "Female",
          "Male",
          "Female",
          "Female",
          "Female",
          "Non-binary",
          "Male",
          "Female",
          "Male",
          "Female",
          "Male",
          "Male",
          "Male",
          "Female",
          "Male",
          "Female",
          "Female",
          "Female",
          "Non-binary"
         ],
         "xaxis": "x",
         "yaxis": "y"
        },
        {
         "alignmentgroup": "True",
         "bingroup": "x",
         "hovertemplate": "Dominant_Emotion=Neutral<br>Gender=%{x}<br>count=%{y}<extra></extra>",
         "legendgroup": "Neutral",
         "marker": {
          "color": "#00cc96",
          "pattern": {
           "shape": ""
          }
         },
         "name": "Neutral",
         "offsetgroup": "Neutral",
         "orientation": "v",
         "showlegend": true,
         "type": "histogram",
         "x": [
          "Non-binary",
          "Female",
          "Non-binary",
          "Non-binary",
          "Male",
          "Non-binary",
          "Female",
          "Non-binary",
          "Male",
          "Non-binary",
          "Non-binary",
          "Female",
          "Non-binary",
          "Male",
          "Female",
          "Male",
          "Non-binary",
          "Male",
          "Female",
          "Female",
          "Non-binary",
          "Female",
          "Non-binary",
          "Non-binary",
          "Male",
          "Non-binary",
          "Female",
          "Non-binary",
          "Male",
          "Non-binary",
          "Non-binary",
          "Female",
          "Non-binary",
          "Male",
          "Female",
          "Male",
          "Non-binary",
          "Male",
          "Female",
          "Female",
          "Non-binary",
          "Female",
          "Non-binary",
          "Non-binary",
          "Male",
          "Non-binary",
          "Female",
          "Non-binary",
          "Male",
          "Unknown",
          "Unknown",
          "Unknown",
          "Unknown",
          "Unknown",
          "Unknown",
          "Unknown",
          "Unknown",
          "Male",
          "Female",
          "Female",
          "Non-binary",
          "Female",
          "Non-binary",
          "Non-binary",
          "Male",
          "Non-binary",
          "Female",
          "Non-binary",
          "Male",
          "Non-binary",
          "Non-binary",
          "Female",
          "Non-binary",
          "Male",
          "Female",
          "Male",
          "Non-binary",
          "Male",
          "Female",
          "Female",
          "Non-binary",
          "Female",
          "Non-binary",
          "Non-binary",
          "Male",
          "Non-binary",
          "Female",
          "Non-binary",
          "Male",
          "Non-binary",
          "Non-binary",
          "Female",
          "Non-binary",
          "Male",
          "Female",
          "Male",
          "Non-binary",
          "Male",
          "Female",
          "Female",
          "Non-binary",
          "Female",
          "Non-binary",
          "Non-binary",
          "Male",
          "Non-binary",
          "Female",
          "Non-binary",
          "Male",
          "Non-binary",
          "Non-binary",
          "Female",
          "Non-binary",
          "Male",
          "Female",
          "Male",
          "Non-binary",
          "Male",
          "Female",
          "Female",
          "Non-binary",
          "Female",
          "Non-binary",
          "Non-binary",
          "Male",
          "Non-binary",
          "Female",
          "Non-binary",
          "Male",
          "Non-binary",
          "Non-binary",
          "Female",
          "Non-binary",
          "Male",
          "Female",
          "Male",
          "Non-binary",
          "Male",
          "Female",
          "Female",
          "Non-binary",
          "Female",
          "Non-binary",
          "Non-binary",
          "Male",
          "Non-binary",
          "Female",
          "Non-binary",
          "Male",
          "Unknown",
          "Unknown",
          "Unknown",
          "Unknown",
          "Unknown",
          "Unknown",
          "Unknown",
          "Unknown",
          "Male",
          "Female",
          "Female",
          "Non-binary",
          "Female",
          "Non-binary",
          "Non-binary",
          "Male",
          "Non-binary",
          "Female",
          "Non-binary",
          "Male",
          "Non-binary",
          "Non-binary",
          "Female",
          "Non-binary",
          "Male",
          "Female",
          "Male",
          "Non-binary",
          "Male",
          "Female",
          "Female",
          "Non-binary",
          "Female",
          "Non-binary",
          "Non-binary",
          "Male",
          "Non-binary",
          "Female",
          "Non-binary",
          "Male",
          "Non-binary",
          "Non-binary",
          "Female",
          "Non-binary",
          "Male",
          "Female",
          "Male",
          "Non-binary",
          "Male",
          "Female",
          "Female"
         ],
         "xaxis": "x",
         "yaxis": "y"
        },
        {
         "alignmentgroup": "True",
         "bingroup": "x",
         "hovertemplate": "Dominant_Emotion=Anxiety<br>Gender=%{x}<br>count=%{y}<extra></extra>",
         "legendgroup": "Anxiety",
         "marker": {
          "color": "#ab63fa",
          "pattern": {
           "shape": ""
          }
         },
         "name": "Anxiety",
         "offsetgroup": "Anxiety",
         "orientation": "v",
         "showlegend": true,
         "type": "histogram",
         "x": [
          "Female",
          "Female",
          "Female",
          "Male",
          "Non-binary",
          "Male",
          "Non-binary",
          "Non-binary",
          "Male",
          "Female",
          "Female",
          "Male",
          "Non-binary",
          "Non-binary",
          "Female",
          "Male",
          "Male",
          "Female",
          "Female",
          "Female",
          "Male",
          "Non-binary",
          "Male",
          "Non-binary",
          "Non-binary",
          "Male",
          "Female",
          "Female",
          "Male",
          "Non-binary",
          "Non-binary",
          "Female",
          "Male",
          "Male",
          "Female",
          "Female",
          "Female",
          "Male",
          "Non-binary",
          "Male",
          "Non-binary",
          "Non-binary",
          "Unknown",
          "Unknown",
          "Unknown",
          "Unknown",
          "Unknown",
          "Unknown",
          "Unknown",
          "Male",
          "Male",
          "Female",
          "Female",
          "Female",
          "Male",
          "Non-binary",
          "Male",
          "Non-binary",
          "Non-binary",
          "Male",
          "Female",
          "Female",
          "Male",
          "Non-binary",
          "Non-binary",
          "Female",
          "Male",
          "Male",
          "Female",
          "Female",
          "Female",
          "Male",
          "Non-binary",
          "Male",
          "Non-binary",
          "Non-binary",
          "Male",
          "Female",
          "Female",
          "Male",
          "Non-binary",
          "Non-binary",
          "Female",
          "Male",
          "Male",
          "Female",
          "Female",
          "Female",
          "Male",
          "Non-binary",
          "Male",
          "Non-binary",
          "Non-binary",
          "Male",
          "Female",
          "Female",
          "Male",
          "Non-binary",
          "Non-binary",
          "Female",
          "Male",
          "Male",
          "Female",
          "Female",
          "Female",
          "Male",
          "Non-binary",
          "Male",
          "Non-binary",
          "Non-binary",
          "Male",
          "Female",
          "Female",
          "Male",
          "Non-binary",
          "Non-binary",
          "Female",
          "Male",
          "Male",
          "Female",
          "Female",
          "Female",
          "Male",
          "Non-binary",
          "Male",
          "Non-binary",
          "Non-binary",
          "Unknown",
          "Unknown",
          "Unknown",
          "Unknown",
          "Unknown",
          "Unknown",
          "Unknown",
          "Male",
          "Male",
          "Female",
          "Female",
          "Female",
          "Male",
          "Non-binary",
          "Male",
          "Non-binary",
          "Non-binary",
          "Male",
          "Female",
          "Female",
          "Male",
          "Non-binary",
          "Non-binary",
          "Female",
          "Male",
          "Male",
          "Female",
          "Female",
          "Female",
          "Male",
          "Non-binary",
          "Male",
          "Non-binary",
          "Non-binary",
          "Male",
          "Female",
          "Female",
          "Male",
          "Non-binary",
          "Non-binary",
          "Female",
          "Male",
          "Male"
         ],
         "xaxis": "x",
         "yaxis": "y"
        },
        {
         "alignmentgroup": "True",
         "bingroup": "x",
         "hovertemplate": "Dominant_Emotion=Boredom<br>Gender=%{x}<br>count=%{y}<extra></extra>",
         "legendgroup": "Boredom",
         "marker": {
          "color": "#FFA15A",
          "pattern": {
           "shape": ""
          }
         },
         "name": "Boredom",
         "offsetgroup": "Boredom",
         "orientation": "v",
         "showlegend": true,
         "type": "histogram",
         "x": [
          "Male",
          "Male",
          "Male",
          "Female",
          "Non-binary",
          "Female",
          "Female",
          "Male",
          "Male",
          "Non-binary",
          "Male",
          "Non-binary",
          "Non-binary",
          "Non-binary",
          "Male",
          "Male",
          "Male",
          "Female",
          "Non-binary",
          "Female",
          "Female",
          "Male",
          "Male",
          "Non-binary",
          "Male",
          "Non-binary",
          "Non-binary",
          "Non-binary",
          "Male",
          "Male",
          "Male",
          "Female",
          "Non-binary",
          "Female",
          "Female",
          "Unknown",
          "Unknown",
          "Unknown",
          "Unknown",
          "Unknown",
          "Non-binary",
          "Non-binary",
          "Male",
          "Male",
          "Male",
          "Female",
          "Non-binary",
          "Female",
          "Female",
          "Male",
          "Male",
          "Non-binary",
          "Male",
          "Non-binary",
          "Non-binary",
          "Non-binary",
          "Male",
          "Male",
          "Male",
          "Female",
          "Non-binary",
          "Female",
          "Female",
          "Male",
          "Male",
          "Non-binary",
          "Male",
          "Non-binary",
          "Non-binary",
          "Non-binary",
          "Male",
          "Male",
          "Male",
          "Female",
          "Non-binary",
          "Female",
          "Female",
          "Male",
          "Male",
          "Non-binary",
          "Male",
          "Non-binary",
          "Non-binary",
          "Non-binary",
          "Male",
          "Male",
          "Male",
          "Female",
          "Non-binary",
          "Female",
          "Female",
          "Male",
          "Male",
          "Non-binary",
          "Male",
          "Non-binary",
          "Non-binary",
          "Non-binary",
          "Male",
          "Male",
          "Male",
          "Female",
          "Non-binary",
          "Female",
          "Female",
          "Unknown",
          "Unknown",
          "Unknown",
          "Unknown",
          "Unknown",
          "Non-binary",
          "Non-binary",
          "Male",
          "Male",
          "Male",
          "Female",
          "Non-binary",
          "Female",
          "Female",
          "Male",
          "Male",
          "Non-binary",
          "Male",
          "Non-binary",
          "Non-binary",
          "Non-binary",
          "Male",
          "Male",
          "Male",
          "Female",
          "Non-binary",
          "Female",
          "Female",
          "Male",
          "Male",
          "Non-binary",
          "Male",
          "Non-binary",
          "Non-binary",
          "Non-binary"
         ],
         "xaxis": "x",
         "yaxis": "y"
        },
        {
         "alignmentgroup": "True",
         "bingroup": "x",
         "hovertemplate": "Dominant_Emotion=Sadness<br>Gender=%{x}<br>count=%{y}<extra></extra>",
         "legendgroup": "Sadness",
         "marker": {
          "color": "#19d3f3",
          "pattern": {
           "shape": ""
          }
         },
         "name": "Sadness",
         "offsetgroup": "Sadness",
         "orientation": "v",
         "showlegend": true,
         "type": "histogram",
         "x": [
          "Non-binary",
          "Non-binary",
          "Male",
          "Female",
          "Non-binary",
          "Female",
          "Male",
          "Female",
          "Female",
          "Non-binary",
          "Male",
          "Non-binary",
          "Male",
          "Male",
          "Male",
          "Female",
          "Non-binary",
          "Non-binary",
          "Male",
          "Female",
          "Non-binary",
          "Female",
          "Male",
          "Female",
          "Female",
          "Non-binary",
          "Male",
          "Non-binary",
          "Male",
          "Male",
          "Male",
          "Female",
          "Non-binary",
          "Non-binary",
          "Male",
          "Female",
          "Non-binary",
          "Female",
          "Male",
          "Female",
          "Unknown",
          "Unknown",
          "Unknown",
          "Unknown",
          "Unknown",
          "Unknown",
          "Unknown",
          "Female",
          "Non-binary",
          "Non-binary",
          "Male",
          "Female",
          "Non-binary",
          "Female",
          "Male",
          "Female",
          "Female",
          "Non-binary",
          "Male",
          "Non-binary",
          "Male",
          "Male",
          "Male",
          "Female",
          "Non-binary",
          "Non-binary",
          "Male",
          "Female",
          "Non-binary",
          "Female",
          "Male",
          "Female",
          "Female",
          "Non-binary",
          "Male",
          "Non-binary",
          "Male",
          "Male",
          "Male",
          "Female",
          "Non-binary",
          "Non-binary",
          "Male",
          "Female",
          "Non-binary",
          "Female",
          "Male",
          "Female",
          "Female",
          "Non-binary",
          "Male",
          "Non-binary",
          "Male",
          "Male",
          "Male",
          "Female",
          "Non-binary",
          "Non-binary",
          "Male",
          "Female",
          "Non-binary",
          "Female",
          "Male",
          "Female",
          "Female",
          "Non-binary",
          "Male",
          "Non-binary",
          "Male",
          "Male",
          "Male",
          "Female",
          "Non-binary",
          "Non-binary",
          "Male",
          "Female",
          "Non-binary",
          "Female",
          "Male",
          "Female",
          "Unknown",
          "Unknown",
          "Unknown",
          "Unknown",
          "Unknown",
          "Unknown",
          "Unknown",
          "Female",
          "Non-binary",
          "Non-binary",
          "Male",
          "Female",
          "Non-binary",
          "Female",
          "Male",
          "Female",
          "Female",
          "Non-binary",
          "Male",
          "Non-binary",
          "Male",
          "Male",
          "Male",
          "Female",
          "Non-binary",
          "Non-binary",
          "Male",
          "Female",
          "Non-binary",
          "Female",
          "Male",
          "Female",
          "Female",
          "Non-binary",
          "Male",
          "Non-binary",
          "Male",
          "Male",
          "Male",
          "Female"
         ],
         "xaxis": "x",
         "yaxis": "y"
        }
       ],
       "layout": {
        "barmode": "relative",
        "legend": {
         "title": {
          "text": "Dominant_Emotion"
         },
         "tracegroupgap": 0
        },
        "template": {
         "data": {
          "bar": [
           {
            "error_x": {
             "color": "#2a3f5f"
            },
            "error_y": {
             "color": "#2a3f5f"
            },
            "marker": {
             "line": {
              "color": "#E5ECF6",
              "width": 0.5
             },
             "pattern": {
              "fillmode": "overlay",
              "size": 10,
              "solidity": 0.2
             }
            },
            "type": "bar"
           }
          ],
          "barpolar": [
           {
            "marker": {
             "line": {
              "color": "#E5ECF6",
              "width": 0.5
             },
             "pattern": {
              "fillmode": "overlay",
              "size": 10,
              "solidity": 0.2
             }
            },
            "type": "barpolar"
           }
          ],
          "carpet": [
           {
            "aaxis": {
             "endlinecolor": "#2a3f5f",
             "gridcolor": "white",
             "linecolor": "white",
             "minorgridcolor": "white",
             "startlinecolor": "#2a3f5f"
            },
            "baxis": {
             "endlinecolor": "#2a3f5f",
             "gridcolor": "white",
             "linecolor": "white",
             "minorgridcolor": "white",
             "startlinecolor": "#2a3f5f"
            },
            "type": "carpet"
           }
          ],
          "choropleth": [
           {
            "colorbar": {
             "outlinewidth": 0,
             "ticks": ""
            },
            "type": "choropleth"
           }
          ],
          "contour": [
           {
            "colorbar": {
             "outlinewidth": 0,
             "ticks": ""
            },
            "colorscale": [
             [
              0,
              "#0d0887"
             ],
             [
              0.1111111111111111,
              "#46039f"
             ],
             [
              0.2222222222222222,
              "#7201a8"
             ],
             [
              0.3333333333333333,
              "#9c179e"
             ],
             [
              0.4444444444444444,
              "#bd3786"
             ],
             [
              0.5555555555555556,
              "#d8576b"
             ],
             [
              0.6666666666666666,
              "#ed7953"
             ],
             [
              0.7777777777777778,
              "#fb9f3a"
             ],
             [
              0.8888888888888888,
              "#fdca26"
             ],
             [
              1,
              "#f0f921"
             ]
            ],
            "type": "contour"
           }
          ],
          "contourcarpet": [
           {
            "colorbar": {
             "outlinewidth": 0,
             "ticks": ""
            },
            "type": "contourcarpet"
           }
          ],
          "heatmap": [
           {
            "colorbar": {
             "outlinewidth": 0,
             "ticks": ""
            },
            "colorscale": [
             [
              0,
              "#0d0887"
             ],
             [
              0.1111111111111111,
              "#46039f"
             ],
             [
              0.2222222222222222,
              "#7201a8"
             ],
             [
              0.3333333333333333,
              "#9c179e"
             ],
             [
              0.4444444444444444,
              "#bd3786"
             ],
             [
              0.5555555555555556,
              "#d8576b"
             ],
             [
              0.6666666666666666,
              "#ed7953"
             ],
             [
              0.7777777777777778,
              "#fb9f3a"
             ],
             [
              0.8888888888888888,
              "#fdca26"
             ],
             [
              1,
              "#f0f921"
             ]
            ],
            "type": "heatmap"
           }
          ],
          "heatmapgl": [
           {
            "colorbar": {
             "outlinewidth": 0,
             "ticks": ""
            },
            "colorscale": [
             [
              0,
              "#0d0887"
             ],
             [
              0.1111111111111111,
              "#46039f"
             ],
             [
              0.2222222222222222,
              "#7201a8"
             ],
             [
              0.3333333333333333,
              "#9c179e"
             ],
             [
              0.4444444444444444,
              "#bd3786"
             ],
             [
              0.5555555555555556,
              "#d8576b"
             ],
             [
              0.6666666666666666,
              "#ed7953"
             ],
             [
              0.7777777777777778,
              "#fb9f3a"
             ],
             [
              0.8888888888888888,
              "#fdca26"
             ],
             [
              1,
              "#f0f921"
             ]
            ],
            "type": "heatmapgl"
           }
          ],
          "histogram": [
           {
            "marker": {
             "pattern": {
              "fillmode": "overlay",
              "size": 10,
              "solidity": 0.2
             }
            },
            "type": "histogram"
           }
          ],
          "histogram2d": [
           {
            "colorbar": {
             "outlinewidth": 0,
             "ticks": ""
            },
            "colorscale": [
             [
              0,
              "#0d0887"
             ],
             [
              0.1111111111111111,
              "#46039f"
             ],
             [
              0.2222222222222222,
              "#7201a8"
             ],
             [
              0.3333333333333333,
              "#9c179e"
             ],
             [
              0.4444444444444444,
              "#bd3786"
             ],
             [
              0.5555555555555556,
              "#d8576b"
             ],
             [
              0.6666666666666666,
              "#ed7953"
             ],
             [
              0.7777777777777778,
              "#fb9f3a"
             ],
             [
              0.8888888888888888,
              "#fdca26"
             ],
             [
              1,
              "#f0f921"
             ]
            ],
            "type": "histogram2d"
           }
          ],
          "histogram2dcontour": [
           {
            "colorbar": {
             "outlinewidth": 0,
             "ticks": ""
            },
            "colorscale": [
             [
              0,
              "#0d0887"
             ],
             [
              0.1111111111111111,
              "#46039f"
             ],
             [
              0.2222222222222222,
              "#7201a8"
             ],
             [
              0.3333333333333333,
              "#9c179e"
             ],
             [
              0.4444444444444444,
              "#bd3786"
             ],
             [
              0.5555555555555556,
              "#d8576b"
             ],
             [
              0.6666666666666666,
              "#ed7953"
             ],
             [
              0.7777777777777778,
              "#fb9f3a"
             ],
             [
              0.8888888888888888,
              "#fdca26"
             ],
             [
              1,
              "#f0f921"
             ]
            ],
            "type": "histogram2dcontour"
           }
          ],
          "mesh3d": [
           {
            "colorbar": {
             "outlinewidth": 0,
             "ticks": ""
            },
            "type": "mesh3d"
           }
          ],
          "parcoords": [
           {
            "line": {
             "colorbar": {
              "outlinewidth": 0,
              "ticks": ""
             }
            },
            "type": "parcoords"
           }
          ],
          "pie": [
           {
            "automargin": true,
            "type": "pie"
           }
          ],
          "scatter": [
           {
            "fillpattern": {
             "fillmode": "overlay",
             "size": 10,
             "solidity": 0.2
            },
            "type": "scatter"
           }
          ],
          "scatter3d": [
           {
            "line": {
             "colorbar": {
              "outlinewidth": 0,
              "ticks": ""
             }
            },
            "marker": {
             "colorbar": {
              "outlinewidth": 0,
              "ticks": ""
             }
            },
            "type": "scatter3d"
           }
          ],
          "scattercarpet": [
           {
            "marker": {
             "colorbar": {
              "outlinewidth": 0,
              "ticks": ""
             }
            },
            "type": "scattercarpet"
           }
          ],
          "scattergeo": [
           {
            "marker": {
             "colorbar": {
              "outlinewidth": 0,
              "ticks": ""
             }
            },
            "type": "scattergeo"
           }
          ],
          "scattergl": [
           {
            "marker": {
             "colorbar": {
              "outlinewidth": 0,
              "ticks": ""
             }
            },
            "type": "scattergl"
           }
          ],
          "scattermapbox": [
           {
            "marker": {
             "colorbar": {
              "outlinewidth": 0,
              "ticks": ""
             }
            },
            "type": "scattermapbox"
           }
          ],
          "scatterpolar": [
           {
            "marker": {
             "colorbar": {
              "outlinewidth": 0,
              "ticks": ""
             }
            },
            "type": "scatterpolar"
           }
          ],
          "scatterpolargl": [
           {
            "marker": {
             "colorbar": {
              "outlinewidth": 0,
              "ticks": ""
             }
            },
            "type": "scatterpolargl"
           }
          ],
          "scatterternary": [
           {
            "marker": {
             "colorbar": {
              "outlinewidth": 0,
              "ticks": ""
             }
            },
            "type": "scatterternary"
           }
          ],
          "surface": [
           {
            "colorbar": {
             "outlinewidth": 0,
             "ticks": ""
            },
            "colorscale": [
             [
              0,
              "#0d0887"
             ],
             [
              0.1111111111111111,
              "#46039f"
             ],
             [
              0.2222222222222222,
              "#7201a8"
             ],
             [
              0.3333333333333333,
              "#9c179e"
             ],
             [
              0.4444444444444444,
              "#bd3786"
             ],
             [
              0.5555555555555556,
              "#d8576b"
             ],
             [
              0.6666666666666666,
              "#ed7953"
             ],
             [
              0.7777777777777778,
              "#fb9f3a"
             ],
             [
              0.8888888888888888,
              "#fdca26"
             ],
             [
              1,
              "#f0f921"
             ]
            ],
            "type": "surface"
           }
          ],
          "table": [
           {
            "cells": {
             "fill": {
              "color": "#EBF0F8"
             },
             "line": {
              "color": "white"
             }
            },
            "header": {
             "fill": {
              "color": "#C8D4E3"
             },
             "line": {
              "color": "white"
             }
            },
            "type": "table"
           }
          ]
         },
         "layout": {
          "annotationdefaults": {
           "arrowcolor": "#2a3f5f",
           "arrowhead": 0,
           "arrowwidth": 1
          },
          "autotypenumbers": "strict",
          "coloraxis": {
           "colorbar": {
            "outlinewidth": 0,
            "ticks": ""
           }
          },
          "colorscale": {
           "diverging": [
            [
             0,
             "#8e0152"
            ],
            [
             0.1,
             "#c51b7d"
            ],
            [
             0.2,
             "#de77ae"
            ],
            [
             0.3,
             "#f1b6da"
            ],
            [
             0.4,
             "#fde0ef"
            ],
            [
             0.5,
             "#f7f7f7"
            ],
            [
             0.6,
             "#e6f5d0"
            ],
            [
             0.7,
             "#b8e186"
            ],
            [
             0.8,
             "#7fbc41"
            ],
            [
             0.9,
             "#4d9221"
            ],
            [
             1,
             "#276419"
            ]
           ],
           "sequential": [
            [
             0,
             "#0d0887"
            ],
            [
             0.1111111111111111,
             "#46039f"
            ],
            [
             0.2222222222222222,
             "#7201a8"
            ],
            [
             0.3333333333333333,
             "#9c179e"
            ],
            [
             0.4444444444444444,
             "#bd3786"
            ],
            [
             0.5555555555555556,
             "#d8576b"
            ],
            [
             0.6666666666666666,
             "#ed7953"
            ],
            [
             0.7777777777777778,
             "#fb9f3a"
            ],
            [
             0.8888888888888888,
             "#fdca26"
            ],
            [
             1,
             "#f0f921"
            ]
           ],
           "sequentialminus": [
            [
             0,
             "#0d0887"
            ],
            [
             0.1111111111111111,
             "#46039f"
            ],
            [
             0.2222222222222222,
             "#7201a8"
            ],
            [
             0.3333333333333333,
             "#9c179e"
            ],
            [
             0.4444444444444444,
             "#bd3786"
            ],
            [
             0.5555555555555556,
             "#d8576b"
            ],
            [
             0.6666666666666666,
             "#ed7953"
            ],
            [
             0.7777777777777778,
             "#fb9f3a"
            ],
            [
             0.8888888888888888,
             "#fdca26"
            ],
            [
             1,
             "#f0f921"
            ]
           ]
          },
          "colorway": [
           "#636efa",
           "#EF553B",
           "#00cc96",
           "#ab63fa",
           "#FFA15A",
           "#19d3f3",
           "#FF6692",
           "#B6E880",
           "#FF97FF",
           "#FECB52"
          ],
          "font": {
           "color": "#2a3f5f"
          },
          "geo": {
           "bgcolor": "white",
           "lakecolor": "white",
           "landcolor": "#E5ECF6",
           "showlakes": true,
           "showland": true,
           "subunitcolor": "white"
          },
          "hoverlabel": {
           "align": "left"
          },
          "hovermode": "closest",
          "mapbox": {
           "style": "light"
          },
          "paper_bgcolor": "white",
          "plot_bgcolor": "#E5ECF6",
          "polar": {
           "angularaxis": {
            "gridcolor": "white",
            "linecolor": "white",
            "ticks": ""
           },
           "bgcolor": "#E5ECF6",
           "radialaxis": {
            "gridcolor": "white",
            "linecolor": "white",
            "ticks": ""
           }
          },
          "scene": {
           "xaxis": {
            "backgroundcolor": "#E5ECF6",
            "gridcolor": "white",
            "gridwidth": 2,
            "linecolor": "white",
            "showbackground": true,
            "ticks": "",
            "zerolinecolor": "white"
           },
           "yaxis": {
            "backgroundcolor": "#E5ECF6",
            "gridcolor": "white",
            "gridwidth": 2,
            "linecolor": "white",
            "showbackground": true,
            "ticks": "",
            "zerolinecolor": "white"
           },
           "zaxis": {
            "backgroundcolor": "#E5ECF6",
            "gridcolor": "white",
            "gridwidth": 2,
            "linecolor": "white",
            "showbackground": true,
            "ticks": "",
            "zerolinecolor": "white"
           }
          },
          "shapedefaults": {
           "line": {
            "color": "#2a3f5f"
           }
          },
          "ternary": {
           "aaxis": {
            "gridcolor": "white",
            "linecolor": "white",
            "ticks": ""
           },
           "baxis": {
            "gridcolor": "white",
            "linecolor": "white",
            "ticks": ""
           },
           "bgcolor": "#E5ECF6",
           "caxis": {
            "gridcolor": "white",
            "linecolor": "white",
            "ticks": ""
           }
          },
          "title": {
           "x": 0.05
          },
          "xaxis": {
           "automargin": true,
           "gridcolor": "white",
           "linecolor": "white",
           "ticks": "",
           "title": {
            "standoff": 15
           },
           "zerolinecolor": "white",
           "zerolinewidth": 2
          },
          "yaxis": {
           "automargin": true,
           "gridcolor": "white",
           "linecolor": "white",
           "ticks": "",
           "title": {
            "standoff": 15
           },
           "zerolinecolor": "white",
           "zerolinewidth": 2
          }
         }
        },
        "title": {
         "text": "Dominant Emotion by Gender"
        },
        "xaxis": {
         "anchor": "y",
         "domain": [
          0,
          1
         ],
         "title": {
          "text": "Gender"
         }
        },
        "yaxis": {
         "anchor": "x",
         "domain": [
          0,
          1
         ],
         "title": {
          "text": "count"
         }
        }
       }
      }
     },
     "metadata": {},
     "output_type": "display_data"
    }
   ],
   "source": [
    "# ploting\n",
    "plt = px.histogram(train_df, x='Gender', color='Dominant_Emotion', title='Dominant Emotion by Gender')\n",
    "plt.show()"
   ]
  },
  {
   "cell_type": "markdown",
   "id": "5c7b0a4f",
   "metadata": {
    "papermill": {
     "duration": 0.039202,
     "end_time": "2024-05-23T11:22:54.693589",
     "exception": false,
     "start_time": "2024-05-23T11:22:54.654387",
     "status": "completed"
    },
    "tags": []
   },
   "source": [
    "### Platform VS Emotions"
   ]
  },
  {
   "cell_type": "code",
   "execution_count": 51,
   "id": "be261ed9",
   "metadata": {
    "execution": {
     "iopub.execute_input": "2024-05-23T11:22:54.775044Z",
     "iopub.status.busy": "2024-05-23T11:22:54.774251Z",
     "iopub.status.idle": "2024-05-23T11:22:54.784144Z",
     "shell.execute_reply": "2024-05-23T11:22:54.783041Z"
    },
    "papermill": {
     "duration": 0.053549,
     "end_time": "2024-05-23T11:22:54.786709",
     "exception": false,
     "start_time": "2024-05-23T11:22:54.733160",
     "status": "completed"
    },
    "tags": []
   },
   "outputs": [],
   "source": [
    "# checking the Platformagainest the Dominant_Emotion\n",
    "grouped = train_df.groupby(['Platform', 'Dominant_Emotion'])\n",
    "\n",
    "# count the number of rows in each group\n",
    "counts = grouped.size()"
   ]
  },
  {
   "cell_type": "code",
   "execution_count": 52,
   "id": "94d10387",
   "metadata": {
    "execution": {
     "iopub.execute_input": "2024-05-23T11:22:54.868796Z",
     "iopub.status.busy": "2024-05-23T11:22:54.868005Z",
     "iopub.status.idle": "2024-05-23T11:22:54.968341Z",
     "shell.execute_reply": "2024-05-23T11:22:54.967178Z"
    },
    "papermill": {
     "duration": 0.144542,
     "end_time": "2024-05-23T11:22:54.971036",
     "exception": false,
     "start_time": "2024-05-23T11:22:54.826494",
     "status": "completed"
    },
    "tags": []
   },
   "outputs": [
    {
     "data": {
      "application/vnd.plotly.v1+json": {
       "config": {
        "plotlyServerURL": "https://plot.ly"
       },
       "data": [
        {
         "alignmentgroup": "True",
         "bingroup": "x",
         "hovertemplate": "Dominant_Emotion=Happiness<br>Platform=%{x}<br>count=%{y}<extra></extra>",
         "legendgroup": "Happiness",
         "marker": {
          "color": "#636efa",
          "pattern": {
           "shape": ""
          }
         },
         "name": "Happiness",
         "offsetgroup": "Happiness",
         "orientation": "v",
         "showlegend": true,
         "type": "histogram",
         "x": [
          "Instagram",
          "Instagram",
          "Instagram",
          "Instagram",
          "Instagram",
          "Instagram",
          "Instagram",
          "Instagram",
          "Instagram",
          "Instagram",
          "Instagram",
          "Instagram",
          "Twitter",
          "Instagram",
          "Instagram",
          "Instagram",
          "Instagram",
          "Snapchat",
          "Instagram",
          "Whatsapp",
          "Instagram",
          "Instagram",
          "Instagram",
          "Instagram",
          "Instagram",
          "Instagram",
          "Instagram",
          "Instagram",
          "Instagram",
          "Instagram",
          "Instagram",
          "Instagram",
          "Twitter",
          "Instagram",
          "Instagram",
          "Instagram",
          "Instagram",
          "Snapchat",
          "Instagram",
          "Whatsapp",
          "Instagram",
          "Instagram",
          "Instagram",
          "Instagram",
          "Instagram",
          "Instagram",
          "Instagram",
          "Instagram",
          "Instagram",
          "Instagram",
          "Instagram",
          "Instagram",
          "Twitter",
          "Instagram",
          "Instagram",
          "Instagram",
          "Instagram",
          "Snapchat",
          "Instagram",
          "Whatsapp",
          "Instagram",
          "Instagram",
          "Instagram",
          "Instagram",
          "Instagram",
          "Instagram",
          "Instagram",
          "Instagram",
          "Instagram",
          "Instagram",
          "Instagram",
          "Instagram",
          "Twitter",
          "Instagram",
          "Instagram",
          "Instagram",
          "Instagram",
          "Snapchat",
          "Instagram",
          "Whatsapp",
          "Instagram",
          "Instagram",
          "Instagram",
          "Instagram",
          "Instagram",
          "Instagram",
          "Instagram",
          "Instagram",
          "Instagram",
          "Instagram",
          "Instagram",
          "Instagram",
          "Twitter",
          "Instagram",
          "Instagram",
          "Instagram",
          "Instagram",
          "Snapchat",
          "Instagram",
          "Whatsapp",
          "Instagram",
          "Instagram",
          "Instagram",
          "Instagram",
          "Instagram",
          "Instagram",
          "Instagram",
          "Instagram",
          "Instagram",
          "Instagram",
          "Instagram",
          "Instagram",
          "Twitter",
          "Instagram",
          "Instagram",
          "Instagram",
          "Instagram",
          "Snapchat",
          "Instagram",
          "Whatsapp",
          "Instagram",
          "Instagram",
          "Instagram",
          "Instagram",
          "Instagram",
          "Instagram",
          "Instagram",
          "Instagram",
          "Instagram",
          "Instagram",
          "Instagram",
          "Instagram",
          "Instagram",
          "Twitter",
          "Instagram",
          "Instagram",
          "Instagram",
          "Instagram",
          "Snapchat",
          "Instagram",
          "Whatsapp",
          "Instagram",
          "Instagram",
          "Instagram",
          "Instagram",
          "Instagram",
          "Instagram",
          "Instagram",
          "Instagram",
          "Instagram",
          "Instagram",
          "Instagram",
          "Instagram",
          "Twitter",
          "Instagram",
          "Instagram",
          "Instagram",
          "Instagram",
          "Snapchat",
          "Instagram",
          "Whatsapp",
          "Instagram",
          "Instagram",
          "Instagram",
          "Instagram",
          "Instagram",
          "Instagram",
          "Instagram",
          "Instagram",
          "Instagram",
          "Instagram",
          "Instagram",
          "Instagram",
          "Twitter",
          "Instagram",
          "Instagram",
          "Instagram",
          "Instagram",
          "Snapchat",
          "Instagram",
          "Whatsapp",
          "Instagram",
          "Instagram",
          "Instagram",
          "Instagram",
          "Instagram",
          "Instagram",
          "Instagram",
          "Instagram",
          "Instagram",
          "Instagram",
          "Instagram",
          "Instagram",
          "Twitter",
          "Instagram",
          "Instagram",
          "Instagram",
          "Instagram",
          "Snapchat",
          "Instagram",
          "Whatsapp"
         ],
         "xaxis": "x",
         "yaxis": "y"
        },
        {
         "alignmentgroup": "True",
         "bingroup": "x",
         "hovertemplate": "Dominant_Emotion=Anger<br>Platform=%{x}<br>count=%{y}<extra></extra>",
         "legendgroup": "Anger",
         "marker": {
          "color": "#EF553B",
          "pattern": {
           "shape": ""
          }
         },
         "name": "Anger",
         "offsetgroup": "Anger",
         "orientation": "v",
         "showlegend": true,
         "type": "histogram",
         "x": [
          "Twitter",
          "Twitter",
          "Twitter",
          "Twitter",
          "Twitter",
          "Twitter",
          "Twitter",
          "Twitter",
          "Whatsapp",
          "Whatsapp",
          "Instagram",
          "Whatsapp",
          "Telegram",
          "Twitter",
          "Twitter",
          "Twitter",
          "Twitter",
          "Twitter",
          "Twitter",
          "Twitter",
          "Twitter",
          "Whatsapp",
          "Whatsapp",
          "Instagram",
          "Whatsapp",
          "Telegram",
          "Twitter",
          "Twitter",
          "Twitter",
          "Twitter",
          "Twitter",
          "Twitter",
          "Twitter",
          "Twitter",
          "Whatsapp",
          "Whatsapp",
          "Instagram",
          "Whatsapp",
          "Telegram",
          "Twitter",
          "Twitter",
          "Twitter",
          "Twitter",
          "Twitter",
          "Twitter",
          "Twitter",
          "Twitter",
          "Whatsapp",
          "Whatsapp",
          "Instagram",
          "Whatsapp",
          "Telegram",
          "Twitter",
          "Twitter",
          "Twitter",
          "Twitter",
          "Twitter",
          "Twitter",
          "Twitter",
          "Twitter",
          "Whatsapp",
          "Whatsapp",
          "Instagram",
          "Whatsapp",
          "Telegram",
          "Twitter",
          "Twitter",
          "Twitter",
          "Twitter",
          "Twitter",
          "Twitter",
          "Twitter",
          "Twitter",
          "Whatsapp",
          "Whatsapp",
          "Instagram",
          "Whatsapp",
          "Telegram",
          "Twitter",
          "Twitter",
          "Twitter",
          "Twitter",
          "Twitter",
          "Twitter",
          "Twitter",
          "Twitter",
          "Whatsapp",
          "Whatsapp",
          "Instagram",
          "Whatsapp",
          "Telegram",
          "Twitter",
          "Twitter",
          "Twitter",
          "Twitter",
          "Twitter",
          "Twitter",
          "Twitter",
          "Twitter",
          "Whatsapp",
          "Whatsapp",
          "Instagram",
          "Whatsapp",
          "Telegram",
          "Twitter",
          "Twitter",
          "Twitter",
          "Twitter",
          "Twitter",
          "Twitter",
          "Twitter",
          "Twitter",
          "Whatsapp",
          "Whatsapp",
          "Instagram",
          "Whatsapp",
          "Telegram",
          "Twitter",
          "Twitter",
          "Twitter",
          "Twitter",
          "Twitter",
          "Twitter",
          "Twitter",
          "Twitter",
          "Whatsapp",
          "Whatsapp",
          "Instagram",
          "Whatsapp",
          "Telegram"
         ],
         "xaxis": "x",
         "yaxis": "y"
        },
        {
         "alignmentgroup": "True",
         "bingroup": "x",
         "hovertemplate": "Dominant_Emotion=Neutral<br>Platform=%{x}<br>count=%{y}<extra></extra>",
         "legendgroup": "Neutral",
         "marker": {
          "color": "#00cc96",
          "pattern": {
           "shape": ""
          }
         },
         "name": "Neutral",
         "offsetgroup": "Neutral",
         "orientation": "v",
         "showlegend": true,
         "type": "histogram",
         "x": [
          "Facebook",
          "LinkedIn",
          "Facebook",
          "LinkedIn",
          "Facebook",
          "Twitter",
          "Instagram",
          "Facebook",
          "Instagram",
          "Facebook",
          "Telegram",
          "Whatsapp",
          "Facebook",
          "Telegram",
          "Whatsapp",
          "Twitter",
          "Snapchat",
          "Telegram",
          "Facebook",
          "Snapchat",
          "Facebook",
          "LinkedIn",
          "Facebook",
          "LinkedIn",
          "Facebook",
          "Twitter",
          "Instagram",
          "Facebook",
          "Instagram",
          "Facebook",
          "Telegram",
          "Whatsapp",
          "Facebook",
          "Telegram",
          "Whatsapp",
          "Twitter",
          "Snapchat",
          "Telegram",
          "Facebook",
          "Snapchat",
          "Facebook",
          "LinkedIn",
          "Facebook",
          "LinkedIn",
          "Facebook",
          "Twitter",
          "Instagram",
          "Facebook",
          "Instagram",
          "Facebook",
          "Telegram",
          "Whatsapp",
          "Facebook",
          "Telegram",
          "Whatsapp",
          "Twitter",
          "Snapchat",
          "Telegram",
          "Facebook",
          "Snapchat",
          "Facebook",
          "LinkedIn",
          "Facebook",
          "LinkedIn",
          "Facebook",
          "Twitter",
          "Instagram",
          "Facebook",
          "Instagram",
          "Facebook",
          "Telegram",
          "Whatsapp",
          "Facebook",
          "Telegram",
          "Whatsapp",
          "Twitter",
          "Snapchat",
          "Telegram",
          "Facebook",
          "Snapchat",
          "Facebook",
          "LinkedIn",
          "Facebook",
          "LinkedIn",
          "Facebook",
          "Twitter",
          "Instagram",
          "Facebook",
          "Instagram",
          "Facebook",
          "Telegram",
          "Whatsapp",
          "Facebook",
          "Telegram",
          "Whatsapp",
          "Twitter",
          "Snapchat",
          "Telegram",
          "Facebook",
          "Snapchat",
          "Facebook",
          "LinkedIn",
          "Facebook",
          "LinkedIn",
          "Facebook",
          "Twitter",
          "Instagram",
          "Facebook",
          "Instagram",
          "Facebook",
          "Telegram",
          "Whatsapp",
          "Facebook",
          "Telegram",
          "Whatsapp",
          "Twitter",
          "Snapchat",
          "Telegram",
          "Facebook",
          "Snapchat",
          "Facebook",
          "LinkedIn",
          "Facebook",
          "LinkedIn",
          "Facebook",
          "Twitter",
          "Instagram",
          "Facebook",
          "Instagram",
          "Facebook",
          "Telegram",
          "Whatsapp",
          "Facebook",
          "Telegram",
          "Whatsapp",
          "Twitter",
          "Snapchat",
          "Telegram",
          "Facebook",
          "Snapchat",
          "Facebook",
          "LinkedIn",
          "Facebook",
          "LinkedIn",
          "Facebook",
          "Twitter",
          "Instagram",
          "Facebook",
          "Instagram",
          "Facebook",
          "Telegram",
          "Whatsapp",
          "Facebook",
          "Telegram",
          "Whatsapp",
          "Twitter",
          "Snapchat",
          "Telegram",
          "Facebook",
          "Snapchat",
          "Facebook",
          "LinkedIn",
          "Facebook",
          "LinkedIn",
          "Facebook",
          "Twitter",
          "Instagram",
          "Facebook",
          "Instagram",
          "Facebook",
          "Telegram",
          "Whatsapp",
          "Facebook",
          "Telegram",
          "Whatsapp",
          "Twitter",
          "Snapchat",
          "Telegram",
          "Facebook",
          "Snapchat",
          "Facebook",
          "LinkedIn",
          "Facebook",
          "LinkedIn",
          "Facebook",
          "Twitter",
          "Instagram",
          "Facebook",
          "Instagram",
          "Facebook",
          "Telegram",
          "Whatsapp",
          "Facebook",
          "Telegram",
          "Whatsapp",
          "Twitter",
          "Snapchat",
          "Telegram",
          "Facebook",
          "Snapchat"
         ],
         "xaxis": "x",
         "yaxis": "y"
        },
        {
         "alignmentgroup": "True",
         "bingroup": "x",
         "hovertemplate": "Dominant_Emotion=Anxiety<br>Platform=%{x}<br>count=%{y}<extra></extra>",
         "legendgroup": "Anxiety",
         "marker": {
          "color": "#ab63fa",
          "pattern": {
           "shape": ""
          }
         },
         "name": "Anxiety",
         "offsetgroup": "Anxiety",
         "orientation": "v",
         "showlegend": true,
         "type": "histogram",
         "x": [
          "Instagram",
          "Twitter",
          "Instagram",
          "Facebook",
          "LinkedIn",
          "Facebook",
          "Facebook",
          "Facebook",
          "LinkedIn",
          "Whatsapp",
          "Snapchat",
          "Telegram",
          "Snapchat",
          "Facebook",
          "Whatsapp",
          "Twitter",
          "Instagram",
          "Instagram",
          "Twitter",
          "Instagram",
          "Facebook",
          "LinkedIn",
          "Facebook",
          "Facebook",
          "Facebook",
          "LinkedIn",
          "Whatsapp",
          "Snapchat",
          "Telegram",
          "Snapchat",
          "Facebook",
          "Whatsapp",
          "Twitter",
          "Instagram",
          "Instagram",
          "Twitter",
          "Instagram",
          "Facebook",
          "LinkedIn",
          "Facebook",
          "Facebook",
          "Facebook",
          "LinkedIn",
          "Whatsapp",
          "Snapchat",
          "Telegram",
          "Snapchat",
          "Facebook",
          "Whatsapp",
          "Twitter",
          "Instagram",
          "Instagram",
          "Twitter",
          "Instagram",
          "Facebook",
          "LinkedIn",
          "Facebook",
          "Facebook",
          "Facebook",
          "LinkedIn",
          "Whatsapp",
          "Snapchat",
          "Telegram",
          "Snapchat",
          "Facebook",
          "Whatsapp",
          "Twitter",
          "Instagram",
          "Instagram",
          "Twitter",
          "Instagram",
          "Facebook",
          "LinkedIn",
          "Facebook",
          "Facebook",
          "Facebook",
          "LinkedIn",
          "Whatsapp",
          "Snapchat",
          "Telegram",
          "Snapchat",
          "Facebook",
          "Whatsapp",
          "Twitter",
          "Instagram",
          "Instagram",
          "Twitter",
          "Instagram",
          "Facebook",
          "LinkedIn",
          "Facebook",
          "Facebook",
          "Facebook",
          "LinkedIn",
          "Whatsapp",
          "Snapchat",
          "Telegram",
          "Snapchat",
          "Facebook",
          "Whatsapp",
          "Twitter",
          "Instagram",
          "Instagram",
          "Twitter",
          "Instagram",
          "Facebook",
          "LinkedIn",
          "Facebook",
          "Facebook",
          "Facebook",
          "LinkedIn",
          "Whatsapp",
          "Snapchat",
          "Telegram",
          "Snapchat",
          "Facebook",
          "Whatsapp",
          "Twitter",
          "Instagram",
          "Instagram",
          "Twitter",
          "Instagram",
          "Facebook",
          "LinkedIn",
          "Facebook",
          "Facebook",
          "Facebook",
          "LinkedIn",
          "Whatsapp",
          "Snapchat",
          "Telegram",
          "Snapchat",
          "Facebook",
          "Whatsapp",
          "Twitter",
          "Instagram",
          "Instagram",
          "Twitter",
          "Instagram",
          "Facebook",
          "LinkedIn",
          "Facebook",
          "Facebook",
          "Facebook",
          "LinkedIn",
          "Whatsapp",
          "Snapchat",
          "Telegram",
          "Snapchat",
          "Facebook",
          "Whatsapp",
          "Twitter",
          "Instagram",
          "Instagram",
          "Twitter",
          "Instagram",
          "Facebook",
          "LinkedIn",
          "Facebook",
          "Facebook",
          "Facebook",
          "LinkedIn",
          "Whatsapp",
          "Snapchat",
          "Telegram",
          "Snapchat",
          "Facebook",
          "Whatsapp",
          "Twitter",
          "Instagram"
         ],
         "xaxis": "x",
         "yaxis": "y"
        },
        {
         "alignmentgroup": "True",
         "bingroup": "x",
         "hovertemplate": "Dominant_Emotion=Boredom<br>Platform=%{x}<br>count=%{y}<extra></extra>",
         "legendgroup": "Boredom",
         "marker": {
          "color": "#FFA15A",
          "pattern": {
           "shape": ""
          }
         },
         "name": "Boredom",
         "offsetgroup": "Boredom",
         "orientation": "v",
         "showlegend": true,
         "type": "histogram",
         "x": [
          "LinkedIn",
          "LinkedIn",
          "LinkedIn",
          "LinkedIn",
          "LinkedIn",
          "LinkedIn",
          "LinkedIn",
          "Telegram",
          "Facebook",
          "Facebook",
          "Twitter",
          "Facebook",
          "Facebook",
          "Twitter",
          "LinkedIn",
          "LinkedIn",
          "LinkedIn",
          "LinkedIn",
          "LinkedIn",
          "LinkedIn",
          "LinkedIn",
          "Telegram",
          "Facebook",
          "Facebook",
          "Twitter",
          "Facebook",
          "Facebook",
          "Twitter",
          "LinkedIn",
          "LinkedIn",
          "LinkedIn",
          "LinkedIn",
          "LinkedIn",
          "LinkedIn",
          "LinkedIn",
          "Telegram",
          "Facebook",
          "Facebook",
          "Twitter",
          "Facebook",
          "Facebook",
          "Twitter",
          "LinkedIn",
          "LinkedIn",
          "LinkedIn",
          "LinkedIn",
          "LinkedIn",
          "LinkedIn",
          "LinkedIn",
          "Telegram",
          "Facebook",
          "Facebook",
          "Twitter",
          "Facebook",
          "Facebook",
          "Twitter",
          "LinkedIn",
          "LinkedIn",
          "LinkedIn",
          "LinkedIn",
          "LinkedIn",
          "LinkedIn",
          "LinkedIn",
          "Telegram",
          "Facebook",
          "Facebook",
          "Twitter",
          "Facebook",
          "Facebook",
          "Twitter",
          "LinkedIn",
          "LinkedIn",
          "LinkedIn",
          "LinkedIn",
          "LinkedIn",
          "LinkedIn",
          "LinkedIn",
          "Telegram",
          "Facebook",
          "Facebook",
          "Twitter",
          "Facebook",
          "Facebook",
          "Twitter",
          "LinkedIn",
          "LinkedIn",
          "LinkedIn",
          "LinkedIn",
          "LinkedIn",
          "LinkedIn",
          "LinkedIn",
          "Telegram",
          "Facebook",
          "Facebook",
          "Twitter",
          "Facebook",
          "Facebook",
          "Twitter",
          "LinkedIn",
          "LinkedIn",
          "LinkedIn",
          "LinkedIn",
          "LinkedIn",
          "LinkedIn",
          "LinkedIn",
          "Telegram",
          "Facebook",
          "Facebook",
          "Twitter",
          "Facebook",
          "Facebook",
          "Twitter",
          "LinkedIn",
          "LinkedIn",
          "LinkedIn",
          "LinkedIn",
          "LinkedIn",
          "LinkedIn",
          "LinkedIn",
          "Telegram",
          "Facebook",
          "Facebook",
          "Twitter",
          "Facebook",
          "Facebook",
          "Twitter",
          "LinkedIn",
          "LinkedIn",
          "LinkedIn",
          "LinkedIn",
          "LinkedIn",
          "LinkedIn",
          "LinkedIn",
          "Telegram",
          "Facebook",
          "Facebook",
          "Twitter",
          "Facebook",
          "Facebook",
          "Twitter"
         ],
         "xaxis": "x",
         "yaxis": "y"
        },
        {
         "alignmentgroup": "True",
         "bingroup": "x",
         "hovertemplate": "Dominant_Emotion=Sadness<br>Platform=%{x}<br>count=%{y}<extra></extra>",
         "legendgroup": "Sadness",
         "marker": {
          "color": "#19d3f3",
          "pattern": {
           "shape": ""
          }
         },
         "name": "Sadness",
         "offsetgroup": "Sadness",
         "orientation": "v",
         "showlegend": true,
         "type": "histogram",
         "x": [
          "Facebook",
          "Facebook",
          "Twitter",
          "Twitter",
          "Facebook",
          "Instagram",
          "LinkedIn",
          "Twitter",
          "Instagram",
          "Snapchat",
          "Twitter",
          "Snapchat",
          "Twitter",
          "Telegram",
          "Telegram",
          "Snapchat",
          "Facebook",
          "Facebook",
          "Twitter",
          "Twitter",
          "Facebook",
          "Instagram",
          "LinkedIn",
          "Twitter",
          "Instagram",
          "Snapchat",
          "Twitter",
          "Snapchat",
          "Twitter",
          "Telegram",
          "Telegram",
          "Snapchat",
          "Facebook",
          "Facebook",
          "Twitter",
          "Twitter",
          "Facebook",
          "Instagram",
          "LinkedIn",
          "Twitter",
          "Instagram",
          "Snapchat",
          "Twitter",
          "Snapchat",
          "Twitter",
          "Telegram",
          "Telegram",
          "Snapchat",
          "Facebook",
          "Facebook",
          "Twitter",
          "Twitter",
          "Facebook",
          "Instagram",
          "LinkedIn",
          "Twitter",
          "Instagram",
          "Snapchat",
          "Twitter",
          "Snapchat",
          "Twitter",
          "Telegram",
          "Telegram",
          "Snapchat",
          "Facebook",
          "Facebook",
          "Twitter",
          "Twitter",
          "Facebook",
          "Instagram",
          "LinkedIn",
          "Twitter",
          "Instagram",
          "Snapchat",
          "Twitter",
          "Snapchat",
          "Twitter",
          "Telegram",
          "Telegram",
          "Snapchat",
          "Facebook",
          "Facebook",
          "Twitter",
          "Twitter",
          "Facebook",
          "Instagram",
          "LinkedIn",
          "Twitter",
          "Instagram",
          "Snapchat",
          "Twitter",
          "Snapchat",
          "Twitter",
          "Telegram",
          "Telegram",
          "Snapchat",
          "Facebook",
          "Facebook",
          "Twitter",
          "Twitter",
          "Facebook",
          "Instagram",
          "LinkedIn",
          "Twitter",
          "Instagram",
          "Snapchat",
          "Twitter",
          "Snapchat",
          "Twitter",
          "Telegram",
          "Telegram",
          "Snapchat",
          "Facebook",
          "Facebook",
          "Twitter",
          "Twitter",
          "Facebook",
          "Instagram",
          "LinkedIn",
          "Twitter",
          "Instagram",
          "Snapchat",
          "Twitter",
          "Snapchat",
          "Twitter",
          "Telegram",
          "Telegram",
          "Snapchat",
          "Facebook",
          "Facebook",
          "Twitter",
          "Twitter",
          "Facebook",
          "Instagram",
          "LinkedIn",
          "Twitter",
          "Instagram",
          "Snapchat",
          "Twitter",
          "Snapchat",
          "Twitter",
          "Telegram",
          "Telegram",
          "Snapchat",
          "Facebook",
          "Facebook",
          "Twitter",
          "Twitter",
          "Facebook",
          "Instagram",
          "LinkedIn",
          "Twitter",
          "Instagram",
          "Snapchat",
          "Twitter",
          "Snapchat",
          "Twitter",
          "Telegram",
          "Telegram",
          "Snapchat"
         ],
         "xaxis": "x",
         "yaxis": "y"
        }
       ],
       "layout": {
        "barmode": "relative",
        "legend": {
         "title": {
          "text": "Dominant_Emotion"
         },
         "tracegroupgap": 0
        },
        "template": {
         "data": {
          "bar": [
           {
            "error_x": {
             "color": "#2a3f5f"
            },
            "error_y": {
             "color": "#2a3f5f"
            },
            "marker": {
             "line": {
              "color": "#E5ECF6",
              "width": 0.5
             },
             "pattern": {
              "fillmode": "overlay",
              "size": 10,
              "solidity": 0.2
             }
            },
            "type": "bar"
           }
          ],
          "barpolar": [
           {
            "marker": {
             "line": {
              "color": "#E5ECF6",
              "width": 0.5
             },
             "pattern": {
              "fillmode": "overlay",
              "size": 10,
              "solidity": 0.2
             }
            },
            "type": "barpolar"
           }
          ],
          "carpet": [
           {
            "aaxis": {
             "endlinecolor": "#2a3f5f",
             "gridcolor": "white",
             "linecolor": "white",
             "minorgridcolor": "white",
             "startlinecolor": "#2a3f5f"
            },
            "baxis": {
             "endlinecolor": "#2a3f5f",
             "gridcolor": "white",
             "linecolor": "white",
             "minorgridcolor": "white",
             "startlinecolor": "#2a3f5f"
            },
            "type": "carpet"
           }
          ],
          "choropleth": [
           {
            "colorbar": {
             "outlinewidth": 0,
             "ticks": ""
            },
            "type": "choropleth"
           }
          ],
          "contour": [
           {
            "colorbar": {
             "outlinewidth": 0,
             "ticks": ""
            },
            "colorscale": [
             [
              0,
              "#0d0887"
             ],
             [
              0.1111111111111111,
              "#46039f"
             ],
             [
              0.2222222222222222,
              "#7201a8"
             ],
             [
              0.3333333333333333,
              "#9c179e"
             ],
             [
              0.4444444444444444,
              "#bd3786"
             ],
             [
              0.5555555555555556,
              "#d8576b"
             ],
             [
              0.6666666666666666,
              "#ed7953"
             ],
             [
              0.7777777777777778,
              "#fb9f3a"
             ],
             [
              0.8888888888888888,
              "#fdca26"
             ],
             [
              1,
              "#f0f921"
             ]
            ],
            "type": "contour"
           }
          ],
          "contourcarpet": [
           {
            "colorbar": {
             "outlinewidth": 0,
             "ticks": ""
            },
            "type": "contourcarpet"
           }
          ],
          "heatmap": [
           {
            "colorbar": {
             "outlinewidth": 0,
             "ticks": ""
            },
            "colorscale": [
             [
              0,
              "#0d0887"
             ],
             [
              0.1111111111111111,
              "#46039f"
             ],
             [
              0.2222222222222222,
              "#7201a8"
             ],
             [
              0.3333333333333333,
              "#9c179e"
             ],
             [
              0.4444444444444444,
              "#bd3786"
             ],
             [
              0.5555555555555556,
              "#d8576b"
             ],
             [
              0.6666666666666666,
              "#ed7953"
             ],
             [
              0.7777777777777778,
              "#fb9f3a"
             ],
             [
              0.8888888888888888,
              "#fdca26"
             ],
             [
              1,
              "#f0f921"
             ]
            ],
            "type": "heatmap"
           }
          ],
          "heatmapgl": [
           {
            "colorbar": {
             "outlinewidth": 0,
             "ticks": ""
            },
            "colorscale": [
             [
              0,
              "#0d0887"
             ],
             [
              0.1111111111111111,
              "#46039f"
             ],
             [
              0.2222222222222222,
              "#7201a8"
             ],
             [
              0.3333333333333333,
              "#9c179e"
             ],
             [
              0.4444444444444444,
              "#bd3786"
             ],
             [
              0.5555555555555556,
              "#d8576b"
             ],
             [
              0.6666666666666666,
              "#ed7953"
             ],
             [
              0.7777777777777778,
              "#fb9f3a"
             ],
             [
              0.8888888888888888,
              "#fdca26"
             ],
             [
              1,
              "#f0f921"
             ]
            ],
            "type": "heatmapgl"
           }
          ],
          "histogram": [
           {
            "marker": {
             "pattern": {
              "fillmode": "overlay",
              "size": 10,
              "solidity": 0.2
             }
            },
            "type": "histogram"
           }
          ],
          "histogram2d": [
           {
            "colorbar": {
             "outlinewidth": 0,
             "ticks": ""
            },
            "colorscale": [
             [
              0,
              "#0d0887"
             ],
             [
              0.1111111111111111,
              "#46039f"
             ],
             [
              0.2222222222222222,
              "#7201a8"
             ],
             [
              0.3333333333333333,
              "#9c179e"
             ],
             [
              0.4444444444444444,
              "#bd3786"
             ],
             [
              0.5555555555555556,
              "#d8576b"
             ],
             [
              0.6666666666666666,
              "#ed7953"
             ],
             [
              0.7777777777777778,
              "#fb9f3a"
             ],
             [
              0.8888888888888888,
              "#fdca26"
             ],
             [
              1,
              "#f0f921"
             ]
            ],
            "type": "histogram2d"
           }
          ],
          "histogram2dcontour": [
           {
            "colorbar": {
             "outlinewidth": 0,
             "ticks": ""
            },
            "colorscale": [
             [
              0,
              "#0d0887"
             ],
             [
              0.1111111111111111,
              "#46039f"
             ],
             [
              0.2222222222222222,
              "#7201a8"
             ],
             [
              0.3333333333333333,
              "#9c179e"
             ],
             [
              0.4444444444444444,
              "#bd3786"
             ],
             [
              0.5555555555555556,
              "#d8576b"
             ],
             [
              0.6666666666666666,
              "#ed7953"
             ],
             [
              0.7777777777777778,
              "#fb9f3a"
             ],
             [
              0.8888888888888888,
              "#fdca26"
             ],
             [
              1,
              "#f0f921"
             ]
            ],
            "type": "histogram2dcontour"
           }
          ],
          "mesh3d": [
           {
            "colorbar": {
             "outlinewidth": 0,
             "ticks": ""
            },
            "type": "mesh3d"
           }
          ],
          "parcoords": [
           {
            "line": {
             "colorbar": {
              "outlinewidth": 0,
              "ticks": ""
             }
            },
            "type": "parcoords"
           }
          ],
          "pie": [
           {
            "automargin": true,
            "type": "pie"
           }
          ],
          "scatter": [
           {
            "fillpattern": {
             "fillmode": "overlay",
             "size": 10,
             "solidity": 0.2
            },
            "type": "scatter"
           }
          ],
          "scatter3d": [
           {
            "line": {
             "colorbar": {
              "outlinewidth": 0,
              "ticks": ""
             }
            },
            "marker": {
             "colorbar": {
              "outlinewidth": 0,
              "ticks": ""
             }
            },
            "type": "scatter3d"
           }
          ],
          "scattercarpet": [
           {
            "marker": {
             "colorbar": {
              "outlinewidth": 0,
              "ticks": ""
             }
            },
            "type": "scattercarpet"
           }
          ],
          "scattergeo": [
           {
            "marker": {
             "colorbar": {
              "outlinewidth": 0,
              "ticks": ""
             }
            },
            "type": "scattergeo"
           }
          ],
          "scattergl": [
           {
            "marker": {
             "colorbar": {
              "outlinewidth": 0,
              "ticks": ""
             }
            },
            "type": "scattergl"
           }
          ],
          "scattermapbox": [
           {
            "marker": {
             "colorbar": {
              "outlinewidth": 0,
              "ticks": ""
             }
            },
            "type": "scattermapbox"
           }
          ],
          "scatterpolar": [
           {
            "marker": {
             "colorbar": {
              "outlinewidth": 0,
              "ticks": ""
             }
            },
            "type": "scatterpolar"
           }
          ],
          "scatterpolargl": [
           {
            "marker": {
             "colorbar": {
              "outlinewidth": 0,
              "ticks": ""
             }
            },
            "type": "scatterpolargl"
           }
          ],
          "scatterternary": [
           {
            "marker": {
             "colorbar": {
              "outlinewidth": 0,
              "ticks": ""
             }
            },
            "type": "scatterternary"
           }
          ],
          "surface": [
           {
            "colorbar": {
             "outlinewidth": 0,
             "ticks": ""
            },
            "colorscale": [
             [
              0,
              "#0d0887"
             ],
             [
              0.1111111111111111,
              "#46039f"
             ],
             [
              0.2222222222222222,
              "#7201a8"
             ],
             [
              0.3333333333333333,
              "#9c179e"
             ],
             [
              0.4444444444444444,
              "#bd3786"
             ],
             [
              0.5555555555555556,
              "#d8576b"
             ],
             [
              0.6666666666666666,
              "#ed7953"
             ],
             [
              0.7777777777777778,
              "#fb9f3a"
             ],
             [
              0.8888888888888888,
              "#fdca26"
             ],
             [
              1,
              "#f0f921"
             ]
            ],
            "type": "surface"
           }
          ],
          "table": [
           {
            "cells": {
             "fill": {
              "color": "#EBF0F8"
             },
             "line": {
              "color": "white"
             }
            },
            "header": {
             "fill": {
              "color": "#C8D4E3"
             },
             "line": {
              "color": "white"
             }
            },
            "type": "table"
           }
          ]
         },
         "layout": {
          "annotationdefaults": {
           "arrowcolor": "#2a3f5f",
           "arrowhead": 0,
           "arrowwidth": 1
          },
          "autotypenumbers": "strict",
          "coloraxis": {
           "colorbar": {
            "outlinewidth": 0,
            "ticks": ""
           }
          },
          "colorscale": {
           "diverging": [
            [
             0,
             "#8e0152"
            ],
            [
             0.1,
             "#c51b7d"
            ],
            [
             0.2,
             "#de77ae"
            ],
            [
             0.3,
             "#f1b6da"
            ],
            [
             0.4,
             "#fde0ef"
            ],
            [
             0.5,
             "#f7f7f7"
            ],
            [
             0.6,
             "#e6f5d0"
            ],
            [
             0.7,
             "#b8e186"
            ],
            [
             0.8,
             "#7fbc41"
            ],
            [
             0.9,
             "#4d9221"
            ],
            [
             1,
             "#276419"
            ]
           ],
           "sequential": [
            [
             0,
             "#0d0887"
            ],
            [
             0.1111111111111111,
             "#46039f"
            ],
            [
             0.2222222222222222,
             "#7201a8"
            ],
            [
             0.3333333333333333,
             "#9c179e"
            ],
            [
             0.4444444444444444,
             "#bd3786"
            ],
            [
             0.5555555555555556,
             "#d8576b"
            ],
            [
             0.6666666666666666,
             "#ed7953"
            ],
            [
             0.7777777777777778,
             "#fb9f3a"
            ],
            [
             0.8888888888888888,
             "#fdca26"
            ],
            [
             1,
             "#f0f921"
            ]
           ],
           "sequentialminus": [
            [
             0,
             "#0d0887"
            ],
            [
             0.1111111111111111,
             "#46039f"
            ],
            [
             0.2222222222222222,
             "#7201a8"
            ],
            [
             0.3333333333333333,
             "#9c179e"
            ],
            [
             0.4444444444444444,
             "#bd3786"
            ],
            [
             0.5555555555555556,
             "#d8576b"
            ],
            [
             0.6666666666666666,
             "#ed7953"
            ],
            [
             0.7777777777777778,
             "#fb9f3a"
            ],
            [
             0.8888888888888888,
             "#fdca26"
            ],
            [
             1,
             "#f0f921"
            ]
           ]
          },
          "colorway": [
           "#636efa",
           "#EF553B",
           "#00cc96",
           "#ab63fa",
           "#FFA15A",
           "#19d3f3",
           "#FF6692",
           "#B6E880",
           "#FF97FF",
           "#FECB52"
          ],
          "font": {
           "color": "#2a3f5f"
          },
          "geo": {
           "bgcolor": "white",
           "lakecolor": "white",
           "landcolor": "#E5ECF6",
           "showlakes": true,
           "showland": true,
           "subunitcolor": "white"
          },
          "hoverlabel": {
           "align": "left"
          },
          "hovermode": "closest",
          "mapbox": {
           "style": "light"
          },
          "paper_bgcolor": "white",
          "plot_bgcolor": "#E5ECF6",
          "polar": {
           "angularaxis": {
            "gridcolor": "white",
            "linecolor": "white",
            "ticks": ""
           },
           "bgcolor": "#E5ECF6",
           "radialaxis": {
            "gridcolor": "white",
            "linecolor": "white",
            "ticks": ""
           }
          },
          "scene": {
           "xaxis": {
            "backgroundcolor": "#E5ECF6",
            "gridcolor": "white",
            "gridwidth": 2,
            "linecolor": "white",
            "showbackground": true,
            "ticks": "",
            "zerolinecolor": "white"
           },
           "yaxis": {
            "backgroundcolor": "#E5ECF6",
            "gridcolor": "white",
            "gridwidth": 2,
            "linecolor": "white",
            "showbackground": true,
            "ticks": "",
            "zerolinecolor": "white"
           },
           "zaxis": {
            "backgroundcolor": "#E5ECF6",
            "gridcolor": "white",
            "gridwidth": 2,
            "linecolor": "white",
            "showbackground": true,
            "ticks": "",
            "zerolinecolor": "white"
           }
          },
          "shapedefaults": {
           "line": {
            "color": "#2a3f5f"
           }
          },
          "ternary": {
           "aaxis": {
            "gridcolor": "white",
            "linecolor": "white",
            "ticks": ""
           },
           "baxis": {
            "gridcolor": "white",
            "linecolor": "white",
            "ticks": ""
           },
           "bgcolor": "#E5ECF6",
           "caxis": {
            "gridcolor": "white",
            "linecolor": "white",
            "ticks": ""
           }
          },
          "title": {
           "x": 0.05
          },
          "xaxis": {
           "automargin": true,
           "gridcolor": "white",
           "linecolor": "white",
           "ticks": "",
           "title": {
            "standoff": 15
           },
           "zerolinecolor": "white",
           "zerolinewidth": 2
          },
          "yaxis": {
           "automargin": true,
           "gridcolor": "white",
           "linecolor": "white",
           "ticks": "",
           "title": {
            "standoff": 15
           },
           "zerolinecolor": "white",
           "zerolinewidth": 2
          }
         }
        },
        "title": {
         "text": "Dominant Emotion by Platform"
        },
        "xaxis": {
         "anchor": "y",
         "domain": [
          0,
          1
         ],
         "title": {
          "text": "Platform"
         }
        },
        "yaxis": {
         "anchor": "x",
         "domain": [
          0,
          1
         ],
         "title": {
          "text": "count"
         }
        }
       }
      }
     },
     "metadata": {},
     "output_type": "display_data"
    }
   ],
   "source": [
    "Plt = px.histogram(train_df, x='Platform', color='Dominant_Emotion', title='Dominant Emotion by Platform')\n",
    "Plt.show()"
   ]
  },
  {
   "cell_type": "markdown",
   "id": "80569525",
   "metadata": {},
   "source": [
    "- Happiness is the dominant emotion on Instagram. Anger has the least count.\n",
    "- Anger is the dominant emotion on Twitter and Whatsapp. Happiness has the least count on both.\n",
    "- Sadness is also dominant on Twitter and Snapchat.\n",
    "- Neutral is the dominant emotion on Facebook and Telegram.\n",
    "- Boredom is the dominant emotion on LinkedIn and Facebook.\n",
    "- Anxiety is also dominant on Facebook and other platforms."
   ]
  },
  {
   "cell_type": "code",
   "execution_count": 53,
   "id": "d6eb0967",
   "metadata": {
    "execution": {
     "iopub.execute_input": "2024-05-23T11:22:55.055891Z",
     "iopub.status.busy": "2024-05-23T11:22:55.055082Z",
     "iopub.status.idle": "2024-05-23T11:22:55.163769Z",
     "shell.execute_reply": "2024-05-23T11:22:55.162628Z"
    },
    "papermill": {
     "duration": 0.153992,
     "end_time": "2024-05-23T11:22:55.166606",
     "exception": false,
     "start_time": "2024-05-23T11:22:55.012614",
     "status": "completed"
    },
    "tags": []
   },
   "outputs": [
    {
     "data": {
      "application/vnd.plotly.v1+json": {
       "config": {
        "plotlyServerURL": "https://plot.ly"
       },
       "data": [
        {
         "coloraxis": "coloraxis",
         "hovertemplate": "Dominant_Emotion: %{x}<br>Platform: %{y}<br>color: %{z}<extra></extra>",
         "name": "0",
         "type": "heatmap",
         "x": [
          "Anger",
          "Anxiety",
          "Boredom",
          "Happiness",
          "Neutral",
          "Sadness"
         ],
         "xaxis": "x",
         "y": [
          "Facebook",
          "Instagram",
          "LinkedIn",
          "Snapchat",
          "Telegram",
          "Twitter",
          "Whatsapp"
         ],
         "yaxis": "y",
         "z": [
          [
           0,
           50,
           40,
           0,
           70,
           30
          ],
          [
           10,
           30,
           0,
           171,
           20,
           20
          ],
          [
           0,
           20,
           70,
           0,
           20,
           10
          ],
          [
           0,
           20,
           0,
           10,
           20,
           30
          ],
          [
           10,
           10,
           10,
           0,
           30,
           20
          ],
          [
           80,
           20,
           20,
           10,
           20,
           50
          ],
          [
           30,
           20,
           0,
           10,
           20,
           0
          ]
         ]
        }
       ],
       "layout": {
        "coloraxis": {
         "colorscale": [
          [
           0,
           "#0d0887"
          ],
          [
           0.1111111111111111,
           "#46039f"
          ],
          [
           0.2222222222222222,
           "#7201a8"
          ],
          [
           0.3333333333333333,
           "#9c179e"
          ],
          [
           0.4444444444444444,
           "#bd3786"
          ],
          [
           0.5555555555555556,
           "#d8576b"
          ],
          [
           0.6666666666666666,
           "#ed7953"
          ],
          [
           0.7777777777777778,
           "#fb9f3a"
          ],
          [
           0.8888888888888888,
           "#fdca26"
          ],
          [
           1,
           "#f0f921"
          ]
         ]
        },
        "template": {
         "data": {
          "bar": [
           {
            "error_x": {
             "color": "#2a3f5f"
            },
            "error_y": {
             "color": "#2a3f5f"
            },
            "marker": {
             "line": {
              "color": "#E5ECF6",
              "width": 0.5
             },
             "pattern": {
              "fillmode": "overlay",
              "size": 10,
              "solidity": 0.2
             }
            },
            "type": "bar"
           }
          ],
          "barpolar": [
           {
            "marker": {
             "line": {
              "color": "#E5ECF6",
              "width": 0.5
             },
             "pattern": {
              "fillmode": "overlay",
              "size": 10,
              "solidity": 0.2
             }
            },
            "type": "barpolar"
           }
          ],
          "carpet": [
           {
            "aaxis": {
             "endlinecolor": "#2a3f5f",
             "gridcolor": "white",
             "linecolor": "white",
             "minorgridcolor": "white",
             "startlinecolor": "#2a3f5f"
            },
            "baxis": {
             "endlinecolor": "#2a3f5f",
             "gridcolor": "white",
             "linecolor": "white",
             "minorgridcolor": "white",
             "startlinecolor": "#2a3f5f"
            },
            "type": "carpet"
           }
          ],
          "choropleth": [
           {
            "colorbar": {
             "outlinewidth": 0,
             "ticks": ""
            },
            "type": "choropleth"
           }
          ],
          "contour": [
           {
            "colorbar": {
             "outlinewidth": 0,
             "ticks": ""
            },
            "colorscale": [
             [
              0,
              "#0d0887"
             ],
             [
              0.1111111111111111,
              "#46039f"
             ],
             [
              0.2222222222222222,
              "#7201a8"
             ],
             [
              0.3333333333333333,
              "#9c179e"
             ],
             [
              0.4444444444444444,
              "#bd3786"
             ],
             [
              0.5555555555555556,
              "#d8576b"
             ],
             [
              0.6666666666666666,
              "#ed7953"
             ],
             [
              0.7777777777777778,
              "#fb9f3a"
             ],
             [
              0.8888888888888888,
              "#fdca26"
             ],
             [
              1,
              "#f0f921"
             ]
            ],
            "type": "contour"
           }
          ],
          "contourcarpet": [
           {
            "colorbar": {
             "outlinewidth": 0,
             "ticks": ""
            },
            "type": "contourcarpet"
           }
          ],
          "heatmap": [
           {
            "colorbar": {
             "outlinewidth": 0,
             "ticks": ""
            },
            "colorscale": [
             [
              0,
              "#0d0887"
             ],
             [
              0.1111111111111111,
              "#46039f"
             ],
             [
              0.2222222222222222,
              "#7201a8"
             ],
             [
              0.3333333333333333,
              "#9c179e"
             ],
             [
              0.4444444444444444,
              "#bd3786"
             ],
             [
              0.5555555555555556,
              "#d8576b"
             ],
             [
              0.6666666666666666,
              "#ed7953"
             ],
             [
              0.7777777777777778,
              "#fb9f3a"
             ],
             [
              0.8888888888888888,
              "#fdca26"
             ],
             [
              1,
              "#f0f921"
             ]
            ],
            "type": "heatmap"
           }
          ],
          "heatmapgl": [
           {
            "colorbar": {
             "outlinewidth": 0,
             "ticks": ""
            },
            "colorscale": [
             [
              0,
              "#0d0887"
             ],
             [
              0.1111111111111111,
              "#46039f"
             ],
             [
              0.2222222222222222,
              "#7201a8"
             ],
             [
              0.3333333333333333,
              "#9c179e"
             ],
             [
              0.4444444444444444,
              "#bd3786"
             ],
             [
              0.5555555555555556,
              "#d8576b"
             ],
             [
              0.6666666666666666,
              "#ed7953"
             ],
             [
              0.7777777777777778,
              "#fb9f3a"
             ],
             [
              0.8888888888888888,
              "#fdca26"
             ],
             [
              1,
              "#f0f921"
             ]
            ],
            "type": "heatmapgl"
           }
          ],
          "histogram": [
           {
            "marker": {
             "pattern": {
              "fillmode": "overlay",
              "size": 10,
              "solidity": 0.2
             }
            },
            "type": "histogram"
           }
          ],
          "histogram2d": [
           {
            "colorbar": {
             "outlinewidth": 0,
             "ticks": ""
            },
            "colorscale": [
             [
              0,
              "#0d0887"
             ],
             [
              0.1111111111111111,
              "#46039f"
             ],
             [
              0.2222222222222222,
              "#7201a8"
             ],
             [
              0.3333333333333333,
              "#9c179e"
             ],
             [
              0.4444444444444444,
              "#bd3786"
             ],
             [
              0.5555555555555556,
              "#d8576b"
             ],
             [
              0.6666666666666666,
              "#ed7953"
             ],
             [
              0.7777777777777778,
              "#fb9f3a"
             ],
             [
              0.8888888888888888,
              "#fdca26"
             ],
             [
              1,
              "#f0f921"
             ]
            ],
            "type": "histogram2d"
           }
          ],
          "histogram2dcontour": [
           {
            "colorbar": {
             "outlinewidth": 0,
             "ticks": ""
            },
            "colorscale": [
             [
              0,
              "#0d0887"
             ],
             [
              0.1111111111111111,
              "#46039f"
             ],
             [
              0.2222222222222222,
              "#7201a8"
             ],
             [
              0.3333333333333333,
              "#9c179e"
             ],
             [
              0.4444444444444444,
              "#bd3786"
             ],
             [
              0.5555555555555556,
              "#d8576b"
             ],
             [
              0.6666666666666666,
              "#ed7953"
             ],
             [
              0.7777777777777778,
              "#fb9f3a"
             ],
             [
              0.8888888888888888,
              "#fdca26"
             ],
             [
              1,
              "#f0f921"
             ]
            ],
            "type": "histogram2dcontour"
           }
          ],
          "mesh3d": [
           {
            "colorbar": {
             "outlinewidth": 0,
             "ticks": ""
            },
            "type": "mesh3d"
           }
          ],
          "parcoords": [
           {
            "line": {
             "colorbar": {
              "outlinewidth": 0,
              "ticks": ""
             }
            },
            "type": "parcoords"
           }
          ],
          "pie": [
           {
            "automargin": true,
            "type": "pie"
           }
          ],
          "scatter": [
           {
            "fillpattern": {
             "fillmode": "overlay",
             "size": 10,
             "solidity": 0.2
            },
            "type": "scatter"
           }
          ],
          "scatter3d": [
           {
            "line": {
             "colorbar": {
              "outlinewidth": 0,
              "ticks": ""
             }
            },
            "marker": {
             "colorbar": {
              "outlinewidth": 0,
              "ticks": ""
             }
            },
            "type": "scatter3d"
           }
          ],
          "scattercarpet": [
           {
            "marker": {
             "colorbar": {
              "outlinewidth": 0,
              "ticks": ""
             }
            },
            "type": "scattercarpet"
           }
          ],
          "scattergeo": [
           {
            "marker": {
             "colorbar": {
              "outlinewidth": 0,
              "ticks": ""
             }
            },
            "type": "scattergeo"
           }
          ],
          "scattergl": [
           {
            "marker": {
             "colorbar": {
              "outlinewidth": 0,
              "ticks": ""
             }
            },
            "type": "scattergl"
           }
          ],
          "scattermapbox": [
           {
            "marker": {
             "colorbar": {
              "outlinewidth": 0,
              "ticks": ""
             }
            },
            "type": "scattermapbox"
           }
          ],
          "scatterpolar": [
           {
            "marker": {
             "colorbar": {
              "outlinewidth": 0,
              "ticks": ""
             }
            },
            "type": "scatterpolar"
           }
          ],
          "scatterpolargl": [
           {
            "marker": {
             "colorbar": {
              "outlinewidth": 0,
              "ticks": ""
             }
            },
            "type": "scatterpolargl"
           }
          ],
          "scatterternary": [
           {
            "marker": {
             "colorbar": {
              "outlinewidth": 0,
              "ticks": ""
             }
            },
            "type": "scatterternary"
           }
          ],
          "surface": [
           {
            "colorbar": {
             "outlinewidth": 0,
             "ticks": ""
            },
            "colorscale": [
             [
              0,
              "#0d0887"
             ],
             [
              0.1111111111111111,
              "#46039f"
             ],
             [
              0.2222222222222222,
              "#7201a8"
             ],
             [
              0.3333333333333333,
              "#9c179e"
             ],
             [
              0.4444444444444444,
              "#bd3786"
             ],
             [
              0.5555555555555556,
              "#d8576b"
             ],
             [
              0.6666666666666666,
              "#ed7953"
             ],
             [
              0.7777777777777778,
              "#fb9f3a"
             ],
             [
              0.8888888888888888,
              "#fdca26"
             ],
             [
              1,
              "#f0f921"
             ]
            ],
            "type": "surface"
           }
          ],
          "table": [
           {
            "cells": {
             "fill": {
              "color": "#EBF0F8"
             },
             "line": {
              "color": "white"
             }
            },
            "header": {
             "fill": {
              "color": "#C8D4E3"
             },
             "line": {
              "color": "white"
             }
            },
            "type": "table"
           }
          ]
         },
         "layout": {
          "annotationdefaults": {
           "arrowcolor": "#2a3f5f",
           "arrowhead": 0,
           "arrowwidth": 1
          },
          "autotypenumbers": "strict",
          "coloraxis": {
           "colorbar": {
            "outlinewidth": 0,
            "ticks": ""
           }
          },
          "colorscale": {
           "diverging": [
            [
             0,
             "#8e0152"
            ],
            [
             0.1,
             "#c51b7d"
            ],
            [
             0.2,
             "#de77ae"
            ],
            [
             0.3,
             "#f1b6da"
            ],
            [
             0.4,
             "#fde0ef"
            ],
            [
             0.5,
             "#f7f7f7"
            ],
            [
             0.6,
             "#e6f5d0"
            ],
            [
             0.7,
             "#b8e186"
            ],
            [
             0.8,
             "#7fbc41"
            ],
            [
             0.9,
             "#4d9221"
            ],
            [
             1,
             "#276419"
            ]
           ],
           "sequential": [
            [
             0,
             "#0d0887"
            ],
            [
             0.1111111111111111,
             "#46039f"
            ],
            [
             0.2222222222222222,
             "#7201a8"
            ],
            [
             0.3333333333333333,
             "#9c179e"
            ],
            [
             0.4444444444444444,
             "#bd3786"
            ],
            [
             0.5555555555555556,
             "#d8576b"
            ],
            [
             0.6666666666666666,
             "#ed7953"
            ],
            [
             0.7777777777777778,
             "#fb9f3a"
            ],
            [
             0.8888888888888888,
             "#fdca26"
            ],
            [
             1,
             "#f0f921"
            ]
           ],
           "sequentialminus": [
            [
             0,
             "#0d0887"
            ],
            [
             0.1111111111111111,
             "#46039f"
            ],
            [
             0.2222222222222222,
             "#7201a8"
            ],
            [
             0.3333333333333333,
             "#9c179e"
            ],
            [
             0.4444444444444444,
             "#bd3786"
            ],
            [
             0.5555555555555556,
             "#d8576b"
            ],
            [
             0.6666666666666666,
             "#ed7953"
            ],
            [
             0.7777777777777778,
             "#fb9f3a"
            ],
            [
             0.8888888888888888,
             "#fdca26"
            ],
            [
             1,
             "#f0f921"
            ]
           ]
          },
          "colorway": [
           "#636efa",
           "#EF553B",
           "#00cc96",
           "#ab63fa",
           "#FFA15A",
           "#19d3f3",
           "#FF6692",
           "#B6E880",
           "#FF97FF",
           "#FECB52"
          ],
          "font": {
           "color": "#2a3f5f"
          },
          "geo": {
           "bgcolor": "white",
           "lakecolor": "white",
           "landcolor": "#E5ECF6",
           "showlakes": true,
           "showland": true,
           "subunitcolor": "white"
          },
          "hoverlabel": {
           "align": "left"
          },
          "hovermode": "closest",
          "mapbox": {
           "style": "light"
          },
          "paper_bgcolor": "white",
          "plot_bgcolor": "#E5ECF6",
          "polar": {
           "angularaxis": {
            "gridcolor": "white",
            "linecolor": "white",
            "ticks": ""
           },
           "bgcolor": "#E5ECF6",
           "radialaxis": {
            "gridcolor": "white",
            "linecolor": "white",
            "ticks": ""
           }
          },
          "scene": {
           "xaxis": {
            "backgroundcolor": "#E5ECF6",
            "gridcolor": "white",
            "gridwidth": 2,
            "linecolor": "white",
            "showbackground": true,
            "ticks": "",
            "zerolinecolor": "white"
           },
           "yaxis": {
            "backgroundcolor": "#E5ECF6",
            "gridcolor": "white",
            "gridwidth": 2,
            "linecolor": "white",
            "showbackground": true,
            "ticks": "",
            "zerolinecolor": "white"
           },
           "zaxis": {
            "backgroundcolor": "#E5ECF6",
            "gridcolor": "white",
            "gridwidth": 2,
            "linecolor": "white",
            "showbackground": true,
            "ticks": "",
            "zerolinecolor": "white"
           }
          },
          "shapedefaults": {
           "line": {
            "color": "#2a3f5f"
           }
          },
          "ternary": {
           "aaxis": {
            "gridcolor": "white",
            "linecolor": "white",
            "ticks": ""
           },
           "baxis": {
            "gridcolor": "white",
            "linecolor": "white",
            "ticks": ""
           },
           "bgcolor": "#E5ECF6",
           "caxis": {
            "gridcolor": "white",
            "linecolor": "white",
            "ticks": ""
           }
          },
          "title": {
           "x": 0.05
          },
          "xaxis": {
           "automargin": true,
           "gridcolor": "white",
           "linecolor": "white",
           "ticks": "",
           "title": {
            "standoff": 15
           },
           "zerolinecolor": "white",
           "zerolinewidth": 2
          },
          "yaxis": {
           "automargin": true,
           "gridcolor": "white",
           "linecolor": "white",
           "ticks": "",
           "title": {
            "standoff": 15
           },
           "zerolinecolor": "white",
           "zerolinewidth": 2
          }
         }
        },
        "title": {
         "text": "Platform vs Dominant Emotion Heatmap"
        },
        "xaxis": {
         "anchor": "y",
         "constrain": "domain",
         "domain": [
          0,
          1
         ],
         "scaleanchor": "y",
         "title": {
          "text": "Dominant_Emotion"
         }
        },
        "yaxis": {
         "anchor": "x",
         "autorange": "reversed",
         "constrain": "domain",
         "domain": [
          0,
          1
         ],
         "title": {
          "text": "Platform"
         }
        }
       }
      }
     },
     "metadata": {},
     "output_type": "display_data"
    }
   ],
   "source": [
    "# Create a contingency table\n",
    "contingency_table = pd.crosstab(train_df['Platform'], train_df['Dominant_Emotion'])\n",
    "\n",
    "# Plot the heatmap\n",
    "fig = px.imshow(contingency_table, title='Platform vs Dominant Emotion Heatmap')\n",
    "fig.show()"
   ]
  },
  {
   "cell_type": "markdown",
   "id": "400fd80e",
   "metadata": {},
   "source": [
    "Happy Instagram: Instagram is strongly associated with happiness, as indicated by the bright yellow square, showing a high count of happy interactions.\n",
    "\n",
    "Mixed Emotions: Other platforms show varying levels of emotions, with different shades indicating lower counts of each emotion.\n",
    "\n",
    "Emotional Diversity: The heatmap reveals that each platform elicits a range of emotions, reflecting diverse user experiences."
   ]
  },
  {
   "cell_type": "markdown",
   "id": "d8d8582a",
   "metadata": {
    "papermill": {
     "duration": 0.040739,
     "end_time": "2024-05-23T11:22:55.248748",
     "exception": false,
     "start_time": "2024-05-23T11:22:55.208009",
     "status": "completed"
    },
    "tags": []
   },
   "source": [
    "### Time Spent VS Emotions"
   ]
  },
  {
   "cell_type": "code",
   "execution_count": 54,
   "id": "dff98102",
   "metadata": {
    "execution": {
     "iopub.execute_input": "2024-05-23T11:22:55.333060Z",
     "iopub.status.busy": "2024-05-23T11:22:55.332055Z",
     "iopub.status.idle": "2024-05-23T11:22:55.426793Z",
     "shell.execute_reply": "2024-05-23T11:22:55.425623Z"
    },
    "papermill": {
     "duration": 0.139777,
     "end_time": "2024-05-23T11:22:55.429317",
     "exception": false,
     "start_time": "2024-05-23T11:22:55.289540",
     "status": "completed"
    },
    "tags": []
   },
   "outputs": [
    {
     "data": {
      "application/vnd.plotly.v1+json": {
       "config": {
        "plotlyServerURL": "https://plot.ly"
       },
       "data": [
        {
         "alignmentgroup": "True",
         "hovertemplate": "Dominant_Emotion=%{x}<br>Daily_Usage_Time (minutes)=%{y}<extra></extra>",
         "legendgroup": "Anger",
         "marker": {
          "color": "rgb(102,194,165)",
          "pattern": {
           "shape": ""
          }
         },
         "name": "Anger",
         "offsetgroup": "Anger",
         "orientation": "v",
         "showlegend": true,
         "textposition": "auto",
         "type": "bar",
         "x": [
          "Anger"
         ],
         "xaxis": "x",
         "y": [
          90
         ],
         "yaxis": "y"
        },
        {
         "alignmentgroup": "True",
         "hovertemplate": "Dominant_Emotion=%{x}<br>Daily_Usage_Time (minutes)=%{y}<extra></extra>",
         "legendgroup": "Anxiety",
         "marker": {
          "color": "rgb(252,141,98)",
          "pattern": {
           "shape": ""
          }
         },
         "name": "Anxiety",
         "offsetgroup": "Anxiety",
         "orientation": "v",
         "showlegend": true,
         "textposition": "auto",
         "type": "bar",
         "x": [
          "Anxiety"
         ],
         "xaxis": "x",
         "y": [
          95.58823529411765
         ],
         "yaxis": "y"
        },
        {
         "alignmentgroup": "True",
         "hovertemplate": "Dominant_Emotion=%{x}<br>Daily_Usage_Time (minutes)=%{y}<extra></extra>",
         "legendgroup": "Boredom",
         "marker": {
          "color": "rgb(141,160,203)",
          "pattern": {
           "shape": ""
          }
         },
         "name": "Boredom",
         "offsetgroup": "Boredom",
         "orientation": "v",
         "showlegend": true,
         "textposition": "auto",
         "type": "bar",
         "x": [
          "Boredom"
         ],
         "xaxis": "x",
         "y": [
          63.92857142857143
         ],
         "yaxis": "y"
        },
        {
         "alignmentgroup": "True",
         "hovertemplate": "Dominant_Emotion=%{x}<br>Daily_Usage_Time (minutes)=%{y}<extra></extra>",
         "legendgroup": "Happiness",
         "marker": {
          "color": "rgb(231,138,195)",
          "pattern": {
           "shape": ""
          }
         },
         "name": "Happiness",
         "offsetgroup": "Happiness",
         "orientation": "v",
         "showlegend": true,
         "textposition": "auto",
         "type": "bar",
         "x": [
          "Happiness"
         ],
         "xaxis": "x",
         "y": [
          150.5
         ],
         "yaxis": "y"
        },
        {
         "alignmentgroup": "True",
         "hovertemplate": "Dominant_Emotion=%{x}<br>Daily_Usage_Time (minutes)=%{y}<extra></extra>",
         "legendgroup": "Neutral",
         "marker": {
          "color": "rgb(166,216,84)",
          "pattern": {
           "shape": ""
          }
         },
         "name": "Neutral",
         "offsetgroup": "Neutral",
         "orientation": "v",
         "showlegend": true,
         "textposition": "auto",
         "type": "bar",
         "x": [
          "Neutral"
         ],
         "xaxis": "x",
         "y": [
          77.75
         ],
         "yaxis": "y"
        },
        {
         "alignmentgroup": "True",
         "hovertemplate": "Dominant_Emotion=%{x}<br>Daily_Usage_Time (minutes)=%{y}<extra></extra>",
         "legendgroup": "Sadness",
         "marker": {
          "color": "rgb(255,217,47)",
          "pattern": {
           "shape": ""
          }
         },
         "name": "Sadness",
         "offsetgroup": "Sadness",
         "orientation": "v",
         "showlegend": true,
         "textposition": "auto",
         "type": "bar",
         "x": [
          "Sadness"
         ],
         "xaxis": "x",
         "y": [
          83.75
         ],
         "yaxis": "y"
        }
       ],
       "layout": {
        "barmode": "relative",
        "legend": {
         "title": {
          "text": "Dominant_Emotion"
         },
         "tracegroupgap": 0
        },
        "template": {
         "data": {
          "bar": [
           {
            "error_x": {
             "color": "#2a3f5f"
            },
            "error_y": {
             "color": "#2a3f5f"
            },
            "marker": {
             "line": {
              "color": "#E5ECF6",
              "width": 0.5
             },
             "pattern": {
              "fillmode": "overlay",
              "size": 10,
              "solidity": 0.2
             }
            },
            "type": "bar"
           }
          ],
          "barpolar": [
           {
            "marker": {
             "line": {
              "color": "#E5ECF6",
              "width": 0.5
             },
             "pattern": {
              "fillmode": "overlay",
              "size": 10,
              "solidity": 0.2
             }
            },
            "type": "barpolar"
           }
          ],
          "carpet": [
           {
            "aaxis": {
             "endlinecolor": "#2a3f5f",
             "gridcolor": "white",
             "linecolor": "white",
             "minorgridcolor": "white",
             "startlinecolor": "#2a3f5f"
            },
            "baxis": {
             "endlinecolor": "#2a3f5f",
             "gridcolor": "white",
             "linecolor": "white",
             "minorgridcolor": "white",
             "startlinecolor": "#2a3f5f"
            },
            "type": "carpet"
           }
          ],
          "choropleth": [
           {
            "colorbar": {
             "outlinewidth": 0,
             "ticks": ""
            },
            "type": "choropleth"
           }
          ],
          "contour": [
           {
            "colorbar": {
             "outlinewidth": 0,
             "ticks": ""
            },
            "colorscale": [
             [
              0,
              "#0d0887"
             ],
             [
              0.1111111111111111,
              "#46039f"
             ],
             [
              0.2222222222222222,
              "#7201a8"
             ],
             [
              0.3333333333333333,
              "#9c179e"
             ],
             [
              0.4444444444444444,
              "#bd3786"
             ],
             [
              0.5555555555555556,
              "#d8576b"
             ],
             [
              0.6666666666666666,
              "#ed7953"
             ],
             [
              0.7777777777777778,
              "#fb9f3a"
             ],
             [
              0.8888888888888888,
              "#fdca26"
             ],
             [
              1,
              "#f0f921"
             ]
            ],
            "type": "contour"
           }
          ],
          "contourcarpet": [
           {
            "colorbar": {
             "outlinewidth": 0,
             "ticks": ""
            },
            "type": "contourcarpet"
           }
          ],
          "heatmap": [
           {
            "colorbar": {
             "outlinewidth": 0,
             "ticks": ""
            },
            "colorscale": [
             [
              0,
              "#0d0887"
             ],
             [
              0.1111111111111111,
              "#46039f"
             ],
             [
              0.2222222222222222,
              "#7201a8"
             ],
             [
              0.3333333333333333,
              "#9c179e"
             ],
             [
              0.4444444444444444,
              "#bd3786"
             ],
             [
              0.5555555555555556,
              "#d8576b"
             ],
             [
              0.6666666666666666,
              "#ed7953"
             ],
             [
              0.7777777777777778,
              "#fb9f3a"
             ],
             [
              0.8888888888888888,
              "#fdca26"
             ],
             [
              1,
              "#f0f921"
             ]
            ],
            "type": "heatmap"
           }
          ],
          "heatmapgl": [
           {
            "colorbar": {
             "outlinewidth": 0,
             "ticks": ""
            },
            "colorscale": [
             [
              0,
              "#0d0887"
             ],
             [
              0.1111111111111111,
              "#46039f"
             ],
             [
              0.2222222222222222,
              "#7201a8"
             ],
             [
              0.3333333333333333,
              "#9c179e"
             ],
             [
              0.4444444444444444,
              "#bd3786"
             ],
             [
              0.5555555555555556,
              "#d8576b"
             ],
             [
              0.6666666666666666,
              "#ed7953"
             ],
             [
              0.7777777777777778,
              "#fb9f3a"
             ],
             [
              0.8888888888888888,
              "#fdca26"
             ],
             [
              1,
              "#f0f921"
             ]
            ],
            "type": "heatmapgl"
           }
          ],
          "histogram": [
           {
            "marker": {
             "pattern": {
              "fillmode": "overlay",
              "size": 10,
              "solidity": 0.2
             }
            },
            "type": "histogram"
           }
          ],
          "histogram2d": [
           {
            "colorbar": {
             "outlinewidth": 0,
             "ticks": ""
            },
            "colorscale": [
             [
              0,
              "#0d0887"
             ],
             [
              0.1111111111111111,
              "#46039f"
             ],
             [
              0.2222222222222222,
              "#7201a8"
             ],
             [
              0.3333333333333333,
              "#9c179e"
             ],
             [
              0.4444444444444444,
              "#bd3786"
             ],
             [
              0.5555555555555556,
              "#d8576b"
             ],
             [
              0.6666666666666666,
              "#ed7953"
             ],
             [
              0.7777777777777778,
              "#fb9f3a"
             ],
             [
              0.8888888888888888,
              "#fdca26"
             ],
             [
              1,
              "#f0f921"
             ]
            ],
            "type": "histogram2d"
           }
          ],
          "histogram2dcontour": [
           {
            "colorbar": {
             "outlinewidth": 0,
             "ticks": ""
            },
            "colorscale": [
             [
              0,
              "#0d0887"
             ],
             [
              0.1111111111111111,
              "#46039f"
             ],
             [
              0.2222222222222222,
              "#7201a8"
             ],
             [
              0.3333333333333333,
              "#9c179e"
             ],
             [
              0.4444444444444444,
              "#bd3786"
             ],
             [
              0.5555555555555556,
              "#d8576b"
             ],
             [
              0.6666666666666666,
              "#ed7953"
             ],
             [
              0.7777777777777778,
              "#fb9f3a"
             ],
             [
              0.8888888888888888,
              "#fdca26"
             ],
             [
              1,
              "#f0f921"
             ]
            ],
            "type": "histogram2dcontour"
           }
          ],
          "mesh3d": [
           {
            "colorbar": {
             "outlinewidth": 0,
             "ticks": ""
            },
            "type": "mesh3d"
           }
          ],
          "parcoords": [
           {
            "line": {
             "colorbar": {
              "outlinewidth": 0,
              "ticks": ""
             }
            },
            "type": "parcoords"
           }
          ],
          "pie": [
           {
            "automargin": true,
            "type": "pie"
           }
          ],
          "scatter": [
           {
            "fillpattern": {
             "fillmode": "overlay",
             "size": 10,
             "solidity": 0.2
            },
            "type": "scatter"
           }
          ],
          "scatter3d": [
           {
            "line": {
             "colorbar": {
              "outlinewidth": 0,
              "ticks": ""
             }
            },
            "marker": {
             "colorbar": {
              "outlinewidth": 0,
              "ticks": ""
             }
            },
            "type": "scatter3d"
           }
          ],
          "scattercarpet": [
           {
            "marker": {
             "colorbar": {
              "outlinewidth": 0,
              "ticks": ""
             }
            },
            "type": "scattercarpet"
           }
          ],
          "scattergeo": [
           {
            "marker": {
             "colorbar": {
              "outlinewidth": 0,
              "ticks": ""
             }
            },
            "type": "scattergeo"
           }
          ],
          "scattergl": [
           {
            "marker": {
             "colorbar": {
              "outlinewidth": 0,
              "ticks": ""
             }
            },
            "type": "scattergl"
           }
          ],
          "scattermapbox": [
           {
            "marker": {
             "colorbar": {
              "outlinewidth": 0,
              "ticks": ""
             }
            },
            "type": "scattermapbox"
           }
          ],
          "scatterpolar": [
           {
            "marker": {
             "colorbar": {
              "outlinewidth": 0,
              "ticks": ""
             }
            },
            "type": "scatterpolar"
           }
          ],
          "scatterpolargl": [
           {
            "marker": {
             "colorbar": {
              "outlinewidth": 0,
              "ticks": ""
             }
            },
            "type": "scatterpolargl"
           }
          ],
          "scatterternary": [
           {
            "marker": {
             "colorbar": {
              "outlinewidth": 0,
              "ticks": ""
             }
            },
            "type": "scatterternary"
           }
          ],
          "surface": [
           {
            "colorbar": {
             "outlinewidth": 0,
             "ticks": ""
            },
            "colorscale": [
             [
              0,
              "#0d0887"
             ],
             [
              0.1111111111111111,
              "#46039f"
             ],
             [
              0.2222222222222222,
              "#7201a8"
             ],
             [
              0.3333333333333333,
              "#9c179e"
             ],
             [
              0.4444444444444444,
              "#bd3786"
             ],
             [
              0.5555555555555556,
              "#d8576b"
             ],
             [
              0.6666666666666666,
              "#ed7953"
             ],
             [
              0.7777777777777778,
              "#fb9f3a"
             ],
             [
              0.8888888888888888,
              "#fdca26"
             ],
             [
              1,
              "#f0f921"
             ]
            ],
            "type": "surface"
           }
          ],
          "table": [
           {
            "cells": {
             "fill": {
              "color": "#EBF0F8"
             },
             "line": {
              "color": "white"
             }
            },
            "header": {
             "fill": {
              "color": "#C8D4E3"
             },
             "line": {
              "color": "white"
             }
            },
            "type": "table"
           }
          ]
         },
         "layout": {
          "annotationdefaults": {
           "arrowcolor": "#2a3f5f",
           "arrowhead": 0,
           "arrowwidth": 1
          },
          "autotypenumbers": "strict",
          "coloraxis": {
           "colorbar": {
            "outlinewidth": 0,
            "ticks": ""
           }
          },
          "colorscale": {
           "diverging": [
            [
             0,
             "#8e0152"
            ],
            [
             0.1,
             "#c51b7d"
            ],
            [
             0.2,
             "#de77ae"
            ],
            [
             0.3,
             "#f1b6da"
            ],
            [
             0.4,
             "#fde0ef"
            ],
            [
             0.5,
             "#f7f7f7"
            ],
            [
             0.6,
             "#e6f5d0"
            ],
            [
             0.7,
             "#b8e186"
            ],
            [
             0.8,
             "#7fbc41"
            ],
            [
             0.9,
             "#4d9221"
            ],
            [
             1,
             "#276419"
            ]
           ],
           "sequential": [
            [
             0,
             "#0d0887"
            ],
            [
             0.1111111111111111,
             "#46039f"
            ],
            [
             0.2222222222222222,
             "#7201a8"
            ],
            [
             0.3333333333333333,
             "#9c179e"
            ],
            [
             0.4444444444444444,
             "#bd3786"
            ],
            [
             0.5555555555555556,
             "#d8576b"
            ],
            [
             0.6666666666666666,
             "#ed7953"
            ],
            [
             0.7777777777777778,
             "#fb9f3a"
            ],
            [
             0.8888888888888888,
             "#fdca26"
            ],
            [
             1,
             "#f0f921"
            ]
           ],
           "sequentialminus": [
            [
             0,
             "#0d0887"
            ],
            [
             0.1111111111111111,
             "#46039f"
            ],
            [
             0.2222222222222222,
             "#7201a8"
            ],
            [
             0.3333333333333333,
             "#9c179e"
            ],
            [
             0.4444444444444444,
             "#bd3786"
            ],
            [
             0.5555555555555556,
             "#d8576b"
            ],
            [
             0.6666666666666666,
             "#ed7953"
            ],
            [
             0.7777777777777778,
             "#fb9f3a"
            ],
            [
             0.8888888888888888,
             "#fdca26"
            ],
            [
             1,
             "#f0f921"
            ]
           ]
          },
          "colorway": [
           "#636efa",
           "#EF553B",
           "#00cc96",
           "#ab63fa",
           "#FFA15A",
           "#19d3f3",
           "#FF6692",
           "#B6E880",
           "#FF97FF",
           "#FECB52"
          ],
          "font": {
           "color": "#2a3f5f"
          },
          "geo": {
           "bgcolor": "white",
           "lakecolor": "white",
           "landcolor": "#E5ECF6",
           "showlakes": true,
           "showland": true,
           "subunitcolor": "white"
          },
          "hoverlabel": {
           "align": "left"
          },
          "hovermode": "closest",
          "mapbox": {
           "style": "light"
          },
          "paper_bgcolor": "white",
          "plot_bgcolor": "#E5ECF6",
          "polar": {
           "angularaxis": {
            "gridcolor": "white",
            "linecolor": "white",
            "ticks": ""
           },
           "bgcolor": "#E5ECF6",
           "radialaxis": {
            "gridcolor": "white",
            "linecolor": "white",
            "ticks": ""
           }
          },
          "scene": {
           "xaxis": {
            "backgroundcolor": "#E5ECF6",
            "gridcolor": "white",
            "gridwidth": 2,
            "linecolor": "white",
            "showbackground": true,
            "ticks": "",
            "zerolinecolor": "white"
           },
           "yaxis": {
            "backgroundcolor": "#E5ECF6",
            "gridcolor": "white",
            "gridwidth": 2,
            "linecolor": "white",
            "showbackground": true,
            "ticks": "",
            "zerolinecolor": "white"
           },
           "zaxis": {
            "backgroundcolor": "#E5ECF6",
            "gridcolor": "white",
            "gridwidth": 2,
            "linecolor": "white",
            "showbackground": true,
            "ticks": "",
            "zerolinecolor": "white"
           }
          },
          "shapedefaults": {
           "line": {
            "color": "#2a3f5f"
           }
          },
          "ternary": {
           "aaxis": {
            "gridcolor": "white",
            "linecolor": "white",
            "ticks": ""
           },
           "baxis": {
            "gridcolor": "white",
            "linecolor": "white",
            "ticks": ""
           },
           "bgcolor": "#E5ECF6",
           "caxis": {
            "gridcolor": "white",
            "linecolor": "white",
            "ticks": ""
           }
          },
          "title": {
           "x": 0.05
          },
          "xaxis": {
           "automargin": true,
           "gridcolor": "white",
           "linecolor": "white",
           "ticks": "",
           "title": {
            "standoff": 15
           },
           "zerolinecolor": "white",
           "zerolinewidth": 2
          },
          "yaxis": {
           "automargin": true,
           "gridcolor": "white",
           "linecolor": "white",
           "ticks": "",
           "title": {
            "standoff": 15
           },
           "zerolinecolor": "white",
           "zerolinewidth": 2
          }
         }
        },
        "title": {
         "text": "Average Daily Usage Time by Dominant Emotion"
        },
        "xaxis": {
         "anchor": "y",
         "categoryarray": [
          "Anger",
          "Anxiety",
          "Boredom",
          "Happiness",
          "Neutral",
          "Sadness"
         ],
         "categoryorder": "array",
         "domain": [
          0,
          1
         ],
         "title": {
          "text": "Dominant_Emotion"
         }
        },
        "yaxis": {
         "anchor": "x",
         "domain": [
          0,
          1
         ],
         "title": {
          "text": "Daily_Usage_Time (minutes)"
         }
        }
       }
      }
     },
     "metadata": {},
     "output_type": "display_data"
    }
   ],
   "source": [
    "import plotly.express as px\n",
    "\n",
    "# Aggregate data by Dominant_Emotion and calculate the average Daily Usage Time\n",
    "aggregated_data = train_df.groupby('Dominant_Emotion')['Daily_Usage_Time (minutes)'].mean().reset_index()\n",
    "\n",
    "# Create a bar plot to show the average daily usage time by dominant emotion\n",
    "plt = px.bar(aggregated_data, \n",
    "             x='Dominant_Emotion', \n",
    "             y='Daily_Usage_Time (minutes)', \n",
    "             title='Average Daily Usage Time by Dominant Emotion',\n",
    "             color='Dominant_Emotion',  # Color by dominant emotion for clarity\n",
    "             color_discrete_sequence=px.colors.qualitative.Set2)  # Choose a pleasing color palette\n",
    "\n",
    "plt.show()\n"
   ]
  },
  {
   "cell_type": "markdown",
   "id": "13205a25",
   "metadata": {},
   "source": [
    "Emotion & Usage: Happiness has the highest average daily usage time (~150 minutes), indicating users engage more when they are happy.\n",
    "\n",
    "Consistent Usage: Anger and Anxiety are next, both around 100 minutes, suggesting significant engagement even when experiencing negative emotions.\n",
    "\n",
    "Lesser Usage: Boredom has the lowest daily usage (~75 minutes), showing reduced engagement during this state."
   ]
  },
  {
   "cell_type": "markdown",
   "id": "a8dcdea8",
   "metadata": {
    "papermill": {
     "duration": 0.041206,
     "end_time": "2024-05-23T11:22:55.512323",
     "exception": false,
     "start_time": "2024-05-23T11:22:55.471117",
     "status": "completed"
    },
    "tags": []
   },
   "source": [
    "### Likes Received VS Emotions\n",
    "* This is the last realation I'll be looking in this data."
   ]
  },
  {
   "cell_type": "code",
   "execution_count": 55,
   "id": "95e6a2fa",
   "metadata": {
    "execution": {
     "iopub.execute_input": "2024-05-23T11:22:55.600500Z",
     "iopub.status.busy": "2024-05-23T11:22:55.600070Z",
     "iopub.status.idle": "2024-05-23T11:22:55.698861Z",
     "shell.execute_reply": "2024-05-23T11:22:55.697857Z"
    },
    "papermill": {
     "duration": 0.144931,
     "end_time": "2024-05-23T11:22:55.701496",
     "exception": false,
     "start_time": "2024-05-23T11:22:55.556565",
     "status": "completed"
    },
    "tags": []
   },
   "outputs": [
    {
     "data": {
      "application/vnd.plotly.v1+json": {
       "config": {
        "plotlyServerURL": "https://plot.ly"
       },
       "data": [
        {
         "alignmentgroup": "True",
         "hovertemplate": "Dominant_Emotion=%{x}<br>Likes_Received_Per_Day=%{y}<extra></extra>",
         "legendgroup": "Anger",
         "marker": {
          "color": "rgb(102,194,165)",
          "pattern": {
           "shape": ""
          }
         },
         "name": "Anger",
         "offsetgroup": "Anger",
         "orientation": "v",
         "showlegend": true,
         "textposition": "auto",
         "type": "bar",
         "x": [
          "Anger"
         ],
         "xaxis": "x",
         "y": [
          38.19230769230769
         ],
         "yaxis": "y"
        },
        {
         "alignmentgroup": "True",
         "hovertemplate": "Dominant_Emotion=%{x}<br>Likes_Received_Per_Day=%{y}<extra></extra>",
         "legendgroup": "Anxiety",
         "marker": {
          "color": "rgb(252,141,98)",
          "pattern": {
           "shape": ""
          }
         },
         "name": "Anxiety",
         "offsetgroup": "Anxiety",
         "orientation": "v",
         "showlegend": true,
         "textposition": "auto",
         "type": "bar",
         "x": [
          "Anxiety"
         ],
         "xaxis": "x",
         "y": [
          40.082352941176474
         ],
         "yaxis": "y"
        },
        {
         "alignmentgroup": "True",
         "hovertemplate": "Dominant_Emotion=%{x}<br>Likes_Received_Per_Day=%{y}<extra></extra>",
         "legendgroup": "Boredom",
         "marker": {
          "color": "rgb(141,160,203)",
          "pattern": {
           "shape": ""
          }
         },
         "name": "Boredom",
         "offsetgroup": "Boredom",
         "orientation": "v",
         "showlegend": true,
         "textposition": "auto",
         "type": "bar",
         "x": [
          "Boredom"
         ],
         "xaxis": "x",
         "y": [
          15.407142857142857
         ],
         "yaxis": "y"
        },
        {
         "alignmentgroup": "True",
         "hovertemplate": "Dominant_Emotion=%{x}<br>Likes_Received_Per_Day=%{y}<extra></extra>",
         "legendgroup": "Happiness",
         "marker": {
          "color": "rgb(231,138,195)",
          "pattern": {
           "shape": ""
          }
         },
         "name": "Happiness",
         "offsetgroup": "Happiness",
         "orientation": "v",
         "showlegend": true,
         "textposition": "auto",
         "type": "bar",
         "x": [
          "Happiness"
         ],
         "xaxis": "x",
         "y": [
          75.39303482587064
         ],
         "yaxis": "y"
        },
        {
         "alignmentgroup": "True",
         "hovertemplate": "Dominant_Emotion=%{x}<br>Likes_Received_Per_Day=%{y}<extra></extra>",
         "legendgroup": "Neutral",
         "marker": {
          "color": "rgb(166,216,84)",
          "pattern": {
           "shape": ""
          }
         },
         "name": "Neutral",
         "offsetgroup": "Neutral",
         "orientation": "v",
         "showlegend": true,
         "textposition": "auto",
         "type": "bar",
         "x": [
          "Neutral"
         ],
         "xaxis": "x",
         "y": [
          27.75
         ],
         "yaxis": "y"
        },
        {
         "alignmentgroup": "True",
         "hovertemplate": "Dominant_Emotion=%{x}<br>Likes_Received_Per_Day=%{y}<extra></extra>",
         "legendgroup": "Sadness",
         "marker": {
          "color": "rgb(255,217,47)",
          "pattern": {
           "shape": ""
          }
         },
         "name": "Sadness",
         "offsetgroup": "Sadness",
         "orientation": "v",
         "showlegend": true,
         "textposition": "auto",
         "type": "bar",
         "x": [
          "Sadness"
         ],
         "xaxis": "x",
         "y": [
          33.05
         ],
         "yaxis": "y"
        }
       ],
       "layout": {
        "barmode": "relative",
        "legend": {
         "title": {
          "text": "Dominant_Emotion"
         },
         "tracegroupgap": 0
        },
        "template": {
         "data": {
          "bar": [
           {
            "error_x": {
             "color": "#2a3f5f"
            },
            "error_y": {
             "color": "#2a3f5f"
            },
            "marker": {
             "line": {
              "color": "#E5ECF6",
              "width": 0.5
             },
             "pattern": {
              "fillmode": "overlay",
              "size": 10,
              "solidity": 0.2
             }
            },
            "type": "bar"
           }
          ],
          "barpolar": [
           {
            "marker": {
             "line": {
              "color": "#E5ECF6",
              "width": 0.5
             },
             "pattern": {
              "fillmode": "overlay",
              "size": 10,
              "solidity": 0.2
             }
            },
            "type": "barpolar"
           }
          ],
          "carpet": [
           {
            "aaxis": {
             "endlinecolor": "#2a3f5f",
             "gridcolor": "white",
             "linecolor": "white",
             "minorgridcolor": "white",
             "startlinecolor": "#2a3f5f"
            },
            "baxis": {
             "endlinecolor": "#2a3f5f",
             "gridcolor": "white",
             "linecolor": "white",
             "minorgridcolor": "white",
             "startlinecolor": "#2a3f5f"
            },
            "type": "carpet"
           }
          ],
          "choropleth": [
           {
            "colorbar": {
             "outlinewidth": 0,
             "ticks": ""
            },
            "type": "choropleth"
           }
          ],
          "contour": [
           {
            "colorbar": {
             "outlinewidth": 0,
             "ticks": ""
            },
            "colorscale": [
             [
              0,
              "#0d0887"
             ],
             [
              0.1111111111111111,
              "#46039f"
             ],
             [
              0.2222222222222222,
              "#7201a8"
             ],
             [
              0.3333333333333333,
              "#9c179e"
             ],
             [
              0.4444444444444444,
              "#bd3786"
             ],
             [
              0.5555555555555556,
              "#d8576b"
             ],
             [
              0.6666666666666666,
              "#ed7953"
             ],
             [
              0.7777777777777778,
              "#fb9f3a"
             ],
             [
              0.8888888888888888,
              "#fdca26"
             ],
             [
              1,
              "#f0f921"
             ]
            ],
            "type": "contour"
           }
          ],
          "contourcarpet": [
           {
            "colorbar": {
             "outlinewidth": 0,
             "ticks": ""
            },
            "type": "contourcarpet"
           }
          ],
          "heatmap": [
           {
            "colorbar": {
             "outlinewidth": 0,
             "ticks": ""
            },
            "colorscale": [
             [
              0,
              "#0d0887"
             ],
             [
              0.1111111111111111,
              "#46039f"
             ],
             [
              0.2222222222222222,
              "#7201a8"
             ],
             [
              0.3333333333333333,
              "#9c179e"
             ],
             [
              0.4444444444444444,
              "#bd3786"
             ],
             [
              0.5555555555555556,
              "#d8576b"
             ],
             [
              0.6666666666666666,
              "#ed7953"
             ],
             [
              0.7777777777777778,
              "#fb9f3a"
             ],
             [
              0.8888888888888888,
              "#fdca26"
             ],
             [
              1,
              "#f0f921"
             ]
            ],
            "type": "heatmap"
           }
          ],
          "heatmapgl": [
           {
            "colorbar": {
             "outlinewidth": 0,
             "ticks": ""
            },
            "colorscale": [
             [
              0,
              "#0d0887"
             ],
             [
              0.1111111111111111,
              "#46039f"
             ],
             [
              0.2222222222222222,
              "#7201a8"
             ],
             [
              0.3333333333333333,
              "#9c179e"
             ],
             [
              0.4444444444444444,
              "#bd3786"
             ],
             [
              0.5555555555555556,
              "#d8576b"
             ],
             [
              0.6666666666666666,
              "#ed7953"
             ],
             [
              0.7777777777777778,
              "#fb9f3a"
             ],
             [
              0.8888888888888888,
              "#fdca26"
             ],
             [
              1,
              "#f0f921"
             ]
            ],
            "type": "heatmapgl"
           }
          ],
          "histogram": [
           {
            "marker": {
             "pattern": {
              "fillmode": "overlay",
              "size": 10,
              "solidity": 0.2
             }
            },
            "type": "histogram"
           }
          ],
          "histogram2d": [
           {
            "colorbar": {
             "outlinewidth": 0,
             "ticks": ""
            },
            "colorscale": [
             [
              0,
              "#0d0887"
             ],
             [
              0.1111111111111111,
              "#46039f"
             ],
             [
              0.2222222222222222,
              "#7201a8"
             ],
             [
              0.3333333333333333,
              "#9c179e"
             ],
             [
              0.4444444444444444,
              "#bd3786"
             ],
             [
              0.5555555555555556,
              "#d8576b"
             ],
             [
              0.6666666666666666,
              "#ed7953"
             ],
             [
              0.7777777777777778,
              "#fb9f3a"
             ],
             [
              0.8888888888888888,
              "#fdca26"
             ],
             [
              1,
              "#f0f921"
             ]
            ],
            "type": "histogram2d"
           }
          ],
          "histogram2dcontour": [
           {
            "colorbar": {
             "outlinewidth": 0,
             "ticks": ""
            },
            "colorscale": [
             [
              0,
              "#0d0887"
             ],
             [
              0.1111111111111111,
              "#46039f"
             ],
             [
              0.2222222222222222,
              "#7201a8"
             ],
             [
              0.3333333333333333,
              "#9c179e"
             ],
             [
              0.4444444444444444,
              "#bd3786"
             ],
             [
              0.5555555555555556,
              "#d8576b"
             ],
             [
              0.6666666666666666,
              "#ed7953"
             ],
             [
              0.7777777777777778,
              "#fb9f3a"
             ],
             [
              0.8888888888888888,
              "#fdca26"
             ],
             [
              1,
              "#f0f921"
             ]
            ],
            "type": "histogram2dcontour"
           }
          ],
          "mesh3d": [
           {
            "colorbar": {
             "outlinewidth": 0,
             "ticks": ""
            },
            "type": "mesh3d"
           }
          ],
          "parcoords": [
           {
            "line": {
             "colorbar": {
              "outlinewidth": 0,
              "ticks": ""
             }
            },
            "type": "parcoords"
           }
          ],
          "pie": [
           {
            "automargin": true,
            "type": "pie"
           }
          ],
          "scatter": [
           {
            "fillpattern": {
             "fillmode": "overlay",
             "size": 10,
             "solidity": 0.2
            },
            "type": "scatter"
           }
          ],
          "scatter3d": [
           {
            "line": {
             "colorbar": {
              "outlinewidth": 0,
              "ticks": ""
             }
            },
            "marker": {
             "colorbar": {
              "outlinewidth": 0,
              "ticks": ""
             }
            },
            "type": "scatter3d"
           }
          ],
          "scattercarpet": [
           {
            "marker": {
             "colorbar": {
              "outlinewidth": 0,
              "ticks": ""
             }
            },
            "type": "scattercarpet"
           }
          ],
          "scattergeo": [
           {
            "marker": {
             "colorbar": {
              "outlinewidth": 0,
              "ticks": ""
             }
            },
            "type": "scattergeo"
           }
          ],
          "scattergl": [
           {
            "marker": {
             "colorbar": {
              "outlinewidth": 0,
              "ticks": ""
             }
            },
            "type": "scattergl"
           }
          ],
          "scattermapbox": [
           {
            "marker": {
             "colorbar": {
              "outlinewidth": 0,
              "ticks": ""
             }
            },
            "type": "scattermapbox"
           }
          ],
          "scatterpolar": [
           {
            "marker": {
             "colorbar": {
              "outlinewidth": 0,
              "ticks": ""
             }
            },
            "type": "scatterpolar"
           }
          ],
          "scatterpolargl": [
           {
            "marker": {
             "colorbar": {
              "outlinewidth": 0,
              "ticks": ""
             }
            },
            "type": "scatterpolargl"
           }
          ],
          "scatterternary": [
           {
            "marker": {
             "colorbar": {
              "outlinewidth": 0,
              "ticks": ""
             }
            },
            "type": "scatterternary"
           }
          ],
          "surface": [
           {
            "colorbar": {
             "outlinewidth": 0,
             "ticks": ""
            },
            "colorscale": [
             [
              0,
              "#0d0887"
             ],
             [
              0.1111111111111111,
              "#46039f"
             ],
             [
              0.2222222222222222,
              "#7201a8"
             ],
             [
              0.3333333333333333,
              "#9c179e"
             ],
             [
              0.4444444444444444,
              "#bd3786"
             ],
             [
              0.5555555555555556,
              "#d8576b"
             ],
             [
              0.6666666666666666,
              "#ed7953"
             ],
             [
              0.7777777777777778,
              "#fb9f3a"
             ],
             [
              0.8888888888888888,
              "#fdca26"
             ],
             [
              1,
              "#f0f921"
             ]
            ],
            "type": "surface"
           }
          ],
          "table": [
           {
            "cells": {
             "fill": {
              "color": "#EBF0F8"
             },
             "line": {
              "color": "white"
             }
            },
            "header": {
             "fill": {
              "color": "#C8D4E3"
             },
             "line": {
              "color": "white"
             }
            },
            "type": "table"
           }
          ]
         },
         "layout": {
          "annotationdefaults": {
           "arrowcolor": "#2a3f5f",
           "arrowhead": 0,
           "arrowwidth": 1
          },
          "autotypenumbers": "strict",
          "coloraxis": {
           "colorbar": {
            "outlinewidth": 0,
            "ticks": ""
           }
          },
          "colorscale": {
           "diverging": [
            [
             0,
             "#8e0152"
            ],
            [
             0.1,
             "#c51b7d"
            ],
            [
             0.2,
             "#de77ae"
            ],
            [
             0.3,
             "#f1b6da"
            ],
            [
             0.4,
             "#fde0ef"
            ],
            [
             0.5,
             "#f7f7f7"
            ],
            [
             0.6,
             "#e6f5d0"
            ],
            [
             0.7,
             "#b8e186"
            ],
            [
             0.8,
             "#7fbc41"
            ],
            [
             0.9,
             "#4d9221"
            ],
            [
             1,
             "#276419"
            ]
           ],
           "sequential": [
            [
             0,
             "#0d0887"
            ],
            [
             0.1111111111111111,
             "#46039f"
            ],
            [
             0.2222222222222222,
             "#7201a8"
            ],
            [
             0.3333333333333333,
             "#9c179e"
            ],
            [
             0.4444444444444444,
             "#bd3786"
            ],
            [
             0.5555555555555556,
             "#d8576b"
            ],
            [
             0.6666666666666666,
             "#ed7953"
            ],
            [
             0.7777777777777778,
             "#fb9f3a"
            ],
            [
             0.8888888888888888,
             "#fdca26"
            ],
            [
             1,
             "#f0f921"
            ]
           ],
           "sequentialminus": [
            [
             0,
             "#0d0887"
            ],
            [
             0.1111111111111111,
             "#46039f"
            ],
            [
             0.2222222222222222,
             "#7201a8"
            ],
            [
             0.3333333333333333,
             "#9c179e"
            ],
            [
             0.4444444444444444,
             "#bd3786"
            ],
            [
             0.5555555555555556,
             "#d8576b"
            ],
            [
             0.6666666666666666,
             "#ed7953"
            ],
            [
             0.7777777777777778,
             "#fb9f3a"
            ],
            [
             0.8888888888888888,
             "#fdca26"
            ],
            [
             1,
             "#f0f921"
            ]
           ]
          },
          "colorway": [
           "#636efa",
           "#EF553B",
           "#00cc96",
           "#ab63fa",
           "#FFA15A",
           "#19d3f3",
           "#FF6692",
           "#B6E880",
           "#FF97FF",
           "#FECB52"
          ],
          "font": {
           "color": "#2a3f5f"
          },
          "geo": {
           "bgcolor": "white",
           "lakecolor": "white",
           "landcolor": "#E5ECF6",
           "showlakes": true,
           "showland": true,
           "subunitcolor": "white"
          },
          "hoverlabel": {
           "align": "left"
          },
          "hovermode": "closest",
          "mapbox": {
           "style": "light"
          },
          "paper_bgcolor": "white",
          "plot_bgcolor": "#E5ECF6",
          "polar": {
           "angularaxis": {
            "gridcolor": "white",
            "linecolor": "white",
            "ticks": ""
           },
           "bgcolor": "#E5ECF6",
           "radialaxis": {
            "gridcolor": "white",
            "linecolor": "white",
            "ticks": ""
           }
          },
          "scene": {
           "xaxis": {
            "backgroundcolor": "#E5ECF6",
            "gridcolor": "white",
            "gridwidth": 2,
            "linecolor": "white",
            "showbackground": true,
            "ticks": "",
            "zerolinecolor": "white"
           },
           "yaxis": {
            "backgroundcolor": "#E5ECF6",
            "gridcolor": "white",
            "gridwidth": 2,
            "linecolor": "white",
            "showbackground": true,
            "ticks": "",
            "zerolinecolor": "white"
           },
           "zaxis": {
            "backgroundcolor": "#E5ECF6",
            "gridcolor": "white",
            "gridwidth": 2,
            "linecolor": "white",
            "showbackground": true,
            "ticks": "",
            "zerolinecolor": "white"
           }
          },
          "shapedefaults": {
           "line": {
            "color": "#2a3f5f"
           }
          },
          "ternary": {
           "aaxis": {
            "gridcolor": "white",
            "linecolor": "white",
            "ticks": ""
           },
           "baxis": {
            "gridcolor": "white",
            "linecolor": "white",
            "ticks": ""
           },
           "bgcolor": "#E5ECF6",
           "caxis": {
            "gridcolor": "white",
            "linecolor": "white",
            "ticks": ""
           }
          },
          "title": {
           "x": 0.05
          },
          "xaxis": {
           "automargin": true,
           "gridcolor": "white",
           "linecolor": "white",
           "ticks": "",
           "title": {
            "standoff": 15
           },
           "zerolinecolor": "white",
           "zerolinewidth": 2
          },
          "yaxis": {
           "automargin": true,
           "gridcolor": "white",
           "linecolor": "white",
           "ticks": "",
           "title": {
            "standoff": 15
           },
           "zerolinecolor": "white",
           "zerolinewidth": 2
          }
         }
        },
        "title": {
         "text": "Average Likes Received Per Day by Dominant Emotion"
        },
        "xaxis": {
         "anchor": "y",
         "categoryarray": [
          "Anger",
          "Anxiety",
          "Boredom",
          "Happiness",
          "Neutral",
          "Sadness"
         ],
         "categoryorder": "array",
         "domain": [
          0,
          1
         ],
         "title": {
          "text": "Dominant_Emotion"
         }
        },
        "yaxis": {
         "anchor": "x",
         "domain": [
          0,
          1
         ],
         "title": {
          "text": "Likes_Received_Per_Day"
         }
        }
       }
      }
     },
     "metadata": {},
     "output_type": "display_data"
    }
   ],
   "source": [
    "import plotly.express as px\n",
    "\n",
    "# Aggregate data by Dominant_Emotion and calculate the average Likes Received Per Day\n",
    "aggregated_data = train_df.groupby('Dominant_Emotion')['Likes_Received_Per_Day'].mean().reset_index()\n",
    "\n",
    "# Create a bar plot to show the average likes received per day by dominant emotion\n",
    "plt = px.bar(aggregated_data, \n",
    "             x='Dominant_Emotion', \n",
    "             y='Likes_Received_Per_Day', \n",
    "             title='Average Likes Received Per Day by Dominant Emotion',\n",
    "             color='Dominant_Emotion',  # Color by dominant emotion for clarity\n",
    "             color_discrete_sequence=px.colors.qualitative.Set2)  # Choose a pleasing color palette\n",
    "\n",
    "plt.show()\n"
   ]
  },
  {
   "cell_type": "markdown",
   "id": "f3b5b094",
   "metadata": {
    "papermill": {
     "duration": 0.041702,
     "end_time": "2024-05-23T11:22:55.786025",
     "exception": false,
     "start_time": "2024-05-23T11:22:55.744323",
     "status": "completed"
    },
    "tags": []
   },
   "source": [
    "# Model Training"
   ]
  },
  {
   "cell_type": "code",
   "execution_count": 56,
   "id": "4592b340",
   "metadata": {
    "execution": {
     "iopub.execute_input": "2024-05-23T11:22:55.873316Z",
     "iopub.status.busy": "2024-05-23T11:22:55.872912Z",
     "iopub.status.idle": "2024-05-23T11:22:56.578194Z",
     "shell.execute_reply": "2024-05-23T11:22:56.577023Z"
    },
    "papermill": {
     "duration": 0.752863,
     "end_time": "2024-05-23T11:22:56.581051",
     "exception": false,
     "start_time": "2024-05-23T11:22:55.828188",
     "status": "completed"
    },
    "tags": []
   },
   "outputs": [],
   "source": [
    "# Import the necessary libraries\n",
    "from sklearn.model_selection import train_test_split\n",
    "from sklearn.preprocessing import OneHotEncoder, StandardScaler\n",
    "from sklearn.compose import ColumnTransformer\n",
    "from sklearn.pipeline import Pipeline\n",
    "from sklearn.ensemble import RandomForestClassifier\n",
    "from sklearn.metrics import classification_report"
   ]
  },
  {
   "cell_type": "code",
   "execution_count": 57,
   "id": "e64909f6",
   "metadata": {
    "execution": {
     "iopub.execute_input": "2024-05-23T11:22:56.667961Z",
     "iopub.status.busy": "2024-05-23T11:22:56.667122Z",
     "iopub.status.idle": "2024-05-23T11:22:56.677568Z",
     "shell.execute_reply": "2024-05-23T11:22:56.676446Z"
    },
    "papermill": {
     "duration": 0.056183,
     "end_time": "2024-05-23T11:22:56.679790",
     "exception": false,
     "start_time": "2024-05-23T11:22:56.623607",
     "status": "completed"
    },
    "tags": []
   },
   "outputs": [
    {
     "data": {
      "text/plain": [
       "User_ID                       0\n",
       "Age                           0\n",
       "Gender                        0\n",
       "Platform                      0\n",
       "Daily_Usage_Time (minutes)    1\n",
       "Posts_Per_Day                 0\n",
       "Likes_Received_Per_Day        0\n",
       "Comments_Received_Per_Day     0\n",
       "Messages_Sent_Per_Day         1\n",
       "Dominant_Emotion              0\n",
       "Likes_Range                   0\n",
       "dtype: int64"
      ]
     },
     "execution_count": 57,
     "metadata": {},
     "output_type": "execute_result"
    }
   ],
   "source": [
    "# Checking for missing values\n",
    "train_df.isnull().sum()"
   ]
  },
  {
   "cell_type": "code",
   "execution_count": 58,
   "id": "2c697c82",
   "metadata": {
    "execution": {
     "iopub.execute_input": "2024-05-23T11:22:56.767317Z",
     "iopub.status.busy": "2024-05-23T11:22:56.766605Z",
     "iopub.status.idle": "2024-05-23T11:22:56.773023Z",
     "shell.execute_reply": "2024-05-23T11:22:56.771936Z"
    },
    "papermill": {
     "duration": 0.053537,
     "end_time": "2024-05-23T11:22:56.775432",
     "exception": false,
     "start_time": "2024-05-23T11:22:56.721895",
     "status": "completed"
    },
    "tags": []
   },
   "outputs": [],
   "source": [
    "# Let's drop the missing values\n",
    "train_df.dropna(inplace=True)"
   ]
  },
  {
   "cell_type": "code",
   "execution_count": 59,
   "id": "3083de92",
   "metadata": {
    "execution": {
     "iopub.execute_input": "2024-05-23T11:22:56.863031Z",
     "iopub.status.busy": "2024-05-23T11:22:56.862278Z",
     "iopub.status.idle": "2024-05-23T11:22:56.872310Z",
     "shell.execute_reply": "2024-05-23T11:22:56.871210Z"
    },
    "papermill": {
     "duration": 0.056954,
     "end_time": "2024-05-23T11:22:56.874839",
     "exception": false,
     "start_time": "2024-05-23T11:22:56.817885",
     "status": "completed"
    },
    "tags": []
   },
   "outputs": [],
   "source": [
    "# Define features and target, while excluding specific columns\n",
    "X_train = train_df.drop(columns=['Dominant_Emotion', 'User_ID']) # Features\n",
    "y_train = train_df['Dominant_Emotion'] # Target"
   ]
  },
  {
   "cell_type": "code",
   "execution_count": 60,
   "id": "1a0fbd4e",
   "metadata": {
    "execution": {
     "iopub.execute_input": "2024-05-23T11:22:56.962858Z",
     "iopub.status.busy": "2024-05-23T11:22:56.962045Z",
     "iopub.status.idle": "2024-05-23T11:22:56.967545Z",
     "shell.execute_reply": "2024-05-23T11:22:56.966778Z"
    },
    "papermill": {
     "duration": 0.051888,
     "end_time": "2024-05-23T11:22:56.969669",
     "exception": false,
     "start_time": "2024-05-23T11:22:56.917781",
     "status": "completed"
    },
    "tags": []
   },
   "outputs": [],
   "source": [
    "# Define preprocessing steps. Seeperating the numerical and categorical features\n",
    "numeric_features = ['Daily_Usage_Time (minutes)', 'Posts_Per_Day', 'Likes_Received_Per_Day', 'Comments_Received_Per_Day', 'Messages_Sent_Per_Day']\n",
    "categorical_features = ['Age', 'Gender', 'Platform']\n",
    "\n",
    "preprocessor = ColumnTransformer(\n",
    "    transformers=[\n",
    "        ('num', StandardScaler(), numeric_features),\n",
    "        ('cat', OneHotEncoder(), categorical_features)])"
   ]
  },
  {
   "cell_type": "code",
   "execution_count": 61,
   "id": "43f0b264",
   "metadata": {},
   "outputs": [],
   "source": [
    "train_df.dropna(inplace=True)# Define features and target\n",
    "X_test = test_df.drop(columns=['Dominant_Emotion', 'User_ID']) # Features\n",
    "y_test = test_df['Dominant_Emotion'] # Target\n",
    "X_test.dropna(inplace=True)\n",
    "y_test.dropna(inplace=True)"
   ]
  },
  {
   "cell_type": "markdown",
   "id": "16a79e32",
   "metadata": {
    "papermill": {
     "duration": 0.042516,
     "end_time": "2024-05-23T11:22:57.054299",
     "exception": false,
     "start_time": "2024-05-23T11:22:57.011783",
     "status": "completed"
    },
    "tags": []
   },
   "source": [
    "### Random Forest Classifier"
   ]
  },
  {
   "cell_type": "code",
   "execution_count": 62,
   "id": "c8aa4775",
   "metadata": {
    "execution": {
     "iopub.execute_input": "2024-05-23T11:22:57.227113Z",
     "iopub.status.busy": "2024-05-23T11:22:57.226349Z",
     "iopub.status.idle": "2024-05-23T11:22:57.636870Z",
     "shell.execute_reply": "2024-05-23T11:22:57.634751Z"
    },
    "papermill": {
     "duration": 0.45703,
     "end_time": "2024-05-23T11:22:57.639668",
     "exception": false,
     "start_time": "2024-05-23T11:22:57.182638",
     "status": "completed"
    },
    "tags": []
   },
   "outputs": [
    {
     "name": "stdout",
     "output_type": "stream",
     "text": [
      "Random Forest Classifier Report:\n",
      "              precision    recall  f1-score   support\n",
      "\n",
      "       Anger       1.00      1.00      1.00         9\n",
      "     Anxiety       1.00      0.95      0.98        21\n",
      "     Boredom       0.93      0.93      0.93        15\n",
      "   Happiness       0.93      1.00      0.97        14\n",
      "     Neutral       1.00      0.96      0.98        26\n",
      "     Sadness       0.93      1.00      0.97        14\n",
      "\n",
      "    accuracy                           0.97        99\n",
      "   macro avg       0.97      0.97      0.97        99\n",
      "weighted avg       0.97      0.97      0.97        99\n",
      "\n"
     ]
    }
   ],
   "source": [
    "rf_pipeline = Pipeline(steps=[('preprocessor', preprocessor),\n",
    "                               ('classifier', RandomForestClassifier(random_state=42))])\n",
    "\n",
    "# Train the model\n",
    "rf_pipeline.fit(X_train, y_train)\n",
    "y_pred_rf = rf_pipeline.predict(X_test)\n",
    "\n",
    "print(\"Random Forest Classifier Report:\")\n",
    "print(classification_report(y_test, y_pred_rf))"
   ]
  },
  {
   "cell_type": "code",
   "execution_count": 63,
   "id": "d1bce257",
   "metadata": {},
   "outputs": [
    {
     "data": {
      "image/png": "[encoded data removed]",
      "text/plain": [
       "<Figure size 800x600 with 2 Axes>"
      ]
     },
     "metadata": {},
     "output_type": "display_data"
    }
   ],
   "source": [
    "import matplotlib.pyplot as plt\n",
    "import seaborn as sns\n",
    "from sklearn.metrics import confusion_matrix\n",
    "\n",
    "# Calculate confusion matrix\n",
    "cm = confusion_matrix(y_test, y_pred_rf)\n",
    "\n",
    "# Class labels\n",
    "class_names = ['Anger', 'Anxiety', 'Boredom', 'Happiness', 'Neutral', 'Sadness']\n",
    "\n",
    "# Plot confusion matrix\n",
    "plt.figure(figsize=(8, 6))\n",
    "sns.heatmap(cm, annot=True, fmt='d', cmap='Blues', xticklabels=class_names, yticklabels=class_names)\n",
    "plt.xlabel('Predicted Classes')\n",
    "plt.ylabel('Actual Classes')\n",
    "plt.title('Confusion Matrix')\n",
    "plt.show()\n"
   ]
  },
  {
   "cell_type": "code",
   "execution_count": 64,
   "id": "5d419e26",
   "metadata": {},
   "outputs": [
    {
     "name": "stdout",
     "output_type": "stream",
     "text": [
      "K-Nearest Neighbors Classifier Report:\n",
      "              precision    recall  f1-score   support\n",
      "\n",
      "       Anger       1.00      1.00      1.00         9\n",
      "     Anxiety       1.00      0.95      0.98        21\n",
      "     Boredom       0.93      0.93      0.93        15\n",
      "   Happiness       0.88      1.00      0.93        14\n",
      "     Neutral       1.00      0.92      0.96        26\n",
      "     Sadness       0.93      1.00      0.97        14\n",
      "\n",
      "    accuracy                           0.96        99\n",
      "   macro avg       0.96      0.97      0.96        99\n",
      "weighted avg       0.96      0.96      0.96        99\n",
      "\n"
     ]
    }
   ],
   "source": [
    "from sklearn.neighbors import KNeighborsClassifier\n",
    "\n",
    "# K-Nearest Neighbors Classifier\n",
    "knn_pipeline = Pipeline(steps=[('preprocessor', preprocessor),\n",
    "                               ('classifier', KNeighborsClassifier())])\n",
    "\n",
    "knn_pipeline.fit(X_train, y_train)\n",
    "y_pred_knn = knn_pipeline.predict(X_test)\n",
    "\n",
    "print(\"K-Nearest Neighbors Classifier Report:\")\n",
    "print(classification_report(y_test, y_pred_knn))"
   ]
  },
  {
   "cell_type": "code",
   "execution_count": 65,
   "id": "3500b0a7",
   "metadata": {},
   "outputs": [
    {
     "name": "stdout",
     "output_type": "stream",
     "text": [
      "Decision Tree Classifier Report:\n",
      "              precision    recall  f1-score   support\n",
      "\n",
      "       Anger       1.00      1.00      1.00         9\n",
      "     Anxiety       1.00      0.90      0.95        21\n",
      "     Boredom       1.00      0.87      0.93        15\n",
      "   Happiness       0.88      1.00      0.93        14\n",
      "     Neutral       0.93      1.00      0.96        26\n",
      "     Sadness       0.93      0.93      0.93        14\n",
      "\n",
      "    accuracy                           0.95        99\n",
      "   macro avg       0.96      0.95      0.95        99\n",
      "weighted avg       0.95      0.95      0.95        99\n",
      "\n"
     ]
    }
   ],
   "source": [
    "from sklearn.tree import DecisionTreeClassifier\n",
    "# Decision Tree Classifier\n",
    "dt_pipeline = Pipeline(steps=[('preprocessor', preprocessor),\n",
    "                              ('classifier', DecisionTreeClassifier(random_state=42))])\n",
    "\n",
    "dt_pipeline.fit(X_train, y_train)\n",
    "y_pred_dt = dt_pipeline.predict(X_test)\n",
    "\n",
    "print(\"Decision Tree Classifier Report:\")\n",
    "print(classification_report(y_test, y_pred_dt))"
   ]
  },
  {
   "cell_type": "code",
   "execution_count": 66,
   "id": "ce94e24c",
   "metadata": {},
   "outputs": [
    {
     "name": "stdout",
     "output_type": "stream",
     "text": [
      "Logistic Regression Classifier Report:\n",
      "              precision    recall  f1-score   support\n",
      "\n",
      "       Anger       0.64      0.78      0.70         9\n",
      "     Anxiety       0.88      0.71      0.79        21\n",
      "     Boredom       0.78      0.93      0.85        15\n",
      "   Happiness       0.79      0.79      0.79        14\n",
      "     Neutral       0.88      0.88      0.88        26\n",
      "     Sadness       0.85      0.79      0.81        14\n",
      "\n",
      "    accuracy                           0.82        99\n",
      "   macro avg       0.80      0.81      0.80        99\n",
      "weighted avg       0.83      0.82      0.82        99\n",
      "\n"
     ]
    }
   ],
   "source": [
    "from sklearn.linear_model import LogisticRegression\n",
    "# Logistic Regression Classifier\n",
    "lr_pipeline = Pipeline(steps=[('preprocessor', preprocessor),\n",
    "                              ('classifier', LogisticRegression(max_iter=1000, random_state=42))])\n",
    "\n",
    "lr_pipeline.fit(X_train, y_train)\n",
    "y_pred_lr = lr_pipeline.predict(X_test)\n",
    "\n",
    "print(\"Logistic Regression Classifier Report:\")\n",
    "print(classification_report(y_test, y_pred_lr))"
   ]
  },
  {
   "cell_type": "code",
   "execution_count": 67,
   "id": "1e1ccd81",
   "metadata": {},
   "outputs": [
    {
     "name": "stdout",
     "output_type": "stream",
     "text": [
      "Support Vector Machine Classifier Report:\n",
      "              precision    recall  f1-score   support\n",
      "\n",
      "       Anger       0.82      1.00      0.90         9\n",
      "     Anxiety       1.00      0.95      0.98        21\n",
      "     Boredom       0.93      0.93      0.93        15\n",
      "   Happiness       0.93      1.00      0.97        14\n",
      "     Neutral       1.00      0.92      0.96        26\n",
      "     Sadness       0.93      0.93      0.93        14\n",
      "\n",
      "    accuracy                           0.95        99\n",
      "   macro avg       0.94      0.96      0.94        99\n",
      "weighted avg       0.95      0.95      0.95        99\n",
      "\n"
     ]
    }
   ],
   "source": [
    "from sklearn.svm import SVC\n",
    "\n",
    "# Support Vector Machine Classifier\n",
    "svm_pipeline = Pipeline(steps=[('preprocessor', preprocessor),\n",
    "                               ('classifier', SVC(random_state=42))])\n",
    "\n",
    "svm_pipeline.fit(X_train, y_train)\n",
    "y_pred_svm = svm_pipeline.predict(X_test)\n",
    "\n",
    "print(\"Support Vector Machine Classifier Report:\")\n",
    "print(classification_report(y_test, y_pred_svm))"
   ]
  },
  {
   "cell_type": "code",
   "execution_count": 68,
   "id": "a30ee0d0",
   "metadata": {},
   "outputs": [
    {
     "name": "stdout",
     "output_type": "stream",
     "text": [
      "Ensemble Model (Stacking Classifier) Report:\n",
      "              precision    recall  f1-score   support\n",
      "\n",
      "       Anger       1.00      1.00      1.00         9\n",
      "     Anxiety       1.00      0.95      0.98        21\n",
      "     Boredom       0.93      0.93      0.93        15\n",
      "   Happiness       0.88      1.00      0.93        14\n",
      "     Neutral       1.00      0.92      0.96        26\n",
      "     Sadness       0.93      1.00      0.97        14\n",
      "\n",
      "    accuracy                           0.96        99\n",
      "   macro avg       0.96      0.97      0.96        99\n",
      "weighted avg       0.96      0.96      0.96        99\n",
      "\n"
     ]
    }
   ],
   "source": [
    "from sklearn.ensemble import StackingClassifier\n",
    "\n",
    "# Define base models\n",
    "base_estimators = [\n",
    "    ('random_forest', rf_pipeline),\n",
    "    ('knn', knn_pipeline),\n",
    "    ('svm', svm_pipeline)\n",
    "]\n",
    "\n",
    "# Meta-model: Logistic Regression\n",
    "stacking_model = StackingClassifier(\n",
    "    estimators=base_estimators,\n",
    "    final_estimator=LogisticRegression()\n",
    ")\n",
    "\n",
    "# Fit the stacking model\n",
    "stacking_model.fit(X_train, y_train)\n",
    "\n",
    "# Predictions\n",
    "y_pred_stacking = stacking_model.predict(X_test)\n",
    "\n",
    "# Evaluation\n",
    "print(\"Ensemble Model (Stacking Classifier) Report:\")\n",
    "print(classification_report(y_test, y_pred_stacking))\n"
   ]
  },
  {
   "cell_type": "code",
   "execution_count": 69,
   "id": "af40a8b5",
   "metadata": {},
   "outputs": [],
   "source": [
    "import pandas as pd\n",
    "from sklearn.metrics import accuracy_score, precision_score, recall_score, f1_score\n",
    "\n",
    "# Define a function to calculate metrics\n",
    "def calculate_metrics(y_true, y_pred, model_name):\n",
    "    accuracy = accuracy_score(y_true, y_pred)\n",
    "    precision = precision_score(y_true, y_pred, average='weighted')\n",
    "    recall = recall_score(y_true, y_pred, average='weighted')\n",
    "    f1 = f1_score(y_true, y_pred, average='weighted')\n",
    "    return pd.Series([model_name, accuracy, precision, recall, f1], index=['Model', 'Accuracy', 'Precision', 'Recall', 'F1 Score'])\n",
    "\n",
    "# Create an empty DataFrame to store the results\n",
    "results = pd.DataFrame(columns=['Model', 'Accuracy', 'Precision', 'Recall', 'F1 Score'])\n",
    "\n",
    "# Calculate metrics for each model\n",
    "results = results.append(calculate_metrics(y_test, y_pred_rf, 'Random Forest'), ignore_index=True)\n",
    "results = results.append(calculate_metrics(y_test, y_pred_knn, 'K-Nearest Neighbors'), ignore_index=True)\n",
    "results = results.append(calculate_metrics(y_test, y_pred_dt, 'Decision Tree'), ignore_index=True)\n",
    "results = results.append(calculate_metrics(y_test, y_pred_lr, 'Logistic Regression'), ignore_index=True)\n",
    "results = results.append(calculate_metrics(y_test, y_pred_svm, 'Support Vector Machine'), ignore_index=True)\n",
    "results = results.append(calculate_metrics(y_test, y_pred_stacking, 'Stacking Classifier'), ignore_index=True)"
   ]
  },
  {
   "cell_type": "code",
   "execution_count": 70,
   "id": "b5572f9a",
   "metadata": {},
   "outputs": [
    {
     "data": {
      "text/html": [
       "<div>\n",
       "<style scoped>\n",
       "    .dataframe tbody tr th:only-of-type {\n",
       "        vertical-align: middle;\n",
       "    }\n",
       "\n",
       "    .dataframe tbody tr th {\n",
       "        vertical-align: top;\n",
       "    }\n",
       "\n",
       "    .dataframe thead th {\n",
       "        text-align: right;\n",
       "    }\n",
       "</style>\n",
       "<table border=\"1\" class=\"dataframe\">\n",
       "  <thead>\n",
       "    <tr style=\"text-align: right;\">\n",
       "      <th></th>\n",
       "      <th>Model</th>\n",
       "      <th>Accuracy</th>\n",
       "      <th>Precision</th>\n",
       "      <th>Recall</th>\n",
       "      <th>F1 Score</th>\n",
       "    </tr>\n",
       "  </thead>\n",
       "  <tbody>\n",
       "    <tr>\n",
       "      <th>0</th>\n",
       "      <td>Random Forest</td>\n",
       "      <td>0.969697</td>\n",
       "      <td>0.971044</td>\n",
       "      <td>0.969697</td>\n",
       "      <td>0.969823</td>\n",
       "    </tr>\n",
       "    <tr>\n",
       "      <th>1</th>\n",
       "      <td>K-Nearest Neighbors</td>\n",
       "      <td>0.959596</td>\n",
       "      <td>0.962795</td>\n",
       "      <td>0.959596</td>\n",
       "      <td>0.959916</td>\n",
       "    </tr>\n",
       "    <tr>\n",
       "      <th>2</th>\n",
       "      <td>Stacking Classifier</td>\n",
       "      <td>0.959596</td>\n",
       "      <td>0.962795</td>\n",
       "      <td>0.959596</td>\n",
       "      <td>0.959916</td>\n",
       "    </tr>\n",
       "    <tr>\n",
       "      <th>3</th>\n",
       "      <td>Support Vector Machine</td>\n",
       "      <td>0.949495</td>\n",
       "      <td>0.953841</td>\n",
       "      <td>0.949495</td>\n",
       "      <td>0.950152</td>\n",
       "    </tr>\n",
       "    <tr>\n",
       "      <th>4</th>\n",
       "      <td>Decision Tree</td>\n",
       "      <td>0.949495</td>\n",
       "      <td>0.953463</td>\n",
       "      <td>0.949495</td>\n",
       "      <td>0.949316</td>\n",
       "    </tr>\n",
       "    <tr>\n",
       "      <th>5</th>\n",
       "      <td>Logistic Regression</td>\n",
       "      <td>0.818182</td>\n",
       "      <td>0.825955</td>\n",
       "      <td>0.818182</td>\n",
       "      <td>0.818319</td>\n",
       "    </tr>\n",
       "  </tbody>\n",
       "</table>\n",
       "</div>"
      ],
      "text/plain": [
       "                    Model  Accuracy  Precision    Recall  F1 Score\n",
       "0           Random Forest  0.969697   0.971044  0.969697  0.969823\n",
       "1     K-Nearest Neighbors  0.959596   0.962795  0.959596  0.959916\n",
       "2     Stacking Classifier  0.959596   0.962795  0.959596  0.959916\n",
       "3  Support Vector Machine  0.949495   0.953841  0.949495  0.950152\n",
       "4           Decision Tree  0.949495   0.953463  0.949495  0.949316\n",
       "5     Logistic Regression  0.818182   0.825955  0.818182  0.818319"
      ]
     },
     "metadata": {},
     "output_type": "display_data"
    }
   ],
   "source": [
    "# Rank the models based on F1 Score\n",
    "ranked_results = results.sort_values(by='F1 Score', ascending=False).reset_index(drop=True)\n",
    "\n",
    "# Display the ranked results\n",
    "display(ranked_results)"
   ]
  },
  {
   "cell_type": "markdown",
   "id": "1fdd9ae2",
   "metadata": {},
   "source": [
    "## About Models:\n",
    "\n",
    "`Random Forest Classifier`: __accuracy: 97%__\n",
    "The Random Forest Classifier is performing exceptionally well on this dataset, with nearly perfect precision, recall, and f1-scores for most classes and an overall accuracy of 97%. This indicates that the model is highly effective at predicting the dominant emotion based on the given features.\n",
    "\n",
    "`K-Nearest Neighbors Classifier`: __accuracy: 96%__\n",
    "The K-Nearest Neighbors Classifier is performing very well on this dataset, with high precision, recall, and f1-scores for most classes and an overall accuracy of 96%. This indicates that the model is highly effective at predicting the dominant emotion based on the given features.\n",
    "\n",
    "`Decision Tree Classifier`: __accuracy: 95%__\n",
    "The Decision Tree Classifier is performing well on this dataset, with high precision, recall, and f1-scores for most classes and an overall accuracy of 95%. This indicates that the model is effective at predicting the dominant emotion based on the given features.\n",
    "\n",
    "`Support Vector Machine Classifier`: __accuracy: 95%__\n",
    "The Support Vector Machine Classifier is performing well on this dataset, with high precision, recall, and f1-scores for most classes and an overall accuracy of 95%. This indicates that the model is effective at predicting the dominant emotion based on the given features.\n",
    "\n",
    "`Logistic Regression Classifier`: __accuracy: 82%__\n",
    "The Logistic Regression Classifier is performing moderately well on this dataset, with decent precision, recall, and f1-scores for most classes and an overall accuracy of 82%. This indicates that the model is reasonably effective at predicting the dominant emotion based on the given features.\n",
    "\n",
    "`Stacking Classifier`: __accuracy: 96%__\n",
    "The Stacking Classifier, which combines multiple models, is performing very well on this dataset, with high precision, recall, and f1-scores for most classes and an overall accuracy of 96%. This indicates that the ensemble model is highly effective at predicting the dominant emotion based on the given features."
   ]
  },
  {
   "cell_type": "code",
   "execution_count": 71,
   "id": "3706e945",
   "metadata": {},
   "outputs": [
    {
     "data": {
      "text/plain": [
       "['stacking_model.pkl']"
      ]
     },
     "execution_count": 71,
     "metadata": {},
     "output_type": "execute_result"
    }
   ],
   "source": [
    "import joblib\n",
    "\n",
    "# Save each model to a file\n",
    "joblib.dump(rf_pipeline, 'rf_pipeline.pkl')\n",
    "joblib.dump(knn_pipeline, 'knn_pipeline.pkl')\n",
    "joblib.dump(dt_pipeline, 'dt_pipeline.pkl')\n",
    "joblib.dump(lr_pipeline, 'lr_pipeline.pkl')\n",
    "joblib.dump(svm_pipeline, 'svm_pipeline.pkl')\n",
    "joblib.dump(stacking_model, 'stacking_model.pkl')"
   ]
  },
  {
   "cell_type": "code",
   "execution_count": null,
   "id": "294c42a5",
   "metadata": {},
   "outputs": [],
   "source": []
  },
  {
   "cell_type": "code",
   "execution_count": null,
   "id": "ceef9ea9",
   "metadata": {},
   "outputs": [],
   "source": []
  }
 ],
 "metadata": {
  "kaggle": {
   "accelerator": "none",
   "dataSources": [
    {
     "datasetId": 5043355,
     "sourceId": 8460631,
     "sourceType": "datasetVersion"
    }
   ],
   "isGpuEnabled": false,
   "isInternetEnabled": true,
   "language": "python",
   "sourceType": "notebook"
  },
  "kernelspec": {
   "display_name": "base",
   "language": "python",
   "name": "python3"
  },
  "language_info": {
   "codemirror_mode": {
    "name": "ipython",
    "version": 3
   },
   "file_extension": ".py",
   "mimetype": "text/x-python",
   "name": "python",
   "nbconvert_exporter": "python",
   "pygments_lexer": "ipython3",
   "version": "3.11.4"
  },
  "papermill": {
   "default_parameters": {},
   "duration": 46.847099,
   "end_time": "2024-05-23T11:23:26.811398",
   "environment_variables": {},
   "exception": null,
   "input_path": "__notebook__.ipynb",
   "output_path": "__notebook__.ipynb",
   "parameters": {},
   "start_time": "2024-05-23T11:22:39.964299",
   "version": "2.5.0"
  }
 },
 "nbformat": 4,
 "nbformat_minor": 5
}
